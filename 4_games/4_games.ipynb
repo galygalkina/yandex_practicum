{
 "cells": [
  {
   "cell_type": "markdown",
   "metadata": {},
   "source": [
    "# Проект «Определение закономерностей, определяющих успешность компьютерной игры»\n"
   ]
  },
  {
   "cell_type": "markdown",
   "metadata": {},
   "source": [
    "В рамках данного проекта необходимо для интернет-магазина по продаже компьютерных игр выявить закономерности, определяющие успешность компьютерной игры, что позволит сделать ставку на потенциально популярный продукт, построить прогноз на будущий год и спланировать рекламные кампании.\n",
    "\n",
    "В распоряжении имеются данные до 2016 года: исторические данные о продажах игр, оценки пользователей и экспертов, жанры и платформы.\n",
    "\n",
    "Исследование будем проводить в несколько шагов:\n",
    "- Откроем файл и изучим общую информацию \n",
    "- Подготовим данные \n",
    "  - Скорректируем названия столбцов\n",
    "  - Обработаем пропуски и преобразуем типы\n",
    "  - Подсчитаем суммарные продажи во всех регионах\n",
    "- Проанализируем данные\n",
    "  - Посчитаем количество игр в разные годы\n",
    "  - Рассмотрим динамику продаж по платформам за весь период и за актуальный период\n",
    "  - Определим влияние на продажи отзывов пользователей и критиков\n",
    "  - Посмотрим на распределение по жанрам\n",
    " \n",
    " - Составим портрет пользователя каждого региона\n",
    "  - Определим самые популярные платформы для каждого региона\n",
    "  - Определим самые популярные жанры\n",
    "  - Выявим влияние рейтинга ESRB на продажи\n",
    "  \n",
    "- Проверим гипотезы\n",
    "  - Средние пользовательские рейтинги платформ Xbox One и PC одинаковые\n",
    "  - Средние пользовательские рейтинги жанров Action и Sports разные\n",
    "- Напишем общий вывод"
   ]
  },
  {
   "cell_type": "markdown",
   "metadata": {
    "toc": true
   },
   "source": [
    "<h1>Содержание<span class=\"tocSkip\"></span></h1>\n",
    "<div class=\"toc\"><ul class=\"toc-item\"><li><span><a href=\"#Открытие-файла-и-изучение-общей-информации\" data-toc-modified-id=\"Открытие-файла-и-изучение-общей-информации-1\"><span class=\"toc-item-num\">1&nbsp;&nbsp;</span>Открытие файла и изучение общей информации</a></span></li><li><span><a href=\"#Вывод\" data-toc-modified-id=\"Вывод-2\"><span class=\"toc-item-num\">2&nbsp;&nbsp;</span>Вывод</a></span></li><li><span><a href=\"#Подготовка-данных\" data-toc-modified-id=\"Подготовка-данных-3\"><span class=\"toc-item-num\">3&nbsp;&nbsp;</span>Подготовка данных</a></span><ul class=\"toc-item\"><li><span><a href=\"#Корректировка-названия-столбцов\" data-toc-modified-id=\"Корректировка-названия-столбцов-3.1\"><span class=\"toc-item-num\">3.1&nbsp;&nbsp;</span>Корректировка названия столбцов</a></span></li><li><span><a href=\"#Обработка-пропусков-и-преобразование-типов-данных\" data-toc-modified-id=\"Обработка-пропусков-и-преобразование-типов-данных-3.2\"><span class=\"toc-item-num\">3.2&nbsp;&nbsp;</span>Обработка пропусков и преобразование типов данных</a></span><ul class=\"toc-item\"><li><span><a href=\"#Столбец-'name'---название-игры\" data-toc-modified-id=\"Столбец-'name'---название-игры-3.2.1\"><span class=\"toc-item-num\">3.2.1&nbsp;&nbsp;</span>Столбец 'name' - название игры</a></span></li><li><span><a href=\"#Вывод\" data-toc-modified-id=\"Вывод-3.2.2\"><span class=\"toc-item-num\">3.2.2&nbsp;&nbsp;</span>Вывод</a></span></li><li><span><a href=\"#Столбец-'platform'---платформа\" data-toc-modified-id=\"Столбец-'platform'---платформа-3.2.3\"><span class=\"toc-item-num\">3.2.3&nbsp;&nbsp;</span>Столбец 'platform' - платформа</a></span></li><li><span><a href=\"#Вывод\" data-toc-modified-id=\"Вывод-3.2.4\"><span class=\"toc-item-num\">3.2.4&nbsp;&nbsp;</span>Вывод</a></span></li><li><span><a href=\"#Столбец-'year_of_release'---год-выпуска\" data-toc-modified-id=\"Столбец-'year_of_release'---год-выпуска-3.2.5\"><span class=\"toc-item-num\">3.2.5&nbsp;&nbsp;</span>Столбец 'year_of_release' - год выпуска</a></span></li><li><span><a href=\"#Вывод\" data-toc-modified-id=\"Вывод-3.2.6\"><span class=\"toc-item-num\">3.2.6&nbsp;&nbsp;</span>Вывод</a></span></li><li><span><a href=\"#Столбец-'genre'---жанр-игры\" data-toc-modified-id=\"Столбец-'genre'---жанр-игры-3.2.7\"><span class=\"toc-item-num\">3.2.7&nbsp;&nbsp;</span>Столбец 'genre' - жанр игры</a></span></li><li><span><a href=\"#Вывод\" data-toc-modified-id=\"Вывод-3.2.8\"><span class=\"toc-item-num\">3.2.8&nbsp;&nbsp;</span>Вывод</a></span></li><li><span><a href=\"#Столбец-'na_sales'---продажи-в-Северной-Америке-(миллионы-проданных-копий)\" data-toc-modified-id=\"Столбец-'na_sales'---продажи-в-Северной-Америке-(миллионы-проданных-копий)-3.2.9\"><span class=\"toc-item-num\">3.2.9&nbsp;&nbsp;</span>Столбец 'na_sales' - продажи в Северной Америке (миллионы проданных копий)</a></span></li><li><span><a href=\"#Вывод\" data-toc-modified-id=\"Вывод-3.2.10\"><span class=\"toc-item-num\">3.2.10&nbsp;&nbsp;</span>Вывод</a></span></li><li><span><a href=\"#Столбец-'eu_sales'---продажи-в-Европе-(миллионы-проданных-копий)\" data-toc-modified-id=\"Столбец-'eu_sales'---продажи-в-Европе-(миллионы-проданных-копий)-3.2.11\"><span class=\"toc-item-num\">3.2.11&nbsp;&nbsp;</span>Столбец 'eu_sales' - продажи в Европе (миллионы проданных копий)</a></span></li><li><span><a href=\"#Вывод\" data-toc-modified-id=\"Вывод-3.2.12\"><span class=\"toc-item-num\">3.2.12&nbsp;&nbsp;</span>Вывод</a></span></li><li><span><a href=\"#Столбец-'jp_sales'---продажи-в-Японии-(миллионы-проданных-копий)\" data-toc-modified-id=\"Столбец-'jp_sales'---продажи-в-Японии-(миллионы-проданных-копий)-3.2.13\"><span class=\"toc-item-num\">3.2.13&nbsp;&nbsp;</span>Столбец 'jp_sales' - продажи в Японии (миллионы проданных копий)</a></span></li><li><span><a href=\"#Вывод\" data-toc-modified-id=\"Вывод-3.2.14\"><span class=\"toc-item-num\">3.2.14&nbsp;&nbsp;</span>Вывод</a></span></li><li><span><a href=\"#Столбец-'other_sales'---продажи-в-других-странах-(миллионы-проданных-копий)\" data-toc-modified-id=\"Столбец-'other_sales'---продажи-в-других-странах-(миллионы-проданных-копий)-3.2.15\"><span class=\"toc-item-num\">3.2.15&nbsp;&nbsp;</span>Столбец 'other_sales' - продажи в других странах (миллионы проданных копий)</a></span></li><li><span><a href=\"#Вывод\" data-toc-modified-id=\"Вывод-3.2.16\"><span class=\"toc-item-num\">3.2.16&nbsp;&nbsp;</span>Вывод</a></span></li><li><span><a href=\"#Столбец-'critic_score'---оценка-критиков\" data-toc-modified-id=\"Столбец-'critic_score'---оценка-критиков-3.2.17\"><span class=\"toc-item-num\">3.2.17&nbsp;&nbsp;</span>Столбец 'critic_score' - оценка критиков</a></span></li><li><span><a href=\"#Вывод\" data-toc-modified-id=\"Вывод-3.2.18\"><span class=\"toc-item-num\">3.2.18&nbsp;&nbsp;</span>Вывод</a></span></li><li><span><a href=\"#Столбец-'user_score'---оценка-пользователей\" data-toc-modified-id=\"Столбец-'user_score'---оценка-пользователей-3.2.19\"><span class=\"toc-item-num\">3.2.19&nbsp;&nbsp;</span>Столбец 'user_score' - оценка пользователей</a></span></li><li><span><a href=\"#Вывод\" data-toc-modified-id=\"Вывод-3.2.20\"><span class=\"toc-item-num\">3.2.20&nbsp;&nbsp;</span>Вывод</a></span></li><li><span><a href=\"#Столбец-'rating'---рейтинг-от-организации-ESRB\" data-toc-modified-id=\"Столбец-'rating'---рейтинг-от-организации-ESRB-3.2.21\"><span class=\"toc-item-num\">3.2.21&nbsp;&nbsp;</span>Столбец 'rating' - рейтинг от организации ESRB</a></span></li><li><span><a href=\"#Вывод\" data-toc-modified-id=\"Вывод-3.2.22\"><span class=\"toc-item-num\">3.2.22&nbsp;&nbsp;</span>Вывод</a></span></li></ul></li><li><span><a href=\"#Подсчёт-суммарных-продаж-во-всех-регионах\" data-toc-modified-id=\"Подсчёт-суммарных-продаж-во-всех-регионах-3.3\"><span class=\"toc-item-num\">3.3&nbsp;&nbsp;</span>Подсчёт суммарных продаж во всех регионах</a></span></li></ul></li><li><span><a href=\"#Вывод\" data-toc-modified-id=\"Вывод-4\"><span class=\"toc-item-num\">4&nbsp;&nbsp;</span>Вывод</a></span></li><li><span><a href=\"#Исследовательский-анализ-данных\" data-toc-modified-id=\"Исследовательский-анализ-данных-5\"><span class=\"toc-item-num\">5&nbsp;&nbsp;</span>Исследовательский анализ данных</a></span><ul class=\"toc-item\"><li><span><a href=\"#Количество-игр-в-разные-годы\" data-toc-modified-id=\"Количество-игр-в-разные-годы-5.1\"><span class=\"toc-item-num\">5.1&nbsp;&nbsp;</span>Количество игр в разные годы</a></span></li><li><span><a href=\"#Вывод\" data-toc-modified-id=\"Вывод-5.2\"><span class=\"toc-item-num\">5.2&nbsp;&nbsp;</span>Вывод</a></span></li><li><span><a href=\"#Динамика-продаж-по-платформам\" data-toc-modified-id=\"Динамика-продаж-по-платформам-5.3\"><span class=\"toc-item-num\">5.3&nbsp;&nbsp;</span>Динамика продаж по платформам</a></span></li><li><span><a href=\"#Вывод\" data-toc-modified-id=\"Вывод-5.4\"><span class=\"toc-item-num\">5.4&nbsp;&nbsp;</span>Вывод</a></span></li><li><span><a href=\"#Динамика-продаж-по-платформам-за-актуальный-период\" data-toc-modified-id=\"Динамика-продаж-по-платформам-за-актуальный-период-5.5\"><span class=\"toc-item-num\">5.5&nbsp;&nbsp;</span>Динамика продаж по платформам за актуальный период</a></span></li><li><span><a href=\"#Вывод\" data-toc-modified-id=\"Вывод-5.6\"><span class=\"toc-item-num\">5.6&nbsp;&nbsp;</span>Вывод</a></span></li><li><span><a href=\"#Влияние-на-продажи-отзывов-пользователей-и-критиков\" data-toc-modified-id=\"Влияние-на-продажи-отзывов-пользователей-и-критиков-5.7\"><span class=\"toc-item-num\">5.7&nbsp;&nbsp;</span>Влияние на продажи отзывов пользователей и критиков</a></span></li><li><span><a href=\"#Вывод\" data-toc-modified-id=\"Вывод-5.8\"><span class=\"toc-item-num\">5.8&nbsp;&nbsp;</span>Вывод</a></span></li><li><span><a href=\"#Распределение-игр-по-жанрам\" data-toc-modified-id=\"Распределение-игр-по-жанрам-5.9\"><span class=\"toc-item-num\">5.9&nbsp;&nbsp;</span>Распределение игр по жанрам</a></span></li><li><span><a href=\"#Вывод\" data-toc-modified-id=\"Вывод-5.10\"><span class=\"toc-item-num\">5.10&nbsp;&nbsp;</span>Вывод</a></span></li></ul></li><li><span><a href=\"#Составление-портрета-пользователя-каждого-региона\" data-toc-modified-id=\"Составление-портрета-пользователя-каждого-региона-6\"><span class=\"toc-item-num\">6&nbsp;&nbsp;</span>Составление портрета пользователя каждого региона</a></span><ul class=\"toc-item\"><li><span><a href=\"#Самые-популярные-платформы-(топ-5)\" data-toc-modified-id=\"Самые-популярные-платформы-(топ-5)-6.1\"><span class=\"toc-item-num\">6.1&nbsp;&nbsp;</span>Самые популярные платформы (топ-5)</a></span></li><li><span><a href=\"#Самые-популярные-жанры-(топ-5)--каждого-региона\" data-toc-modified-id=\"Самые-популярные-жанры-(топ-5)--каждого-региона-6.2\"><span class=\"toc-item-num\">6.2&nbsp;&nbsp;</span>Самые популярные жанры (топ-5)  каждого региона</a></span></li><li><span><a href=\"#Влияние-рейтинга-ESRB-на-продажи-в-отдельном-регионе\" data-toc-modified-id=\"Влияние-рейтинга-ESRB-на-продажи-в-отдельном-регионе-6.3\"><span class=\"toc-item-num\">6.3&nbsp;&nbsp;</span>Влияние рейтинга ESRB на продажи в отдельном регионе</a></span></li></ul></li><li><span><a href=\"#Вывод\" data-toc-modified-id=\"Вывод-7\"><span class=\"toc-item-num\">7&nbsp;&nbsp;</span>Вывод</a></span></li><li><span><a href=\"#Проверка-гипотез\" data-toc-modified-id=\"Проверка-гипотез-8\"><span class=\"toc-item-num\">8&nbsp;&nbsp;</span>Проверка гипотез</a></span><ul class=\"toc-item\"><li><span><a href=\"#Проверка-гипотезы----Средние-пользовательские-рейтинги-платформ-Xbox-One-и-PC-одинаковые\" data-toc-modified-id=\"Проверка-гипотезы----Средние-пользовательские-рейтинги-платформ-Xbox-One-и-PC-одинаковые-8.1\"><span class=\"toc-item-num\">8.1&nbsp;&nbsp;</span>Проверка гипотезы  - Средние пользовательские рейтинги платформ Xbox One и PC одинаковые</a></span></li><li><span><a href=\"#Проверка-гипотезы----Средние-пользовательские-рейтинги-жанров-Action-и-Sports-разные\" data-toc-modified-id=\"Проверка-гипотезы----Средние-пользовательские-рейтинги-жанров-Action-и-Sports-разные-8.2\"><span class=\"toc-item-num\">8.2&nbsp;&nbsp;</span>Проверка гипотезы  - Средние пользовательские рейтинги жанров Action и Sports разные</a></span></li><li><span><a href=\"#Вывод\" data-toc-modified-id=\"Вывод-8.3\"><span class=\"toc-item-num\">8.3&nbsp;&nbsp;</span>Вывод</a></span></li></ul></li><li><span><a href=\"#Общий-вывод\" data-toc-modified-id=\"Общий-вывод-9\"><span class=\"toc-item-num\">9&nbsp;&nbsp;</span>Общий вывод</a></span></li></ul></div>"
   ]
  },
  {
   "cell_type": "markdown",
   "metadata": {},
   "source": [
    "## Открытие файла и изучение общей информации"
   ]
  },
  {
   "cell_type": "code",
   "execution_count": 1,
   "metadata": {},
   "outputs": [],
   "source": [
    "#импортируем библиотеку pandas\n",
    "import pandas as pd\n",
    "\n",
    "#импортируем библиотеку numpy\n",
    "import numpy as np\n",
    "\n",
    "#импортируем библиотеку stats для работы со статистикой\n",
    "from scipy import stats as st\n",
    "\n",
    "#для создания графиков и гистограмм импортируем библиотеку matplotlib\n",
    "import matplotlib.pyplot as plt\n",
    "\n",
    "#импортируем библиотеку warnings, чтобы скрыть возникающие предупреждения\n",
    "import warnings\n",
    "warnings.filterwarnings('ignore')"
   ]
  },
  {
   "cell_type": "code",
   "execution_count": 3,
   "metadata": {},
   "outputs": [
    {
     "name": "stdout",
     "output_type": "stream",
     "text": [
      "Первые пять строк таблицы games:\n"
     ]
    },
    {
     "data": {
      "text/html": [
       "<div>\n",
       "<style scoped>\n",
       "    .dataframe tbody tr th:only-of-type {\n",
       "        vertical-align: middle;\n",
       "    }\n",
       "\n",
       "    .dataframe tbody tr th {\n",
       "        vertical-align: top;\n",
       "    }\n",
       "\n",
       "    .dataframe thead th {\n",
       "        text-align: right;\n",
       "    }\n",
       "</style>\n",
       "<table border=\"1\" class=\"dataframe\">\n",
       "  <thead>\n",
       "    <tr style=\"text-align: right;\">\n",
       "      <th></th>\n",
       "      <th>Name</th>\n",
       "      <th>Platform</th>\n",
       "      <th>Year_of_Release</th>\n",
       "      <th>Genre</th>\n",
       "      <th>NA_sales</th>\n",
       "      <th>EU_sales</th>\n",
       "      <th>JP_sales</th>\n",
       "      <th>Other_sales</th>\n",
       "      <th>Critic_Score</th>\n",
       "      <th>User_Score</th>\n",
       "      <th>Rating</th>\n",
       "    </tr>\n",
       "  </thead>\n",
       "  <tbody>\n",
       "    <tr>\n",
       "      <td>0</td>\n",
       "      <td>Wii Sports</td>\n",
       "      <td>Wii</td>\n",
       "      <td>2006.0</td>\n",
       "      <td>Sports</td>\n",
       "      <td>41.36</td>\n",
       "      <td>28.96</td>\n",
       "      <td>3.77</td>\n",
       "      <td>8.45</td>\n",
       "      <td>76.0</td>\n",
       "      <td>8</td>\n",
       "      <td>E</td>\n",
       "    </tr>\n",
       "    <tr>\n",
       "      <td>1</td>\n",
       "      <td>Super Mario Bros.</td>\n",
       "      <td>NES</td>\n",
       "      <td>1985.0</td>\n",
       "      <td>Platform</td>\n",
       "      <td>29.08</td>\n",
       "      <td>3.58</td>\n",
       "      <td>6.81</td>\n",
       "      <td>0.77</td>\n",
       "      <td>NaN</td>\n",
       "      <td>NaN</td>\n",
       "      <td>NaN</td>\n",
       "    </tr>\n",
       "    <tr>\n",
       "      <td>2</td>\n",
       "      <td>Mario Kart Wii</td>\n",
       "      <td>Wii</td>\n",
       "      <td>2008.0</td>\n",
       "      <td>Racing</td>\n",
       "      <td>15.68</td>\n",
       "      <td>12.76</td>\n",
       "      <td>3.79</td>\n",
       "      <td>3.29</td>\n",
       "      <td>82.0</td>\n",
       "      <td>8.3</td>\n",
       "      <td>E</td>\n",
       "    </tr>\n",
       "    <tr>\n",
       "      <td>3</td>\n",
       "      <td>Wii Sports Resort</td>\n",
       "      <td>Wii</td>\n",
       "      <td>2009.0</td>\n",
       "      <td>Sports</td>\n",
       "      <td>15.61</td>\n",
       "      <td>10.93</td>\n",
       "      <td>3.28</td>\n",
       "      <td>2.95</td>\n",
       "      <td>80.0</td>\n",
       "      <td>8</td>\n",
       "      <td>E</td>\n",
       "    </tr>\n",
       "    <tr>\n",
       "      <td>4</td>\n",
       "      <td>Pokemon Red/Pokemon Blue</td>\n",
       "      <td>GB</td>\n",
       "      <td>1996.0</td>\n",
       "      <td>Role-Playing</td>\n",
       "      <td>11.27</td>\n",
       "      <td>8.89</td>\n",
       "      <td>10.22</td>\n",
       "      <td>1.00</td>\n",
       "      <td>NaN</td>\n",
       "      <td>NaN</td>\n",
       "      <td>NaN</td>\n",
       "    </tr>\n",
       "  </tbody>\n",
       "</table>\n",
       "</div>"
      ],
      "text/plain": [
       "                       Name Platform  Year_of_Release         Genre  NA_sales  \\\n",
       "0                Wii Sports      Wii           2006.0        Sports     41.36   \n",
       "1         Super Mario Bros.      NES           1985.0      Platform     29.08   \n",
       "2            Mario Kart Wii      Wii           2008.0        Racing     15.68   \n",
       "3         Wii Sports Resort      Wii           2009.0        Sports     15.61   \n",
       "4  Pokemon Red/Pokemon Blue       GB           1996.0  Role-Playing     11.27   \n",
       "\n",
       "   EU_sales  JP_sales  Other_sales  Critic_Score User_Score Rating  \n",
       "0     28.96      3.77         8.45          76.0          8      E  \n",
       "1      3.58      6.81         0.77           NaN        NaN    NaN  \n",
       "2     12.76      3.79         3.29          82.0        8.3      E  \n",
       "3     10.93      3.28         2.95          80.0          8      E  \n",
       "4      8.89     10.22         1.00           NaN        NaN    NaN  "
      ]
     },
     "execution_count": 3,
     "metadata": {},
     "output_type": "execute_result"
    }
   ],
   "source": [
    "print('Первые пять строк таблицы games:')\n",
    "games.head()"
   ]
  },
  {
   "cell_type": "code",
   "execution_count": 4,
   "metadata": {},
   "outputs": [
    {
     "name": "stdout",
     "output_type": "stream",
     "text": [
      "Общая информация о таблице:\n",
      "<class 'pandas.core.frame.DataFrame'>\n",
      "RangeIndex: 16715 entries, 0 to 16714\n",
      "Data columns (total 11 columns):\n",
      "Name               16713 non-null object\n",
      "Platform           16715 non-null object\n",
      "Year_of_Release    16446 non-null float64\n",
      "Genre              16713 non-null object\n",
      "NA_sales           16715 non-null float64\n",
      "EU_sales           16715 non-null float64\n",
      "JP_sales           16715 non-null float64\n",
      "Other_sales        16715 non-null float64\n",
      "Critic_Score       8137 non-null float64\n",
      "User_Score         10014 non-null object\n",
      "Rating             9949 non-null object\n",
      "dtypes: float64(6), object(5)\n",
      "memory usage: 1.4+ MB\n",
      "None\n"
     ]
    }
   ],
   "source": [
    "#получим общую информацию о таблице\n",
    "print('Общая информация о таблице:')\n",
    "print(games.info())"
   ]
  },
  {
   "cell_type": "markdown",
   "metadata": {},
   "source": [
    "## Вывод"
   ]
  },
  {
   "cell_type": "markdown",
   "metadata": {},
   "source": [
    "На первом шаге откроем таблицу с исходными данными и изучим общую информацию.\n",
    "Всего в наборе данных 11 столбцов.\n",
    "\n",
    "Столбцы таблицы:\n",
    " - Name — название игры\n",
    " - Platform — платформа\n",
    " - Year_of_Release — год выпуска\n",
    " - Genre — жанр игры\n",
    " - NA_sales — продажи в Северной Америке (миллионы проданных копий)\n",
    " - EU_sales — продажи в Европе (миллионы проданных копий)\n",
    " - JP_sales — продажи в Японии (миллионы проданных копий)\n",
    " - Other_sales — продажи в других странах (миллионы проданных копий)\n",
    " - Critic_Score — оценка критиков (максимум 100)\n",
    " - User_Score — оценка пользователей (максимум 10)\n",
    " - Rating — рейтинг от организации ESRB (англ. Entertainment Software Rating Board). Эта ассоциация определяет рейтинг компьютерных игр и присваивает им подходящую возрастную категорию.\n",
    "\n",
    "\n",
    "Типы данных столбцов различаются: float64(6), object(5).\n",
    "Количество значений в столбцах также различается, значит, в данных есть пропущенные значения.\n",
    "На следующем шаге рассмотрим набор данных более подробно, скорректируем названия столбцов, обработаем пропуски и приведём данные к нужным типам."
   ]
  },
  {
   "cell_type": "markdown",
   "metadata": {},
   "source": [
    "## Подготовка данных"
   ]
  },
  {
   "cell_type": "markdown",
   "metadata": {},
   "source": [
    "### Корректировка названия столбцов"
   ]
  },
  {
   "cell_type": "code",
   "execution_count": 5,
   "metadata": {},
   "outputs": [],
   "source": [
    "#приведём названия к нижнему регистру\n",
    "games.rename(columns = {'Name': 'name', 'Platform': 'platform', 'Year_of_Release': 'year_of_release', 'Genre': 'genre', \n",
    "                     'NA_sales': 'na_sales', 'EU_sales': 'eu_sales', 'JP_sales': 'jp_sales', 'Other_sales': 'other_sales', \n",
    "                     'Critic_Score': 'critic_score', 'User_Score': 'user_score', 'Rating': 'rating'}, inplace = True)"
   ]
  },
  {
   "cell_type": "code",
   "execution_count": 6,
   "metadata": {},
   "outputs": [
    {
     "name": "stdout",
     "output_type": "stream",
     "text": [
      "Первые пять строк таблицы после переименования:\n"
     ]
    },
    {
     "data": {
      "text/html": [
       "<div>\n",
       "<style scoped>\n",
       "    .dataframe tbody tr th:only-of-type {\n",
       "        vertical-align: middle;\n",
       "    }\n",
       "\n",
       "    .dataframe tbody tr th {\n",
       "        vertical-align: top;\n",
       "    }\n",
       "\n",
       "    .dataframe thead th {\n",
       "        text-align: right;\n",
       "    }\n",
       "</style>\n",
       "<table border=\"1\" class=\"dataframe\">\n",
       "  <thead>\n",
       "    <tr style=\"text-align: right;\">\n",
       "      <th></th>\n",
       "      <th>name</th>\n",
       "      <th>platform</th>\n",
       "      <th>year_of_release</th>\n",
       "      <th>genre</th>\n",
       "      <th>na_sales</th>\n",
       "      <th>eu_sales</th>\n",
       "      <th>jp_sales</th>\n",
       "      <th>other_sales</th>\n",
       "      <th>critic_score</th>\n",
       "      <th>user_score</th>\n",
       "      <th>rating</th>\n",
       "    </tr>\n",
       "  </thead>\n",
       "  <tbody>\n",
       "    <tr>\n",
       "      <td>0</td>\n",
       "      <td>Wii Sports</td>\n",
       "      <td>Wii</td>\n",
       "      <td>2006.0</td>\n",
       "      <td>Sports</td>\n",
       "      <td>41.36</td>\n",
       "      <td>28.96</td>\n",
       "      <td>3.77</td>\n",
       "      <td>8.45</td>\n",
       "      <td>76.0</td>\n",
       "      <td>8</td>\n",
       "      <td>E</td>\n",
       "    </tr>\n",
       "    <tr>\n",
       "      <td>1</td>\n",
       "      <td>Super Mario Bros.</td>\n",
       "      <td>NES</td>\n",
       "      <td>1985.0</td>\n",
       "      <td>Platform</td>\n",
       "      <td>29.08</td>\n",
       "      <td>3.58</td>\n",
       "      <td>6.81</td>\n",
       "      <td>0.77</td>\n",
       "      <td>NaN</td>\n",
       "      <td>NaN</td>\n",
       "      <td>NaN</td>\n",
       "    </tr>\n",
       "    <tr>\n",
       "      <td>2</td>\n",
       "      <td>Mario Kart Wii</td>\n",
       "      <td>Wii</td>\n",
       "      <td>2008.0</td>\n",
       "      <td>Racing</td>\n",
       "      <td>15.68</td>\n",
       "      <td>12.76</td>\n",
       "      <td>3.79</td>\n",
       "      <td>3.29</td>\n",
       "      <td>82.0</td>\n",
       "      <td>8.3</td>\n",
       "      <td>E</td>\n",
       "    </tr>\n",
       "    <tr>\n",
       "      <td>3</td>\n",
       "      <td>Wii Sports Resort</td>\n",
       "      <td>Wii</td>\n",
       "      <td>2009.0</td>\n",
       "      <td>Sports</td>\n",
       "      <td>15.61</td>\n",
       "      <td>10.93</td>\n",
       "      <td>3.28</td>\n",
       "      <td>2.95</td>\n",
       "      <td>80.0</td>\n",
       "      <td>8</td>\n",
       "      <td>E</td>\n",
       "    </tr>\n",
       "    <tr>\n",
       "      <td>4</td>\n",
       "      <td>Pokemon Red/Pokemon Blue</td>\n",
       "      <td>GB</td>\n",
       "      <td>1996.0</td>\n",
       "      <td>Role-Playing</td>\n",
       "      <td>11.27</td>\n",
       "      <td>8.89</td>\n",
       "      <td>10.22</td>\n",
       "      <td>1.00</td>\n",
       "      <td>NaN</td>\n",
       "      <td>NaN</td>\n",
       "      <td>NaN</td>\n",
       "    </tr>\n",
       "  </tbody>\n",
       "</table>\n",
       "</div>"
      ],
      "text/plain": [
       "                       name platform  year_of_release         genre  na_sales  \\\n",
       "0                Wii Sports      Wii           2006.0        Sports     41.36   \n",
       "1         Super Mario Bros.      NES           1985.0      Platform     29.08   \n",
       "2            Mario Kart Wii      Wii           2008.0        Racing     15.68   \n",
       "3         Wii Sports Resort      Wii           2009.0        Sports     15.61   \n",
       "4  Pokemon Red/Pokemon Blue       GB           1996.0  Role-Playing     11.27   \n",
       "\n",
       "   eu_sales  jp_sales  other_sales  critic_score user_score rating  \n",
       "0     28.96      3.77         8.45          76.0          8      E  \n",
       "1      3.58      6.81         0.77           NaN        NaN    NaN  \n",
       "2     12.76      3.79         3.29          82.0        8.3      E  \n",
       "3     10.93      3.28         2.95          80.0          8      E  \n",
       "4      8.89     10.22         1.00           NaN        NaN    NaN  "
      ]
     },
     "execution_count": 6,
     "metadata": {},
     "output_type": "execute_result"
    }
   ],
   "source": [
    "print('Первые пять строк таблицы после переименования:')\n",
    "games.head()"
   ]
  },
  {
   "cell_type": "markdown",
   "metadata": {},
   "source": [
    "### Обработка пропусков и преобразование типов данных"
   ]
  },
  {
   "cell_type": "code",
   "execution_count": 7,
   "metadata": {},
   "outputs": [
    {
     "name": "stdout",
     "output_type": "stream",
     "text": [
      "Cуммарное количество пропусков для каждого столбца до обработки пропусков:\n",
      "name                  2\n",
      "platform              0\n",
      "year_of_release     269\n",
      "genre                 2\n",
      "na_sales              0\n",
      "eu_sales              0\n",
      "jp_sales              0\n",
      "other_sales           0\n",
      "critic_score       8578\n",
      "user_score         6701\n",
      "rating             6766\n",
      "dtype: int64\n"
     ]
    }
   ],
   "source": [
    "#получим суммарное количество пропусков для каждого столбца, для этого применим метод isnull()\n",
    "print('Cуммарное количество пропусков для каждого столбца до обработки пропусков:')\n",
    "print(games.isnull().sum())"
   ]
  },
  {
   "cell_type": "code",
   "execution_count": 8,
   "metadata": {},
   "outputs": [
    {
     "name": "stdout",
     "output_type": "stream",
     "text": [
      "Количество дубликатов в наборе данных:\n",
      "0\n"
     ]
    }
   ],
   "source": [
    "#посчитаем количество дубликатов в наборе данных\n",
    "print('Количество дубликатов в наборе данных:')\n",
    "print(games.duplicated().sum())"
   ]
  },
  {
   "cell_type": "markdown",
   "metadata": {},
   "source": [
    "#### Столбец 'name' - название игры"
   ]
  },
  {
   "cell_type": "code",
   "execution_count": 9,
   "metadata": {},
   "outputs": [
    {
     "name": "stdout",
     "output_type": "stream",
     "text": [
      "Cуммарное количество пропусков для столбца name: 2\n"
     ]
    }
   ],
   "source": [
    "#получим суммарное количество пропусков для столбца\n",
    "print('Cуммарное количество пропусков для столбца name:', games['name'].isnull().sum())"
   ]
  },
  {
   "cell_type": "code",
   "execution_count": 10,
   "metadata": {},
   "outputs": [
    {
     "name": "stdout",
     "output_type": "stream",
     "text": [
      "Процент пропусков: 0.01%\n"
     ]
    }
   ],
   "source": [
    "#подсчитаем процент пропусков\n",
    "print('Процент пропусков: {:.2%}'.format(games['name'].isnull().sum()/ len(games['name'])))"
   ]
  },
  {
   "cell_type": "code",
   "execution_count": 11,
   "metadata": {},
   "outputs": [
    {
     "name": "stdout",
     "output_type": "stream",
     "text": [
      "Уникальные значения в столбце name:\n",
      "Need for Speed: Most Wanted                         12\n",
      "Ratatouille                                          9\n",
      "Madden NFL 07                                        9\n",
      "FIFA 14                                              9\n",
      "LEGO Marvel Super Heroes                             9\n",
      "                                                    ..\n",
      "Guitar Hero Encore: Rocks The 80s                    1\n",
      "Puzzle & Dragons X: God Chapter / Dragon Chapter     1\n",
      "Gothic 3                                             1\n",
      "Madden NFL Football                                  1\n",
      "Lernerfolg Vorschule: Capt'n Sharky                  1\n",
      "Name: name, Length: 11559, dtype: int64\n"
     ]
    }
   ],
   "source": [
    "#выделим уникальные значения в столбце\n",
    "print('Уникальные значения в столбце name:')\n",
    "print(games['name'].value_counts())"
   ]
  },
  {
   "cell_type": "code",
   "execution_count": 12,
   "metadata": {},
   "outputs": [],
   "source": [
    "#удалим пропущенные значения\n",
    "games.dropna(subset = ['name'], inplace = True) "
   ]
  },
  {
   "cell_type": "markdown",
   "metadata": {},
   "source": [
    "#### Вывод"
   ]
  },
  {
   "cell_type": "markdown",
   "metadata": {},
   "source": [
    "В столбце 'name' суммарное количество пропусков равно 2 или 0.01%. Это маленький процент пропусков. Предположим, что это технологическая ошибка. Удалим пропущенные значения. В целом данные отображаются корректно, дополнительные правки вносить не будем. Тип данных object не меняем."
   ]
  },
  {
   "cell_type": "markdown",
   "metadata": {},
   "source": [
    "#### Столбец 'platform' - платформа"
   ]
  },
  {
   "cell_type": "code",
   "execution_count": 13,
   "metadata": {},
   "outputs": [
    {
     "name": "stdout",
     "output_type": "stream",
     "text": [
      "Cуммарное количество пропусков для столбца platform: 0\n"
     ]
    }
   ],
   "source": [
    "#получим суммарное количество пропусков для столбца\n",
    "print('Cуммарное количество пропусков для столбца platform:', games['platform'].isnull().sum())"
   ]
  },
  {
   "cell_type": "code",
   "execution_count": 14,
   "metadata": {},
   "outputs": [
    {
     "name": "stdout",
     "output_type": "stream",
     "text": [
      "Уникальные значения в столбце platform:\n",
      "PS2     2161\n",
      "DS      2151\n",
      "PS3     1331\n",
      "Wii     1320\n",
      "X360    1262\n",
      "PSP     1209\n",
      "PS      1197\n",
      "PC       974\n",
      "XB       824\n",
      "GBA      822\n",
      "GC       556\n",
      "3DS      520\n",
      "PSV      430\n",
      "PS4      392\n",
      "N64      319\n",
      "XOne     247\n",
      "SNES     239\n",
      "SAT      173\n",
      "WiiU     147\n",
      "2600     133\n",
      "GB        98\n",
      "NES       98\n",
      "DC        52\n",
      "GEN       27\n",
      "NG        12\n",
      "WS         6\n",
      "SCD        6\n",
      "3DO        3\n",
      "TG16       2\n",
      "PCFX       1\n",
      "GG         1\n",
      "Name: platform, dtype: int64\n"
     ]
    }
   ],
   "source": [
    "#выделим уникальные значения в столбце\n",
    "print('Уникальные значения в столбце platform:')\n",
    "print(games['platform'].value_counts())"
   ]
  },
  {
   "cell_type": "markdown",
   "metadata": {},
   "source": [
    "#### Вывод"
   ]
  },
  {
   "cell_type": "markdown",
   "metadata": {},
   "source": [
    "В столбце 'platform' суммарное количество пропусков равно 0. Данные отображаются корректно, правки вносить не будем. Тип данных object не меняем."
   ]
  },
  {
   "cell_type": "markdown",
   "metadata": {},
   "source": [
    "#### Столбец 'year_of_release' - год выпуска"
   ]
  },
  {
   "cell_type": "code",
   "execution_count": 15,
   "metadata": {},
   "outputs": [
    {
     "name": "stdout",
     "output_type": "stream",
     "text": [
      "Cуммарное количество пропусков для столбца year_of_release: 269\n"
     ]
    }
   ],
   "source": [
    "#получим суммарное количество пропусков для столбца\n",
    "print('Cуммарное количество пропусков для столбца year_of_release:', games['year_of_release'].isnull().sum())"
   ]
  },
  {
   "cell_type": "code",
   "execution_count": 16,
   "metadata": {},
   "outputs": [
    {
     "name": "stdout",
     "output_type": "stream",
     "text": [
      "Процент пропусков: 1.61%\n"
     ]
    }
   ],
   "source": [
    "#подсчитаем процент пропусков\n",
    "print('Процент пропусков: {:.2%}'.format(games['year_of_release'].isnull().sum()/ len(games['year_of_release'])))"
   ]
  },
  {
   "cell_type": "code",
   "execution_count": 17,
   "metadata": {},
   "outputs": [
    {
     "name": "stdout",
     "output_type": "stream",
     "text": [
      "Уникальные значения в столбце year_of_release: 2008.0    1427\n",
      "2009.0    1426\n",
      "2010.0    1255\n",
      "2007.0    1197\n",
      "2011.0    1136\n",
      "2006.0    1006\n",
      "2005.0     939\n",
      "2002.0     829\n",
      "2003.0     775\n",
      "2004.0     762\n",
      "2012.0     653\n",
      "2015.0     606\n",
      "2014.0     581\n",
      "2013.0     544\n",
      "2016.0     502\n",
      "2001.0     482\n",
      "1998.0     379\n",
      "2000.0     350\n",
      "1999.0     338\n",
      "1997.0     289\n",
      "1996.0     263\n",
      "1995.0     219\n",
      "1994.0     121\n",
      "1993.0      60\n",
      "1981.0      46\n",
      "1992.0      43\n",
      "1991.0      41\n",
      "1982.0      36\n",
      "1986.0      21\n",
      "1989.0      17\n",
      "1983.0      17\n",
      "1990.0      16\n",
      "1987.0      16\n",
      "1988.0      15\n",
      "1985.0      14\n",
      "1984.0      14\n",
      "1980.0       9\n",
      "Name: year_of_release, dtype: int64\n"
     ]
    }
   ],
   "source": [
    "#выделим уникальные значения в столбце\n",
    "print('Уникальные значения в столбце year_of_release:', games['year_of_release'].value_counts())"
   ]
  },
  {
   "cell_type": "code",
   "execution_count": 18,
   "metadata": {},
   "outputs": [],
   "source": [
    "#удалим пропущенные значения\n",
    "games.dropna(subset = ['year_of_release'], inplace = True) "
   ]
  },
  {
   "cell_type": "code",
   "execution_count": 19,
   "metadata": {},
   "outputs": [
    {
     "name": "stdout",
     "output_type": "stream",
     "text": [
      "int64\n"
     ]
    }
   ],
   "source": [
    "#заменим вещественный тип данных на целочисленный\n",
    "games['year_of_release'] = games['year_of_release'].astype('int')\n",
    "\n",
    "#проверим тип данных\n",
    "print(games['year_of_release'].dtype)"
   ]
  },
  {
   "cell_type": "markdown",
   "metadata": {},
   "source": [
    "#### Вывод"
   ]
  },
  {
   "cell_type": "markdown",
   "metadata": {},
   "source": [
    "В столбце 'year_of_release' суммарное количество пропусков равно 269 или 1.61%. Это небольшой процент пропусков. Предположим, что это технологическая ошибка. Удалим пропущенные значения и заменим вещественный тип данных float64 на целочисленный int64. Данные отображаются корректно, дополнительные правки вносить не будем."
   ]
  },
  {
   "cell_type": "markdown",
   "metadata": {},
   "source": [
    "#### Столбец 'genre' - жанр игры"
   ]
  },
  {
   "cell_type": "code",
   "execution_count": 20,
   "metadata": {},
   "outputs": [
    {
     "name": "stdout",
     "output_type": "stream",
     "text": [
      "Cуммарное количество пропусков для столбца genre: 0\n"
     ]
    }
   ],
   "source": [
    "#получим суммарное количество пропусков для столбца\n",
    "print('Cуммарное количество пропусков для столбца genre:', games['genre'].isnull().sum())"
   ]
  },
  {
   "cell_type": "code",
   "execution_count": 21,
   "metadata": {},
   "outputs": [
    {
     "name": "stdout",
     "output_type": "stream",
     "text": [
      "Уникальные значения в столбце genre:\n",
      "Action          3307\n",
      "Sports          2306\n",
      "Misc            1721\n",
      "Role-Playing    1481\n",
      "Shooter         1296\n",
      "Adventure       1293\n",
      "Racing          1226\n",
      "Platform         878\n",
      "Simulation       857\n",
      "Fighting         837\n",
      "Strategy         673\n",
      "Puzzle           569\n",
      "Name: genre, dtype: int64\n"
     ]
    }
   ],
   "source": [
    "#выделим уникальные значения в столбце\n",
    "print('Уникальные значения в столбце genre:')\n",
    "print(games['genre'].value_counts())"
   ]
  },
  {
   "cell_type": "markdown",
   "metadata": {},
   "source": [
    "#### Вывод"
   ]
  },
  {
   "cell_type": "markdown",
   "metadata": {},
   "source": [
    "В столбце'genre' суммарное количество пропусков равно 0. Данные отображаются корректно, правки вносить не будем. Тип данных object не меняем."
   ]
  },
  {
   "cell_type": "markdown",
   "metadata": {},
   "source": [
    "#### Столбец 'na_sales' - продажи в Северной Америке (миллионы проданных копий)"
   ]
  },
  {
   "cell_type": "code",
   "execution_count": 22,
   "metadata": {},
   "outputs": [
    {
     "name": "stdout",
     "output_type": "stream",
     "text": [
      "Cуммарное количество пропусков для столбца na_sales: 0\n"
     ]
    }
   ],
   "source": [
    "#получим суммарное количество пропусков для столбца\n",
    "print('Cуммарное количество пропусков для столбца na_sales:', games['na_sales'].isnull().sum())"
   ]
  },
  {
   "cell_type": "code",
   "execution_count": 23,
   "metadata": {},
   "outputs": [
    {
     "name": "stdout",
     "output_type": "stream",
     "text": [
      "Уникальные значения в столбце na_sales:\n",
      "0.00    4449\n",
      "0.02     562\n",
      "0.03     554\n",
      "0.04     543\n",
      "0.05     536\n",
      "        ... \n",
      "4.98       1\n",
      "4.21       1\n",
      "6.82       1\n",
      "5.05       1\n",
      "9.00       1\n",
      "Name: na_sales, Length: 401, dtype: int64\n"
     ]
    }
   ],
   "source": [
    "#выделим уникальные значения в столбце\n",
    "print('Уникальные значения в столбце na_sales:')\n",
    "print(games['na_sales'].value_counts())"
   ]
  },
  {
   "cell_type": "code",
   "execution_count": 24,
   "metadata": {},
   "outputs": [
    {
     "name": "stdout",
     "output_type": "stream",
     "text": [
      "int64\n"
     ]
    }
   ],
   "source": [
    "#заменим вещественный тип данных на целочисленный\n",
    "games['na_sales'] = games['na_sales'].astype('int')\n",
    "\n",
    "#проверим тип данных\n",
    "print(games['na_sales'].dtype)"
   ]
  },
  {
   "cell_type": "markdown",
   "metadata": {},
   "source": [
    "#### Вывод"
   ]
  },
  {
   "cell_type": "markdown",
   "metadata": {},
   "source": [
    "В столбце 'na_sales' суммарное количество пропусков равно 0. Данные отображаются корректно, правки вносить не будем. Заменим вещественный тип данных float64 на целочисленный int64."
   ]
  },
  {
   "cell_type": "markdown",
   "metadata": {},
   "source": [
    "#### Столбец 'eu_sales' - продажи в Европе (миллионы проданных копий)"
   ]
  },
  {
   "cell_type": "code",
   "execution_count": 25,
   "metadata": {},
   "outputs": [
    {
     "name": "stdout",
     "output_type": "stream",
     "text": [
      "Cуммарное количество пропусков для столбца eu_sales: 0\n"
     ]
    }
   ],
   "source": [
    "#получим суммарное количество пропусков для столбца\n",
    "print('Cуммарное количество пропусков для столбца eu_sales:', games['eu_sales'].isnull().sum())"
   ]
  },
  {
   "cell_type": "code",
   "execution_count": 26,
   "metadata": {},
   "outputs": [
    {
     "name": "stdout",
     "output_type": "stream",
     "text": [
      "Уникальные значения в столбце eu_sales:\n",
      "0.00    5766\n",
      "0.01    1467\n",
      "0.02    1290\n",
      "0.03     911\n",
      "0.04     702\n",
      "        ... \n",
      "3.59       1\n",
      "4.02       1\n",
      "2.24       1\n",
      "5.49       1\n",
      "3.75       1\n",
      "Name: eu_sales, Length: 307, dtype: int64\n"
     ]
    }
   ],
   "source": [
    "#выделим уникальные значения в столбце\n",
    "print('Уникальные значения в столбце eu_sales:')\n",
    "print(games['eu_sales'].value_counts())"
   ]
  },
  {
   "cell_type": "code",
   "execution_count": 27,
   "metadata": {},
   "outputs": [
    {
     "name": "stdout",
     "output_type": "stream",
     "text": [
      "int64\n"
     ]
    }
   ],
   "source": [
    "#заменим вещественный тип данных на целочисленный\n",
    "games['eu_sales'] = games['eu_sales'].astype('int')\n",
    "\n",
    "#проверим тип данных\n",
    "print(games['eu_sales'].dtype)"
   ]
  },
  {
   "cell_type": "markdown",
   "metadata": {},
   "source": [
    "#### Вывод"
   ]
  },
  {
   "cell_type": "markdown",
   "metadata": {},
   "source": [
    "В столбце 'eu_sales' суммарное количество пропусков равно 0. Данные отображаются корректно, правки вносить не будем. Заменим вещественный тип данных float64 на целочисленный int64."
   ]
  },
  {
   "cell_type": "markdown",
   "metadata": {},
   "source": [
    "#### Столбец 'jp_sales' - продажи в Японии (миллионы проданных копий)"
   ]
  },
  {
   "cell_type": "code",
   "execution_count": 28,
   "metadata": {},
   "outputs": [
    {
     "name": "stdout",
     "output_type": "stream",
     "text": [
      "Cуммарное количество пропусков для столбца jp_sales: 0\n"
     ]
    }
   ],
   "source": [
    "#получим суммарное количество пропусков для столбца\n",
    "print('Cуммарное количество пропусков для столбца jp_sales:', games['jp_sales'].isnull().sum())"
   ]
  },
  {
   "cell_type": "code",
   "execution_count": 29,
   "metadata": {},
   "outputs": [
    {
     "name": "stdout",
     "output_type": "stream",
     "text": [
      "Уникальные значения в столбце jp_sales:\n",
      "0.00    10300\n",
      "0.02      733\n",
      "0.01      697\n",
      "0.03      540\n",
      "0.04      391\n",
      "        ...  \n",
      "1.16        1\n",
      "2.12        1\n",
      "7.20        1\n",
      "2.17        1\n",
      "6.50        1\n",
      "Name: jp_sales, Length: 244, dtype: int64\n"
     ]
    }
   ],
   "source": [
    "#выделим уникальные значения в столбце\n",
    "print('Уникальные значения в столбце jp_sales:')\n",
    "print(games['jp_sales'].value_counts())"
   ]
  },
  {
   "cell_type": "code",
   "execution_count": 30,
   "metadata": {},
   "outputs": [
    {
     "name": "stdout",
     "output_type": "stream",
     "text": [
      "int64\n"
     ]
    }
   ],
   "source": [
    "#заменим вещественный тип данных на целочисленный\n",
    "games['jp_sales'] = games['jp_sales'].astype('int')\n",
    "\n",
    "#проверим тип данных\n",
    "print(games['jp_sales'].dtype)"
   ]
  },
  {
   "cell_type": "markdown",
   "metadata": {},
   "source": [
    "#### Вывод"
   ]
  },
  {
   "cell_type": "markdown",
   "metadata": {},
   "source": [
    "В столбце 'jp_sales' суммарное количество пропусков равно 0. Данные отображаются корректно, правки вносить не будем. Заменим вещественный тип данных float64 на целочисленный int64."
   ]
  },
  {
   "cell_type": "markdown",
   "metadata": {},
   "source": [
    "#### Столбец 'other_sales' - продажи в других странах (миллионы проданных копий)"
   ]
  },
  {
   "cell_type": "code",
   "execution_count": 31,
   "metadata": {},
   "outputs": [
    {
     "name": "stdout",
     "output_type": "stream",
     "text": [
      "Cуммарное количество пропусков для столбца other_sales: 0\n"
     ]
    }
   ],
   "source": [
    "#получим суммарное количество пропусков для столбца\n",
    "print('Cуммарное количество пропусков для столбца other_sales:', games['other_sales'].isnull().sum())"
   ]
  },
  {
   "cell_type": "code",
   "execution_count": 32,
   "metadata": {},
   "outputs": [
    {
     "name": "stdout",
     "output_type": "stream",
     "text": [
      "Уникальные значения в столбце other_sales:\n",
      "0.00    6492\n",
      "0.01    3398\n",
      "0.02    1596\n",
      "0.03     910\n",
      "0.04     641\n",
      "        ... \n",
      "1.37       1\n",
      "1.67       1\n",
      "1.69       1\n",
      "7.53       1\n",
      "0.92       1\n",
      "Name: other_sales, Length: 155, dtype: int64\n"
     ]
    }
   ],
   "source": [
    "#выделим уникальные значения в столбце\n",
    "print('Уникальные значения в столбце other_sales:')\n",
    "print(games['other_sales'].value_counts())"
   ]
  },
  {
   "cell_type": "code",
   "execution_count": 33,
   "metadata": {},
   "outputs": [
    {
     "name": "stdout",
     "output_type": "stream",
     "text": [
      "int64\n"
     ]
    }
   ],
   "source": [
    "#заменим вещественный тип данных на целочисленный\n",
    "games['other_sales'] = games['other_sales'].astype('int')\n",
    "\n",
    "#проверим тип данных\n",
    "print(games['other_sales'].dtype)"
   ]
  },
  {
   "cell_type": "markdown",
   "metadata": {},
   "source": [
    "#### Вывод"
   ]
  },
  {
   "cell_type": "markdown",
   "metadata": {},
   "source": [
    "В столбце 'other_sales' суммарное количество пропусков равно 0. Данные отображаются корректно, правки вносить не будем. Заменим вещественный тип данных float64 на целочисленный int64."
   ]
  },
  {
   "cell_type": "markdown",
   "metadata": {},
   "source": [
    "#### Столбец 'critic_score' - оценка критиков"
   ]
  },
  {
   "cell_type": "code",
   "execution_count": 34,
   "metadata": {},
   "outputs": [
    {
     "name": "stdout",
     "output_type": "stream",
     "text": [
      "Cуммарное количество пропусков для столбца critic_score: 8461\n"
     ]
    }
   ],
   "source": [
    "#получим суммарное количество пропусков для столбца\n",
    "print('Cуммарное количество пропусков для столбца critic_score:', games['critic_score'].isnull().sum())"
   ]
  },
  {
   "cell_type": "code",
   "execution_count": 35,
   "metadata": {},
   "outputs": [
    {
     "name": "stdout",
     "output_type": "stream",
     "text": [
      "Процент пропусков: 51.45%\n"
     ]
    }
   ],
   "source": [
    "#подсчитаем процент пропусков\n",
    "print('Процент пропусков: {:.2%}'.format(games['critic_score'].isnull().sum()/ len(games['critic_score'])))"
   ]
  },
  {
   "cell_type": "code",
   "execution_count": 36,
   "metadata": {},
   "outputs": [
    {
     "name": "stdout",
     "output_type": "stream",
     "text": [
      "Уникальные значения в столбце critic_score:\n",
      "70.0    252\n",
      "71.0    248\n",
      "75.0    240\n",
      "80.0    235\n",
      "73.0    234\n",
      "       ... \n",
      "29.0      3\n",
      "20.0      3\n",
      "21.0      1\n",
      "13.0      1\n",
      "17.0      1\n",
      "Name: critic_score, Length: 81, dtype: int64\n"
     ]
    }
   ],
   "source": [
    "#выделим уникальные значения в столбце\n",
    "print('Уникальные значения в столбце critic_score:')\n",
    "print(games['critic_score'].value_counts())"
   ]
  },
  {
   "cell_type": "markdown",
   "metadata": {},
   "source": [
    "#### Вывод"
   ]
  },
  {
   "cell_type": "markdown",
   "metadata": {},
   "source": [
    "В столбце 'critic_score': суммарное количество пропусков равно 8461 или 51.45%. Это большой процент пропусков. Предположим, что было недостаточно оценок для выставления оценки критиков. Чтобы не искажать распределение, не будем удалять такие данные или заменять их какой-либо величиной. Оставим в текущем виде. Тип данных float64 не меняется."
   ]
  },
  {
   "cell_type": "markdown",
   "metadata": {},
   "source": [
    "#### Столбец 'user_score' - оценка пользователей"
   ]
  },
  {
   "cell_type": "code",
   "execution_count": 37,
   "metadata": {},
   "outputs": [
    {
     "name": "stdout",
     "output_type": "stream",
     "text": [
      "Cуммарное количество пропусков для столбца user_score: 6605\n"
     ]
    }
   ],
   "source": [
    "#получим суммарное количество пропусков для столбца\n",
    "print('Cуммарное количество пропусков для столбца user_score:', games['user_score'].isnull().sum())"
   ]
  },
  {
   "cell_type": "code",
   "execution_count": 38,
   "metadata": {},
   "outputs": [
    {
     "name": "stdout",
     "output_type": "stream",
     "text": [
      "Процент пропусков: 40.17%\n"
     ]
    }
   ],
   "source": [
    "#подсчитаем процент пропусков\n",
    "print('Процент пропусков: {:.2%}'.format(games['user_score'].isnull().sum()/ len(games['user_score'])))"
   ]
  },
  {
   "cell_type": "code",
   "execution_count": 39,
   "metadata": {},
   "outputs": [
    {
     "name": "stdout",
     "output_type": "stream",
     "text": [
      "Уникальные значения в столбце user_score:\n",
      "tbd    2376\n",
      "7.8     322\n",
      "8       285\n",
      "8.2     276\n",
      "8.3     252\n",
      "       ... \n",
      "1.5       2\n",
      "0.2       2\n",
      "0.6       2\n",
      "9.7       1\n",
      "0         1\n",
      "Name: user_score, Length: 96, dtype: int64\n"
     ]
    }
   ],
   "source": [
    "#выделим уникальные значения в столбце\n",
    "print('Уникальные значения в столбце user_score:')\n",
    "print(games['user_score'].value_counts())"
   ]
  },
  {
   "cell_type": "code",
   "execution_count": 40,
   "metadata": {},
   "outputs": [
    {
     "name": "stdout",
     "output_type": "stream",
     "text": [
      "float64\n"
     ]
    }
   ],
   "source": [
    "#заменим тип данных object на float64\n",
    "games['user_score'] = pd.to_numeric(games['user_score'], errors='coerce')\n",
    "\n",
    "#проверим тип данных\n",
    "print(games['user_score'].dtype)"
   ]
  },
  {
   "cell_type": "markdown",
   "metadata": {},
   "source": [
    "#### Вывод"
   ]
  },
  {
   "cell_type": "markdown",
   "metadata": {},
   "source": [
    "В столбце 'user_score' суммарное количество пропусков равно 6605 или 40.17%. Это большой процент пропусков. Предположим, что было недостаточно оценок для выставления оценки пользователей. Также в наборе данных встречается аббревиатура \"tbd\" или \"To Be Determined\" (Предстоит определить).  Чтобы не искажать распределение, не будем удалять такие данные или заменять их какой-либо величиной. Оставим в текущем виде. Но заменим тип данных object на float64, при замене для возникающих ошибок укажем errors='coerce'."
   ]
  },
  {
   "cell_type": "markdown",
   "metadata": {},
   "source": [
    "#### Столбец 'rating' - рейтинг от организации ESRB"
   ]
  },
  {
   "cell_type": "code",
   "execution_count": 41,
   "metadata": {},
   "outputs": [
    {
     "name": "stdout",
     "output_type": "stream",
     "text": [
      "Cуммарное количество пропусков для столбца rating: 6676\n"
     ]
    }
   ],
   "source": [
    "#получим суммарное количество пропусков для столбца\n",
    "print('Cуммарное количество пропусков для столбца rating:', games['rating'].isnull().sum())"
   ]
  },
  {
   "cell_type": "code",
   "execution_count": 42,
   "metadata": {},
   "outputs": [
    {
     "name": "stdout",
     "output_type": "stream",
     "text": [
      "Процент пропусков: 40.60%\n"
     ]
    }
   ],
   "source": [
    "#подсчитаем процент пропусков\n",
    "print('Процент пропусков: {:.2%}'.format(games['rating'].isnull().sum()/ len(games['rating'])))"
   ]
  },
  {
   "cell_type": "code",
   "execution_count": 43,
   "metadata": {},
   "outputs": [
    {
     "name": "stdout",
     "output_type": "stream",
     "text": [
      "Уникальные значения в столбце rating:\n",
      "E       3921\n",
      "T       2905\n",
      "M       1536\n",
      "E10+    1393\n",
      "EC         8\n",
      "K-A        3\n",
      "AO         1\n",
      "RP         1\n",
      "Name: rating, dtype: int64\n"
     ]
    }
   ],
   "source": [
    "#выделим уникальные значения в столбце\n",
    "print('Уникальные значения в столбце rating:')\n",
    "print(games['rating'].value_counts())"
   ]
  },
  {
   "cell_type": "markdown",
   "metadata": {},
   "source": [
    "#### Вывод"
   ]
  },
  {
   "cell_type": "markdown",
   "metadata": {},
   "source": [
    "В столбце 'rating': суммарное количество пропусков равно 6676 или 40.60%. Это большой процент пропусков. Также предположим, что было недостаточно оценок для выставления рейтинга. Чтобы не искажать распределение, не будем удалять такие данные или заменять их какой-либо величиной. Оставим в текущем виде.Тип данных float64 не меняется."
   ]
  },
  {
   "cell_type": "markdown",
   "metadata": {},
   "source": [
    "###  Подсчёт суммарных продаж во всех регионах"
   ]
  },
  {
   "cell_type": "code",
   "execution_count": 44,
   "metadata": {},
   "outputs": [],
   "source": [
    "#добавим столбец с суммарными продажами во всех регионах\n",
    "games['sales'] = games['na_sales'] + games['eu_sales'] + games['jp_sales'] + games['other_sales']"
   ]
  },
  {
   "cell_type": "code",
   "execution_count": 45,
   "metadata": {},
   "outputs": [
    {
     "name": "stdout",
     "output_type": "stream",
     "text": [
      "Первые пять строк таблицы:\n"
     ]
    },
    {
     "data": {
      "text/html": [
       "<div>\n",
       "<style scoped>\n",
       "    .dataframe tbody tr th:only-of-type {\n",
       "        vertical-align: middle;\n",
       "    }\n",
       "\n",
       "    .dataframe tbody tr th {\n",
       "        vertical-align: top;\n",
       "    }\n",
       "\n",
       "    .dataframe thead th {\n",
       "        text-align: right;\n",
       "    }\n",
       "</style>\n",
       "<table border=\"1\" class=\"dataframe\">\n",
       "  <thead>\n",
       "    <tr style=\"text-align: right;\">\n",
       "      <th></th>\n",
       "      <th>name</th>\n",
       "      <th>platform</th>\n",
       "      <th>year_of_release</th>\n",
       "      <th>genre</th>\n",
       "      <th>na_sales</th>\n",
       "      <th>eu_sales</th>\n",
       "      <th>jp_sales</th>\n",
       "      <th>other_sales</th>\n",
       "      <th>critic_score</th>\n",
       "      <th>user_score</th>\n",
       "      <th>rating</th>\n",
       "      <th>sales</th>\n",
       "    </tr>\n",
       "  </thead>\n",
       "  <tbody>\n",
       "    <tr>\n",
       "      <td>0</td>\n",
       "      <td>Wii Sports</td>\n",
       "      <td>Wii</td>\n",
       "      <td>2006</td>\n",
       "      <td>Sports</td>\n",
       "      <td>41</td>\n",
       "      <td>28</td>\n",
       "      <td>3</td>\n",
       "      <td>8</td>\n",
       "      <td>76.0</td>\n",
       "      <td>8.0</td>\n",
       "      <td>E</td>\n",
       "      <td>80</td>\n",
       "    </tr>\n",
       "    <tr>\n",
       "      <td>1</td>\n",
       "      <td>Super Mario Bros.</td>\n",
       "      <td>NES</td>\n",
       "      <td>1985</td>\n",
       "      <td>Platform</td>\n",
       "      <td>29</td>\n",
       "      <td>3</td>\n",
       "      <td>6</td>\n",
       "      <td>0</td>\n",
       "      <td>NaN</td>\n",
       "      <td>NaN</td>\n",
       "      <td>NaN</td>\n",
       "      <td>38</td>\n",
       "    </tr>\n",
       "    <tr>\n",
       "      <td>2</td>\n",
       "      <td>Mario Kart Wii</td>\n",
       "      <td>Wii</td>\n",
       "      <td>2008</td>\n",
       "      <td>Racing</td>\n",
       "      <td>15</td>\n",
       "      <td>12</td>\n",
       "      <td>3</td>\n",
       "      <td>3</td>\n",
       "      <td>82.0</td>\n",
       "      <td>8.3</td>\n",
       "      <td>E</td>\n",
       "      <td>33</td>\n",
       "    </tr>\n",
       "    <tr>\n",
       "      <td>3</td>\n",
       "      <td>Wii Sports Resort</td>\n",
       "      <td>Wii</td>\n",
       "      <td>2009</td>\n",
       "      <td>Sports</td>\n",
       "      <td>15</td>\n",
       "      <td>10</td>\n",
       "      <td>3</td>\n",
       "      <td>2</td>\n",
       "      <td>80.0</td>\n",
       "      <td>8.0</td>\n",
       "      <td>E</td>\n",
       "      <td>30</td>\n",
       "    </tr>\n",
       "    <tr>\n",
       "      <td>4</td>\n",
       "      <td>Pokemon Red/Pokemon Blue</td>\n",
       "      <td>GB</td>\n",
       "      <td>1996</td>\n",
       "      <td>Role-Playing</td>\n",
       "      <td>11</td>\n",
       "      <td>8</td>\n",
       "      <td>10</td>\n",
       "      <td>1</td>\n",
       "      <td>NaN</td>\n",
       "      <td>NaN</td>\n",
       "      <td>NaN</td>\n",
       "      <td>30</td>\n",
       "    </tr>\n",
       "  </tbody>\n",
       "</table>\n",
       "</div>"
      ],
      "text/plain": [
       "                       name platform  year_of_release         genre  na_sales  \\\n",
       "0                Wii Sports      Wii             2006        Sports        41   \n",
       "1         Super Mario Bros.      NES             1985      Platform        29   \n",
       "2            Mario Kart Wii      Wii             2008        Racing        15   \n",
       "3         Wii Sports Resort      Wii             2009        Sports        15   \n",
       "4  Pokemon Red/Pokemon Blue       GB             1996  Role-Playing        11   \n",
       "\n",
       "   eu_sales  jp_sales  other_sales  critic_score  user_score rating  sales  \n",
       "0        28         3            8          76.0         8.0      E     80  \n",
       "1         3         6            0           NaN         NaN    NaN     38  \n",
       "2        12         3            3          82.0         8.3      E     33  \n",
       "3        10         3            2          80.0         8.0      E     30  \n",
       "4         8        10            1           NaN         NaN    NaN     30  "
      ]
     },
     "execution_count": 45,
     "metadata": {},
     "output_type": "execute_result"
    }
   ],
   "source": [
    "print('Первые пять строк таблицы:')\n",
    "games.head()"
   ]
  },
  {
   "cell_type": "code",
   "execution_count": 46,
   "metadata": {},
   "outputs": [
    {
     "name": "stdout",
     "output_type": "stream",
     "text": [
      "Общая информация о таблице:\n",
      "<class 'pandas.core.frame.DataFrame'>\n",
      "Int64Index: 16444 entries, 0 to 16714\n",
      "Data columns (total 12 columns):\n",
      "name               16444 non-null object\n",
      "platform           16444 non-null object\n",
      "year_of_release    16444 non-null int64\n",
      "genre              16444 non-null object\n",
      "na_sales           16444 non-null int64\n",
      "eu_sales           16444 non-null int64\n",
      "jp_sales           16444 non-null int64\n",
      "other_sales        16444 non-null int64\n",
      "critic_score       7983 non-null float64\n",
      "user_score         7463 non-null float64\n",
      "rating             9768 non-null object\n",
      "sales              16444 non-null int64\n",
      "dtypes: float64(2), int64(6), object(4)\n",
      "memory usage: 1.6+ MB\n",
      "None\n"
     ]
    }
   ],
   "source": [
    "#получим общую информацию о таблице\n",
    "print('Общая информация о таблице:')\n",
    "print(games.info())"
   ]
  },
  {
   "cell_type": "markdown",
   "metadata": {},
   "source": [
    "## Вывод"
   ]
  },
  {
   "cell_type": "markdown",
   "metadata": {},
   "source": [
    "На данном шаге подготовим данные к исследованию. \n",
    "Скорректируем наименования столбцов (приведём названия к нижнему регистру). Проверим на наличие дубликатов в наборе данных.\n",
    "\n",
    "\n",
    "Рассмотрим каждый столбец набора данных отдельно. Рассмотрим уникальные значения для каждого столбца. Пропуски обнаружены в столбцах 'name', 'year_of_release', 'critic_score', 'user_score'. Для столбцов с пропущенными значениями подсчитаем процент пропусков.\n",
    " - столбец 'name': суммарное количество пропусков равно 2 или 0.01%. Это маленький процент пропусков. Предположим, что это технологическая ошибка. Удалим пропущенные значения. В целом данные отображаются корректно, дополнительные правки вносить не будем. Тип данных object не меняем.\n",
    " - столбцы 'platform', 'genre': суммарное количество пропусков равно 0. Данные отображаются корректно, правки вносить не будем. Тип данных object не меняем.\n",
    " - столбец 'year_of_release': суммарное количество пропусков равно 269 или 1.61%. Это небольшой процент пропусков. Предположим, что это технологическая ошибка. Удалим пропущенные значения и заменим вещественный тип данных float64 на целочисленный int64. Данные отображаются корректно, дополнительные правки вносить не будем.\n",
    " - столбцы 'na_sales', 'eu_sales', 'jp_sales', 'other_sales': суммарное количество пропусков равно 0. Данные отображаются корректно, правки вносить не будем. Заменим вещественный тип данных float64 на целочисленный int64.\n",
    " - столбец 'critic_score': суммарное количество пропусков равно 8461 или 51.45%. Это большой процент пропусков. Предположим, что было недостаточно оценок для выставления оценки критиков. Чтобы не искажать распределение, не будем удалять такие данные или заменять их какой-либо величиной. Оставим в текущем виде. Тип данных float64 не меняется.\n",
    " - столбец 'user_score': суммарное количество пропусков равно 6605 или 40.17%. Это большой процент пропусков. Предположим, что было недостаточно оценок для выставления оценки пользователей. Также в наборе данных встречается аббревиатура \"tbd\" или \"To Be Determined\" (Предстоит определить).  Чтобы не искажать распределение, не будем удалять такие данные или заменять их какой-либо величиной. Оставим в текущем виде. Но заменим тип данных object на float64, при замене для возникающих ошибок укажем errors='coerce'.\n",
    " - столбец 'rating': суммарное количество пропусков равно 6676 или 40.60%. Это большой процент пропусков. Также предположим, что было недостаточно оценок для выставления рейтинга. Чтобы не искажать распределение, не будем удалять такие данные или заменять их какой-либо величиной. Оставим в текущем виде.Тип данных float64 не меняется.\n",
    "\n",
    "\n",
    "Подсчитаем суммарные продажи во всех регионах и добавим результат в отдельный столбец."
   ]
  },
  {
   "cell_type": "markdown",
   "metadata": {},
   "source": [
    "## Исследовательский анализ данных"
   ]
  },
  {
   "cell_type": "markdown",
   "metadata": {},
   "source": [
    "### Количество игр в разные годы"
   ]
  },
  {
   "cell_type": "code",
   "execution_count": 47,
   "metadata": {},
   "outputs": [
    {
     "data": {
      "text/html": [
       "<div>\n",
       "<style scoped>\n",
       "    .dataframe tbody tr th:only-of-type {\n",
       "        vertical-align: middle;\n",
       "    }\n",
       "\n",
       "    .dataframe tbody tr th {\n",
       "        vertical-align: top;\n",
       "    }\n",
       "\n",
       "    .dataframe thead th {\n",
       "        text-align: right;\n",
       "    }\n",
       "</style>\n",
       "<table border=\"1\" class=\"dataframe\">\n",
       "  <thead>\n",
       "    <tr style=\"text-align: right;\">\n",
       "      <th></th>\n",
       "      <th>name</th>\n",
       "      <th>sales</th>\n",
       "    </tr>\n",
       "    <tr>\n",
       "      <th>year_of_release</th>\n",
       "      <th></th>\n",
       "      <th></th>\n",
       "    </tr>\n",
       "  </thead>\n",
       "  <tbody>\n",
       "    <tr>\n",
       "      <td>2008</td>\n",
       "      <td>1427</td>\n",
       "      <td>181</td>\n",
       "    </tr>\n",
       "    <tr>\n",
       "      <td>2009</td>\n",
       "      <td>1426</td>\n",
       "      <td>217</td>\n",
       "    </tr>\n",
       "    <tr>\n",
       "      <td>2010</td>\n",
       "      <td>1255</td>\n",
       "      <td>190</td>\n",
       "    </tr>\n",
       "    <tr>\n",
       "      <td>2007</td>\n",
       "      <td>1197</td>\n",
       "      <td>200</td>\n",
       "    </tr>\n",
       "    <tr>\n",
       "      <td>2011</td>\n",
       "      <td>1136</td>\n",
       "      <td>161</td>\n",
       "    </tr>\n",
       "    <tr>\n",
       "      <td>2006</td>\n",
       "      <td>1006</td>\n",
       "      <td>236</td>\n",
       "    </tr>\n",
       "    <tr>\n",
       "      <td>2005</td>\n",
       "      <td>939</td>\n",
       "      <td>157</td>\n",
       "    </tr>\n",
       "    <tr>\n",
       "      <td>2002</td>\n",
       "      <td>829</td>\n",
       "      <td>118</td>\n",
       "    </tr>\n",
       "    <tr>\n",
       "      <td>2003</td>\n",
       "      <td>775</td>\n",
       "      <td>80</td>\n",
       "    </tr>\n",
       "    <tr>\n",
       "      <td>2004</td>\n",
       "      <td>762</td>\n",
       "      <td>137</td>\n",
       "    </tr>\n",
       "    <tr>\n",
       "      <td>2012</td>\n",
       "      <td>653</td>\n",
       "      <td>115</td>\n",
       "    </tr>\n",
       "    <tr>\n",
       "      <td>2015</td>\n",
       "      <td>606</td>\n",
       "      <td>89</td>\n",
       "    </tr>\n",
       "    <tr>\n",
       "      <td>2014</td>\n",
       "      <td>581</td>\n",
       "      <td>116</td>\n",
       "    </tr>\n",
       "    <tr>\n",
       "      <td>2013</td>\n",
       "      <td>544</td>\n",
       "      <td>139</td>\n",
       "    </tr>\n",
       "    <tr>\n",
       "      <td>2016</td>\n",
       "      <td>502</td>\n",
       "      <td>33</td>\n",
       "    </tr>\n",
       "    <tr>\n",
       "      <td>2001</td>\n",
       "      <td>482</td>\n",
       "      <td>124</td>\n",
       "    </tr>\n",
       "    <tr>\n",
       "      <td>1998</td>\n",
       "      <td>379</td>\n",
       "      <td>98</td>\n",
       "    </tr>\n",
       "    <tr>\n",
       "      <td>2000</td>\n",
       "      <td>350</td>\n",
       "      <td>58</td>\n",
       "    </tr>\n",
       "    <tr>\n",
       "      <td>1999</td>\n",
       "      <td>338</td>\n",
       "      <td>101</td>\n",
       "    </tr>\n",
       "    <tr>\n",
       "      <td>1997</td>\n",
       "      <td>289</td>\n",
       "      <td>79</td>\n",
       "    </tr>\n",
       "    <tr>\n",
       "      <td>1996</td>\n",
       "      <td>263</td>\n",
       "      <td>96</td>\n",
       "    </tr>\n",
       "    <tr>\n",
       "      <td>1995</td>\n",
       "      <td>219</td>\n",
       "      <td>28</td>\n",
       "    </tr>\n",
       "    <tr>\n",
       "      <td>1994</td>\n",
       "      <td>121</td>\n",
       "      <td>30</td>\n",
       "    </tr>\n",
       "    <tr>\n",
       "      <td>1993</td>\n",
       "      <td>60</td>\n",
       "      <td>19</td>\n",
       "    </tr>\n",
       "    <tr>\n",
       "      <td>1981</td>\n",
       "      <td>46</td>\n",
       "      <td>14</td>\n",
       "    </tr>\n",
       "    <tr>\n",
       "      <td>1992</td>\n",
       "      <td>43</td>\n",
       "      <td>44</td>\n",
       "    </tr>\n",
       "    <tr>\n",
       "      <td>1991</td>\n",
       "      <td>41</td>\n",
       "      <td>9</td>\n",
       "    </tr>\n",
       "    <tr>\n",
       "      <td>1982</td>\n",
       "      <td>36</td>\n",
       "      <td>13</td>\n",
       "    </tr>\n",
       "    <tr>\n",
       "      <td>1986</td>\n",
       "      <td>21</td>\n",
       "      <td>20</td>\n",
       "    </tr>\n",
       "    <tr>\n",
       "      <td>1989</td>\n",
       "      <td>17</td>\n",
       "      <td>55</td>\n",
       "    </tr>\n",
       "    <tr>\n",
       "      <td>1983</td>\n",
       "      <td>17</td>\n",
       "      <td>6</td>\n",
       "    </tr>\n",
       "    <tr>\n",
       "      <td>1990</td>\n",
       "      <td>16</td>\n",
       "      <td>29</td>\n",
       "    </tr>\n",
       "    <tr>\n",
       "      <td>1987</td>\n",
       "      <td>16</td>\n",
       "      <td>11</td>\n",
       "    </tr>\n",
       "    <tr>\n",
       "      <td>1988</td>\n",
       "      <td>15</td>\n",
       "      <td>31</td>\n",
       "    </tr>\n",
       "    <tr>\n",
       "      <td>1985</td>\n",
       "      <td>14</td>\n",
       "      <td>42</td>\n",
       "    </tr>\n",
       "    <tr>\n",
       "      <td>1984</td>\n",
       "      <td>14</td>\n",
       "      <td>37</td>\n",
       "    </tr>\n",
       "    <tr>\n",
       "      <td>1980</td>\n",
       "      <td>9</td>\n",
       "      <td>7</td>\n",
       "    </tr>\n",
       "  </tbody>\n",
       "</table>\n",
       "</div>"
      ],
      "text/plain": [
       "                 name  sales\n",
       "year_of_release             \n",
       "2008             1427    181\n",
       "2009             1426    217\n",
       "2010             1255    190\n",
       "2007             1197    200\n",
       "2011             1136    161\n",
       "2006             1006    236\n",
       "2005              939    157\n",
       "2002              829    118\n",
       "2003              775     80\n",
       "2004              762    137\n",
       "2012              653    115\n",
       "2015              606     89\n",
       "2014              581    116\n",
       "2013              544    139\n",
       "2016              502     33\n",
       "2001              482    124\n",
       "1998              379     98\n",
       "2000              350     58\n",
       "1999              338    101\n",
       "1997              289     79\n",
       "1996              263     96\n",
       "1995              219     28\n",
       "1994              121     30\n",
       "1993               60     19\n",
       "1981               46     14\n",
       "1992               43     44\n",
       "1991               41      9\n",
       "1982               36     13\n",
       "1986               21     20\n",
       "1989               17     55\n",
       "1983               17      6\n",
       "1990               16     29\n",
       "1987               16     11\n",
       "1988               15     31\n",
       "1985               14     42\n",
       "1984               14     37\n",
       "1980                9      7"
      ]
     },
     "execution_count": 47,
     "metadata": {},
     "output_type": "execute_result"
    }
   ],
   "source": [
    "#создадим сводную таблицу для подсчета количества игр по годам и суммарной выручки\n",
    "games.pivot_table(index = 'year_of_release', values = ['name', 'sales'],\n",
    "               aggfunc = {'name':'count', 'sales':'sum'}).sort_values(by = 'name', ascending = False)\n"
   ]
  },
  {
   "cell_type": "code",
   "execution_count": 48,
   "metadata": {},
   "outputs": [
    {
     "data": {
      "image/png": "[encoded data removed]",
      "text/plain": [
       "<Figure size 1728x720 with 1 Axes>"
      ]
     },
     "metadata": {
      "needs_background": "light"
     },
     "output_type": "display_data"
    }
   ],
   "source": [
    "#построим гистограмму \n",
    "games.hist('year_of_release', figsize=(24,10), bins = 'auto')\n",
    "plt.suptitle('Сколько игр выпускалось в разные годы')\n",
    "plt.xlabel('Год')\n",
    "plt.ylabel('Количество')\n",
    "plt.show()"
   ]
  },
  {
   "cell_type": "markdown",
   "metadata": {},
   "source": [
    "### Вывод"
   ]
  },
  {
   "cell_type": "markdown",
   "metadata": {},
   "source": [
    "Посмотрим, сколько игр выпускалось в разные годы. Больше всего игр было выпущено в 2008 г. - 1427, меньше всего в 1980 г. - 9. Построим график динамики выпуска игр. На графике отображается, что до 1990 г. игр выпускалось мало и примерно одинаковое количество, тем не менее исключать такие данные не будем. После 1990 г. наблюдается активный рост с небольшими проседаниями в 2003-2004 гг., далее пиковое значение наблюдается в 2008 г., потом выпуск игр идёт на спад, но с 2012-2013 гг. вновь наблюдается рост."
   ]
  },
  {
   "cell_type": "markdown",
   "metadata": {},
   "source": [
    "### Динамика продаж по платформам"
   ]
  },
  {
   "cell_type": "code",
   "execution_count": 49,
   "metadata": {},
   "outputs": [
    {
     "data": {
      "text/html": [
       "<div>\n",
       "<style scoped>\n",
       "    .dataframe tbody tr th:only-of-type {\n",
       "        vertical-align: middle;\n",
       "    }\n",
       "\n",
       "    .dataframe tbody tr th {\n",
       "        vertical-align: top;\n",
       "    }\n",
       "\n",
       "    .dataframe thead th {\n",
       "        text-align: right;\n",
       "    }\n",
       "</style>\n",
       "<table border=\"1\" class=\"dataframe\">\n",
       "  <thead>\n",
       "    <tr style=\"text-align: right;\">\n",
       "      <th></th>\n",
       "      <th>sales</th>\n",
       "    </tr>\n",
       "    <tr>\n",
       "      <th>platform</th>\n",
       "      <th></th>\n",
       "    </tr>\n",
       "  </thead>\n",
       "  <tbody>\n",
       "    <tr>\n",
       "      <td>Wii</td>\n",
       "      <td>412</td>\n",
       "    </tr>\n",
       "    <tr>\n",
       "      <td>PS2</td>\n",
       "      <td>392</td>\n",
       "    </tr>\n",
       "    <tr>\n",
       "      <td>X360</td>\n",
       "      <td>378</td>\n",
       "    </tr>\n",
       "    <tr>\n",
       "      <td>DS</td>\n",
       "      <td>282</td>\n",
       "    </tr>\n",
       "    <tr>\n",
       "      <td>PS3</td>\n",
       "      <td>282</td>\n",
       "    </tr>\n",
       "    <tr>\n",
       "      <td>PS</td>\n",
       "      <td>239</td>\n",
       "    </tr>\n",
       "    <tr>\n",
       "      <td>GB</td>\n",
       "      <td>169</td>\n",
       "    </tr>\n",
       "    <tr>\n",
       "      <td>NES</td>\n",
       "      <td>159</td>\n",
       "    </tr>\n",
       "    <tr>\n",
       "      <td>PS4</td>\n",
       "      <td>127</td>\n",
       "    </tr>\n",
       "    <tr>\n",
       "      <td>3DS</td>\n",
       "      <td>106</td>\n",
       "    </tr>\n",
       "    <tr>\n",
       "      <td>SNES</td>\n",
       "      <td>95</td>\n",
       "    </tr>\n",
       "    <tr>\n",
       "      <td>PC</td>\n",
       "      <td>90</td>\n",
       "    </tr>\n",
       "    <tr>\n",
       "      <td>N64</td>\n",
       "      <td>81</td>\n",
       "    </tr>\n",
       "    <tr>\n",
       "      <td>GBA</td>\n",
       "      <td>70</td>\n",
       "    </tr>\n",
       "    <tr>\n",
       "      <td>XOne</td>\n",
       "      <td>53</td>\n",
       "    </tr>\n",
       "    <tr>\n",
       "      <td>PSP</td>\n",
       "      <td>36</td>\n",
       "    </tr>\n",
       "    <tr>\n",
       "      <td>XB</td>\n",
       "      <td>35</td>\n",
       "    </tr>\n",
       "    <tr>\n",
       "      <td>2600</td>\n",
       "      <td>35</td>\n",
       "    </tr>\n",
       "    <tr>\n",
       "      <td>GC</td>\n",
       "      <td>34</td>\n",
       "    </tr>\n",
       "    <tr>\n",
       "      <td>WiiU</td>\n",
       "      <td>24</td>\n",
       "    </tr>\n",
       "    <tr>\n",
       "      <td>GEN</td>\n",
       "      <td>15</td>\n",
       "    </tr>\n",
       "    <tr>\n",
       "      <td>DC</td>\n",
       "      <td>4</td>\n",
       "    </tr>\n",
       "    <tr>\n",
       "      <td>SAT</td>\n",
       "      <td>1</td>\n",
       "    </tr>\n",
       "    <tr>\n",
       "      <td>SCD</td>\n",
       "      <td>1</td>\n",
       "    </tr>\n",
       "    <tr>\n",
       "      <td>3DO</td>\n",
       "      <td>0</td>\n",
       "    </tr>\n",
       "    <tr>\n",
       "      <td>PCFX</td>\n",
       "      <td>0</td>\n",
       "    </tr>\n",
       "    <tr>\n",
       "      <td>NG</td>\n",
       "      <td>0</td>\n",
       "    </tr>\n",
       "    <tr>\n",
       "      <td>GG</td>\n",
       "      <td>0</td>\n",
       "    </tr>\n",
       "    <tr>\n",
       "      <td>PSV</td>\n",
       "      <td>0</td>\n",
       "    </tr>\n",
       "    <tr>\n",
       "      <td>TG16</td>\n",
       "      <td>0</td>\n",
       "    </tr>\n",
       "    <tr>\n",
       "      <td>WS</td>\n",
       "      <td>0</td>\n",
       "    </tr>\n",
       "  </tbody>\n",
       "</table>\n",
       "</div>"
      ],
      "text/plain": [
       "          sales\n",
       "platform       \n",
       "Wii         412\n",
       "PS2         392\n",
       "X360        378\n",
       "DS          282\n",
       "PS3         282\n",
       "PS          239\n",
       "GB          169\n",
       "NES         159\n",
       "PS4         127\n",
       "3DS         106\n",
       "SNES         95\n",
       "PC           90\n",
       "N64          81\n",
       "GBA          70\n",
       "XOne         53\n",
       "PSP          36\n",
       "XB           35\n",
       "2600         35\n",
       "GC           34\n",
       "WiiU         24\n",
       "GEN          15\n",
       "DC            4\n",
       "SAT           1\n",
       "SCD           1\n",
       "3DO           0\n",
       "PCFX          0\n",
       "NG            0\n",
       "GG            0\n",
       "PSV           0\n",
       "TG16          0\n",
       "WS            0"
      ]
     },
     "execution_count": 49,
     "metadata": {},
     "output_type": "execute_result"
    }
   ],
   "source": [
    "#сформируем сводную таблицу с информацией по объёму продаж для каждой платформы\n",
    "games.pivot_table(index ='platform', values = 'sales', aggfunc = 'sum').sort_values(by = 'sales', ascending = False)"
   ]
  },
  {
   "cell_type": "code",
   "execution_count": 50,
   "metadata": {},
   "outputs": [
    {
     "data": {
      "image/png": "[encoded data removed]",
      "text/plain": [
       "<Figure size 1728x720 with 1 Axes>"
      ]
     },
     "metadata": {
      "needs_background": "light"
     },
     "output_type": "display_data"
    }
   ],
   "source": [
    "#построим график суммарных продаж для всех платформ\n",
    "games.pivot_table(index ='platform', values = 'sales', aggfunc = 'sum').sort_values(by = 'sales', ascending = False).plot(kind = 'bar', grid = True, figsize = (24,10),title='Суммарные продажи по платформам')\n",
    "plt.xlabel('Наименование платформы')\n",
    "plt.ylabel('Миллионы проданных копий')\n",
    "plt.show()"
   ]
  },
  {
   "cell_type": "code",
   "execution_count": 51,
   "metadata": {},
   "outputs": [
    {
     "data": {
      "text/html": [
       "<div>\n",
       "<style scoped>\n",
       "    .dataframe tbody tr th:only-of-type {\n",
       "        vertical-align: middle;\n",
       "    }\n",
       "\n",
       "    .dataframe tbody tr th {\n",
       "        vertical-align: top;\n",
       "    }\n",
       "\n",
       "    .dataframe thead th {\n",
       "        text-align: right;\n",
       "    }\n",
       "</style>\n",
       "<table border=\"1\" class=\"dataframe\">\n",
       "  <thead>\n",
       "    <tr style=\"text-align: right;\">\n",
       "      <th></th>\n",
       "      <th>sales</th>\n",
       "    </tr>\n",
       "    <tr>\n",
       "      <th>year_of_release</th>\n",
       "      <th></th>\n",
       "    </tr>\n",
       "  </thead>\n",
       "  <tbody>\n",
       "    <tr>\n",
       "      <td>2016</td>\n",
       "      <td>33</td>\n",
       "    </tr>\n",
       "    <tr>\n",
       "      <td>2015</td>\n",
       "      <td>89</td>\n",
       "    </tr>\n",
       "    <tr>\n",
       "      <td>2014</td>\n",
       "      <td>116</td>\n",
       "    </tr>\n",
       "    <tr>\n",
       "      <td>2013</td>\n",
       "      <td>139</td>\n",
       "    </tr>\n",
       "    <tr>\n",
       "      <td>2012</td>\n",
       "      <td>115</td>\n",
       "    </tr>\n",
       "    <tr>\n",
       "      <td>2011</td>\n",
       "      <td>161</td>\n",
       "    </tr>\n",
       "    <tr>\n",
       "      <td>2010</td>\n",
       "      <td>190</td>\n",
       "    </tr>\n",
       "    <tr>\n",
       "      <td>2009</td>\n",
       "      <td>217</td>\n",
       "    </tr>\n",
       "    <tr>\n",
       "      <td>2008</td>\n",
       "      <td>181</td>\n",
       "    </tr>\n",
       "    <tr>\n",
       "      <td>2007</td>\n",
       "      <td>200</td>\n",
       "    </tr>\n",
       "    <tr>\n",
       "      <td>2006</td>\n",
       "      <td>236</td>\n",
       "    </tr>\n",
       "    <tr>\n",
       "      <td>2005</td>\n",
       "      <td>157</td>\n",
       "    </tr>\n",
       "    <tr>\n",
       "      <td>2004</td>\n",
       "      <td>137</td>\n",
       "    </tr>\n",
       "    <tr>\n",
       "      <td>2003</td>\n",
       "      <td>80</td>\n",
       "    </tr>\n",
       "    <tr>\n",
       "      <td>2002</td>\n",
       "      <td>118</td>\n",
       "    </tr>\n",
       "    <tr>\n",
       "      <td>2001</td>\n",
       "      <td>124</td>\n",
       "    </tr>\n",
       "    <tr>\n",
       "      <td>2000</td>\n",
       "      <td>58</td>\n",
       "    </tr>\n",
       "    <tr>\n",
       "      <td>1999</td>\n",
       "      <td>101</td>\n",
       "    </tr>\n",
       "    <tr>\n",
       "      <td>1998</td>\n",
       "      <td>98</td>\n",
       "    </tr>\n",
       "    <tr>\n",
       "      <td>1997</td>\n",
       "      <td>79</td>\n",
       "    </tr>\n",
       "    <tr>\n",
       "      <td>1996</td>\n",
       "      <td>96</td>\n",
       "    </tr>\n",
       "    <tr>\n",
       "      <td>1995</td>\n",
       "      <td>28</td>\n",
       "    </tr>\n",
       "    <tr>\n",
       "      <td>1994</td>\n",
       "      <td>30</td>\n",
       "    </tr>\n",
       "    <tr>\n",
       "      <td>1993</td>\n",
       "      <td>19</td>\n",
       "    </tr>\n",
       "    <tr>\n",
       "      <td>1992</td>\n",
       "      <td>44</td>\n",
       "    </tr>\n",
       "    <tr>\n",
       "      <td>1991</td>\n",
       "      <td>9</td>\n",
       "    </tr>\n",
       "    <tr>\n",
       "      <td>1990</td>\n",
       "      <td>29</td>\n",
       "    </tr>\n",
       "    <tr>\n",
       "      <td>1989</td>\n",
       "      <td>55</td>\n",
       "    </tr>\n",
       "    <tr>\n",
       "      <td>1988</td>\n",
       "      <td>31</td>\n",
       "    </tr>\n",
       "    <tr>\n",
       "      <td>1987</td>\n",
       "      <td>11</td>\n",
       "    </tr>\n",
       "    <tr>\n",
       "      <td>1986</td>\n",
       "      <td>20</td>\n",
       "    </tr>\n",
       "    <tr>\n",
       "      <td>1985</td>\n",
       "      <td>42</td>\n",
       "    </tr>\n",
       "    <tr>\n",
       "      <td>1984</td>\n",
       "      <td>37</td>\n",
       "    </tr>\n",
       "    <tr>\n",
       "      <td>1983</td>\n",
       "      <td>6</td>\n",
       "    </tr>\n",
       "    <tr>\n",
       "      <td>1982</td>\n",
       "      <td>13</td>\n",
       "    </tr>\n",
       "    <tr>\n",
       "      <td>1981</td>\n",
       "      <td>14</td>\n",
       "    </tr>\n",
       "    <tr>\n",
       "      <td>1980</td>\n",
       "      <td>7</td>\n",
       "    </tr>\n",
       "  </tbody>\n",
       "</table>\n",
       "</div>"
      ],
      "text/plain": [
       "                 sales\n",
       "year_of_release       \n",
       "2016                33\n",
       "2015                89\n",
       "2014               116\n",
       "2013               139\n",
       "2012               115\n",
       "2011               161\n",
       "2010               190\n",
       "2009               217\n",
       "2008               181\n",
       "2007               200\n",
       "2006               236\n",
       "2005               157\n",
       "2004               137\n",
       "2003                80\n",
       "2002               118\n",
       "2001               124\n",
       "2000                58\n",
       "1999               101\n",
       "1998                98\n",
       "1997                79\n",
       "1996                96\n",
       "1995                28\n",
       "1994                30\n",
       "1993                19\n",
       "1992                44\n",
       "1991                 9\n",
       "1990                29\n",
       "1989                55\n",
       "1988                31\n",
       "1987                11\n",
       "1986                20\n",
       "1985                42\n",
       "1984                37\n",
       "1983                 6\n",
       "1982                13\n",
       "1981                14\n",
       "1980                 7"
      ]
     },
     "execution_count": 51,
     "metadata": {},
     "output_type": "execute_result"
    }
   ],
   "source": [
    "#сформируем сводную таблицу и посмотрим, как изменялись суммарные продажи\n",
    "games.pivot_table(index = 'year_of_release', values = 'sales', \n",
    "                             aggfunc = 'sum').sort_values(by = 'year_of_release', ascending = False)\n"
   ]
  },
  {
   "cell_type": "code",
   "execution_count": 52,
   "metadata": {},
   "outputs": [
    {
     "data": {
      "text/html": [
       "<div>\n",
       "<style scoped>\n",
       "    .dataframe tbody tr th:only-of-type {\n",
       "        vertical-align: middle;\n",
       "    }\n",
       "\n",
       "    .dataframe tbody tr th {\n",
       "        vertical-align: top;\n",
       "    }\n",
       "\n",
       "    .dataframe thead th {\n",
       "        text-align: right;\n",
       "    }\n",
       "</style>\n",
       "<table border=\"1\" class=\"dataframe\">\n",
       "  <thead>\n",
       "    <tr style=\"text-align: right;\">\n",
       "      <th></th>\n",
       "      <th></th>\n",
       "      <th>sales</th>\n",
       "    </tr>\n",
       "    <tr>\n",
       "      <th>year_of_release</th>\n",
       "      <th>platform</th>\n",
       "      <th></th>\n",
       "    </tr>\n",
       "  </thead>\n",
       "  <tbody>\n",
       "    <tr>\n",
       "      <td rowspan=\"9\" valign=\"top\">2016</td>\n",
       "      <td>XOne</td>\n",
       "      <td>6</td>\n",
       "    </tr>\n",
       "    <tr>\n",
       "      <td>X360</td>\n",
       "      <td>0</td>\n",
       "    </tr>\n",
       "    <tr>\n",
       "      <td>WiiU</td>\n",
       "      <td>0</td>\n",
       "    </tr>\n",
       "    <tr>\n",
       "      <td>Wii</td>\n",
       "      <td>0</td>\n",
       "    </tr>\n",
       "    <tr>\n",
       "      <td>PSV</td>\n",
       "      <td>0</td>\n",
       "    </tr>\n",
       "    <tr>\n",
       "      <td>PS4</td>\n",
       "      <td>21</td>\n",
       "    </tr>\n",
       "    <tr>\n",
       "      <td>PS3</td>\n",
       "      <td>0</td>\n",
       "    </tr>\n",
       "    <tr>\n",
       "      <td>PC</td>\n",
       "      <td>0</td>\n",
       "    </tr>\n",
       "    <tr>\n",
       "      <td>3DS</td>\n",
       "      <td>6</td>\n",
       "    </tr>\n",
       "    <tr>\n",
       "      <td rowspan=\"10\" valign=\"top\">2015</td>\n",
       "      <td>PSV</td>\n",
       "      <td>0</td>\n",
       "    </tr>\n",
       "    <tr>\n",
       "      <td>3DS</td>\n",
       "      <td>7</td>\n",
       "    </tr>\n",
       "    <tr>\n",
       "      <td>PC</td>\n",
       "      <td>0</td>\n",
       "    </tr>\n",
       "    <tr>\n",
       "      <td>PS4</td>\n",
       "      <td>53</td>\n",
       "    </tr>\n",
       "    <tr>\n",
       "      <td>PSP</td>\n",
       "      <td>0</td>\n",
       "    </tr>\n",
       "    <tr>\n",
       "      <td>PS3</td>\n",
       "      <td>1</td>\n",
       "    </tr>\n",
       "    <tr>\n",
       "      <td>Wii</td>\n",
       "      <td>0</td>\n",
       "    </tr>\n",
       "    <tr>\n",
       "      <td>X360</td>\n",
       "      <td>1</td>\n",
       "    </tr>\n",
       "    <tr>\n",
       "      <td>XOne</td>\n",
       "      <td>23</td>\n",
       "    </tr>\n",
       "    <tr>\n",
       "      <td>WiiU</td>\n",
       "      <td>4</td>\n",
       "    </tr>\n",
       "    <tr>\n",
       "      <td rowspan=\"10\" valign=\"top\">2014</td>\n",
       "      <td>PSV</td>\n",
       "      <td>0</td>\n",
       "    </tr>\n",
       "    <tr>\n",
       "      <td>3DS</td>\n",
       "      <td>23</td>\n",
       "    </tr>\n",
       "    <tr>\n",
       "      <td>PC</td>\n",
       "      <td>3</td>\n",
       "    </tr>\n",
       "    <tr>\n",
       "      <td>PS3</td>\n",
       "      <td>10</td>\n",
       "    </tr>\n",
       "    <tr>\n",
       "      <td>PS4</td>\n",
       "      <td>45</td>\n",
       "    </tr>\n",
       "    <tr>\n",
       "      <td>PSP</td>\n",
       "      <td>0</td>\n",
       "    </tr>\n",
       "    <tr>\n",
       "      <td>Wii</td>\n",
       "      <td>0</td>\n",
       "    </tr>\n",
       "    <tr>\n",
       "      <td>WiiU</td>\n",
       "      <td>9</td>\n",
       "    </tr>\n",
       "    <tr>\n",
       "      <td>X360</td>\n",
       "      <td>7</td>\n",
       "    </tr>\n",
       "    <tr>\n",
       "      <td>XOne</td>\n",
       "      <td>19</td>\n",
       "    </tr>\n",
       "    <tr>\n",
       "      <td rowspan=\"11\" valign=\"top\">2013</td>\n",
       "      <td>PSP</td>\n",
       "      <td>0</td>\n",
       "    </tr>\n",
       "    <tr>\n",
       "      <td>3DS</td>\n",
       "      <td>27</td>\n",
       "    </tr>\n",
       "    <tr>\n",
       "      <td>DS</td>\n",
       "      <td>0</td>\n",
       "    </tr>\n",
       "    <tr>\n",
       "      <td>PC</td>\n",
       "      <td>0</td>\n",
       "    </tr>\n",
       "    <tr>\n",
       "      <td>PS3</td>\n",
       "      <td>46</td>\n",
       "    </tr>\n",
       "    <tr>\n",
       "      <td>PS4</td>\n",
       "      <td>8</td>\n",
       "    </tr>\n",
       "    <tr>\n",
       "      <td>X360</td>\n",
       "      <td>45</td>\n",
       "    </tr>\n",
       "    <tr>\n",
       "      <td>PSV</td>\n",
       "      <td>0</td>\n",
       "    </tr>\n",
       "    <tr>\n",
       "      <td>WiiU</td>\n",
       "      <td>4</td>\n",
       "    </tr>\n",
       "    <tr>\n",
       "      <td>Wii</td>\n",
       "      <td>4</td>\n",
       "    </tr>\n",
       "    <tr>\n",
       "      <td>XOne</td>\n",
       "      <td>5</td>\n",
       "    </tr>\n",
       "    <tr>\n",
       "      <td rowspan=\"9\" valign=\"top\">2012</td>\n",
       "      <td>PSP</td>\n",
       "      <td>0</td>\n",
       "    </tr>\n",
       "    <tr>\n",
       "      <td>DS</td>\n",
       "      <td>6</td>\n",
       "    </tr>\n",
       "    <tr>\n",
       "      <td>PC</td>\n",
       "      <td>5</td>\n",
       "    </tr>\n",
       "    <tr>\n",
       "      <td>PS3</td>\n",
       "      <td>30</td>\n",
       "    </tr>\n",
       "    <tr>\n",
       "      <td>3DS</td>\n",
       "      <td>17</td>\n",
       "    </tr>\n",
       "    <tr>\n",
       "      <td>PSV</td>\n",
       "      <td>0</td>\n",
       "    </tr>\n",
       "    <tr>\n",
       "      <td>WiiU</td>\n",
       "      <td>7</td>\n",
       "    </tr>\n",
       "    <tr>\n",
       "      <td>X360</td>\n",
       "      <td>41</td>\n",
       "    </tr>\n",
       "    <tr>\n",
       "      <td>Wii</td>\n",
       "      <td>9</td>\n",
       "    </tr>\n",
       "    <tr>\n",
       "      <td>2011</td>\n",
       "      <td>PS3</td>\n",
       "      <td>49</td>\n",
       "    </tr>\n",
       "  </tbody>\n",
       "</table>\n",
       "</div>"
      ],
      "text/plain": [
       "                          sales\n",
       "year_of_release platform       \n",
       "2016            XOne          6\n",
       "                X360          0\n",
       "                WiiU          0\n",
       "                Wii           0\n",
       "                PSV           0\n",
       "                PS4          21\n",
       "                PS3           0\n",
       "                PC            0\n",
       "                3DS           6\n",
       "2015            PSV           0\n",
       "                3DS           7\n",
       "                PC            0\n",
       "                PS4          53\n",
       "                PSP           0\n",
       "                PS3           1\n",
       "                Wii           0\n",
       "                X360          1\n",
       "                XOne         23\n",
       "                WiiU          4\n",
       "2014            PSV           0\n",
       "                3DS          23\n",
       "                PC            3\n",
       "                PS3          10\n",
       "                PS4          45\n",
       "                PSP           0\n",
       "                Wii           0\n",
       "                WiiU          9\n",
       "                X360          7\n",
       "                XOne         19\n",
       "2013            PSP           0\n",
       "                3DS          27\n",
       "                DS            0\n",
       "                PC            0\n",
       "                PS3          46\n",
       "                PS4           8\n",
       "                X360         45\n",
       "                PSV           0\n",
       "                WiiU          4\n",
       "                Wii           4\n",
       "                XOne          5\n",
       "2012            PSP           0\n",
       "                DS            6\n",
       "                PC            5\n",
       "                PS3          30\n",
       "                3DS          17\n",
       "                PSV           0\n",
       "                WiiU          7\n",
       "                X360         41\n",
       "                Wii           9\n",
       "2011            PS3          49"
      ]
     },
     "execution_count": 52,
     "metadata": {},
     "output_type": "execute_result"
    }
   ],
   "source": [
    "#сформируем сводную таблицу и посмотрим как менялись продажи для каждой платформы\n",
    "games.pivot_table(index = ['year_of_release', 'platform'], values = 'sales',\n",
    "                  aggfunc = 'sum').sort_values(by = 'year_of_release', ascending = False).head(50)"
   ]
  },
  {
   "cell_type": "code",
   "execution_count": 53,
   "metadata": {},
   "outputs": [
    {
     "data": {
      "text/html": [
       "<div>\n",
       "<style scoped>\n",
       "    .dataframe tbody tr th:only-of-type {\n",
       "        vertical-align: middle;\n",
       "    }\n",
       "\n",
       "    .dataframe tbody tr th {\n",
       "        vertical-align: top;\n",
       "    }\n",
       "\n",
       "    .dataframe thead th {\n",
       "        text-align: right;\n",
       "    }\n",
       "</style>\n",
       "<table border=\"1\" class=\"dataframe\">\n",
       "  <thead>\n",
       "    <tr style=\"text-align: right;\">\n",
       "      <th></th>\n",
       "      <th>sales</th>\n",
       "    </tr>\n",
       "    <tr>\n",
       "      <th>platform</th>\n",
       "      <th></th>\n",
       "    </tr>\n",
       "  </thead>\n",
       "  <tbody>\n",
       "    <tr>\n",
       "      <td>X360</td>\n",
       "      <td>378</td>\n",
       "    </tr>\n",
       "    <tr>\n",
       "      <td>PS3</td>\n",
       "      <td>282</td>\n",
       "    </tr>\n",
       "    <tr>\n",
       "      <td>PS4</td>\n",
       "      <td>127</td>\n",
       "    </tr>\n",
       "    <tr>\n",
       "      <td>3DS</td>\n",
       "      <td>106</td>\n",
       "    </tr>\n",
       "    <tr>\n",
       "      <td>XOne</td>\n",
       "      <td>53</td>\n",
       "    </tr>\n",
       "  </tbody>\n",
       "</table>\n",
       "</div>"
      ],
      "text/plain": [
       "          sales\n",
       "platform       \n",
       "X360        378\n",
       "PS3         282\n",
       "PS4         127\n",
       "3DS         106\n",
       "XOne         53"
      ]
     },
     "execution_count": 53,
     "metadata": {},
     "output_type": "execute_result"
    }
   ],
   "source": [
    "#выберем платформы с наибольшими суммарными продажами\n",
    "games.query('platform in (\"XOne\", \"PS4\", \"3DS\", \"PS3\", \"X360\")').pivot_table(index ='platform', values = 'sales', aggfunc = 'sum').sort_values(by = 'sales', ascending = False)"
   ]
  },
  {
   "cell_type": "code",
   "execution_count": 54,
   "metadata": {},
   "outputs": [
    {
     "data": {
      "image/png": "[encoded data removed]",
      "text/plain": [
       "<Figure size 1728x720 with 1 Axes>"
      ]
     },
     "metadata": {
      "needs_background": "light"
     },
     "output_type": "display_data"
    }
   ],
   "source": [
    "#построим график\n",
    "games.query('platform in (\"XOne\", \"PS4\", \"3DS\", \"PS3\", \"X360\")').pivot_table(index ='year_of_release',\n",
    "                                                columns = 'platform', values = 'sales', aggfunc = 'sum').plot(kind = 'bar', grid = True, figsize = (24,10),title='Динамика продаж по платформам')\n",
    "plt.xlabel('Год')\n",
    "plt.ylabel('Миллионы проданных копий')\n",
    "plt.show()"
   ]
  },
  {
   "cell_type": "markdown",
   "metadata": {},
   "source": [
    "### Вывод"
   ]
  },
  {
   "cell_type": "markdown",
   "metadata": {},
   "source": [
    "Посмотрим, как менялись продажи по платформам.\n",
    "\n",
    "Сформируем сводные таблицы и посмотрим распределение продаж. Платформы с наибольшими суммарными продажами за весь период -   Wii (412), PS2 (392), X360 (378), DS (282), PS3 (282). Однако, если посмотрим на продажи в последние годы, то там по продажам лидируют другие платформы  - XOne, PS4, 3DS, PS3, X360. Поэтому для прогноза будем рассматривать именно эти платформы. \n",
    "Для таких платформ построим график распределения по годам. В соответствии с графиком больше всего продаж приходится на платформу X360 в 2010 г., меньше всего на платформы PS3, X360 в 2015 г.\n",
    "\n",
    "Период с 2012 г. по 2016 г. будем рассматривать как актуальный, на основе него будем проводить дальнейшие исследования и строить прогноз на 2017 г."
   ]
  },
  {
   "cell_type": "markdown",
   "metadata": {},
   "source": [
    "### Динамика продаж по платформам за актуальный период"
   ]
  },
  {
   "cell_type": "code",
   "execution_count": 55,
   "metadata": {},
   "outputs": [],
   "source": [
    "#отберём данные за актуальный период\n",
    "games_actual = games.query('year_of_release >= 2012 and sales > 0')"
   ]
  },
  {
   "cell_type": "code",
   "execution_count": 56,
   "metadata": {},
   "outputs": [
    {
     "data": {
      "text/html": [
       "<div>\n",
       "<style scoped>\n",
       "    .dataframe tbody tr th:only-of-type {\n",
       "        vertical-align: middle;\n",
       "    }\n",
       "\n",
       "    .dataframe tbody tr th {\n",
       "        vertical-align: top;\n",
       "    }\n",
       "\n",
       "    .dataframe thead th {\n",
       "        text-align: right;\n",
       "    }\n",
       "</style>\n",
       "<table border=\"1\" class=\"dataframe\">\n",
       "  <thead>\n",
       "    <tr style=\"text-align: right;\">\n",
       "      <th></th>\n",
       "      <th>sales</th>\n",
       "    </tr>\n",
       "    <tr>\n",
       "      <th>platform</th>\n",
       "      <th></th>\n",
       "    </tr>\n",
       "  </thead>\n",
       "  <tbody>\n",
       "    <tr>\n",
       "      <td>PS4</td>\n",
       "      <td>127</td>\n",
       "    </tr>\n",
       "    <tr>\n",
       "      <td>X360</td>\n",
       "      <td>94</td>\n",
       "    </tr>\n",
       "    <tr>\n",
       "      <td>PS3</td>\n",
       "      <td>87</td>\n",
       "    </tr>\n",
       "    <tr>\n",
       "      <td>3DS</td>\n",
       "      <td>80</td>\n",
       "    </tr>\n",
       "    <tr>\n",
       "      <td>XOne</td>\n",
       "      <td>53</td>\n",
       "    </tr>\n",
       "    <tr>\n",
       "      <td>WiiU</td>\n",
       "      <td>24</td>\n",
       "    </tr>\n",
       "    <tr>\n",
       "      <td>Wii</td>\n",
       "      <td>13</td>\n",
       "    </tr>\n",
       "    <tr>\n",
       "      <td>PC</td>\n",
       "      <td>8</td>\n",
       "    </tr>\n",
       "    <tr>\n",
       "      <td>DS</td>\n",
       "      <td>6</td>\n",
       "    </tr>\n",
       "  </tbody>\n",
       "</table>\n",
       "</div>"
      ],
      "text/plain": [
       "          sales\n",
       "platform       \n",
       "PS4         127\n",
       "X360         94\n",
       "PS3          87\n",
       "3DS          80\n",
       "XOne         53\n",
       "WiiU         24\n",
       "Wii          13\n",
       "PC            8\n",
       "DS            6"
      ]
     },
     "execution_count": 56,
     "metadata": {},
     "output_type": "execute_result"
    }
   ],
   "source": [
    "#сформируем сводную таблицу и отсортируем по убыванию\n",
    "games_actual.pivot_table(index ='platform', values = 'sales', aggfunc = 'sum').sort_values(by = 'sales', ascending = False)"
   ]
  },
  {
   "cell_type": "code",
   "execution_count": 57,
   "metadata": {},
   "outputs": [
    {
     "data": {
      "image/png": "[encoded data removed]",
      "text/plain": [
       "<Figure size 1728x720 with 1 Axes>"
      ]
     },
     "metadata": {
      "needs_background": "light"
     },
     "output_type": "display_data"
    }
   ],
   "source": [
    "#построим график динамики продаж по платформам\n",
    "games_actual.pivot_table(index ='year_of_release',\n",
    "                                                columns = 'platform', values = 'sales', aggfunc = 'sum').plot(grid = True, figsize = (24,10),title='Динамика продаж по платформам')\n",
    "plt.xlabel('Год')\n",
    "plt.ylabel('Миллионы проданных копий')\n",
    "plt.show()"
   ]
  },
  {
   "cell_type": "code",
   "execution_count": 58,
   "metadata": {},
   "outputs": [
    {
     "data": {
      "image/png": "[encoded data removed]",
      "text/plain": [
       "<Figure size 1728x720 with 1 Axes>"
      ]
     },
     "metadata": {
      "needs_background": "light"
     },
     "output_type": "display_data"
    }
   ],
   "source": [
    "#построим график суммарных продаж для всех платформ\n",
    "games_actual.pivot_table(index ='platform', values = 'sales', aggfunc = 'sum').plot(kind = 'bar', grid = True, figsize = (24,10),title='Суммарные продажи по платформам')\n",
    "plt.xlabel('Наименование платформы')\n",
    "plt.ylabel('Миллионы проданных копий')\n",
    "plt.show()"
   ]
  },
  {
   "cell_type": "code",
   "execution_count": 59,
   "metadata": {},
   "outputs": [
    {
     "data": {
      "image/png": "[encoded data removed]",
      "text/plain": [
       "<Figure size 1728x720 with 1 Axes>"
      ]
     },
     "metadata": {
      "needs_background": "light"
     },
     "output_type": "display_data"
    }
   ],
   "source": [
    "#построим график\n",
    "games_actual.pivot_table(index ='year_of_release',\n",
    "                                                columns = 'platform', values = 'sales', aggfunc = 'sum').plot(kind = 'bar', grid = True, figsize = (24,10), title='Динамика продаж по платформам')\n",
    "plt.xlabel('Год')\n",
    "plt.ylabel('Миллионы проданных копий')\n",
    "plt.show()"
   ]
  },
  {
   "cell_type": "code",
   "execution_count": 60,
   "metadata": {},
   "outputs": [
    {
     "data": {
      "image/png": "[encoded data removed]",
      "text/plain": [
       "<Figure size 1728x720 with 1 Axes>"
      ]
     },
     "metadata": {
      "needs_background": "light"
     },
     "output_type": "display_data"
    }
   ],
   "source": [
    "#построим диаграмму размаха или «ящик с усами» по глобальным продажам игр в разбивке по платформам\n",
    "games_actual_5 = games_actual.query('platform in (\"PS4\", \"X360\", \"PS3\", \"3DS\", \"XOne\")')\n",
    "games_actual_5.boxplot(column = 'sales', by = 'platform', figsize=(24,10))\n",
    "plt.suptitle('Диаграмма размаха')\n",
    "plt.xlabel('Платформа')\n",
    "plt.ylabel('Миллионы проданных копий')\n",
    "plt.show()"
   ]
  },
  {
   "cell_type": "code",
   "execution_count": 61,
   "metadata": {},
   "outputs": [
    {
     "data": {
      "text/html": [
       "<div>\n",
       "<style scoped>\n",
       "    .dataframe tbody tr th:only-of-type {\n",
       "        vertical-align: middle;\n",
       "    }\n",
       "\n",
       "    .dataframe tbody tr th {\n",
       "        vertical-align: top;\n",
       "    }\n",
       "\n",
       "    .dataframe thead th {\n",
       "        text-align: right;\n",
       "    }\n",
       "</style>\n",
       "<table border=\"1\" class=\"dataframe\">\n",
       "  <thead>\n",
       "    <tr style=\"text-align: right;\">\n",
       "      <th></th>\n",
       "      <th>min</th>\n",
       "      <th>max</th>\n",
       "      <th>median</th>\n",
       "      <th>mean</th>\n",
       "    </tr>\n",
       "    <tr>\n",
       "      <th>platform</th>\n",
       "      <th></th>\n",
       "      <th></th>\n",
       "      <th></th>\n",
       "      <th></th>\n",
       "    </tr>\n",
       "  </thead>\n",
       "  <tbody>\n",
       "    <tr>\n",
       "      <td>PS3</td>\n",
       "      <td>1</td>\n",
       "      <td>19</td>\n",
       "      <td>1.5</td>\n",
       "      <td>3.346154</td>\n",
       "    </tr>\n",
       "    <tr>\n",
       "      <td>X360</td>\n",
       "      <td>1</td>\n",
       "      <td>15</td>\n",
       "      <td>1.0</td>\n",
       "      <td>2.937500</td>\n",
       "    </tr>\n",
       "    <tr>\n",
       "      <td>3DS</td>\n",
       "      <td>1</td>\n",
       "      <td>13</td>\n",
       "      <td>2.0</td>\n",
       "      <td>3.636364</td>\n",
       "    </tr>\n",
       "    <tr>\n",
       "      <td>PS4</td>\n",
       "      <td>1</td>\n",
       "      <td>13</td>\n",
       "      <td>2.0</td>\n",
       "      <td>2.822222</td>\n",
       "    </tr>\n",
       "    <tr>\n",
       "      <td>XOne</td>\n",
       "      <td>1</td>\n",
       "      <td>6</td>\n",
       "      <td>1.0</td>\n",
       "      <td>1.827586</td>\n",
       "    </tr>\n",
       "  </tbody>\n",
       "</table>\n",
       "</div>"
      ],
      "text/plain": [
       "          min  max  median      mean\n",
       "platform                            \n",
       "PS3         1   19     1.5  3.346154\n",
       "X360        1   15     1.0  2.937500\n",
       "3DS         1   13     2.0  3.636364\n",
       "PS4         1   13     2.0  2.822222\n",
       "XOne        1    6     1.0  1.827586"
      ]
     },
     "execution_count": 61,
     "metadata": {},
     "output_type": "execute_result"
    }
   ],
   "source": [
    "#создадим сводную таблицу с общей информацией\n",
    "games_actual_5.groupby('platform')['sales'].agg(['min', 'max', 'median', 'mean']).sort_values(by = 'max', ascending = False)"
   ]
  },
  {
   "cell_type": "markdown",
   "metadata": {},
   "source": [
    "### Вывод"
   ]
  },
  {
   "cell_type": "markdown",
   "metadata": {},
   "source": [
    "Рассмотрим данные за актуальный период с 2012 г. по 2016 г. Построим график динамики продаж по таким платформам и график распределения объёма продаж для каждой из платформ.\n",
    "За этот период по продажам лидируют PS4 (127), X360 (94), PS3 (87), 3DS (80), XOne (53). \n",
    "До 2015 отображается активный рост продаж для платформ PS4, XOne, к 2016 году наблюдается тренд на спад по продажам для всех платформ.\n",
    "\n",
    "В списке лидеров за актуальный период присутствуют лидеры за весь период для всего набора данных PS3 и X360, по остальным платформам результаты отличаются.\n",
    "\n",
    "Построим диаграмму размаха или «ящик с усами» по глобальным продажам игр актуального периода в разбивке по платформам. Графики скошены вправо. В сводной таблице рассчитаем среднее, медианное, максимальное и минимальные значения. Т.к. среднее превышает медианное, то скошенность вправо подтверждается.\n",
    "\n",
    "В качестве потенциально прибыльных платформ предлагаются PS4, XOne, т.к. для них отображается более активный рост продаж."
   ]
  },
  {
   "cell_type": "markdown",
   "metadata": {},
   "source": [
    "### Влияние на продажи отзывов пользователей и критиков"
   ]
  },
  {
   "cell_type": "code",
   "execution_count": 62,
   "metadata": {},
   "outputs": [
    {
     "name": "stdout",
     "output_type": "stream",
     "text": [
      "Коэффициент корреляции между отзывами критиков и продажами для набора данных: 0.27\n",
      "Коэффициент корреляции между отзывами пользователей и продажами для набора данных: 0.03\n"
     ]
    }
   ],
   "source": [
    "#рассчитаем коэффициент корреляции между отзывами критиков и продажами для набора данных\n",
    "print('Коэффициент корреляции между отзывами критиков и продажами для набора данных: {:.2f}'.format(games_actual['critic_score'].corr(games_actual['sales'])))\n",
    "\n",
    "#рассчитаем коэффициент корреляции между отзывами пользователей и продажами для набора данных\n",
    "print('Коэффициент корреляции между отзывами пользователей и продажами для набора данных: {:.2f}'.format(games_actual['user_score'].corr(games_actual['sales'])))"
   ]
  },
  {
   "cell_type": "code",
   "execution_count": 63,
   "metadata": {},
   "outputs": [],
   "source": [
    "#отберём данные для платформы PS4\n",
    "games_actual_PS4 = games_actual.query('platform == \"PS4\"')"
   ]
  },
  {
   "cell_type": "code",
   "execution_count": 64,
   "metadata": {},
   "outputs": [
    {
     "name": "stdout",
     "output_type": "stream",
     "text": [
      "Коэффициент корреляции между отзывами критиков и продажами для PS4: 0.38\n",
      "Коэффициент корреляции между отзывами пользователей и продажами для PS4: -0.09\n"
     ]
    }
   ],
   "source": [
    "#рассчитаем коэффициент корреляции между отзывами критиков и продажами\n",
    "print('Коэффициент корреляции между отзывами критиков и продажами для PS4: {:.2f}'.format(games_actual_PS4['critic_score'].corr(games_actual_PS4['sales'])))\n",
    "\n",
    "#рассчитаем коэффициент корреляции между отзывами пользователей и продажами\n",
    "print('Коэффициент корреляции между отзывами пользователей и продажами для PS4: {:.2f}'.format(games_actual_PS4['user_score'].corr(games_actual_PS4['sales'])))"
   ]
  },
  {
   "cell_type": "code",
   "execution_count": 65,
   "metadata": {},
   "outputs": [
    {
     "name": "stdout",
     "output_type": "stream",
     "text": [
      "Диаграмма рассеивания зависимости между отзывами критиков и продажами\n"
     ]
    },
    {
     "data": {
      "image/png": "[encoded data removed]",
      "text/plain": [
       "<Figure size 864x360 with 1 Axes>"
      ]
     },
     "metadata": {
      "needs_background": "light"
     },
     "output_type": "display_data"
    },
    {
     "name": "stdout",
     "output_type": "stream",
     "text": [
      "Диаграмма рассеивания зависимости между отзывами пользователей и продажами\n"
     ]
    },
    {
     "data": {
      "image/png": "[encoded data removed]",
      "text/plain": [
       "<Figure size 864x360 with 1 Axes>"
      ]
     },
     "metadata": {
      "needs_background": "light"
     },
     "output_type": "display_data"
    }
   ],
   "source": [
    "#построим диаграммы рассеивания продаж в зависимости от отзывов, используя цикл\n",
    "for item, name in [('critic_score', 'критиков'), ('user_score', 'пользователей')]:\n",
    "   \n",
    "    print('Диаграмма рассеивания зависимости между отзывами', name, 'и продажами')\n",
    "    games_actual_PS4.plot(x = item, y='sales', \n",
    "            kind ='scatter', alpha = 0.5, figsize=(12,5), title='Диаграмма рассеивания зависимости между отзывами и продажами', grid = True)\n",
    "    plt.xlabel('Отзывы')\n",
    "    plt.ylabel('Миллионы проданных копий')\n",
    "    plt.show()"
   ]
  },
  {
   "cell_type": "code",
   "execution_count": 66,
   "metadata": {},
   "outputs": [],
   "source": [
    "#отберём данные для платформы XOne\n",
    "games_actual_XOne = games_actual.query('platform == \"XOne\"')\n",
    "#отберём данные для платформы PS3\n",
    "games_actual_PS3 = games_actual.query('platform == \"PS3\"')\n",
    "#отберём данные для платформы Wii\n",
    "games_actual_Wii = games_actual.query('platform == \"Wii\"')"
   ]
  },
  {
   "cell_type": "code",
   "execution_count": 67,
   "metadata": {},
   "outputs": [
    {
     "name": "stdout",
     "output_type": "stream",
     "text": [
      "Коэффициент корреляции между отзывами критиков и продажами для XOne : 0.38\n",
      "Коэффициент корреляции между отзывами пользователей и продажами для XOne : 0.04\n",
      "Коэффициент корреляции между отзывами критиков и продажами для PS3 : 0.30\n",
      "Коэффициент корреляции между отзывами пользователей и продажами для PS3 : 0.03\n",
      "Коэффициент корреляции между отзывами критиков и продажами для Wii : -0.50\n",
      "Коэффициент корреляции между отзывами пользователей и продажами для Wii : 0.47\n"
     ]
    }
   ],
   "source": [
    "#рассчитаем коэффициент корреляции между отзывами и продажами\n",
    "for item, name in [(games_actual_XOne, 'XOne'), (games_actual_PS3, 'PS3'), (games_actual_Wii, 'Wii')]:\n",
    "    \n",
    "    print('Коэффициент корреляции между отзывами критиков и продажами для', name, ':', '{:.2f}'.format(item['critic_score'].corr(item['sales'])))\n",
    "    \n",
    "    print('Коэффициент корреляции между отзывами пользователей и продажами для', name, ':', '{:.2f}'.format(item['user_score'].corr(item['sales'])))\n"
   ]
  },
  {
   "cell_type": "markdown",
   "metadata": {},
   "source": [
    "### Вывод"
   ]
  },
  {
   "cell_type": "markdown",
   "metadata": {},
   "source": [
    "Изучим, как влияют на продажи одной из популярных платформ отзывы пользователей и критиков. \n",
    "Для начала рассчитаем коэффициент корреляции между отзывами критиков и продажами для набора данных\n",
    "- коэффициент корреляции между отзывами критиков и продажами положительный и равен 0.27, что говорит о том, что есть прямая взаимозависимость (но не очень сильная) между отзывами критиков и продажами.\n",
    "- коэффициент корреляции между отзывами пользователей и продажами положительный и равен 0.03, что говорит о том, что есть очень слабая взаимозависимость между отзывами пользователей и продажами.\n",
    "Выберем и рассмотрим отдельно платформу PS4. Рассчитаем коэффициенты корелляции: \n",
    "- коэффициент корреляции между отзывами критиков и продажами положительный и равен 0.38, что говорит о том, что есть прямая взаимозависимость (но не очень сильная) между отзывами критиков и продажами: с повышением оценки критиков возрастают продажи, и с ростом продаж возрастает оценка критиков (что интересно).\n",
    "- коэффициент корреляции между отзывами пользователей и продажами отрицательный и равен -0.09, что говорит о том, что есть очень слабая обратная взаимозависимость между отзывами пользователей и продажами (что также интересно, ведь обычно отзывы пользователей довольно сильно могут вляить на продажи).\n",
    "\n",
    "Построим диаграмму рассеивания и график зависимости между отзывами и продажами. Графики подтверждают зависимость между отзывами критиков и продажами: при повышении оценки критиков возрастают продажи, при этом оценка пользователей не особо влияет на продажи.\n",
    "\n",
    "Для сравнения рассчитаем коэффициенты корелляции между отзывами и продажами для платформ XOne, PS3 и Wii. Коэффициенты для платформ XOne, PS3 почти совпадают с коэффициентами корелляции для PS4, а вот для Wii картина иная: коэффициент корреляции между отзывами критиков и продажами для Wii отрицательный и равен -0.50, что говорит о том, что есть обратная взаимозависимость (но не очень сильная) между отзывами критиков и продажами, а коэффициент корреляции между отзывами пользователей и продажами для Wii положительный и равен 0.47, что говорит о том, что есть прямая взаимозависимость между отзывами пользователей и продажами."
   ]
  },
  {
   "cell_type": "markdown",
   "metadata": {},
   "source": [
    "### Распределение игр по жанрам"
   ]
  },
  {
   "cell_type": "code",
   "execution_count": 68,
   "metadata": {},
   "outputs": [
    {
     "data": {
      "text/html": [
       "<div>\n",
       "<style scoped>\n",
       "    .dataframe tbody tr th:only-of-type {\n",
       "        vertical-align: middle;\n",
       "    }\n",
       "\n",
       "    .dataframe tbody tr th {\n",
       "        vertical-align: top;\n",
       "    }\n",
       "\n",
       "    .dataframe thead th {\n",
       "        text-align: right;\n",
       "    }\n",
       "</style>\n",
       "<table border=\"1\" class=\"dataframe\">\n",
       "  <thead>\n",
       "    <tr style=\"text-align: right;\">\n",
       "      <th></th>\n",
       "      <th>sales</th>\n",
       "    </tr>\n",
       "    <tr>\n",
       "      <th>genre</th>\n",
       "      <th></th>\n",
       "    </tr>\n",
       "  </thead>\n",
       "  <tbody>\n",
       "    <tr>\n",
       "      <td>Shooter</td>\n",
       "      <td>147</td>\n",
       "    </tr>\n",
       "    <tr>\n",
       "      <td>Action</td>\n",
       "      <td>129</td>\n",
       "    </tr>\n",
       "    <tr>\n",
       "      <td>Sports</td>\n",
       "      <td>66</td>\n",
       "    </tr>\n",
       "    <tr>\n",
       "      <td>Role-Playing</td>\n",
       "      <td>65</td>\n",
       "    </tr>\n",
       "    <tr>\n",
       "      <td>Misc</td>\n",
       "      <td>28</td>\n",
       "    </tr>\n",
       "    <tr>\n",
       "      <td>Platform</td>\n",
       "      <td>18</td>\n",
       "    </tr>\n",
       "    <tr>\n",
       "      <td>Simulation</td>\n",
       "      <td>16</td>\n",
       "    </tr>\n",
       "    <tr>\n",
       "      <td>Racing</td>\n",
       "      <td>12</td>\n",
       "    </tr>\n",
       "    <tr>\n",
       "      <td>Fighting</td>\n",
       "      <td>11</td>\n",
       "    </tr>\n",
       "  </tbody>\n",
       "</table>\n",
       "</div>"
      ],
      "text/plain": [
       "              sales\n",
       "genre              \n",
       "Shooter         147\n",
       "Action          129\n",
       "Sports           66\n",
       "Role-Playing     65\n",
       "Misc             28\n",
       "Platform         18\n",
       "Simulation       16\n",
       "Racing           12\n",
       "Fighting         11"
      ]
     },
     "execution_count": 68,
     "metadata": {},
     "output_type": "execute_result"
    }
   ],
   "source": [
    "#сформируем сводную таблицу и отсортируем по убыванию\n",
    "games_actual.pivot_table(index ='genre', values = 'sales', aggfunc = 'sum').sort_values(by = 'sales', ascending = False)"
   ]
  },
  {
   "cell_type": "code",
   "execution_count": 69,
   "metadata": {},
   "outputs": [
    {
     "data": {
      "image/png": "[encoded data removed]",
      "text/plain": [
       "<Figure size 1728x720 with 1 Axes>"
      ]
     },
     "metadata": {
      "needs_background": "light"
     },
     "output_type": "display_data"
    }
   ],
   "source": [
    "#построим график суммарных продаж для всех жанров\n",
    "games_actual.pivot_table(index ='genre', values = 'sales', aggfunc = 'sum').plot(kind = 'bar', grid = True, figsize = (24,10),title='Суммарные продажи по платформам')\n",
    "plt.xlabel('Жанр')\n",
    "plt.ylabel('Миллионы проданных копий')\n",
    "plt.show()"
   ]
  },
  {
   "cell_type": "markdown",
   "metadata": {},
   "source": [
    "### Вывод"
   ]
  },
  {
   "cell_type": "markdown",
   "metadata": {},
   "source": [
    "Посмотрим на общее распределение игр по жанрам. Самым прибыльным является жанр Shooter (\"стрелялки\"), наименее прибыльным является жанр Fighting (\"поединок\").\n",
    "Если посмотреть на график распределения прибыли по жанрам, то с большим отрывом остальных опережают два жанра - Shooter и Action. Жанры с низкими продажами - Simulation, Racing, Fighting."
   ]
  },
  {
   "cell_type": "markdown",
   "metadata": {},
   "source": [
    "## Составление портрета пользователя каждого региона"
   ]
  },
  {
   "cell_type": "markdown",
   "metadata": {},
   "source": [
    "### Самые популярные платформы (топ-5)"
   ]
  },
  {
   "cell_type": "code",
   "execution_count": 70,
   "metadata": {},
   "outputs": [
    {
     "name": "stdout",
     "output_type": "stream",
     "text": [
      "Топ-5 платформ в Северной Америке\n"
     ]
    },
    {
     "data": {
      "text/html": [
       "<div>\n",
       "<style scoped>\n",
       "    .dataframe tbody tr th:only-of-type {\n",
       "        vertical-align: middle;\n",
       "    }\n",
       "\n",
       "    .dataframe tbody tr th {\n",
       "        vertical-align: top;\n",
       "    }\n",
       "\n",
       "    .dataframe thead th {\n",
       "        text-align: right;\n",
       "    }\n",
       "</style>\n",
       "<table border=\"1\" class=\"dataframe\">\n",
       "  <thead>\n",
       "    <tr style=\"text-align: right;\">\n",
       "      <th></th>\n",
       "      <th>na_sales</th>\n",
       "      <th>sales</th>\n",
       "      <th>% от sales</th>\n",
       "    </tr>\n",
       "    <tr>\n",
       "      <th>platform</th>\n",
       "      <th></th>\n",
       "      <th></th>\n",
       "      <th></th>\n",
       "    </tr>\n",
       "  </thead>\n",
       "  <tbody>\n",
       "    <tr>\n",
       "      <td>X360</td>\n",
       "      <td>66</td>\n",
       "      <td>94</td>\n",
       "      <td>70.212766</td>\n",
       "    </tr>\n",
       "    <tr>\n",
       "      <td>PS4</td>\n",
       "      <td>47</td>\n",
       "      <td>127</td>\n",
       "      <td>37.007874</td>\n",
       "    </tr>\n",
       "    <tr>\n",
       "      <td>XOne</td>\n",
       "      <td>39</td>\n",
       "      <td>53</td>\n",
       "      <td>73.584906</td>\n",
       "    </tr>\n",
       "    <tr>\n",
       "      <td>PS3</td>\n",
       "      <td>34</td>\n",
       "      <td>87</td>\n",
       "      <td>39.080460</td>\n",
       "    </tr>\n",
       "    <tr>\n",
       "      <td>3DS</td>\n",
       "      <td>23</td>\n",
       "      <td>80</td>\n",
       "      <td>28.750000</td>\n",
       "    </tr>\n",
       "  </tbody>\n",
       "</table>\n",
       "</div>"
      ],
      "text/plain": [
       "          na_sales  sales  % от sales\n",
       "platform                             \n",
       "X360            66     94   70.212766\n",
       "PS4             47    127   37.007874\n",
       "XOne            39     53   73.584906\n",
       "PS3             34     87   39.080460\n",
       "3DS             23     80   28.750000"
      ]
     },
     "metadata": {},
     "output_type": "display_data"
    },
    {
     "name": "stdout",
     "output_type": "stream",
     "text": [
      "\n",
      "Топ-5 платформ в Европе\n"
     ]
    },
    {
     "data": {
      "text/html": [
       "<div>\n",
       "<style scoped>\n",
       "    .dataframe tbody tr th:only-of-type {\n",
       "        vertical-align: middle;\n",
       "    }\n",
       "\n",
       "    .dataframe tbody tr th {\n",
       "        vertical-align: top;\n",
       "    }\n",
       "\n",
       "    .dataframe thead th {\n",
       "        text-align: right;\n",
       "    }\n",
       "</style>\n",
       "<table border=\"1\" class=\"dataframe\">\n",
       "  <thead>\n",
       "    <tr style=\"text-align: right;\">\n",
       "      <th></th>\n",
       "      <th>eu_sales</th>\n",
       "      <th>sales</th>\n",
       "      <th>% от sales</th>\n",
       "    </tr>\n",
       "    <tr>\n",
       "      <th>platform</th>\n",
       "      <th></th>\n",
       "      <th></th>\n",
       "      <th></th>\n",
       "    </tr>\n",
       "  </thead>\n",
       "  <tbody>\n",
       "    <tr>\n",
       "      <td>PS4</td>\n",
       "      <td>72</td>\n",
       "      <td>127</td>\n",
       "      <td>56.692913</td>\n",
       "    </tr>\n",
       "    <tr>\n",
       "      <td>PS3</td>\n",
       "      <td>44</td>\n",
       "      <td>87</td>\n",
       "      <td>50.574713</td>\n",
       "    </tr>\n",
       "    <tr>\n",
       "      <td>X360</td>\n",
       "      <td>26</td>\n",
       "      <td>94</td>\n",
       "      <td>27.659574</td>\n",
       "    </tr>\n",
       "    <tr>\n",
       "      <td>3DS</td>\n",
       "      <td>19</td>\n",
       "      <td>80</td>\n",
       "      <td>23.750000</td>\n",
       "    </tr>\n",
       "    <tr>\n",
       "      <td>XOne</td>\n",
       "      <td>14</td>\n",
       "      <td>53</td>\n",
       "      <td>26.415094</td>\n",
       "    </tr>\n",
       "  </tbody>\n",
       "</table>\n",
       "</div>"
      ],
      "text/plain": [
       "          eu_sales  sales  % от sales\n",
       "platform                             \n",
       "PS4             72    127   56.692913\n",
       "PS3             44     87   50.574713\n",
       "X360            26     94   27.659574\n",
       "3DS             19     80   23.750000\n",
       "XOne            14     53   26.415094"
      ]
     },
     "metadata": {},
     "output_type": "display_data"
    },
    {
     "name": "stdout",
     "output_type": "stream",
     "text": [
      "\n",
      "Топ-5 платформ в Японии\n"
     ]
    },
    {
     "data": {
      "text/html": [
       "<div>\n",
       "<style scoped>\n",
       "    .dataframe tbody tr th:only-of-type {\n",
       "        vertical-align: middle;\n",
       "    }\n",
       "\n",
       "    .dataframe tbody tr th {\n",
       "        vertical-align: top;\n",
       "    }\n",
       "\n",
       "    .dataframe thead th {\n",
       "        text-align: right;\n",
       "    }\n",
       "</style>\n",
       "<table border=\"1\" class=\"dataframe\">\n",
       "  <thead>\n",
       "    <tr style=\"text-align: right;\">\n",
       "      <th></th>\n",
       "      <th>jp_sales</th>\n",
       "      <th>sales</th>\n",
       "      <th>% от sales</th>\n",
       "    </tr>\n",
       "    <tr>\n",
       "      <th>platform</th>\n",
       "      <th></th>\n",
       "      <th></th>\n",
       "      <th></th>\n",
       "    </tr>\n",
       "  </thead>\n",
       "  <tbody>\n",
       "    <tr>\n",
       "      <td>3DS</td>\n",
       "      <td>38</td>\n",
       "      <td>80</td>\n",
       "      <td>47.5</td>\n",
       "    </tr>\n",
       "    <tr>\n",
       "      <td>DS</td>\n",
       "      <td>3</td>\n",
       "      <td>6</td>\n",
       "      <td>50.0</td>\n",
       "    </tr>\n",
       "    <tr>\n",
       "      <td>WiiU</td>\n",
       "      <td>3</td>\n",
       "      <td>24</td>\n",
       "      <td>12.5</td>\n",
       "    </tr>\n",
       "    <tr>\n",
       "      <td>PC</td>\n",
       "      <td>0</td>\n",
       "      <td>8</td>\n",
       "      <td>0.0</td>\n",
       "    </tr>\n",
       "    <tr>\n",
       "      <td>PS3</td>\n",
       "      <td>0</td>\n",
       "      <td>87</td>\n",
       "      <td>0.0</td>\n",
       "    </tr>\n",
       "  </tbody>\n",
       "</table>\n",
       "</div>"
      ],
      "text/plain": [
       "          jp_sales  sales  % от sales\n",
       "platform                             \n",
       "3DS             38     80        47.5\n",
       "DS               3      6        50.0\n",
       "WiiU             3     24        12.5\n",
       "PC               0      8         0.0\n",
       "PS3              0     87         0.0"
      ]
     },
     "metadata": {},
     "output_type": "display_data"
    },
    {
     "name": "stdout",
     "output_type": "stream",
     "text": [
      "\n"
     ]
    }
   ],
   "source": [
    "#построим сводные таблицы c самыми популярными платформами, используя цикл\n",
    "for item, name in [('na_sales', 'в Северной Америке'), ('eu_sales', 'в Европе'), ('jp_sales', 'в Японии')]:\n",
    "   \n",
    "    print('Топ-5 платформ', name)\n",
    "    games_platform_5 = games_actual.pivot_table(index ='platform', values = [item, 'sales'], aggfunc = 'sum').sort_values(by = item, ascending = False).head()\n",
    "    \n",
    "    #вычислим % от глобальных продаж\n",
    "    games_platform_5['% от sales'] = games_platform_5[item] / games_platform_5['sales']*100\n",
    "    \n",
    "    display(games_platform_5)\n",
    "    print()"
   ]
  },
  {
   "cell_type": "markdown",
   "metadata": {},
   "source": [
    "### Самые популярные жанры (топ-5)  каждого региона"
   ]
  },
  {
   "cell_type": "code",
   "execution_count": 71,
   "metadata": {},
   "outputs": [
    {
     "name": "stdout",
     "output_type": "stream",
     "text": [
      "Топ-5 жанров в Северной Америке\n"
     ]
    },
    {
     "data": {
      "text/html": [
       "<div>\n",
       "<style scoped>\n",
       "    .dataframe tbody tr th:only-of-type {\n",
       "        vertical-align: middle;\n",
       "    }\n",
       "\n",
       "    .dataframe tbody tr th {\n",
       "        vertical-align: top;\n",
       "    }\n",
       "\n",
       "    .dataframe thead th {\n",
       "        text-align: right;\n",
       "    }\n",
       "</style>\n",
       "<table border=\"1\" class=\"dataframe\">\n",
       "  <thead>\n",
       "    <tr style=\"text-align: right;\">\n",
       "      <th></th>\n",
       "      <th>na_sales</th>\n",
       "    </tr>\n",
       "    <tr>\n",
       "      <th>genre</th>\n",
       "      <th></th>\n",
       "    </tr>\n",
       "  </thead>\n",
       "  <tbody>\n",
       "    <tr>\n",
       "      <td>Shooter</td>\n",
       "      <td>83</td>\n",
       "    </tr>\n",
       "    <tr>\n",
       "      <td>Action</td>\n",
       "      <td>60</td>\n",
       "    </tr>\n",
       "    <tr>\n",
       "      <td>Sports</td>\n",
       "      <td>31</td>\n",
       "    </tr>\n",
       "    <tr>\n",
       "      <td>Role-Playing</td>\n",
       "      <td>22</td>\n",
       "    </tr>\n",
       "    <tr>\n",
       "      <td>Misc</td>\n",
       "      <td>17</td>\n",
       "    </tr>\n",
       "  </tbody>\n",
       "</table>\n",
       "</div>"
      ],
      "text/plain": [
       "              na_sales\n",
       "genre                 \n",
       "Shooter             83\n",
       "Action              60\n",
       "Sports              31\n",
       "Role-Playing        22\n",
       "Misc                17"
      ]
     },
     "metadata": {},
     "output_type": "display_data"
    },
    {
     "name": "stdout",
     "output_type": "stream",
     "text": [
      "Топ-5 жанров в Европе\n"
     ]
    },
    {
     "data": {
      "text/html": [
       "<div>\n",
       "<style scoped>\n",
       "    .dataframe tbody tr th:only-of-type {\n",
       "        vertical-align: middle;\n",
       "    }\n",
       "\n",
       "    .dataframe tbody tr th {\n",
       "        vertical-align: top;\n",
       "    }\n",
       "\n",
       "    .dataframe thead th {\n",
       "        text-align: right;\n",
       "    }\n",
       "</style>\n",
       "<table border=\"1\" class=\"dataframe\">\n",
       "  <thead>\n",
       "    <tr style=\"text-align: right;\">\n",
       "      <th></th>\n",
       "      <th>eu_sales</th>\n",
       "    </tr>\n",
       "    <tr>\n",
       "      <th>genre</th>\n",
       "      <th></th>\n",
       "    </tr>\n",
       "  </thead>\n",
       "  <tbody>\n",
       "    <tr>\n",
       "      <td>Action</td>\n",
       "      <td>56</td>\n",
       "    </tr>\n",
       "    <tr>\n",
       "      <td>Shooter</td>\n",
       "      <td>55</td>\n",
       "    </tr>\n",
       "    <tr>\n",
       "      <td>Sports</td>\n",
       "      <td>32</td>\n",
       "    </tr>\n",
       "    <tr>\n",
       "      <td>Role-Playing</td>\n",
       "      <td>17</td>\n",
       "    </tr>\n",
       "    <tr>\n",
       "      <td>Misc</td>\n",
       "      <td>11</td>\n",
       "    </tr>\n",
       "  </tbody>\n",
       "</table>\n",
       "</div>"
      ],
      "text/plain": [
       "              eu_sales\n",
       "genre                 \n",
       "Action              56\n",
       "Shooter             55\n",
       "Sports              32\n",
       "Role-Playing        17\n",
       "Misc                11"
      ]
     },
     "metadata": {},
     "output_type": "display_data"
    },
    {
     "name": "stdout",
     "output_type": "stream",
     "text": [
      "Топ-5 жанров в Японии\n"
     ]
    },
    {
     "data": {
      "text/html": [
       "<div>\n",
       "<style scoped>\n",
       "    .dataframe tbody tr th:only-of-type {\n",
       "        vertical-align: middle;\n",
       "    }\n",
       "\n",
       "    .dataframe tbody tr th {\n",
       "        vertical-align: top;\n",
       "    }\n",
       "\n",
       "    .dataframe thead th {\n",
       "        text-align: right;\n",
       "    }\n",
       "</style>\n",
       "<table border=\"1\" class=\"dataframe\">\n",
       "  <thead>\n",
       "    <tr style=\"text-align: right;\">\n",
       "      <th></th>\n",
       "      <th>jp_sales</th>\n",
       "    </tr>\n",
       "    <tr>\n",
       "      <th>genre</th>\n",
       "      <th></th>\n",
       "    </tr>\n",
       "  </thead>\n",
       "  <tbody>\n",
       "    <tr>\n",
       "      <td>Role-Playing</td>\n",
       "      <td>25</td>\n",
       "    </tr>\n",
       "    <tr>\n",
       "      <td>Action</td>\n",
       "      <td>6</td>\n",
       "    </tr>\n",
       "    <tr>\n",
       "      <td>Simulation</td>\n",
       "      <td>6</td>\n",
       "    </tr>\n",
       "    <tr>\n",
       "      <td>Platform</td>\n",
       "      <td>3</td>\n",
       "    </tr>\n",
       "    <tr>\n",
       "      <td>Fighting</td>\n",
       "      <td>2</td>\n",
       "    </tr>\n",
       "  </tbody>\n",
       "</table>\n",
       "</div>"
      ],
      "text/plain": [
       "              jp_sales\n",
       "genre                 \n",
       "Role-Playing        25\n",
       "Action               6\n",
       "Simulation           6\n",
       "Platform             3\n",
       "Fighting             2"
      ]
     },
     "metadata": {},
     "output_type": "display_data"
    }
   ],
   "source": [
    "#построим сводные таблицы для различных жанров, используя цикл\n",
    "for item, name in [('na_sales', 'в Северной Америке'), ('eu_sales', 'в Европе'), ('jp_sales', 'в Японии')]:\n",
    "    #сформируем сводную таблицу и отсортируем по убыванию\n",
    "    print('Топ-5 жанров', name)\n",
    "    display(games_actual.pivot_table(index ='genre', values = item, aggfunc = 'sum').sort_values(by = item, ascending = False).head())\n",
    "    "
   ]
  },
  {
   "cell_type": "code",
   "execution_count": 72,
   "metadata": {},
   "outputs": [
    {
     "name": "stdout",
     "output_type": "stream",
     "text": [
      "Продажи в зависимости от жанра в Северной Америке\n"
     ]
    },
    {
     "data": {
      "image/png": "[encoded data removed]",
      "text/plain": [
       "<Figure size 1728x720 with 1 Axes>"
      ]
     },
     "metadata": {
      "needs_background": "light"
     },
     "output_type": "display_data"
    },
    {
     "name": "stdout",
     "output_type": "stream",
     "text": [
      "Продажи в зависимости от жанра в Европе\n"
     ]
    },
    {
     "data": {
      "image/png": "[encoded data removed]",
      "text/plain": [
       "<Figure size 1728x720 with 1 Axes>"
      ]
     },
     "metadata": {
      "needs_background": "light"
     },
     "output_type": "display_data"
    },
    {
     "name": "stdout",
     "output_type": "stream",
     "text": [
      "Продажи в зависимости от жанра в Японии\n"
     ]
    },
    {
     "data": {
      "image/png": "[encoded data removed]",
      "text/plain": [
       "<Figure size 1728x720 with 1 Axes>"
      ]
     },
     "metadata": {
      "needs_background": "light"
     },
     "output_type": "display_data"
    }
   ],
   "source": [
    "#построим графики продаж для различных жанров, используя цикл\n",
    "for item, name in [('na_sales', 'в Северной Америке'), ('eu_sales', 'в Европе'), ('jp_sales', 'в Японии')]:\n",
    "      \n",
    "    print('Продажи в зависимости от жанра', name)\n",
    "    games_actual.pivot_table(index ='genre', values = item, aggfunc = 'sum').plot(kind = 'bar', grid = True, figsize = (24,10), title = 'Продажи в зависимости от жанра')\n",
    "    plt.xlabel('Жанр')\n",
    "    plt.ylabel('Миллионы проданных копий')\n",
    "    plt.show()\n",
    "    "
   ]
  },
  {
   "cell_type": "markdown",
   "metadata": {},
   "source": [
    "###  Влияние рейтинга ESRB на продажи в отдельном регионе"
   ]
  },
  {
   "cell_type": "code",
   "execution_count": 73,
   "metadata": {},
   "outputs": [
    {
     "data": {
      "image/png": "[encoded data removed]",
      "text/plain": [
       "<Figure size 1728x720 with 1 Axes>"
      ]
     },
     "metadata": {
      "needs_background": "light"
     },
     "output_type": "display_data"
    },
    {
     "data": {
      "image/png": "[encoded data removed]",
      "text/plain": [
       "<Figure size 1728x720 with 1 Axes>"
      ]
     },
     "metadata": {
      "needs_background": "light"
     },
     "output_type": "display_data"
    },
    {
     "data": {
      "image/png": "[encoded data removed]",
      "text/plain": [
       "<Figure size 1728x720 with 1 Axes>"
      ]
     },
     "metadata": {
      "needs_background": "light"
     },
     "output_type": "display_data"
    }
   ],
   "source": [
    "#построим график продаж в зависимости от рейтинга ESRB, используя цикл\n",
    "for item, name in [('na_sales', 'Продажи по рейтингу ESRB в Северной Америке'), ('eu_sales', 'Продажи по рейтингу ESRB в Европе'), ('jp_sales', 'Продажи по рейтингу ESRB в Японии')]:\n",
    "    games_actual.pivot_table(index ='rating', values = item , aggfunc = 'sum').plot(kind = 'bar', grid = True, figsize = (24,10), title= name)\n",
    "    plt.xlabel('Рейтинг')\n",
    "    plt.ylabel('Миллионы проданных копий')\n",
    "    plt.show()"
   ]
  },
  {
   "cell_type": "markdown",
   "metadata": {},
   "source": [
    "##  Вывод"
   ]
  },
  {
   "cell_type": "markdown",
   "metadata": {},
   "source": [
    "Определим для пользователя каждого региона (NA, EU, JP):\n",
    "\n",
    "- Самые популярные платформы (топ-5):\n",
    " - Северная Америка: X360 (66), PS4 (47), XOne (39), PS3 (34), 3DS (23)\n",
    " - Европа: PS4 (72), PS3 (44), X360 (26), 3DS (19), XOne (14)\n",
    " - Япония: 3DS (38), DS (3), WiiU (3)\n",
    "\n",
    "- Самые популярные жанры (топ-5):\n",
    " - Северная Америка: Shooter (83), Action (60), Sports (31), Role-Playing (22), Misc (17)\n",
    " - Европа: Action (56), Shooter (55), Sports (32), Role-Playing (17), Misc (11)\n",
    " - Япония: Role-Playing (25), Action (6), Simulation (6), Platform (3), Fighting (2)\n",
    "Получается, что в Северной Америке и Европе популярные жанры почти совпадают, отличаются только первое и второе места, а вот в Японии совершенно иное распредление жанров. Пользователи Северной Америки и Европы скорее предпочтут \"стрелялки\", тогда как пользователь Японии выберет игру в жанре Role-Playing. \n",
    "\n",
    "Определим влияние рейтинга ассоциации ESRB на продажи в каждом регионе:\n",
    " - Северная Америка и Европа: больше всего продаж игр с рейтингом «M» («Mature») или «От 17 лет»\n",
    " - Япония: больше всего продаж игр с рейтингом «E» («Everyone») или «Для всех»\n",
    " \n",
    "В результате составим портрет пользователя каждого региона:\n",
    " - Северная Америка: Пользователь больше всего предпочитает игры на платформе X360 в жанре Shooter с рейтингом ассоциации ESRB «M»\n",
    " - Европа: Пользователь больше всего предпочитает игры на платформе PS4 в жанре Action с рейтингом ассоциации ESRB «M»\n",
    " - Япония: Пользователь предпочитает игры на платформе 3DS в жанре Role-Playing с рейтингом ассоциации ESRB «E» "
   ]
  },
  {
   "cell_type": "markdown",
   "metadata": {},
   "source": [
    "## Проверка гипотез"
   ]
  },
  {
   "cell_type": "markdown",
   "metadata": {},
   "source": [
    "Шаг 5. Проверьте гипотезы\n",
    "Средние пользовательские рейтинги платформ Xbox One и PC одинаковые;\n",
    "Средние пользовательские рейтинги жанров Action (англ. «действие», экшен-игры) и Sports (англ. «спортивные соревнования») разные.\n",
    "Задайте самостоятельно пороговое значение alpha.\n",
    "Поясните:\n",
    "Как вы сформулировали нулевую и альтернативную гипотезы;\n",
    "Какой критерий применили для проверки гипотез и почему."
   ]
  },
  {
   "cell_type": "markdown",
   "metadata": {},
   "source": [
    "### Проверка гипотезы  - Средние пользовательские рейтинги платформ Xbox One и PC одинаковые"
   ]
  },
  {
   "cell_type": "markdown",
   "metadata": {},
   "source": [
    "Нулевая гипотеза H0 - Средние пользовательские рейтинги платформ Xbox One и PC равны, т.е равны средние значения\n",
    "\n",
    "Альтернативная гипотеза H1 - Средние пользовательские рейтинги платформ Xbox One и PC НЕ равны, т.е НЕ равны средние значения"
   ]
  },
  {
   "cell_type": "code",
   "execution_count": 74,
   "metadata": {},
   "outputs": [
    {
     "name": "stdout",
     "output_type": "stream",
     "text": [
      "Значение дисперсии для выборки p_xo: 1.4620461538461538\n",
      "Значение дисперсии для выборки p_pc: 5.203333333333335\n",
      "Разница дисперсий: 71.9%\n",
      "\n",
      "p-значение: 0.5825918110641388\n",
      "Не получилось отвергнуть нулевую гипотезу\n"
     ]
    }
   ],
   "source": [
    "#для проверки используем критерий p-value\n",
    "p_xo = games_actual[games_actual['platform'] == 'XOne']['user_score']\n",
    "p_pc = games_actual[games_actual['platform'] == 'PC']['user_score']\n",
    "\n",
    "#cравним дисперсии двух выборок\n",
    "print('Значение дисперсии для выборки p_xo:', p_xo.var())\n",
    "print('Значение дисперсии для выборки p_pc:', p_pc.var())\n",
    "print('Разница дисперсий: {:.1%}'.format((p_pc.var()-p_xo.var())/ p_pc.var()))\n",
    "\n",
    "print()\n",
    "\n",
    "#проверим гипотезу о равенстве среднего двух генеральных совокупностей \n",
    "results = st.ttest_ind(p_pc, p_xo, equal_var = False, nan_policy = 'omit')\n",
    "\n",
    "#критический уровень статистической значимости\n",
    "alpha = 0.05 \n",
    "\n",
    "print('p-значение:', results.pvalue)\n",
    "\n",
    "#сравним получившееся p-значение с заданным уровнем статистической значимости\n",
    "if results.pvalue < alpha:\n",
    "    print('Отвергаем нулевую гипотезу')\n",
    "else:\n",
    "    print('Не получилось отвергнуть нулевую гипотезу')"
   ]
  },
  {
   "cell_type": "markdown",
   "metadata": {},
   "source": [
    "### Проверка гипотезы  - Средние пользовательские рейтинги жанров Action и Sports разные"
   ]
  },
  {
   "cell_type": "markdown",
   "metadata": {},
   "source": [
    "Нулевая гипотеза H0 - Средние пользовательские рейтинги жанров Action и Sports НЕ отличаются, т.е равны средние значения\n",
    "\n",
    "Альтернативная гипотеза  H1 - Средние пользовательские рейтинги жанров Action и Sports отличаются, т.е НЕ равны средние значения"
   ]
  },
  {
   "cell_type": "code",
   "execution_count": 75,
   "metadata": {},
   "outputs": [
    {
     "name": "stdout",
     "output_type": "stream",
     "text": [
      "Значение дисперсии для выборки p_xo: 1.780325203252032\n",
      "Значение дисперсии для выборки p_pc: 1.4335798319327733\n",
      "Разница дисперсий: 19.5%\n",
      "\n",
      "p-значение: 2.876278338579569e-08\n",
      "Отвергаем нулевую гипотезу\n"
     ]
    }
   ],
   "source": [
    "#для проверки используем критерий p-value\n",
    "p_action = games_actual[games_actual['genre'] == 'Action']['user_score']\n",
    "p_sports = games_actual[games_actual['genre'] == 'Sports']['user_score']\n",
    "\n",
    "#cравним дисперсии двух выборок\n",
    "print('Значение дисперсии для выборки p_xo:', p_action.var())\n",
    "print('Значение дисперсии для выборки p_pc:', p_sports.var())\n",
    "print('Разница дисперсий: {:.1%}'.format((p_action.var()-p_sports.var())/ p_action.var()))\n",
    "\n",
    "print()\n",
    "\n",
    "#проверим гипотезу о равенстве среднего двух генеральных совокупностей \n",
    "results = st.ttest_ind(p_action, p_sports, equal_var = False, nan_policy = 'omit')\n",
    "\n",
    "#критический уровень статистической значимости\n",
    "alpha = 0.05 \n",
    "\n",
    "print('p-значение:', results.pvalue)\n",
    "\n",
    "#сравним получившееся p-значение с заданным уровнем статистической значимости\n",
    "if results.pvalue < alpha:\n",
    "    print('Отвергаем нулевую гипотезу')\n",
    "else:\n",
    "    print('Не получилось отвергнуть нулевую гипотезу')"
   ]
  },
  {
   "cell_type": "markdown",
   "metadata": {},
   "source": [
    "###  Вывод"
   ]
  },
  {
   "cell_type": "markdown",
   "metadata": {},
   "source": [
    "На данном шаге проверим гипотезы: Средние пользовательские рейтинги платформ Xbox One и PC одинаковые. Средние пользовательские рейтинги жанров Action и Sports разные. \n",
    "Сформулируем нулевую и альтернативную гипотезы. \n",
    "- Нулевая гипотеза H0 - Средние пользовательские рейтинги платформ Xbox One и PC равны, т.е равны средние значения. Альтернативная гипотеза H1 - Средние пользовательские рейтинги платформ Xbox One и PC НЕ равны, т.е НЕ равны средние значения.\n",
    " - До проведения проверки гипотезы cравним дисперсии двух выборок. Т.к. дисперсии различаются более чем на 5%, то считаем отличие значимым и выбираем параметр equal_var = False, для пропущенных в наборах данных значениях указываем параметр nan_policy = 'omit'. Критический уровень статистической значимости назначаем alpha = 0.05.  Для проверки используем критерий p-value, в результате вычислений получаем p-значение больше критического уровня статистической значимости и не отвергаем нулевую гипотезу, т.е. не отвергаем, что средние пользовательские рейтинги платформ Xbox One и PC равны.\n",
    "\n",
    "- Нулевая гипотеза H0 - Средние пользовательские рейтинги жанров Action и Sports НЕ отличаются, т.е равны средние значения. Альтернативная гипотеза  H1 - Средние пользовательские рейтинги жанров Action и Sports отличаются, т.е НЕ равны средние значения.\n",
    " - До проведения проверки гипотезы cравним дисперсии двух выборок. Т.к. дисперсии различаются более чем на 5%, то считаем отличие значимым и выбираем параметр equal_var = False, для пропущенных в наборах данных значениях указываем параметр nan_policy = 'omit'. Критический уровень статистической значимости назначаем alpha = 0.05.  Для проверки используем критерий p-value, в результате вычислений получаем p-значение меньше критического уровня статистической значимости и отвергаем нулевую гипотезу, т.е. отвергаем, что средние пользовательские рейтинги жанров Action и Sports НЕ отличаются."
   ]
  },
  {
   "cell_type": "markdown",
   "metadata": {},
   "source": [
    "## Общий вывод"
   ]
  },
  {
   "cell_type": "markdown",
   "metadata": {},
   "source": [
    "В рамках данного проекта необходимо было выявить закономерности, определяющие успешность компьютерной игры, для интернет-магазина по продаже компьютерных игр.\n",
    "В качестве исходных данных были предоставлены данные до 2016 года: исторические данные о продажах игр, оценки пользователей и экспертов, жанры и платформы.\n",
    "\n",
    "На первом шаге открыли таблицу с исходными данными и изучили общую информацию. Типы данных столбцов различаются: float64(6), object(5). Количество значений в столбцах также различается, значит, в данных есть пропущенные значения.\n",
    "\n",
    "<b>Подготовка данных</b>\n",
    "\n",
    "\n",
    "На втором шаге рассмотрели набор данных более подробно, подготовили данные к исследованию. \n",
    "Скорректировали наименования столбцов (привели названия к нижнему регистру). Проверили на наличие дубликатов в наборе данных.\n",
    "Рассмотрели каждый столбец набора данных отдельно. \n",
    "\n",
    "Пропуски обнаружены в столбцах 'name', 'year_of_release', 'critic_score', 'user_score'. Для столбцов с пропущенными значениями подсчитали процент пропусков. Подсчитали суммарные продажи во всех регионах и добавили результат в отдельный столбец.\n",
    "\n",
    "<b>Исследовательский анализ данных</b>\n",
    "\n",
    "Далее изучили, сколько игр выпускалось в разные годы. Больше всего игр было выпущено в 2008 г. - 1427, меньше всего в 1980 г. - 9. Построили график динамики выпуска игр. На графике отображается, что до 1990 г. игр выпускалось мало и примерно одинаковое количество, тем не менее исключать такие данные не будем. После 1990 г. наблюдается активный рост с небольшими проседаниями в 2003-2004 гг., далее пиковое значение наблюдается в 2008 г., потом выпуск игр идёт на спад, но с 2012-2013 гг. вновь наблюдается рост.\n",
    "\n",
    "\n",
    "Посмотрели, как менялись продажи по платформам. \n",
    "\n",
    "Сформировали сводные таблицы и посмотрели распределение продаж. Платформы с наибольшими суммарными продажами за весь период -   Wii (412), PS2 (392), X360 (378), DS (282), PS3 (282). Однако, если посмотрим на продажи в последние годы, то там по продажам лидируют другие платформы  - XOne, PS4, 3DS, PS3, X360. Поэтому для прогноза взяли именно эти платформы. Для таких платформ построили график распределения по годам. \n",
    "\n",
    "\n",
    "В соответствии с графиком больше всего продаж приходится на платформу X360 в 2010 г., меньше всего на платформы PS3, X360 в 2015 г. Период с 2012 г. по 2016 г. взяли как актуальный, на основе него будем проводятся дальнейшие исследования и строится прогноз на 2017 г.\n",
    "\n",
    "\n",
    "Рассмотрели данные за актуальный период с 2012 г. по 2016 г. Построили график динамики продаж по таким платформам и график распределения объёма продаж для каждой из платформ.\n",
    "\n",
    "\n",
    "За период с 2012 г. по 2016 г. по продажам лидируют PS4 (127), X360 (94), PS3 (87), 3DS (80), XOne (53).\n",
    "\n",
    "\n",
    "До 2015 отображается активный рост продаж для платформ PS4, XOne, к 2016 году наблюдается тренд на спад по продажам для всех платформ. В списке лидеров за актуальный период присутствуют лидеры за весь период для всего набора данных PS3 и X360, по остальным платформам результаты отличаются. Построили диаграмму размаха или «ящик с усами» по глобальным продажам игр актуального периода в разбивке по платформам. Графики скошены вправо. В сводной таблице рассчитали среднее, медианное, максимальное и минимальные значения. Т.к. среднее превышает медианное, то скошенность вправо подтверждается. В качестве потенциально прибыльных платформ предлагаются PS4, XOne, т.к. для них отображается более активный рост продаж.\n",
    "\n",
    "Изучили, как влияют на продажи платформы PS4 отзывы пользователей и критиков. Рассчитали коэффициенты корелляции: \n",
    "- коэффициент корреляции между отзывами критиков и продажами положительный и равен 0.38, что говорит о том, что есть прямая взаимозависимость (но не очень сильная) между отзывами критиков и продажами: с повышением оценки критиков возрастают продажи, и с ростом продаж возрастает оценка критиков (что интересно).\n",
    "- коэффициент корреляции между отзывами пользователей и продажами отрицательный и равен -0.09, что говорит о том, что есть очень слабая обратная взаимозависимость между отзывами пользователей и продажами (что также интересно, ведь обычно отзывы пользователей довольно сильно могут вляить на продажи).\n",
    "Построили диаграмму рассеивания и график зависимости между отзывами и продажами.\n",
    "\n",
    "Посмотрели на общее распределение игр по жанрам. \n",
    "\n",
    "\n",
    "Самым прибыльным является жанр Shooter (\"стрелялки\"), наименее прибыльным является жанр Fighting (\"поединок\").\n",
    "Если посмотреть на график распределения прибыли по жанрам, то с большим отрывом остальных опережают два жанра - Shooter и Action. Жанры с низкими продажами - Simulation, Racing, Fighting.\n",
    "\n",
    "\n",
    "<b>Составление портрета пользователя каждого региона</b>\n",
    "    \n",
    "    \n",
    "Составили портрет пользователя каждого региона:\n",
    " - Северная Америка: Пользователь больше всего предпочитает игры на платформе X360 в жанре Shooter с рейтингом ассоциации ESRB «M»\n",
    " - Европа: Пользователь больше всего предпочитает игры на платформе PS4 в жанре Action с рейтингом ассоциации ESRB «M»\n",
    " - Япония: Пользователь предпочитает игры на платформе 3DS в жанре Role-Playing с рейтингом ассоциации ESRB «E» \n",
    "\n",
    "<b>Проверка гипотез</b>\n",
    "    \n",
    "    \n",
    "И в завершении проверили гипотезы: Средние пользовательские рейтинги платформ Xbox One и PC одинаковые. Средние пользовательские рейтинги жанров Action и Sports разные. Сформулировали нулевую и альтернативную гипотезы. В результате расчетов не отвргаем, что средние пользовательские рейтинги платформ Xbox One и PC равны и отвергаем, что средние пользовательские рейтинги жанров Action и Sports НЕ отличаются.\n",
    "\n",
    "\n",
    "<b>Итоговый вывод</b>\n",
    "\n",
    "\n",
    "В итоге в качестве потенциально прибыльных платформ для каждого региона предлагаются следующие игры:\n",
    " - Северная Америка: X360, PS4, XOne, PS3, 3DS в жанрах Shooter, Action, Sports, Role-Playing, Misc с рейтингом ассоциации ESRB «M»\n",
    " - Европа: PS4, PS3, X360, 3DS, XOne в жанрах Action, Shooter, Sports, Role-Playing, Miscс рейтингом ассоциации ESRB «M»\n",
    " - Япония: 3DS, DS, WiiU в жанрах Role-Playing, Simulation, Action, Platform, Fighting с рейтингом ассоциации ESRB «E» "
   ]
  }
 ],
 "metadata": {
  "ExecuteTimeLog": [
   {
    "duration": 992,
    "start_time": "2021-11-17T19:19:18.018Z"
   },
   {
    "duration": 34,
    "start_time": "2021-11-17T19:19:19.012Z"
   },
   {
    "duration": 14,
    "start_time": "2021-11-17T19:19:19.048Z"
   },
   {
    "duration": 9,
    "start_time": "2021-11-17T19:19:19.064Z"
   },
   {
    "duration": 14,
    "start_time": "2021-11-17T19:19:19.074Z"
   },
   {
    "duration": 11,
    "start_time": "2021-11-17T19:19:19.089Z"
   },
   {
    "duration": 9,
    "start_time": "2021-11-17T19:19:19.101Z"
   },
   {
    "duration": 16,
    "start_time": "2021-11-17T19:19:19.112Z"
   },
   {
    "duration": 3,
    "start_time": "2021-11-17T19:19:19.129Z"
   },
   {
    "duration": 5,
    "start_time": "2021-11-17T19:19:19.134Z"
   },
   {
    "duration": 10,
    "start_time": "2021-11-17T19:19:19.140Z"
   },
   {
    "duration": 7,
    "start_time": "2021-11-17T19:19:19.151Z"
   },
   {
    "duration": 31,
    "start_time": "2021-11-17T19:19:19.159Z"
   },
   {
    "duration": 7,
    "start_time": "2021-11-17T19:19:19.191Z"
   },
   {
    "duration": 5,
    "start_time": "2021-11-17T19:19:19.199Z"
   },
   {
    "duration": 7,
    "start_time": "2021-11-17T19:19:19.205Z"
   },
   {
    "duration": 5,
    "start_time": "2021-11-17T19:19:19.214Z"
   },
   {
    "duration": 9,
    "start_time": "2021-11-17T19:19:19.220Z"
   },
   {
    "duration": 4,
    "start_time": "2021-11-17T19:19:19.230Z"
   },
   {
    "duration": 5,
    "start_time": "2021-11-17T19:19:19.235Z"
   },
   {
    "duration": 10,
    "start_time": "2021-11-17T19:19:19.241Z"
   },
   {
    "duration": 11,
    "start_time": "2021-11-17T19:19:19.252Z"
   },
   {
    "duration": 25,
    "start_time": "2021-11-17T19:19:19.266Z"
   },
   {
    "duration": 4,
    "start_time": "2021-11-17T19:19:19.293Z"
   },
   {
    "duration": 6,
    "start_time": "2021-11-17T19:19:19.299Z"
   },
   {
    "duration": 6,
    "start_time": "2021-11-17T19:19:19.307Z"
   },
   {
    "duration": 5,
    "start_time": "2021-11-17T19:19:19.314Z"
   },
   {
    "duration": 5,
    "start_time": "2021-11-17T19:19:19.320Z"
   },
   {
    "duration": 6,
    "start_time": "2021-11-17T19:19:19.326Z"
   },
   {
    "duration": 3,
    "start_time": "2021-11-17T19:19:19.334Z"
   },
   {
    "duration": 4,
    "start_time": "2021-11-17T19:19:19.338Z"
   },
   {
    "duration": 9,
    "start_time": "2021-11-17T19:19:19.344Z"
   },
   {
    "duration": 4,
    "start_time": "2021-11-17T19:19:19.387Z"
   },
   {
    "duration": 5,
    "start_time": "2021-11-17T19:19:19.392Z"
   },
   {
    "duration": 3,
    "start_time": "2021-11-17T19:19:19.399Z"
   },
   {
    "duration": 7,
    "start_time": "2021-11-17T19:19:19.404Z"
   },
   {
    "duration": 4,
    "start_time": "2021-11-17T19:19:19.412Z"
   },
   {
    "duration": 5,
    "start_time": "2021-11-17T19:19:19.418Z"
   },
   {
    "duration": 7,
    "start_time": "2021-11-17T19:19:19.425Z"
   },
   {
    "duration": 10,
    "start_time": "2021-11-17T19:19:19.433Z"
   },
   {
    "duration": 10,
    "start_time": "2021-11-17T19:19:19.444Z"
   },
   {
    "duration": 4,
    "start_time": "2021-11-17T19:19:19.488Z"
   },
   {
    "duration": 8,
    "start_time": "2021-11-17T19:19:19.493Z"
   },
   {
    "duration": 10,
    "start_time": "2021-11-17T19:19:19.502Z"
   },
   {
    "duration": 16,
    "start_time": "2021-11-17T19:19:19.513Z"
   },
   {
    "duration": 16,
    "start_time": "2021-11-17T19:19:19.530Z"
   },
   {
    "duration": 14,
    "start_time": "2021-11-17T19:19:19.547Z"
   },
   {
    "duration": 469,
    "start_time": "2021-11-17T19:19:19.587Z"
   },
   {
    "duration": 13,
    "start_time": "2021-11-17T19:19:20.058Z"
   },
   {
    "duration": 496,
    "start_time": "2021-11-17T19:19:20.072Z"
   },
   {
    "duration": 21,
    "start_time": "2021-11-17T19:19:20.570Z"
   },
   {
    "duration": 16,
    "start_time": "2021-11-17T19:19:20.593Z"
   },
   {
    "duration": 18,
    "start_time": "2021-11-17T19:19:20.610Z"
   },
   {
    "duration": 604,
    "start_time": "2021-11-17T19:19:20.629Z"
   },
   {
    "duration": 5,
    "start_time": "2021-11-17T19:19:21.234Z"
   },
   {
    "duration": 15,
    "start_time": "2021-11-17T19:19:21.240Z"
   },
   {
    "duration": 448,
    "start_time": "2021-11-17T19:19:21.257Z"
   },
   {
    "duration": 379,
    "start_time": "2021-11-17T19:19:21.706Z"
   },
   {
    "duration": 453,
    "start_time": "2021-11-17T19:19:22.086Z"
   },
   {
    "duration": 466,
    "start_time": "2021-11-17T19:19:22.540Z"
   },
   {
    "duration": 12,
    "start_time": "2021-11-17T19:19:23.009Z"
   },
   {
    "duration": 7,
    "start_time": "2021-11-17T19:19:23.022Z"
   },
   {
    "duration": 5,
    "start_time": "2021-11-17T19:19:23.031Z"
   },
   {
    "duration": 9,
    "start_time": "2021-11-17T19:19:23.037Z"
   },
   {
    "duration": 683,
    "start_time": "2021-11-17T19:19:23.048Z"
   },
   {
    "duration": 6,
    "start_time": "2021-11-17T19:19:23.733Z"
   },
   {
    "duration": 13,
    "start_time": "2021-11-17T19:19:23.741Z"
   },
   {
    "duration": 11,
    "start_time": "2021-11-17T19:19:23.758Z"
   },
   {
    "duration": 384,
    "start_time": "2021-11-17T19:19:23.771Z"
   },
   {
    "duration": 48,
    "start_time": "2021-11-17T19:19:24.156Z"
   },
   {
    "duration": 28,
    "start_time": "2021-11-17T19:19:24.206Z"
   },
   {
    "duration": 1168,
    "start_time": "2021-11-17T19:19:24.236Z"
   },
   {
    "duration": 1016,
    "start_time": "2021-11-17T19:19:25.405Z"
   },
   {
    "duration": 10,
    "start_time": "2021-11-17T19:19:26.423Z"
   },
   {
    "duration": 14,
    "start_time": "2021-11-17T19:19:26.434Z"
   },
   {
    "duration": 1012,
    "start_time": "2021-11-17T19:19:59.503Z"
   },
   {
    "duration": 36,
    "start_time": "2021-11-17T19:20:00.516Z"
   },
   {
    "duration": 14,
    "start_time": "2021-11-17T19:20:00.553Z"
   },
   {
    "duration": 22,
    "start_time": "2021-11-17T19:20:00.569Z"
   },
   {
    "duration": 4,
    "start_time": "2021-11-17T19:20:00.592Z"
   },
   {
    "duration": 19,
    "start_time": "2021-11-17T19:20:00.597Z"
   },
   {
    "duration": 7,
    "start_time": "2021-11-17T19:20:00.617Z"
   },
   {
    "duration": 21,
    "start_time": "2021-11-17T19:20:00.627Z"
   },
   {
    "duration": 3,
    "start_time": "2021-11-17T19:20:00.650Z"
   },
   {
    "duration": 12,
    "start_time": "2021-11-17T19:20:00.654Z"
   },
   {
    "duration": 22,
    "start_time": "2021-11-17T19:20:00.667Z"
   },
   {
    "duration": 7,
    "start_time": "2021-11-17T19:20:00.690Z"
   },
   {
    "duration": 10,
    "start_time": "2021-11-17T19:20:00.698Z"
   },
   {
    "duration": 22,
    "start_time": "2021-11-17T19:20:00.709Z"
   },
   {
    "duration": 7,
    "start_time": "2021-11-17T19:20:00.732Z"
   },
   {
    "duration": 15,
    "start_time": "2021-11-17T19:20:00.740Z"
   },
   {
    "duration": 9,
    "start_time": "2021-11-17T19:20:00.756Z"
   },
   {
    "duration": 12,
    "start_time": "2021-11-17T19:20:00.766Z"
   },
   {
    "duration": 16,
    "start_time": "2021-11-17T19:20:00.779Z"
   },
   {
    "duration": 8,
    "start_time": "2021-11-17T19:20:00.796Z"
   },
   {
    "duration": 13,
    "start_time": "2021-11-17T19:20:00.805Z"
   },
   {
    "duration": 8,
    "start_time": "2021-11-17T19:20:00.819Z"
   },
   {
    "duration": 10,
    "start_time": "2021-11-17T19:20:00.831Z"
   },
   {
    "duration": 9,
    "start_time": "2021-11-17T19:20:00.843Z"
   },
   {
    "duration": 7,
    "start_time": "2021-11-17T19:20:00.854Z"
   },
   {
    "duration": 7,
    "start_time": "2021-11-17T19:20:00.862Z"
   },
   {
    "duration": 3,
    "start_time": "2021-11-17T19:20:00.871Z"
   },
   {
    "duration": 5,
    "start_time": "2021-11-17T19:20:00.876Z"
   },
   {
    "duration": 11,
    "start_time": "2021-11-17T19:20:00.888Z"
   },
   {
    "duration": 21,
    "start_time": "2021-11-17T19:20:00.900Z"
   },
   {
    "duration": 6,
    "start_time": "2021-11-17T19:20:00.923Z"
   },
   {
    "duration": 20,
    "start_time": "2021-11-17T19:20:00.930Z"
   },
   {
    "duration": 5,
    "start_time": "2021-11-17T19:20:00.952Z"
   },
   {
    "duration": 17,
    "start_time": "2021-11-17T19:20:00.958Z"
   },
   {
    "duration": 19,
    "start_time": "2021-11-17T19:20:00.977Z"
   },
   {
    "duration": 13,
    "start_time": "2021-11-17T19:20:00.997Z"
   },
   {
    "duration": 18,
    "start_time": "2021-11-17T19:20:01.012Z"
   },
   {
    "duration": 20,
    "start_time": "2021-11-17T19:20:01.031Z"
   },
   {
    "duration": 12,
    "start_time": "2021-11-17T19:20:01.053Z"
   },
   {
    "duration": 13,
    "start_time": "2021-11-17T19:20:01.067Z"
   },
   {
    "duration": 29,
    "start_time": "2021-11-17T19:20:01.082Z"
   },
   {
    "duration": 11,
    "start_time": "2021-11-17T19:20:01.112Z"
   },
   {
    "duration": 20,
    "start_time": "2021-11-17T19:20:01.125Z"
   },
   {
    "duration": 13,
    "start_time": "2021-11-17T19:20:01.147Z"
   },
   {
    "duration": 26,
    "start_time": "2021-11-17T19:20:01.162Z"
   },
   {
    "duration": 26,
    "start_time": "2021-11-17T19:20:01.189Z"
   },
   {
    "duration": 18,
    "start_time": "2021-11-17T19:20:01.216Z"
   },
   {
    "duration": 470,
    "start_time": "2021-11-17T19:20:01.235Z"
   },
   {
    "duration": 15,
    "start_time": "2021-11-17T19:20:01.706Z"
   },
   {
    "duration": 595,
    "start_time": "2021-11-17T19:20:01.723Z"
   },
   {
    "duration": 14,
    "start_time": "2021-11-17T19:20:02.320Z"
   },
   {
    "duration": 19,
    "start_time": "2021-11-17T19:20:02.336Z"
   },
   {
    "duration": 34,
    "start_time": "2021-11-17T19:20:02.356Z"
   },
   {
    "duration": 493,
    "start_time": "2021-11-17T19:20:02.392Z"
   },
   {
    "duration": 7,
    "start_time": "2021-11-17T19:20:02.888Z"
   },
   {
    "duration": 12,
    "start_time": "2021-11-17T19:20:02.896Z"
   },
   {
    "duration": 669,
    "start_time": "2021-11-17T19:20:02.910Z"
   },
   {
    "duration": 412,
    "start_time": "2021-11-17T19:20:03.581Z"
   },
   {
    "duration": 474,
    "start_time": "2021-11-17T19:20:03.995Z"
   },
   {
    "duration": 456,
    "start_time": "2021-11-17T19:20:04.471Z"
   },
   {
    "duration": 12,
    "start_time": "2021-11-17T19:20:04.929Z"
   },
   {
    "duration": 23,
    "start_time": "2021-11-17T19:20:04.942Z"
   },
   {
    "duration": 35,
    "start_time": "2021-11-17T19:20:04.966Z"
   },
   {
    "duration": 45,
    "start_time": "2021-11-17T19:20:05.002Z"
   },
   {
    "duration": 655,
    "start_time": "2021-11-17T19:20:05.048Z"
   },
   {
    "duration": 7,
    "start_time": "2021-11-17T19:20:05.705Z"
   },
   {
    "duration": 27,
    "start_time": "2021-11-17T19:20:05.713Z"
   },
   {
    "duration": 26,
    "start_time": "2021-11-17T19:20:05.744Z"
   },
   {
    "duration": 380,
    "start_time": "2021-11-17T19:20:05.772Z"
   },
   {
    "duration": 49,
    "start_time": "2021-11-17T19:20:06.153Z"
   },
   {
    "duration": 30,
    "start_time": "2021-11-17T19:20:06.204Z"
   },
   {
    "duration": 1161,
    "start_time": "2021-11-17T19:20:06.235Z"
   },
   {
    "duration": 1001,
    "start_time": "2021-11-17T19:20:07.398Z"
   },
   {
    "duration": 10,
    "start_time": "2021-11-17T19:20:08.401Z"
   },
   {
    "duration": 39,
    "start_time": "2021-11-17T19:20:08.412Z"
   }
  ],
  "kernelspec": {
   "display_name": "Python 3",
   "language": "python",
   "name": "python3"
  },
  "language_info": {
   "codemirror_mode": {
    "name": "ipython",
    "version": 3
   },
   "file_extension": ".py",
   "mimetype": "text/x-python",
   "name": "python",
   "nbconvert_exporter": "python",
   "pygments_lexer": "ipython3",
   "version": "3.7.8"
  },
  "toc": {
   "base_numbering": 1,
   "nav_menu": {
    "height": "12px",
    "width": "164px"
   },
   "number_sections": true,
   "sideBar": true,
   "skip_h1_title": true,
   "title_cell": "Содержание",
   "title_sidebar": "Contents",
   "toc_cell": true,
   "toc_position": {
    "height": "calc(100% - 180px)",
    "left": "10px",
    "top": "150px",
    "width": "366.391px"
   },
   "toc_section_display": true,
   "toc_window_display": true
  }
 },
 "nbformat": 4,
 "nbformat_minor": 2
}
