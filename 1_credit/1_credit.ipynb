{
 "cells": [
  {
   "cell_type": "markdown",
   "metadata": {},
   "source": [
    "## Исследование надёжности заёмщиков - анализ банковских данных\n",
    "\n",
    "Заказчик — кредитный отдел банка. Нужно разобраться, влияет ли семейное положение и количество детей клиента на факт погашения кредита в срок. \n",
    "\n",
    "Входные данные от банка — статистика о платёжеспособности клиентов.\n",
    "\n",
    "Результаты исследования будут учтены при построении модели **кредитного скоринга** — специальной системы, которая оценивает способность потенциального заёмщика вернуть кредит банку."
   ]
  },
  {
   "cell_type": "markdown",
   "metadata": {},
   "source": [
    "### Шаг 1. Загрузка файла с данными и изучение общей информации"
   ]
  },
  {
   "cell_type": "code",
   "execution_count": 2,
   "metadata": {},
   "outputs": [
    {
     "name": "stdout",
     "output_type": "stream",
     "text": [
      "Общая информация о таблице:\n",
      "<class 'pandas.core.frame.DataFrame'>\n",
      "RangeIndex: 21525 entries, 0 to 21524\n",
      "Data columns (total 12 columns):\n",
      "children            21525 non-null int64\n",
      "days_employed       19351 non-null float64\n",
      "dob_years           21525 non-null int64\n",
      "education           21525 non-null object\n",
      "education_id        21525 non-null int64\n",
      "family_status       21525 non-null object\n",
      "family_status_id    21525 non-null int64\n",
      "gender              21525 non-null object\n",
      "income_type         21525 non-null object\n",
      "debt                21525 non-null int64\n",
      "total_income        19351 non-null float64\n",
      "purpose             21525 non-null object\n",
      "dtypes: float64(2), int64(5), object(5)\n",
      "memory usage: 2.0+ MB\n",
      "None\n"
     ]
    }
   ],
   "source": [
    "#получим общую информацию о таблице\n",
    "print('Общая информация о таблице:')\n",
    "print(df.info())"
   ]
  },
  {
   "cell_type": "code",
   "execution_count": 3,
   "metadata": {},
   "outputs": [
    {
     "name": "stdout",
     "output_type": "stream",
     "text": [
      "Первые пять строк таблицы df:\n"
     ]
    },
    {
     "data": {
      "text/html": [
       "<div>\n",
       "<style scoped>\n",
       "    .dataframe tbody tr th:only-of-type {\n",
       "        vertical-align: middle;\n",
       "    }\n",
       "\n",
       "    .dataframe tbody tr th {\n",
       "        vertical-align: top;\n",
       "    }\n",
       "\n",
       "    .dataframe thead th {\n",
       "        text-align: right;\n",
       "    }\n",
       "</style>\n",
       "<table border=\"1\" class=\"dataframe\">\n",
       "  <thead>\n",
       "    <tr style=\"text-align: right;\">\n",
       "      <th></th>\n",
       "      <th>children</th>\n",
       "      <th>days_employed</th>\n",
       "      <th>dob_years</th>\n",
       "      <th>education</th>\n",
       "      <th>education_id</th>\n",
       "      <th>family_status</th>\n",
       "      <th>family_status_id</th>\n",
       "      <th>gender</th>\n",
       "      <th>income_type</th>\n",
       "      <th>debt</th>\n",
       "      <th>total_income</th>\n",
       "      <th>purpose</th>\n",
       "    </tr>\n",
       "  </thead>\n",
       "  <tbody>\n",
       "    <tr>\n",
       "      <td>0</td>\n",
       "      <td>1</td>\n",
       "      <td>-8437.673028</td>\n",
       "      <td>42</td>\n",
       "      <td>высшее</td>\n",
       "      <td>0</td>\n",
       "      <td>женат / замужем</td>\n",
       "      <td>0</td>\n",
       "      <td>F</td>\n",
       "      <td>сотрудник</td>\n",
       "      <td>0</td>\n",
       "      <td>253875.639453</td>\n",
       "      <td>покупка жилья</td>\n",
       "    </tr>\n",
       "    <tr>\n",
       "      <td>1</td>\n",
       "      <td>1</td>\n",
       "      <td>-4024.803754</td>\n",
       "      <td>36</td>\n",
       "      <td>среднее</td>\n",
       "      <td>1</td>\n",
       "      <td>женат / замужем</td>\n",
       "      <td>0</td>\n",
       "      <td>F</td>\n",
       "      <td>сотрудник</td>\n",
       "      <td>0</td>\n",
       "      <td>112080.014102</td>\n",
       "      <td>приобретение автомобиля</td>\n",
       "    </tr>\n",
       "    <tr>\n",
       "      <td>2</td>\n",
       "      <td>0</td>\n",
       "      <td>-5623.422610</td>\n",
       "      <td>33</td>\n",
       "      <td>Среднее</td>\n",
       "      <td>1</td>\n",
       "      <td>женат / замужем</td>\n",
       "      <td>0</td>\n",
       "      <td>M</td>\n",
       "      <td>сотрудник</td>\n",
       "      <td>0</td>\n",
       "      <td>145885.952297</td>\n",
       "      <td>покупка жилья</td>\n",
       "    </tr>\n",
       "    <tr>\n",
       "      <td>3</td>\n",
       "      <td>3</td>\n",
       "      <td>-4124.747207</td>\n",
       "      <td>32</td>\n",
       "      <td>среднее</td>\n",
       "      <td>1</td>\n",
       "      <td>женат / замужем</td>\n",
       "      <td>0</td>\n",
       "      <td>M</td>\n",
       "      <td>сотрудник</td>\n",
       "      <td>0</td>\n",
       "      <td>267628.550329</td>\n",
       "      <td>дополнительное образование</td>\n",
       "    </tr>\n",
       "    <tr>\n",
       "      <td>4</td>\n",
       "      <td>0</td>\n",
       "      <td>340266.072047</td>\n",
       "      <td>53</td>\n",
       "      <td>среднее</td>\n",
       "      <td>1</td>\n",
       "      <td>гражданский брак</td>\n",
       "      <td>1</td>\n",
       "      <td>F</td>\n",
       "      <td>пенсионер</td>\n",
       "      <td>0</td>\n",
       "      <td>158616.077870</td>\n",
       "      <td>сыграть свадьбу</td>\n",
       "    </tr>\n",
       "  </tbody>\n",
       "</table>\n",
       "</div>"
      ],
      "text/plain": [
       "   children  days_employed  dob_years education  education_id  \\\n",
       "0         1   -8437.673028         42    высшее             0   \n",
       "1         1   -4024.803754         36   среднее             1   \n",
       "2         0   -5623.422610         33   Среднее             1   \n",
       "3         3   -4124.747207         32   среднее             1   \n",
       "4         0  340266.072047         53   среднее             1   \n",
       "\n",
       "      family_status  family_status_id gender income_type  debt   total_income  \\\n",
       "0   женат / замужем                 0      F   сотрудник     0  253875.639453   \n",
       "1   женат / замужем                 0      F   сотрудник     0  112080.014102   \n",
       "2   женат / замужем                 0      M   сотрудник     0  145885.952297   \n",
       "3   женат / замужем                 0      M   сотрудник     0  267628.550329   \n",
       "4  гражданский брак                 1      F   пенсионер     0  158616.077870   \n",
       "\n",
       "                      purpose  \n",
       "0               покупка жилья  \n",
       "1     приобретение автомобиля  \n",
       "2               покупка жилья  \n",
       "3  дополнительное образование  \n",
       "4             сыграть свадьбу  "
      ]
     },
     "execution_count": 3,
     "metadata": {},
     "output_type": "execute_result"
    }
   ],
   "source": [
    "#получим первые пять строк таблицы df\n",
    "print('Первые пять строк таблицы df:')\n",
    "df.head()"
   ]
  },
  {
   "cell_type": "markdown",
   "metadata": {},
   "source": [
    "### Вывод"
   ]
  },
  {
   "cell_type": "markdown",
   "metadata": {},
   "source": [
    "Всего в таблице 12 столбцов:\n",
    "\n",
    "    children — количество детей в семье\n",
    "    days_employed — общий трудовой стаж в днях\n",
    "    dob_years — возраст клиента в годах\n",
    "    education — уровень образования клиента\n",
    "    education_id — идентификатор уровня образования\n",
    "    family_status — семейное положение\n",
    "    family_status_id — идентификатор семейного положения\n",
    "    gender — пол клиента\n",
    "    income_type — тип занятости\n",
    "    debt — имел ли задолженность по возврату кредитов\n",
    "    total_income — ежемесячный доход\n",
    "    purpose — цель получения кредита\n",
    "\n",
    "\n",
    "Типы данных столбцов различаются: object, float64, int64.\n",
    "Количество значений в столбцах также различается: в столбцах 'days_employed' и 'total_income' указанные значения меньше, чем в остальных. Значит, в данных есть пропущенные значения.\n"
   ]
  },
  {
   "cell_type": "markdown",
   "metadata": {},
   "source": [
    "### Шаг 2. Предобработка данных"
   ]
  },
  {
   "cell_type": "markdown",
   "metadata": {},
   "source": [
    "### Обработка пропусков"
   ]
  },
  {
   "cell_type": "code",
   "execution_count": 4,
   "metadata": {},
   "outputs": [
    {
     "name": "stdout",
     "output_type": "stream",
     "text": [
      "Cуммарное количество пропусков для каждого столбца до обработки пропусков:\n",
      "children               0\n",
      "days_employed       2174\n",
      "dob_years              0\n",
      "education              0\n",
      "education_id           0\n",
      "family_status          0\n",
      "family_status_id       0\n",
      "gender                 0\n",
      "income_type            0\n",
      "debt                   0\n",
      "total_income        2174\n",
      "purpose                0\n",
      "dtype: int64\n"
     ]
    }
   ],
   "source": [
    "#получим суммарное количество пропусков для каждого столбца, для этого применим метод isnull()\n",
    "print('Cуммарное количество пропусков для каждого столбца до обработки пропусков:')\n",
    "print(df.isnull().sum())"
   ]
  },
  {
   "cell_type": "code",
   "execution_count": 5,
   "metadata": {},
   "outputs": [
    {
     "name": "stdout",
     "output_type": "stream",
     "text": [
      "Cуммарное количество пропусков при условии, что значения пропущены и в total_income, и в days_employed:\n",
      "children               0\n",
      "days_employed       2174\n",
      "dob_years              0\n",
      "education              0\n",
      "education_id           0\n",
      "family_status          0\n",
      "family_status_id       0\n",
      "gender                 0\n",
      "income_type            0\n",
      "debt                   0\n",
      "total_income        2174\n",
      "purpose                0\n",
      "dtype: int64\n"
     ]
    }
   ],
   "source": [
    "#проверим, значения в столбцах 'total_income', days_employed' пропущены в одних и тех же строках или нет\n",
    "print('Cуммарное количество пропусков при условии, что значения пропущены и в total_income, и в days_employed:')\n",
    "print(df[(df['total_income'].isnull()) & (df['days_employed'].isnull())].isnull().sum())"
   ]
  },
  {
   "cell_type": "markdown",
   "metadata": {},
   "source": [
    "#### Вывод"
   ]
  },
  {
   "cell_type": "markdown",
   "metadata": {},
   "source": [
    "В столбцах 'days_employed', 'total_income' по 2174 пропущенных значений. Значения пропущены в одних и тех же строках."
   ]
  },
  {
   "cell_type": "markdown",
   "metadata": {},
   "source": [
    "#### Столбец 'children'"
   ]
  },
  {
   "cell_type": "code",
   "execution_count": 6,
   "metadata": {},
   "outputs": [
    {
     "name": "stdout",
     "output_type": "stream",
     "text": [
      "Уникальные значения в столбце children:\n",
      " 0     14149\n",
      " 1      4818\n",
      " 2      2055\n",
      " 3       330\n",
      " 20       76\n",
      "-1        47\n",
      " 4        41\n",
      " 5         9\n",
      "Name: children, dtype: int64\n"
     ]
    }
   ],
   "source": [
    "#выделим уникальные значения в столбце children\n",
    "print('Уникальные значения в столбце children:')\n",
    "print(df['children'].value_counts())"
   ]
  },
  {
   "cell_type": "code",
   "execution_count": 7,
   "metadata": {},
   "outputs": [],
   "source": [
    "#скореектируем подозрительные значения\n",
    "df.loc[(df.children == 20), 'children'] = 2\n",
    "df.loc[(df.children == -1), 'children'] = 1"
   ]
  },
  {
   "cell_type": "code",
   "execution_count": 8,
   "metadata": {},
   "outputs": [
    {
     "name": "stdout",
     "output_type": "stream",
     "text": [
      "Уникальные значения в столбце children после корректировки:\n",
      "0    14149\n",
      "1     4865\n",
      "2     2131\n",
      "3      330\n",
      "4       41\n",
      "5        9\n",
      "Name: children, dtype: int64\n"
     ]
    }
   ],
   "source": [
    "#проверим уникальные значения в столбце children после корректировки\n",
    "print('Уникальные значения в столбце children после корректировки:')\n",
    "print(df['children'].value_counts())"
   ]
  },
  {
   "cell_type": "markdown",
   "metadata": {},
   "source": [
    "#### Вывод"
   ]
  },
  {
   "cell_type": "markdown",
   "metadata": {},
   "source": [
    "При рассмотрении уникальных значений в столбце 'children' встречаются подозрительные значения -1 и 20. Считаем, что это опечатка при внесении данных. Скорректируем значение 20 на 2, -1 на 1. После правок значения выглядят корректно. Наибольшее количество заёмщиков в выгрузке не имеет детей, такая категория граждан смелее берёт на себя кредитные обязательства."
   ]
  },
  {
   "cell_type": "markdown",
   "metadata": {},
   "source": [
    "#### Столбец 'days_employed'"
   ]
  },
  {
   "cell_type": "code",
   "execution_count": 9,
   "metadata": {},
   "outputs": [
    {
     "name": "stdout",
     "output_type": "stream",
     "text": [
      "count     19351.000000\n",
      "mean      63046.497661\n",
      "std      140827.311974\n",
      "min      -18388.949901\n",
      "25%       -2747.423625\n",
      "50%       -1203.369529\n",
      "75%        -291.095954\n",
      "max      401755.400475\n",
      "Name: days_employed, dtype: float64\n"
     ]
    }
   ],
   "source": [
    "#посмотрим, какие значения (помимо пропущенных) встречаются в столбце days_employed\n",
    "print(df['days_employed'].describe())"
   ]
  },
  {
   "cell_type": "code",
   "execution_count": 10,
   "metadata": {},
   "outputs": [],
   "source": [
    "#избавимся от минусов в столбце days_employed\n",
    "df['days_employed'] = df['days_employed'].abs()"
   ]
  },
  {
   "cell_type": "code",
   "execution_count": 11,
   "metadata": {},
   "outputs": [
    {
     "name": "stdout",
     "output_type": "stream",
     "text": [
      "count     19351.000000\n",
      "mean      66914.728907\n",
      "std      139030.880527\n",
      "min          24.141633\n",
      "25%         927.009265\n",
      "50%        2194.220567\n",
      "75%        5537.882441\n",
      "max      401755.400475\n",
      "Name: days_employed, dtype: float64\n"
     ]
    }
   ],
   "source": [
    "#посмотрим, какие значения встречаются в столбце days_employed после избавления от минусов\n",
    "print(df['days_employed'].describe())"
   ]
  },
  {
   "cell_type": "code",
   "execution_count": 12,
   "metadata": {},
   "outputs": [
    {
     "name": "stdout",
     "output_type": "stream",
     "text": [
      "Первые пять строк таблицы df после удаления минусов в столбце days_employed:\n"
     ]
    },
    {
     "data": {
      "text/html": [
       "<div>\n",
       "<style scoped>\n",
       "    .dataframe tbody tr th:only-of-type {\n",
       "        vertical-align: middle;\n",
       "    }\n",
       "\n",
       "    .dataframe tbody tr th {\n",
       "        vertical-align: top;\n",
       "    }\n",
       "\n",
       "    .dataframe thead th {\n",
       "        text-align: right;\n",
       "    }\n",
       "</style>\n",
       "<table border=\"1\" class=\"dataframe\">\n",
       "  <thead>\n",
       "    <tr style=\"text-align: right;\">\n",
       "      <th></th>\n",
       "      <th>children</th>\n",
       "      <th>days_employed</th>\n",
       "      <th>dob_years</th>\n",
       "      <th>education</th>\n",
       "      <th>education_id</th>\n",
       "      <th>family_status</th>\n",
       "      <th>family_status_id</th>\n",
       "      <th>gender</th>\n",
       "      <th>income_type</th>\n",
       "      <th>debt</th>\n",
       "      <th>total_income</th>\n",
       "      <th>purpose</th>\n",
       "    </tr>\n",
       "  </thead>\n",
       "  <tbody>\n",
       "    <tr>\n",
       "      <td>0</td>\n",
       "      <td>1</td>\n",
       "      <td>8437.673028</td>\n",
       "      <td>42</td>\n",
       "      <td>высшее</td>\n",
       "      <td>0</td>\n",
       "      <td>женат / замужем</td>\n",
       "      <td>0</td>\n",
       "      <td>F</td>\n",
       "      <td>сотрудник</td>\n",
       "      <td>0</td>\n",
       "      <td>253875.639453</td>\n",
       "      <td>покупка жилья</td>\n",
       "    </tr>\n",
       "    <tr>\n",
       "      <td>1</td>\n",
       "      <td>1</td>\n",
       "      <td>4024.803754</td>\n",
       "      <td>36</td>\n",
       "      <td>среднее</td>\n",
       "      <td>1</td>\n",
       "      <td>женат / замужем</td>\n",
       "      <td>0</td>\n",
       "      <td>F</td>\n",
       "      <td>сотрудник</td>\n",
       "      <td>0</td>\n",
       "      <td>112080.014102</td>\n",
       "      <td>приобретение автомобиля</td>\n",
       "    </tr>\n",
       "    <tr>\n",
       "      <td>2</td>\n",
       "      <td>0</td>\n",
       "      <td>5623.422610</td>\n",
       "      <td>33</td>\n",
       "      <td>Среднее</td>\n",
       "      <td>1</td>\n",
       "      <td>женат / замужем</td>\n",
       "      <td>0</td>\n",
       "      <td>M</td>\n",
       "      <td>сотрудник</td>\n",
       "      <td>0</td>\n",
       "      <td>145885.952297</td>\n",
       "      <td>покупка жилья</td>\n",
       "    </tr>\n",
       "    <tr>\n",
       "      <td>3</td>\n",
       "      <td>3</td>\n",
       "      <td>4124.747207</td>\n",
       "      <td>32</td>\n",
       "      <td>среднее</td>\n",
       "      <td>1</td>\n",
       "      <td>женат / замужем</td>\n",
       "      <td>0</td>\n",
       "      <td>M</td>\n",
       "      <td>сотрудник</td>\n",
       "      <td>0</td>\n",
       "      <td>267628.550329</td>\n",
       "      <td>дополнительное образование</td>\n",
       "    </tr>\n",
       "    <tr>\n",
       "      <td>4</td>\n",
       "      <td>0</td>\n",
       "      <td>340266.072047</td>\n",
       "      <td>53</td>\n",
       "      <td>среднее</td>\n",
       "      <td>1</td>\n",
       "      <td>гражданский брак</td>\n",
       "      <td>1</td>\n",
       "      <td>F</td>\n",
       "      <td>пенсионер</td>\n",
       "      <td>0</td>\n",
       "      <td>158616.077870</td>\n",
       "      <td>сыграть свадьбу</td>\n",
       "    </tr>\n",
       "  </tbody>\n",
       "</table>\n",
       "</div>"
      ],
      "text/plain": [
       "   children  days_employed  dob_years education  education_id  \\\n",
       "0         1    8437.673028         42    высшее             0   \n",
       "1         1    4024.803754         36   среднее             1   \n",
       "2         0    5623.422610         33   Среднее             1   \n",
       "3         3    4124.747207         32   среднее             1   \n",
       "4         0  340266.072047         53   среднее             1   \n",
       "\n",
       "      family_status  family_status_id gender income_type  debt   total_income  \\\n",
       "0   женат / замужем                 0      F   сотрудник     0  253875.639453   \n",
       "1   женат / замужем                 0      F   сотрудник     0  112080.014102   \n",
       "2   женат / замужем                 0      M   сотрудник     0  145885.952297   \n",
       "3   женат / замужем                 0      M   сотрудник     0  267628.550329   \n",
       "4  гражданский брак                 1      F   пенсионер     0  158616.077870   \n",
       "\n",
       "                      purpose  \n",
       "0               покупка жилья  \n",
       "1     приобретение автомобиля  \n",
       "2               покупка жилья  \n",
       "3  дополнительное образование  \n",
       "4             сыграть свадьбу  "
      ]
     },
     "execution_count": 12,
     "metadata": {},
     "output_type": "execute_result"
    }
   ],
   "source": [
    "#получим первые пять строк таблицы df после удаления минусов в столбце days_employed\n",
    "print('Первые пять строк таблицы df после удаления минусов в столбце days_employed:')\n",
    "df.head()"
   ]
  },
  {
   "cell_type": "markdown",
   "metadata": {},
   "source": [
    "#### Вывод"
   ]
  },
  {
   "cell_type": "markdown",
   "metadata": {},
   "source": [
    "В столбце 'days_employed' присутствуют не только 2174 пропущенных значения, но и отрицательные значения, что некорректно для обозначения общего трудового стажа в днях.\n",
    "Избавляемся от минусов при помощи метода abs()."
   ]
  },
  {
   "cell_type": "code",
   "execution_count": 13,
   "metadata": {},
   "outputs": [
    {
     "name": "stdout",
     "output_type": "stream",
     "text": [
      "Максимальный трудовой стаж в наборе данных: 1100.6997273296713 лет\n"
     ]
    }
   ],
   "source": [
    "#посмотрим, какой максимальный стаж в годах\n",
    "max_days_employed = df['days_employed'].max() / 365\n",
    "print('Максимальный трудовой стаж в наборе данных:', max_days_employed, 'лет')"
   ]
  },
  {
   "cell_type": "code",
   "execution_count": 14,
   "metadata": {},
   "outputs": [
    {
     "name": "stdout",
     "output_type": "stream",
     "text": [
      "Средний трудовой стаж: 35 лет\n",
      "\n",
      "Средний трудовой стаж: 12775 дней\n"
     ]
    }
   ],
   "source": [
    "#в итернете возьмём среднее значение трудового стажа в годах \n",
    "work_experience_years = 35\n",
    "print('Средний трудовой стаж:', work_experience_years, 'лет')\n",
    "print()\n",
    "#переведём средний трудовой стаж в дни\n",
    "work_experience_days = work_experience_years * 365\n",
    "print('Средний трудовой стаж:', work_experience_days, 'дней')"
   ]
  },
  {
   "cell_type": "code",
   "execution_count": 15,
   "metadata": {},
   "outputs": [],
   "source": [
    "#напишем функцию, которая сравнивает значение в столбце со средним значением и при превышении делит на 24\n",
    "def days_employed(row):\n",
    "    if row > work_experience_days:\n",
    "        return row / 24\n",
    "    else:\n",
    "        return row\n",
    "        \n",
    "#обновим значения в столбце\n",
    "df['days_employed'] = df['days_employed'].apply(days_employed)"
   ]
  },
  {
   "cell_type": "code",
   "execution_count": 16,
   "metadata": {},
   "outputs": [
    {
     "name": "stdout",
     "output_type": "stream",
     "text": [
      "count    19351.000000\n",
      "mean      4599.481030\n",
      "std       5333.703341\n",
      "min         24.141633\n",
      "25%        916.345592\n",
      "50%       2168.517932\n",
      "75%       5453.955842\n",
      "max      16739.808353\n",
      "Name: days_employed, dtype: float64\n"
     ]
    }
   ],
   "source": [
    "#посмотрим, какие значения встречаются в столбце days_employed после корректировки\n",
    "print(df['days_employed'].describe())"
   ]
  },
  {
   "cell_type": "code",
   "execution_count": 17,
   "metadata": {},
   "outputs": [
    {
     "name": "stdout",
     "output_type": "stream",
     "text": [
      "Максимальный трудовой стаж в годах после корректировки: 45.8624886387363 лет\n"
     ]
    }
   ],
   "source": [
    "#посмотрим, какой максимальный стаж в годах после корректировки\n",
    "max_days_employed_1 = df['days_employed'].max() / 365\n",
    "print('Максимальный трудовой стаж в годах после корректировки:', max_days_employed_1, 'лет')"
   ]
  },
  {
   "cell_type": "code",
   "execution_count": 18,
   "metadata": {},
   "outputs": [
    {
     "name": "stdout",
     "output_type": "stream",
     "text": [
      "Первые пять строк таблицы df после корректировки стажа в столбце days_employed:\n"
     ]
    },
    {
     "data": {
      "text/html": [
       "<div>\n",
       "<style scoped>\n",
       "    .dataframe tbody tr th:only-of-type {\n",
       "        vertical-align: middle;\n",
       "    }\n",
       "\n",
       "    .dataframe tbody tr th {\n",
       "        vertical-align: top;\n",
       "    }\n",
       "\n",
       "    .dataframe thead th {\n",
       "        text-align: right;\n",
       "    }\n",
       "</style>\n",
       "<table border=\"1\" class=\"dataframe\">\n",
       "  <thead>\n",
       "    <tr style=\"text-align: right;\">\n",
       "      <th></th>\n",
       "      <th>children</th>\n",
       "      <th>days_employed</th>\n",
       "      <th>dob_years</th>\n",
       "      <th>education</th>\n",
       "      <th>education_id</th>\n",
       "      <th>family_status</th>\n",
       "      <th>family_status_id</th>\n",
       "      <th>gender</th>\n",
       "      <th>income_type</th>\n",
       "      <th>debt</th>\n",
       "      <th>total_income</th>\n",
       "      <th>purpose</th>\n",
       "    </tr>\n",
       "  </thead>\n",
       "  <tbody>\n",
       "    <tr>\n",
       "      <td>0</td>\n",
       "      <td>1</td>\n",
       "      <td>8437.673028</td>\n",
       "      <td>42</td>\n",
       "      <td>высшее</td>\n",
       "      <td>0</td>\n",
       "      <td>женат / замужем</td>\n",
       "      <td>0</td>\n",
       "      <td>F</td>\n",
       "      <td>сотрудник</td>\n",
       "      <td>0</td>\n",
       "      <td>253875.639453</td>\n",
       "      <td>покупка жилья</td>\n",
       "    </tr>\n",
       "    <tr>\n",
       "      <td>1</td>\n",
       "      <td>1</td>\n",
       "      <td>4024.803754</td>\n",
       "      <td>36</td>\n",
       "      <td>среднее</td>\n",
       "      <td>1</td>\n",
       "      <td>женат / замужем</td>\n",
       "      <td>0</td>\n",
       "      <td>F</td>\n",
       "      <td>сотрудник</td>\n",
       "      <td>0</td>\n",
       "      <td>112080.014102</td>\n",
       "      <td>приобретение автомобиля</td>\n",
       "    </tr>\n",
       "    <tr>\n",
       "      <td>2</td>\n",
       "      <td>0</td>\n",
       "      <td>5623.422610</td>\n",
       "      <td>33</td>\n",
       "      <td>Среднее</td>\n",
       "      <td>1</td>\n",
       "      <td>женат / замужем</td>\n",
       "      <td>0</td>\n",
       "      <td>M</td>\n",
       "      <td>сотрудник</td>\n",
       "      <td>0</td>\n",
       "      <td>145885.952297</td>\n",
       "      <td>покупка жилья</td>\n",
       "    </tr>\n",
       "    <tr>\n",
       "      <td>3</td>\n",
       "      <td>3</td>\n",
       "      <td>4124.747207</td>\n",
       "      <td>32</td>\n",
       "      <td>среднее</td>\n",
       "      <td>1</td>\n",
       "      <td>женат / замужем</td>\n",
       "      <td>0</td>\n",
       "      <td>M</td>\n",
       "      <td>сотрудник</td>\n",
       "      <td>0</td>\n",
       "      <td>267628.550329</td>\n",
       "      <td>дополнительное образование</td>\n",
       "    </tr>\n",
       "    <tr>\n",
       "      <td>4</td>\n",
       "      <td>0</td>\n",
       "      <td>14177.753002</td>\n",
       "      <td>53</td>\n",
       "      <td>среднее</td>\n",
       "      <td>1</td>\n",
       "      <td>гражданский брак</td>\n",
       "      <td>1</td>\n",
       "      <td>F</td>\n",
       "      <td>пенсионер</td>\n",
       "      <td>0</td>\n",
       "      <td>158616.077870</td>\n",
       "      <td>сыграть свадьбу</td>\n",
       "    </tr>\n",
       "  </tbody>\n",
       "</table>\n",
       "</div>"
      ],
      "text/plain": [
       "   children  days_employed  dob_years education  education_id  \\\n",
       "0         1    8437.673028         42    высшее             0   \n",
       "1         1    4024.803754         36   среднее             1   \n",
       "2         0    5623.422610         33   Среднее             1   \n",
       "3         3    4124.747207         32   среднее             1   \n",
       "4         0   14177.753002         53   среднее             1   \n",
       "\n",
       "      family_status  family_status_id gender income_type  debt   total_income  \\\n",
       "0   женат / замужем                 0      F   сотрудник     0  253875.639453   \n",
       "1   женат / замужем                 0      F   сотрудник     0  112080.014102   \n",
       "2   женат / замужем                 0      M   сотрудник     0  145885.952297   \n",
       "3   женат / замужем                 0      M   сотрудник     0  267628.550329   \n",
       "4  гражданский брак                 1      F   пенсионер     0  158616.077870   \n",
       "\n",
       "                      purpose  \n",
       "0               покупка жилья  \n",
       "1     приобретение автомобиля  \n",
       "2               покупка жилья  \n",
       "3  дополнительное образование  \n",
       "4             сыграть свадьбу  "
      ]
     },
     "execution_count": 18,
     "metadata": {},
     "output_type": "execute_result"
    }
   ],
   "source": [
    "#получим первые пять строк таблицы df после корректировки стажа в столбце days_employed\n",
    "print('Первые пять строк таблицы df после корректировки стажа в столбце days_employed:')\n",
    "df.head()"
   ]
  },
  {
   "cell_type": "markdown",
   "metadata": {},
   "source": [
    "#### Вывод"
   ]
  },
  {
   "cell_type": "markdown",
   "metadata": {},
   "source": [
    "Также в столце 'days_employed' для некоторых позиций указан трудовой стаж, невозможный для среднестатистического землянина (401755 дней - это более 1000 лет трудового стажа). Возможно, стаж ошибочно записывали не в днях, а в часах.\n",
    "Тогда переведём такие значения в дни. Отталкиваться будем от значения среднего трудового стажа в 35 лет или 12775 дней (сведения из интернета). Все значения, которые превышают средний трудовой стаж, поделим на 24. Напишем функцию, которая сравнивает значение в столбце со средним значением и при превышении делит на 24.\n",
    "Максимальный трудовой стаж в наборе данных после корректировки: 45 лет.\n",
    "Минимальный трудовой стаж в наборе данных: 24 дня."
   ]
  },
  {
   "cell_type": "code",
   "execution_count": 19,
   "metadata": {},
   "outputs": [
    {
     "name": "stdout",
     "output_type": "stream",
     "text": [
      "                 count        median\n",
      "income_type                         \n",
      "безработный          2  15267.235531\n",
      "в декрете            1   3296.759962\n",
      "госслужащий       1312   2640.576698\n",
      "компаньон         4577   1526.115535\n",
      "пенсионер         3443  15217.221094\n",
      "предприниматель      1    520.848083\n",
      "сотрудник        10014   1563.230174\n",
      "студент              1    578.751554\n"
     ]
    }
   ],
   "source": [
    "#сгруппируем по типу занятости и посмотрим количество в каждой группе и медианное значение трудового стажа для каждой группы\n",
    "print(df.groupby('income_type')['days_employed'].agg(['count', 'median']))"
   ]
  },
  {
   "cell_type": "code",
   "execution_count": 20,
   "metadata": {},
   "outputs": [],
   "source": [
    "#создадим словарь, где ключи - это значения столбца income_type, а значения по ключам - соответствующие медианы\n",
    "days_employed_dict = df.groupby('income_type')['days_employed'].median().to_dict()\n",
    "\n",
    "#напишем функцию, которая заполняет пропущенные значения трудового стажа соответствующим данной группе значением из словаря\n",
    "def fill_days_employed(row):\n",
    "    #проверяем значение в столбце days_employed является пропущенным или нет\n",
    "    if pd.isna(row['days_employed']):\n",
    "        #если значение пропущено, то берем медиану для заполнения из словаря\n",
    "        return days_employed_dict[row['income_type']]\n",
    "    #если значение не пропущено, то возвращаем его\n",
    "    else:\n",
    "        return row['days_employed']\n",
    "\n",
    "df['days_employed'] = df.apply(fill_days_employed, axis=1)"
   ]
  },
  {
   "cell_type": "code",
   "execution_count": 21,
   "metadata": {},
   "outputs": [
    {
     "name": "stdout",
     "output_type": "stream",
     "text": [
      "Cуммарное количество пропусков для столбца days_employed после обработки пропусков:\n",
      "0\n"
     ]
    }
   ],
   "source": [
    "#убедимся, что после замены пропущенных значений столбец days_employed не содержит пропусков\n",
    "print('Cуммарное количество пропусков для столбца days_employed после обработки пропусков:')\n",
    "print(df['days_employed'].isnull().sum())"
   ]
  },
  {
   "cell_type": "markdown",
   "metadata": {},
   "source": [
    "#### Вывод"
   ]
  },
  {
   "cell_type": "markdown",
   "metadata": {},
   "source": [
    "Для замены пропущенных значений в столбце 'days_employed' сгруппируем значения по типу занятости и посмотрим количество в каждой группе и медианное значение трудового стажа для каждой группы. Далее создадим из сгруппированных значений словарь,  где ключи - это значения столбца 'income_type', а значения по ключам - соответствующие медианы, и напишем функцию, которая проверяет, отсутствует ли значение в столбце 'days_employed', и если отсутствует, то заменяет медианным значением для данной группы.\n",
    "После замены пропущенных значений убедимся, что суммарное количество пропусков для данного столбца равно нулю."
   ]
  },
  {
   "cell_type": "markdown",
   "metadata": {},
   "source": [
    "#### Столбец 'dob_years'"
   ]
  },
  {
   "cell_type": "code",
   "execution_count": 22,
   "metadata": {},
   "outputs": [
    {
     "name": "stdout",
     "output_type": "stream",
     "text": [
      "Уникальные значения в столбце dob_years:\n",
      "35    617\n",
      "40    609\n",
      "41    607\n",
      "34    603\n",
      "38    598\n",
      "42    597\n",
      "33    581\n",
      "39    573\n",
      "31    560\n",
      "36    555\n",
      "44    547\n",
      "29    545\n",
      "30    540\n",
      "48    538\n",
      "37    537\n",
      "50    514\n",
      "43    513\n",
      "32    510\n",
      "49    508\n",
      "28    503\n",
      "45    497\n",
      "27    493\n",
      "56    487\n",
      "52    484\n",
      "47    480\n",
      "54    479\n",
      "46    475\n",
      "58    461\n",
      "57    460\n",
      "53    459\n",
      "51    448\n",
      "59    444\n",
      "55    443\n",
      "26    408\n",
      "60    377\n",
      "25    357\n",
      "61    355\n",
      "62    352\n",
      "63    269\n",
      "64    265\n",
      "24    264\n",
      "23    254\n",
      "65    194\n",
      "66    183\n",
      "22    183\n",
      "67    167\n",
      "21    111\n",
      "0     101\n",
      "68     99\n",
      "69     85\n",
      "70     65\n",
      "71     58\n",
      "20     51\n",
      "72     33\n",
      "19     14\n",
      "73      8\n",
      "74      6\n",
      "75      1\n",
      "Name: dob_years, dtype: int64\n"
     ]
    }
   ],
   "source": [
    "#выделим уникальные значения в столбце dob_years\n",
    "print('Уникальные значения в столбце dob_years:')\n",
    "print(df['dob_years'].value_counts())"
   ]
  },
  {
   "cell_type": "code",
   "execution_count": 23,
   "metadata": {},
   "outputs": [
    {
     "data": {
      "text/plain": [
       "75"
      ]
     },
     "execution_count": 23,
     "metadata": {},
     "output_type": "execute_result"
    }
   ],
   "source": [
    "#выявим самого взрослого заёмщика\n",
    "df['dob_years'].max()"
   ]
  },
  {
   "cell_type": "code",
   "execution_count": 24,
   "metadata": {},
   "outputs": [
    {
     "data": {
      "text/plain": [
       "0"
      ]
     },
     "execution_count": 24,
     "metadata": {},
     "output_type": "execute_result"
    }
   ],
   "source": [
    "#выявим самого юного заёмщика\n",
    "df['dob_years'].min()"
   ]
  },
  {
   "cell_type": "code",
   "execution_count": 25,
   "metadata": {},
   "outputs": [
    {
     "data": {
      "text/plain": [
       "42.0"
      ]
     },
     "execution_count": 25,
     "metadata": {},
     "output_type": "execute_result"
    }
   ],
   "source": [
    "#найдём медианное значение для данного столбца\n",
    "df['dob_years'].median()"
   ]
  },
  {
   "cell_type": "code",
   "execution_count": 26,
   "metadata": {},
   "outputs": [],
   "source": [
    "#скореектируем подозрительные значения\n",
    "df.loc[(df.dob_years == 0), 'dob_years'] = 42"
   ]
  },
  {
   "cell_type": "code",
   "execution_count": 27,
   "metadata": {},
   "outputs": [
    {
     "name": "stdout",
     "output_type": "stream",
     "text": [
      "Уникальные значения в столбце dob_years после корректировки:\n",
      "42    698\n",
      "35    617\n",
      "40    609\n",
      "41    607\n",
      "34    603\n",
      "38    598\n",
      "33    581\n",
      "39    573\n",
      "31    560\n",
      "36    555\n",
      "44    547\n",
      "29    545\n",
      "30    540\n",
      "48    538\n",
      "37    537\n",
      "50    514\n",
      "43    513\n",
      "32    510\n",
      "49    508\n",
      "28    503\n",
      "45    497\n",
      "27    493\n",
      "56    487\n",
      "52    484\n",
      "47    480\n",
      "54    479\n",
      "46    475\n",
      "58    461\n",
      "57    460\n",
      "53    459\n",
      "51    448\n",
      "59    444\n",
      "55    443\n",
      "26    408\n",
      "60    377\n",
      "25    357\n",
      "61    355\n",
      "62    352\n",
      "63    269\n",
      "64    265\n",
      "24    264\n",
      "23    254\n",
      "65    194\n",
      "66    183\n",
      "22    183\n",
      "67    167\n",
      "21    111\n",
      "68     99\n",
      "69     85\n",
      "70     65\n",
      "71     58\n",
      "20     51\n",
      "72     33\n",
      "19     14\n",
      "73      8\n",
      "74      6\n",
      "75      1\n",
      "Name: dob_years, dtype: int64\n"
     ]
    }
   ],
   "source": [
    "#выделим уникальные значения в столбце dob_years после корректировки\n",
    "print('Уникальные значения в столбце dob_years после корректировки:')\n",
    "print(df['dob_years'].value_counts())"
   ]
  },
  {
   "cell_type": "code",
   "execution_count": 28,
   "metadata": {},
   "outputs": [
    {
     "data": {
      "text/plain": [
       "19"
      ]
     },
     "execution_count": 28,
     "metadata": {},
     "output_type": "execute_result"
    }
   ],
   "source": [
    "#выявим самого юного заёмщика после корректировки\n",
    "df['dob_years'].min()"
   ]
  },
  {
   "cell_type": "markdown",
   "metadata": {},
   "source": [
    "#### Вывод"
   ]
  },
  {
   "cell_type": "markdown",
   "metadata": {},
   "source": [
    "В столбце dob_years присутствуют совсем юные заёмщики, возраст которых - нуль. Заменим данное значение медианным для столбца. После корректировки данные отображаются корректно.\n",
    "Самый юный заёмщик возрастом 19 лет.\n",
    "Самый взрослый заёмщик возрастом 75 лет."
   ]
  },
  {
   "cell_type": "markdown",
   "metadata": {},
   "source": [
    "#### Столбец 'education'"
   ]
  },
  {
   "cell_type": "code",
   "execution_count": 29,
   "metadata": {},
   "outputs": [
    {
     "name": "stdout",
     "output_type": "stream",
     "text": [
      "Уникальные значения в столбце education:\n",
      "среднее                13750\n",
      "высшее                  4718\n",
      "СРЕДНЕЕ                  772\n",
      "Среднее                  711\n",
      "неоконченное высшее      668\n",
      "ВЫСШЕЕ                   274\n",
      "Высшее                   268\n",
      "начальное                250\n",
      "Неоконченное высшее       47\n",
      "НЕОКОНЧЕННОЕ ВЫСШЕЕ       29\n",
      "НАЧАЛЬНОЕ                 17\n",
      "Начальное                 15\n",
      "ученая степень             4\n",
      "Ученая степень             1\n",
      "УЧЕНАЯ СТЕПЕНЬ             1\n",
      "Name: education, dtype: int64\n"
     ]
    }
   ],
   "source": [
    "#выделим уникальные значения в столбце education\n",
    "print('Уникальные значения в столбце education:')\n",
    "print(df['education'].value_counts())"
   ]
  },
  {
   "cell_type": "markdown",
   "metadata": {},
   "source": [
    "#### Вывод"
   ]
  },
  {
   "cell_type": "markdown",
   "metadata": {},
   "source": [
    "В столбце education данные отображаются корректно, регистр скорректируем на шаге \"Обработка дубликатов\""
   ]
  },
  {
   "cell_type": "markdown",
   "metadata": {},
   "source": [
    "#### Столбец 'education_id'"
   ]
  },
  {
   "cell_type": "code",
   "execution_count": 30,
   "metadata": {},
   "outputs": [
    {
     "name": "stdout",
     "output_type": "stream",
     "text": [
      "Уникальные значения в столбце education_id:\n",
      "1    15233\n",
      "0     5260\n",
      "2      744\n",
      "3      282\n",
      "4        6\n",
      "Name: education_id, dtype: int64\n"
     ]
    }
   ],
   "source": [
    "#выделим уникальные значения в столбце education_id\n",
    "print('Уникальные значения в столбце education_id:')\n",
    "print(df['education_id'].value_counts())"
   ]
  },
  {
   "cell_type": "markdown",
   "metadata": {},
   "source": [
    "#### Вывод"
   ]
  },
  {
   "cell_type": "markdown",
   "metadata": {},
   "source": [
    "В столбце education_id данные отображаются корректно, правки вносить не требуется"
   ]
  },
  {
   "cell_type": "markdown",
   "metadata": {},
   "source": [
    "#### Столбец 'family_status'"
   ]
  },
  {
   "cell_type": "code",
   "execution_count": 31,
   "metadata": {},
   "outputs": [
    {
     "name": "stdout",
     "output_type": "stream",
     "text": [
      "Уникальные значения в столбце family_status:\n",
      "женат / замужем          12380\n",
      "гражданский брак          4177\n",
      "Не женат / не замужем     2813\n",
      "в разводе                 1195\n",
      "вдовец / вдова             960\n",
      "Name: family_status, dtype: int64\n"
     ]
    }
   ],
   "source": [
    "#выделим уникальные значения в столбце family_status\n",
    "print('Уникальные значения в столбце family_status:')\n",
    "print(df['family_status'].value_counts())"
   ]
  },
  {
   "cell_type": "markdown",
   "metadata": {},
   "source": [
    "#### Вывод"
   ]
  },
  {
   "cell_type": "markdown",
   "metadata": {},
   "source": [
    "В столбце family_status данные отображаются корректно, правки вносить не требуется"
   ]
  },
  {
   "cell_type": "markdown",
   "metadata": {},
   "source": [
    "#### Столбец 'family_status_id'"
   ]
  },
  {
   "cell_type": "code",
   "execution_count": 32,
   "metadata": {},
   "outputs": [
    {
     "name": "stdout",
     "output_type": "stream",
     "text": [
      "Уникальные значения в столбце family_status_id:\n",
      "0    12380\n",
      "1     4177\n",
      "4     2813\n",
      "3     1195\n",
      "2      960\n",
      "Name: family_status_id, dtype: int64\n"
     ]
    }
   ],
   "source": [
    "#выделим уникальные значения в столбце family_status_id\n",
    "print('Уникальные значения в столбце family_status_id:')\n",
    "print(df['family_status_id'].value_counts())"
   ]
  },
  {
   "cell_type": "markdown",
   "metadata": {},
   "source": [
    "#### Вывод"
   ]
  },
  {
   "cell_type": "markdown",
   "metadata": {},
   "source": [
    "В столбце family_status_id данные отображаются корректно, правки вносить не требуется"
   ]
  },
  {
   "cell_type": "markdown",
   "metadata": {},
   "source": [
    "#### Столбец 'gender'"
   ]
  },
  {
   "cell_type": "code",
   "execution_count": 33,
   "metadata": {},
   "outputs": [
    {
     "name": "stdout",
     "output_type": "stream",
     "text": [
      "Уникальные значения в столбце gender:\n",
      "F      14236\n",
      "M       7288\n",
      "XNA        1\n",
      "Name: gender, dtype: int64\n"
     ]
    }
   ],
   "source": [
    "#выделим уникальные значения в столбце gender\n",
    "print('Уникальные значения в столбце gender:')\n",
    "print(df['gender'].value_counts())"
   ]
  },
  {
   "cell_type": "markdown",
   "metadata": {},
   "source": [
    "#### Вывод"
   ]
  },
  {
   "cell_type": "markdown",
   "metadata": {},
   "source": [
    "В столбцe 'gender' встречается пол, расшифровку которого найти не удалось. Если этот пол - некий существующий формат, то значит выгрузка получена не от российского банка. Удалять данное значение не будем, т.к. на поставленные задачи это не влияет.\n",
    "\n",
    "Среди заёмщиков больше представителей женского пола  - 14236 человек."
   ]
  },
  {
   "cell_type": "markdown",
   "metadata": {},
   "source": [
    "#### Столбец 'income_type'"
   ]
  },
  {
   "cell_type": "code",
   "execution_count": 34,
   "metadata": {},
   "outputs": [
    {
     "name": "stdout",
     "output_type": "stream",
     "text": [
      "Тип занятости:\n",
      "сотрудник          11119\n",
      "компаньон           5085\n",
      "пенсионер           3856\n",
      "госслужащий         1459\n",
      "безработный            2\n",
      "предприниматель        2\n",
      "студент                1\n",
      "в декрете              1\n",
      "Name: income_type, dtype: int64\n"
     ]
    }
   ],
   "source": [
    "#выделим уникальные значения в столбце с типом занятости income_type\n",
    "print('Тип занятости:')\n",
    "print(df['income_type'].value_counts())"
   ]
  },
  {
   "cell_type": "markdown",
   "metadata": {},
   "source": [
    "#### Вывод"
   ]
  },
  {
   "cell_type": "markdown",
   "metadata": {},
   "source": [
    "В столбце income_type данные отображаются корректно, правки вносить не требуется"
   ]
  },
  {
   "cell_type": "markdown",
   "metadata": {},
   "source": [
    "#### Столбец 'debt'"
   ]
  },
  {
   "cell_type": "code",
   "execution_count": 35,
   "metadata": {},
   "outputs": [
    {
     "name": "stdout",
     "output_type": "stream",
     "text": [
      "Уникальные значения в столбце debt:\n",
      "0    19784\n",
      "1     1741\n",
      "Name: debt, dtype: int64\n"
     ]
    }
   ],
   "source": [
    "#выделим уникальные значения в столбце debt\n",
    "print('Уникальные значения в столбце debt:')\n",
    "print(df['debt'].value_counts())"
   ]
  },
  {
   "cell_type": "code",
   "execution_count": 36,
   "metadata": {},
   "outputs": [
    {
     "name": "stdout",
     "output_type": "stream",
     "text": [
      "8.088269454123113\n"
     ]
    }
   ],
   "source": [
    "#посмотрим средний процент просрочки\n",
    "print(df['debt'].mean()*100)"
   ]
  },
  {
   "cell_type": "markdown",
   "metadata": {},
   "source": [
    "#### Вывод"
   ]
  },
  {
   "cell_type": "markdown",
   "metadata": {},
   "source": [
    "В столбце debt данные отображаются корректно, правки вносить не требуется.\n",
    "Средний процент просрочки составляет 8%."
   ]
  },
  {
   "cell_type": "markdown",
   "metadata": {},
   "source": [
    "#### Столбец 'total_income'"
   ]
  },
  {
   "cell_type": "code",
   "execution_count": 37,
   "metadata": {},
   "outputs": [
    {
     "name": "stdout",
     "output_type": "stream",
     "text": [
      "count    1.935100e+04\n",
      "mean     1.674223e+05\n",
      "std      1.029716e+05\n",
      "min      2.066726e+04\n",
      "25%      1.030532e+05\n",
      "50%      1.450179e+05\n",
      "75%      2.034351e+05\n",
      "max      2.265604e+06\n",
      "Name: total_income, dtype: float64\n"
     ]
    }
   ],
   "source": [
    "#посмотрим, какие значения встречаются в столбце total_income\n",
    "print(df['total_income'].describe())"
   ]
  },
  {
   "cell_type": "code",
   "execution_count": 38,
   "metadata": {},
   "outputs": [
    {
     "name": "stdout",
     "output_type": "stream",
     "text": [
      "                 count         median\n",
      "income_type                          \n",
      "безработный          2  131339.751676\n",
      "в декрете            1   53829.130729\n",
      "госслужащий       1312  150447.935283\n",
      "компаньон         4577  172357.950966\n",
      "пенсионер         3443  118514.486412\n",
      "предприниматель      1  499163.144947\n",
      "сотрудник        10014  142594.396847\n",
      "студент              1   98201.625314\n"
     ]
    }
   ],
   "source": [
    "#сгруппируем по типу занятости и посмотрим количество в каждой группе и медианное значение дохода для каждой группы\n",
    "print(df.groupby('income_type')['total_income'].agg(['count', 'median']))"
   ]
  },
  {
   "cell_type": "code",
   "execution_count": 39,
   "metadata": {},
   "outputs": [],
   "source": [
    "#создадим словарь, где ключи - это значения столбца income_type, а значения по ключам - соответствующие медианы\n",
    "total_income_dict = df.groupby('income_type')['total_income'].median().to_dict()\n",
    "\n",
    "#напишем функцию, которая заполняет пропущенные значения трудового стажа соответствующим данной группе значением из словаря\n",
    "def fill_total_income(row):\n",
    "    #проверяем значение в столбце days_employed является пропущенным или нет\n",
    "    if pd.isna(row['total_income']):\n",
    "        #если значение пропущено, то берем медиану для заполнения из словаря\n",
    "        return total_income_dict[row['income_type']]\n",
    "    #если значение не пропущено, то возвращаем его\n",
    "    else:\n",
    "        return row['total_income']\n",
    "\n",
    "df['total_income'] = df.apply(fill_total_income, axis=1)"
   ]
  },
  {
   "cell_type": "code",
   "execution_count": 40,
   "metadata": {},
   "outputs": [
    {
     "name": "stdout",
     "output_type": "stream",
     "text": [
      "Максимальное значение дохода заёмщика 2265604.028722744\n"
     ]
    }
   ],
   "source": [
    "#максимальное значение дохода заёмщика\n",
    "print('Максимальное значение дохода заёмщика', df['total_income'].max())"
   ]
  },
  {
   "cell_type": "code",
   "execution_count": 41,
   "metadata": {},
   "outputs": [
    {
     "name": "stdout",
     "output_type": "stream",
     "text": [
      "Минимальное значение дохода заёмщика 20667.26379327158\n"
     ]
    }
   ],
   "source": [
    "#минимальное значение дохода заёмщика\n",
    "print('Минимальное значение дохода заёмщика', df['total_income'].min())"
   ]
  },
  {
   "cell_type": "code",
   "execution_count": 42,
   "metadata": {},
   "outputs": [
    {
     "name": "stdout",
     "output_type": "stream",
     "text": [
      "Cуммарное количество пропусков для столбца total_income после обработки пропусков:\n",
      "0\n"
     ]
    }
   ],
   "source": [
    "#убедимся, что после замены пропущенных значений столбец total_income не содержит пропусков\n",
    "print('Cуммарное количество пропусков для столбца total_income после обработки пропусков:')\n",
    "print(df['total_income'].isnull().sum())"
   ]
  },
  {
   "cell_type": "markdown",
   "metadata": {},
   "source": [
    "#### Вывод"
   ]
  },
  {
   "cell_type": "markdown",
   "metadata": {},
   "source": [
    "Для замены пропущенных значений в столбце 'total_income' сгруппируем значения по типу занятости и посмотрим количество в каждой группе и медианное значение дохода для каждой группы. Далее создадим из сгруппированных значений словарь,  где ключи - это значения столбца 'income_type', а значения по ключам - соответствующие медианы, и напишем функцию, которая проверяет, отсутствует ли значение в столбце 'total_income', и если отсутствует, то заменяет медианным значением для данной группы.\n",
    "После замены пропущенных значений убедимся, что суммарное количество пропусков для данного столбца равно нулю.\n",
    "\n",
    "Максимальное значение дохода заёмщика в наборе данных: 2265604.028722744\n",
    "Минимальное значение дохода заёмщика в наборе данных: 20667.26379327158"
   ]
  },
  {
   "cell_type": "markdown",
   "metadata": {},
   "source": [
    "#### Столбец 'purpose'"
   ]
  },
  {
   "cell_type": "code",
   "execution_count": 43,
   "metadata": {},
   "outputs": [
    {
     "name": "stdout",
     "output_type": "stream",
     "text": [
      "Уникальные значения в столбце purpose:\n",
      "свадьба                                   797\n",
      "на проведение свадьбы                     777\n",
      "сыграть свадьбу                           774\n",
      "операции с недвижимостью                  676\n",
      "покупка коммерческой недвижимости         664\n",
      "операции с жильем                         653\n",
      "покупка жилья для сдачи                   653\n",
      "операции с коммерческой недвижимостью     651\n",
      "покупка жилья                             647\n",
      "жилье                                     647\n",
      "покупка жилья для семьи                   641\n",
      "строительство собственной недвижимости    635\n",
      "недвижимость                              634\n",
      "операции со своей недвижимостью           630\n",
      "строительство жилой недвижимости          626\n",
      "покупка недвижимости                      624\n",
      "покупка своего жилья                      620\n",
      "строительство недвижимости                620\n",
      "ремонт жилью                              612\n",
      "покупка жилой недвижимости                607\n",
      "на покупку своего автомобиля              505\n",
      "заняться высшим образованием              496\n",
      "автомобиль                                495\n",
      "сделка с подержанным автомобилем          489\n",
      "свой автомобиль                           480\n",
      "на покупку подержанного автомобиля        479\n",
      "автомобили                                478\n",
      "на покупку автомобиля                     472\n",
      "дополнительное образование                462\n",
      "приобретение автомобиля                   462\n",
      "сделка с автомобилем                      455\n",
      "высшее образование                        453\n",
      "образование                               447\n",
      "получение дополнительного образования     447\n",
      "получение образования                     443\n",
      "профильное образование                    436\n",
      "получение высшего образования             426\n",
      "заняться образованием                     412\n",
      "Name: purpose, dtype: int64\n"
     ]
    }
   ],
   "source": [
    "print('Уникальные значения в столбце purpose:')\n",
    "print(df['purpose'].value_counts())"
   ]
  },
  {
   "cell_type": "markdown",
   "metadata": {},
   "source": [
    "#### Вывод"
   ]
  },
  {
   "cell_type": "markdown",
   "metadata": {},
   "source": [
    "В столбце purpose данные отображаются корректно, правки вносить не требуется"
   ]
  },
  {
   "cell_type": "code",
   "execution_count": 44,
   "metadata": {},
   "outputs": [
    {
     "name": "stdout",
     "output_type": "stream",
     "text": [
      "Cуммарное количество пропусков для каждого столбца после обработки пропусков:\n",
      "children            0\n",
      "days_employed       0\n",
      "dob_years           0\n",
      "education           0\n",
      "education_id        0\n",
      "family_status       0\n",
      "family_status_id    0\n",
      "gender              0\n",
      "income_type         0\n",
      "debt                0\n",
      "total_income        0\n",
      "purpose             0\n",
      "dtype: int64\n"
     ]
    }
   ],
   "source": [
    "#убедимся, что после замены таблица больше не содержит пропусков\n",
    "print('Cуммарное количество пропусков для каждого столбца после обработки пропусков:')\n",
    "print(df.isnull().sum())"
   ]
  },
  {
   "cell_type": "markdown",
   "metadata": {},
   "source": [
    "### Вывод"
   ]
  },
  {
   "cell_type": "markdown",
   "metadata": {},
   "source": [
    "Для набора данных изучили данные в каждом столбце, обработали пропущенные значения, выявили артефакты, скорректировали подозрительные значения. \n",
    "После произведенных замен таблица больше не содержит пропусков."
   ]
  },
  {
   "cell_type": "markdown",
   "metadata": {},
   "source": [
    "### Замена типа данных"
   ]
  },
  {
   "cell_type": "code",
   "execution_count": 45,
   "metadata": {},
   "outputs": [],
   "source": [
    "#в столбцах 'days_employed', 'total_income' заменим вещественный тип данных на целочисленный\n",
    "df['days_employed'] = df['days_employed'].astype('int')\n",
    "df['total_income'] = df['total_income'].astype('int')"
   ]
  },
  {
   "cell_type": "code",
   "execution_count": 46,
   "metadata": {},
   "outputs": [
    {
     "name": "stdout",
     "output_type": "stream",
     "text": [
      "Общая информация о наборе данных после заполнения пропущенных значений и замены типа данных:\n",
      "<class 'pandas.core.frame.DataFrame'>\n",
      "RangeIndex: 21525 entries, 0 to 21524\n",
      "Data columns (total 12 columns):\n",
      "children            21525 non-null int64\n",
      "days_employed       21525 non-null int64\n",
      "dob_years           21525 non-null int64\n",
      "education           21525 non-null object\n",
      "education_id        21525 non-null int64\n",
      "family_status       21525 non-null object\n",
      "family_status_id    21525 non-null int64\n",
      "gender              21525 non-null object\n",
      "income_type         21525 non-null object\n",
      "debt                21525 non-null int64\n",
      "total_income        21525 non-null int64\n",
      "purpose             21525 non-null object\n",
      "dtypes: int64(7), object(5)\n",
      "memory usage: 2.0+ MB\n",
      "None\n"
     ]
    }
   ],
   "source": [
    "#получим общую информацию о таблице после заполнения пропущенных значений и замены типа данных\n",
    "print('Общая информация о наборе данных после заполнения пропущенных значений и замены типа данных:')\n",
    "print(df.info())"
   ]
  },
  {
   "cell_type": "markdown",
   "metadata": {},
   "source": [
    "### Вывод"
   ]
  },
  {
   "cell_type": "markdown",
   "metadata": {},
   "source": [
    "Для замены вещественного типа float64 на целочисленный int64 используем метод astype() с аргументом ('int')\n",
    "После проведения замены в столбцах 'days_employed', 'total_income' тип данных указан int64"
   ]
  },
  {
   "cell_type": "markdown",
   "metadata": {},
   "source": [
    "### Обработка дубликатов"
   ]
  },
  {
   "cell_type": "code",
   "execution_count": 47,
   "metadata": {},
   "outputs": [
    {
     "name": "stdout",
     "output_type": "stream",
     "text": [
      "Количество дубликатов в наборе данных до обработки:\n",
      "55\n"
     ]
    }
   ],
   "source": [
    "#посчитаем количество дубликатов в наборе данных\n",
    "print('Количество дубликатов в наборе данных до обработки:')\n",
    "print(df.duplicated().sum()) "
   ]
  },
  {
   "cell_type": "code",
   "execution_count": 48,
   "metadata": {},
   "outputs": [
    {
     "name": "stdout",
     "output_type": "stream",
     "text": [
      "Строки с дубликатами:\n"
     ]
    },
    {
     "data": {
      "text/html": [
       "<div>\n",
       "<style scoped>\n",
       "    .dataframe tbody tr th:only-of-type {\n",
       "        vertical-align: middle;\n",
       "    }\n",
       "\n",
       "    .dataframe tbody tr th {\n",
       "        vertical-align: top;\n",
       "    }\n",
       "\n",
       "    .dataframe thead th {\n",
       "        text-align: right;\n",
       "    }\n",
       "</style>\n",
       "<table border=\"1\" class=\"dataframe\">\n",
       "  <thead>\n",
       "    <tr style=\"text-align: right;\">\n",
       "      <th></th>\n",
       "      <th>children</th>\n",
       "      <th>days_employed</th>\n",
       "      <th>dob_years</th>\n",
       "      <th>education</th>\n",
       "      <th>education_id</th>\n",
       "      <th>family_status</th>\n",
       "      <th>family_status_id</th>\n",
       "      <th>gender</th>\n",
       "      <th>income_type</th>\n",
       "      <th>debt</th>\n",
       "      <th>total_income</th>\n",
       "      <th>purpose</th>\n",
       "    </tr>\n",
       "  </thead>\n",
       "  <tbody>\n",
       "    <tr>\n",
       "      <td>2849</td>\n",
       "      <td>0</td>\n",
       "      <td>1563</td>\n",
       "      <td>41</td>\n",
       "      <td>среднее</td>\n",
       "      <td>1</td>\n",
       "      <td>женат / замужем</td>\n",
       "      <td>0</td>\n",
       "      <td>F</td>\n",
       "      <td>сотрудник</td>\n",
       "      <td>0</td>\n",
       "      <td>142594</td>\n",
       "      <td>покупка жилья для семьи</td>\n",
       "    </tr>\n",
       "    <tr>\n",
       "      <td>4182</td>\n",
       "      <td>1</td>\n",
       "      <td>1563</td>\n",
       "      <td>34</td>\n",
       "      <td>ВЫСШЕЕ</td>\n",
       "      <td>0</td>\n",
       "      <td>гражданский брак</td>\n",
       "      <td>1</td>\n",
       "      <td>F</td>\n",
       "      <td>сотрудник</td>\n",
       "      <td>0</td>\n",
       "      <td>142594</td>\n",
       "      <td>свадьба</td>\n",
       "    </tr>\n",
       "    <tr>\n",
       "      <td>4851</td>\n",
       "      <td>0</td>\n",
       "      <td>15217</td>\n",
       "      <td>60</td>\n",
       "      <td>среднее</td>\n",
       "      <td>1</td>\n",
       "      <td>гражданский брак</td>\n",
       "      <td>1</td>\n",
       "      <td>F</td>\n",
       "      <td>пенсионер</td>\n",
       "      <td>0</td>\n",
       "      <td>118514</td>\n",
       "      <td>свадьба</td>\n",
       "    </tr>\n",
       "    <tr>\n",
       "      <td>5557</td>\n",
       "      <td>0</td>\n",
       "      <td>15217</td>\n",
       "      <td>58</td>\n",
       "      <td>среднее</td>\n",
       "      <td>1</td>\n",
       "      <td>гражданский брак</td>\n",
       "      <td>1</td>\n",
       "      <td>F</td>\n",
       "      <td>пенсионер</td>\n",
       "      <td>0</td>\n",
       "      <td>118514</td>\n",
       "      <td>сыграть свадьбу</td>\n",
       "    </tr>\n",
       "    <tr>\n",
       "      <td>7808</td>\n",
       "      <td>0</td>\n",
       "      <td>15217</td>\n",
       "      <td>57</td>\n",
       "      <td>среднее</td>\n",
       "      <td>1</td>\n",
       "      <td>гражданский брак</td>\n",
       "      <td>1</td>\n",
       "      <td>F</td>\n",
       "      <td>пенсионер</td>\n",
       "      <td>0</td>\n",
       "      <td>118514</td>\n",
       "      <td>на проведение свадьбы</td>\n",
       "    </tr>\n",
       "  </tbody>\n",
       "</table>\n",
       "</div>"
      ],
      "text/plain": [
       "      children  days_employed  dob_years education  education_id  \\\n",
       "2849         0           1563         41   среднее             1   \n",
       "4182         1           1563         34    ВЫСШЕЕ             0   \n",
       "4851         0          15217         60   среднее             1   \n",
       "5557         0          15217         58   среднее             1   \n",
       "7808         0          15217         57   среднее             1   \n",
       "\n",
       "         family_status  family_status_id gender income_type  debt  \\\n",
       "2849   женат / замужем                 0      F   сотрудник     0   \n",
       "4182  гражданский брак                 1      F   сотрудник     0   \n",
       "4851  гражданский брак                 1      F   пенсионер     0   \n",
       "5557  гражданский брак                 1      F   пенсионер     0   \n",
       "7808  гражданский брак                 1      F   пенсионер     0   \n",
       "\n",
       "      total_income                  purpose  \n",
       "2849        142594  покупка жилья для семьи  \n",
       "4182        142594                  свадьба  \n",
       "4851        118514                  свадьба  \n",
       "5557        118514          сыграть свадьбу  \n",
       "7808        118514    на проведение свадьбы  "
      ]
     },
     "execution_count": 48,
     "metadata": {},
     "output_type": "execute_result"
    }
   ],
   "source": [
    "#выведем строки с дубликатами\n",
    "print('Строки с дубликатами:')\n",
    "df[df.duplicated()].head()"
   ]
  },
  {
   "cell_type": "code",
   "execution_count": 49,
   "metadata": {},
   "outputs": [],
   "source": [
    "#переведём значения в столбце education в нижний регистр\n",
    "df['education'] = df['education'].str.lower()"
   ]
  },
  {
   "cell_type": "code",
   "execution_count": 50,
   "metadata": {},
   "outputs": [
    {
     "name": "stdout",
     "output_type": "stream",
     "text": [
      "Количество дубликатов в наборе данных после перевода значений в столбце education в нижний регистр:\n",
      "72\n"
     ]
    }
   ],
   "source": [
    "#посчитаем количество дубликатов в наборе данных после перевода значений в столбце education в нижний регистр\n",
    "print('Количество дубликатов в наборе данных после перевода значений в столбце education в нижний регистр:')\n",
    "print(df.duplicated().sum()) "
   ]
  },
  {
   "cell_type": "code",
   "execution_count": 51,
   "metadata": {},
   "outputs": [],
   "source": [
    "#удалим дубликаты\n",
    "df = df.drop_duplicates().reset_index()"
   ]
  },
  {
   "cell_type": "code",
   "execution_count": 52,
   "metadata": {},
   "outputs": [
    {
     "name": "stdout",
     "output_type": "stream",
     "text": [
      "Количество дубликатов в наборе данных после обработки:\n",
      "0\n"
     ]
    }
   ],
   "source": [
    "#проверим, оставлись ли дубликаты\n",
    "print('Количество дубликатов в наборе данных после обработки:')\n",
    "print(df.duplicated().sum()) "
   ]
  },
  {
   "cell_type": "markdown",
   "metadata": {},
   "source": [
    "### Вывод"
   ]
  },
  {
   "cell_type": "markdown",
   "metadata": {},
   "source": [
    "Поиск дубликатов (грубых повторов) осуществляем при помощи метода duplicated(). Количество дубликатов посчитаем при помощи метода sum(). В наборе данных оказалось 54 строк с дубликатами.\n",
    "В столбце 'education' часть значений отличается регистром. Переведём значения в данном столбце в нижний регистр методом str.lower(). После перевода значений  в нижний регистр и подсчёта количества дубликатов значение дубликатов оказалось равным 72.\n",
    "Для общего количества строк (21525) это небольшое значение. Возможно, дубликаты появились из-за технологической ошибки.\n",
    "После удаления количество повторов равно нулю."
   ]
  },
  {
   "cell_type": "markdown",
   "metadata": {},
   "source": [
    "### Лемматизация"
   ]
  },
  {
   "cell_type": "code",
   "execution_count": 53,
   "metadata": {},
   "outputs": [],
   "source": [
    "#импортируем библиотеку pymystem3 для выделения леммы в значениях столбца с целями получения кредита\n",
    "from pymystem3 import Mystem\n",
    "m = Mystem()"
   ]
  },
  {
   "cell_type": "code",
   "execution_count": 54,
   "metadata": {},
   "outputs": [],
   "source": [
    "#лемматизируем слова в столбце с целями получения кредита\n",
    "def lemma(row):\n",
    "    #результат лемматизации - список слов - склеим при помощи метода join()\n",
    "    return ''.join(m.lemmatize(row['purpose']))"
   ]
  },
  {
   "cell_type": "code",
   "execution_count": 55,
   "metadata": {},
   "outputs": [],
   "source": [
    "#добавим столбец с лемматизированными словами к набору данных\n",
    "df['lemmas'] = df.apply(lemma, axis = 1)"
   ]
  },
  {
   "cell_type": "code",
   "execution_count": 56,
   "metadata": {},
   "outputs": [
    {
     "name": "stdout",
     "output_type": "stream",
     "text": [
      "Первые пять строк таблицы data с добавленным столбцом lemmas:\n"
     ]
    },
    {
     "data": {
      "text/html": [
       "<div>\n",
       "<style scoped>\n",
       "    .dataframe tbody tr th:only-of-type {\n",
       "        vertical-align: middle;\n",
       "    }\n",
       "\n",
       "    .dataframe tbody tr th {\n",
       "        vertical-align: top;\n",
       "    }\n",
       "\n",
       "    .dataframe thead th {\n",
       "        text-align: right;\n",
       "    }\n",
       "</style>\n",
       "<table border=\"1\" class=\"dataframe\">\n",
       "  <thead>\n",
       "    <tr style=\"text-align: right;\">\n",
       "      <th></th>\n",
       "      <th>index</th>\n",
       "      <th>children</th>\n",
       "      <th>days_employed</th>\n",
       "      <th>dob_years</th>\n",
       "      <th>education</th>\n",
       "      <th>education_id</th>\n",
       "      <th>family_status</th>\n",
       "      <th>family_status_id</th>\n",
       "      <th>gender</th>\n",
       "      <th>income_type</th>\n",
       "      <th>debt</th>\n",
       "      <th>total_income</th>\n",
       "      <th>purpose</th>\n",
       "      <th>lemmas</th>\n",
       "    </tr>\n",
       "  </thead>\n",
       "  <tbody>\n",
       "    <tr>\n",
       "      <td>0</td>\n",
       "      <td>0</td>\n",
       "      <td>1</td>\n",
       "      <td>8437</td>\n",
       "      <td>42</td>\n",
       "      <td>высшее</td>\n",
       "      <td>0</td>\n",
       "      <td>женат / замужем</td>\n",
       "      <td>0</td>\n",
       "      <td>F</td>\n",
       "      <td>сотрудник</td>\n",
       "      <td>0</td>\n",
       "      <td>253875</td>\n",
       "      <td>покупка жилья</td>\n",
       "      <td>покупка жилье\\n</td>\n",
       "    </tr>\n",
       "    <tr>\n",
       "      <td>1</td>\n",
       "      <td>1</td>\n",
       "      <td>1</td>\n",
       "      <td>4024</td>\n",
       "      <td>36</td>\n",
       "      <td>среднее</td>\n",
       "      <td>1</td>\n",
       "      <td>женат / замужем</td>\n",
       "      <td>0</td>\n",
       "      <td>F</td>\n",
       "      <td>сотрудник</td>\n",
       "      <td>0</td>\n",
       "      <td>112080</td>\n",
       "      <td>приобретение автомобиля</td>\n",
       "      <td>приобретение автомобиль\\n</td>\n",
       "    </tr>\n",
       "    <tr>\n",
       "      <td>2</td>\n",
       "      <td>2</td>\n",
       "      <td>0</td>\n",
       "      <td>5623</td>\n",
       "      <td>33</td>\n",
       "      <td>среднее</td>\n",
       "      <td>1</td>\n",
       "      <td>женат / замужем</td>\n",
       "      <td>0</td>\n",
       "      <td>M</td>\n",
       "      <td>сотрудник</td>\n",
       "      <td>0</td>\n",
       "      <td>145885</td>\n",
       "      <td>покупка жилья</td>\n",
       "      <td>покупка жилье\\n</td>\n",
       "    </tr>\n",
       "    <tr>\n",
       "      <td>3</td>\n",
       "      <td>3</td>\n",
       "      <td>3</td>\n",
       "      <td>4124</td>\n",
       "      <td>32</td>\n",
       "      <td>среднее</td>\n",
       "      <td>1</td>\n",
       "      <td>женат / замужем</td>\n",
       "      <td>0</td>\n",
       "      <td>M</td>\n",
       "      <td>сотрудник</td>\n",
       "      <td>0</td>\n",
       "      <td>267628</td>\n",
       "      <td>дополнительное образование</td>\n",
       "      <td>дополнительный образование\\n</td>\n",
       "    </tr>\n",
       "    <tr>\n",
       "      <td>4</td>\n",
       "      <td>4</td>\n",
       "      <td>0</td>\n",
       "      <td>14177</td>\n",
       "      <td>53</td>\n",
       "      <td>среднее</td>\n",
       "      <td>1</td>\n",
       "      <td>гражданский брак</td>\n",
       "      <td>1</td>\n",
       "      <td>F</td>\n",
       "      <td>пенсионер</td>\n",
       "      <td>0</td>\n",
       "      <td>158616</td>\n",
       "      <td>сыграть свадьбу</td>\n",
       "      <td>сыграть свадьба\\n</td>\n",
       "    </tr>\n",
       "  </tbody>\n",
       "</table>\n",
       "</div>"
      ],
      "text/plain": [
       "   index  children  days_employed  dob_years education  education_id  \\\n",
       "0      0         1           8437         42    высшее             0   \n",
       "1      1         1           4024         36   среднее             1   \n",
       "2      2         0           5623         33   среднее             1   \n",
       "3      3         3           4124         32   среднее             1   \n",
       "4      4         0          14177         53   среднее             1   \n",
       "\n",
       "      family_status  family_status_id gender income_type  debt  total_income  \\\n",
       "0   женат / замужем                 0      F   сотрудник     0        253875   \n",
       "1   женат / замужем                 0      F   сотрудник     0        112080   \n",
       "2   женат / замужем                 0      M   сотрудник     0        145885   \n",
       "3   женат / замужем                 0      M   сотрудник     0        267628   \n",
       "4  гражданский брак                 1      F   пенсионер     0        158616   \n",
       "\n",
       "                      purpose                        lemmas  \n",
       "0               покупка жилья               покупка жилье\\n  \n",
       "1     приобретение автомобиля     приобретение автомобиль\\n  \n",
       "2               покупка жилья               покупка жилье\\n  \n",
       "3  дополнительное образование  дополнительный образование\\n  \n",
       "4             сыграть свадьбу             сыграть свадьба\\n  "
      ]
     },
     "execution_count": 56,
     "metadata": {},
     "output_type": "execute_result"
    }
   ],
   "source": [
    "#получим первые пять строк таблицы df с добавленным столбцом lemmas \n",
    "print('Первые пять строк таблицы data с добавленным столбцом lemmas:')\n",
    "df.head()"
   ]
  },
  {
   "cell_type": "markdown",
   "metadata": {},
   "source": [
    "### Вывод"
   ]
  },
  {
   "cell_type": "markdown",
   "metadata": {},
   "source": [
    "Для проведения лемматизации целей кредита используем библиотеку pymystem3. Леммы в столбце 'purpose' выделяем при помощи метода m.lemmatize (). Лемматизированнные слова склеим вызовом метода join(), выделим в отдельный столбец и добавим к общему набору данных.\n"
   ]
  },
  {
   "cell_type": "markdown",
   "metadata": {},
   "source": [
    "### Категоризация данных"
   ]
  },
  {
   "cell_type": "markdown",
   "metadata": {},
   "source": [
    "#### Категоризация данных о целях кредитов"
   ]
  },
  {
   "cell_type": "code",
   "execution_count": 57,
   "metadata": {},
   "outputs": [
    {
     "name": "stdout",
     "output_type": "stream",
     "text": [
      "Уникальные цели кредитов:\n",
      "автомобиль\\n                                972\n",
      "свадьба\\n                                   791\n",
      "на проведение свадьба\\n                     767\n",
      "сыграть свадьба\\n                           765\n",
      "операция с недвижимость\\n                   675\n",
      "покупка коммерческий недвижимость\\n         661\n",
      "операция с жилье\\n                          652\n",
      "покупка жилье для сдача\\n                   651\n",
      "операция с коммерческий недвижимость\\n      650\n",
      "жилье\\n                                     646\n",
      "покупка жилье\\n                             646\n",
      "покупка жилье для семья\\n                   638\n",
      "строительство собственный недвижимость\\n    635\n",
      "недвижимость\\n                              633\n",
      "операция со свой недвижимость\\n             627\n",
      "строительство жилой недвижимость\\n          624\n",
      "покупка недвижимость\\n                      621\n",
      "покупка свой жилье\\n                        620\n",
      "строительство недвижимость\\n                619\n",
      "ремонт жилье\\n                              607\n",
      "покупка жилой недвижимость\\n                606\n",
      "на покупка свой автомобиль\\n                505\n",
      "заниматься высокий образование\\n            496\n",
      "сделка с подержанный автомобиль\\n           486\n",
      "свой автомобиль\\n                           478\n",
      "на покупка подержать автомобиль\\n           478\n",
      "на покупка автомобиль\\n                     471\n",
      "приобретение автомобиль\\n                   461\n",
      "дополнительный образование\\n                460\n",
      "сделка с автомобиль\\n                       455\n",
      "высокий образование\\n                       452\n",
      "образование\\n                               447\n",
      "получение дополнительный образование\\n      446\n",
      "получение образование\\n                     442\n",
      "профильный образование\\n                    436\n",
      "получение высокий образование\\n             426\n",
      "заниматься образование\\n                    408\n",
      "Name: lemmas, dtype: int64\n"
     ]
    }
   ],
   "source": [
    "#категоризируем данные о целях кредитов\n",
    "#выделим уникальные цели кредитов\n",
    "print('Уникальные цели кредитов:')\n",
    "print(df['lemmas'].value_counts())"
   ]
  },
  {
   "cell_type": "code",
   "execution_count": 58,
   "metadata": {},
   "outputs": [],
   "source": [
    "#напишем функцию, которая берёт на вход цель кредита и возвращает одну из категорий: автомобиль, образование, недвижимость, свадьба\n",
    "def purpose_category(row):\n",
    "    lemmas = ' '.join(m.lemmatize(row))\n",
    "    if 'авто' in lemmas:\n",
    "        return 'автомобиль'\n",
    "    elif 'образов' in lemmas:\n",
    "        return 'образование'\n",
    "    elif 'недвиж' in lemmas or 'жиль' in lemmas:\n",
    "        return 'недвижимость'\n",
    "    else:\n",
    "        return 'свадьба'"
   ]
  },
  {
   "cell_type": "code",
   "execution_count": 59,
   "metadata": {},
   "outputs": [],
   "source": [
    "#получим столбец с категориями purpose_category\n",
    "df['purpose_category'] = df['lemmas'].apply(purpose_category)"
   ]
  },
  {
   "cell_type": "markdown",
   "metadata": {},
   "source": [
    "#### Вывод"
   ]
  },
  {
   "cell_type": "markdown",
   "metadata": {},
   "source": [
    "Для категоризации данных о целях кредитов для начала рассмотрим уникальные значения в столбце с целями кредитов. Уникальные значения выделяем при помощи метода value_counts(). Из представленных целей можно выделить несколько категорий - свадьба, недвижимость, автомобиль, образование. Будем распределять значения по данным категориям.\n",
    "Для этого напишем функцию, которая берёт на вход цель кредита и возвращает категорию. При помощи метода apply() применим написанную функцию к столбцу 'lemmas'."
   ]
  },
  {
   "cell_type": "markdown",
   "metadata": {},
   "source": [
    "#### Категоризация данных о доходах"
   ]
  },
  {
   "cell_type": "code",
   "execution_count": 60,
   "metadata": {},
   "outputs": [
    {
     "data": {
      "text/plain": [
       "0          (228882.0, 2265604.0]\n",
       "1        (92140.667, 119260.667]\n",
       "2           (142594.0, 172357.0]\n",
       "3          (228882.0, 2265604.0]\n",
       "4           (142594.0, 172357.0]\n",
       "                  ...           \n",
       "21448       (172357.0, 228882.0]\n",
       "21449       (142594.0, 172357.0]\n",
       "21450     (20666.999, 92140.667]\n",
       "21451      (228882.0, 2265604.0]\n",
       "21452     (20666.999, 92140.667]\n",
       "Name: total_income, Length: 21453, dtype: category\n",
       "Categories (6, interval[float64]): [(20666.999, 92140.667] < (92140.667, 119260.667] < (119260.667, 142594.0] < (142594.0, 172357.0] < (172357.0, 228882.0] < (228882.0, 2265604.0]]"
      ]
     },
     "execution_count": 60,
     "metadata": {},
     "output_type": "execute_result"
    }
   ],
   "source": [
    "#поделим значения на равные группы при помощи метода qcut()\n",
    "pd.qcut(df['total_income'], 6)"
   ]
  },
  {
   "cell_type": "code",
   "execution_count": 61,
   "metadata": {},
   "outputs": [],
   "source": [
    "#получим столбец с группами\n",
    "df['total_income_group'] = pd.qcut(df['total_income'], 6)"
   ]
  },
  {
   "cell_type": "markdown",
   "metadata": {},
   "source": [
    "#### Вывод"
   ]
  },
  {
   "cell_type": "markdown",
   "metadata": {},
   "source": [
    "Для категоризации данных о доходах применим метод qcut() к столбцу total_income. Данный метод позволяет поделить значения на равные группы. Добавим группы в отдельный столбец total_income_group."
   ]
  },
  {
   "cell_type": "markdown",
   "metadata": {},
   "source": [
    "#### Категоризация данных о детях"
   ]
  },
  {
   "cell_type": "code",
   "execution_count": 62,
   "metadata": {},
   "outputs": [],
   "source": [
    "#напишем функцию, которая берёт на вход информацию о количестве детей и возвращает категорию\n",
    "def children_category(row):\n",
    "    if row == 0:\n",
    "        return 'нет детей'\n",
    "    elif row == 1:\n",
    "        return 'один ребёнок'\n",
    "    elif row == 2:\n",
    "        return 'двое детей'\n",
    "    elif row == 3:\n",
    "        return 'трое детей'\n",
    "    elif row == 4:\n",
    "        return 'четверо детей'\n",
    "    else:\n",
    "        return 'пятеро детей'"
   ]
  },
  {
   "cell_type": "code",
   "execution_count": 63,
   "metadata": {},
   "outputs": [],
   "source": [
    "#получим столбец с категориями children_category\n",
    "df['children_category'] = df['children'].apply(children_category)"
   ]
  },
  {
   "cell_type": "markdown",
   "metadata": {},
   "source": [
    "#### Вывод"
   ]
  },
  {
   "cell_type": "markdown",
   "metadata": {},
   "source": [
    "Для категоризации данных о детях напишем функцию, которая берёт на вход информацию о количестве детей и возвращает категорию. В качестве категорий расссматриваем следующие: нет детей, один ребёнок, двое детей, трое детей, четверо детей, пятеро детей. При помощи метода apply() применим написанную функцию к столбцу 'children'."
   ]
  },
  {
   "cell_type": "code",
   "execution_count": 64,
   "metadata": {},
   "outputs": [
    {
     "name": "stdout",
     "output_type": "stream",
     "text": [
      "Первые пять строк таблицы df с добавленными столбцами:\n"
     ]
    },
    {
     "data": {
      "text/html": [
       "<div>\n",
       "<style scoped>\n",
       "    .dataframe tbody tr th:only-of-type {\n",
       "        vertical-align: middle;\n",
       "    }\n",
       "\n",
       "    .dataframe tbody tr th {\n",
       "        vertical-align: top;\n",
       "    }\n",
       "\n",
       "    .dataframe thead th {\n",
       "        text-align: right;\n",
       "    }\n",
       "</style>\n",
       "<table border=\"1\" class=\"dataframe\">\n",
       "  <thead>\n",
       "    <tr style=\"text-align: right;\">\n",
       "      <th></th>\n",
       "      <th>index</th>\n",
       "      <th>children</th>\n",
       "      <th>days_employed</th>\n",
       "      <th>dob_years</th>\n",
       "      <th>education</th>\n",
       "      <th>education_id</th>\n",
       "      <th>family_status</th>\n",
       "      <th>family_status_id</th>\n",
       "      <th>gender</th>\n",
       "      <th>income_type</th>\n",
       "      <th>debt</th>\n",
       "      <th>total_income</th>\n",
       "      <th>purpose</th>\n",
       "      <th>lemmas</th>\n",
       "      <th>purpose_category</th>\n",
       "      <th>total_income_group</th>\n",
       "      <th>children_category</th>\n",
       "    </tr>\n",
       "  </thead>\n",
       "  <tbody>\n",
       "    <tr>\n",
       "      <td>0</td>\n",
       "      <td>0</td>\n",
       "      <td>1</td>\n",
       "      <td>8437</td>\n",
       "      <td>42</td>\n",
       "      <td>высшее</td>\n",
       "      <td>0</td>\n",
       "      <td>женат / замужем</td>\n",
       "      <td>0</td>\n",
       "      <td>F</td>\n",
       "      <td>сотрудник</td>\n",
       "      <td>0</td>\n",
       "      <td>253875</td>\n",
       "      <td>покупка жилья</td>\n",
       "      <td>покупка жилье\\n</td>\n",
       "      <td>недвижимость</td>\n",
       "      <td>(228882.0, 2265604.0]</td>\n",
       "      <td>один ребёнок</td>\n",
       "    </tr>\n",
       "    <tr>\n",
       "      <td>1</td>\n",
       "      <td>1</td>\n",
       "      <td>1</td>\n",
       "      <td>4024</td>\n",
       "      <td>36</td>\n",
       "      <td>среднее</td>\n",
       "      <td>1</td>\n",
       "      <td>женат / замужем</td>\n",
       "      <td>0</td>\n",
       "      <td>F</td>\n",
       "      <td>сотрудник</td>\n",
       "      <td>0</td>\n",
       "      <td>112080</td>\n",
       "      <td>приобретение автомобиля</td>\n",
       "      <td>приобретение автомобиль\\n</td>\n",
       "      <td>автомобиль</td>\n",
       "      <td>(92140.667, 119260.667]</td>\n",
       "      <td>один ребёнок</td>\n",
       "    </tr>\n",
       "    <tr>\n",
       "      <td>2</td>\n",
       "      <td>2</td>\n",
       "      <td>0</td>\n",
       "      <td>5623</td>\n",
       "      <td>33</td>\n",
       "      <td>среднее</td>\n",
       "      <td>1</td>\n",
       "      <td>женат / замужем</td>\n",
       "      <td>0</td>\n",
       "      <td>M</td>\n",
       "      <td>сотрудник</td>\n",
       "      <td>0</td>\n",
       "      <td>145885</td>\n",
       "      <td>покупка жилья</td>\n",
       "      <td>покупка жилье\\n</td>\n",
       "      <td>недвижимость</td>\n",
       "      <td>(142594.0, 172357.0]</td>\n",
       "      <td>нет детей</td>\n",
       "    </tr>\n",
       "    <tr>\n",
       "      <td>3</td>\n",
       "      <td>3</td>\n",
       "      <td>3</td>\n",
       "      <td>4124</td>\n",
       "      <td>32</td>\n",
       "      <td>среднее</td>\n",
       "      <td>1</td>\n",
       "      <td>женат / замужем</td>\n",
       "      <td>0</td>\n",
       "      <td>M</td>\n",
       "      <td>сотрудник</td>\n",
       "      <td>0</td>\n",
       "      <td>267628</td>\n",
       "      <td>дополнительное образование</td>\n",
       "      <td>дополнительный образование\\n</td>\n",
       "      <td>образование</td>\n",
       "      <td>(228882.0, 2265604.0]</td>\n",
       "      <td>трое детей</td>\n",
       "    </tr>\n",
       "    <tr>\n",
       "      <td>4</td>\n",
       "      <td>4</td>\n",
       "      <td>0</td>\n",
       "      <td>14177</td>\n",
       "      <td>53</td>\n",
       "      <td>среднее</td>\n",
       "      <td>1</td>\n",
       "      <td>гражданский брак</td>\n",
       "      <td>1</td>\n",
       "      <td>F</td>\n",
       "      <td>пенсионер</td>\n",
       "      <td>0</td>\n",
       "      <td>158616</td>\n",
       "      <td>сыграть свадьбу</td>\n",
       "      <td>сыграть свадьба\\n</td>\n",
       "      <td>свадьба</td>\n",
       "      <td>(142594.0, 172357.0]</td>\n",
       "      <td>нет детей</td>\n",
       "    </tr>\n",
       "  </tbody>\n",
       "</table>\n",
       "</div>"
      ],
      "text/plain": [
       "   index  children  days_employed  dob_years education  education_id  \\\n",
       "0      0         1           8437         42    высшее             0   \n",
       "1      1         1           4024         36   среднее             1   \n",
       "2      2         0           5623         33   среднее             1   \n",
       "3      3         3           4124         32   среднее             1   \n",
       "4      4         0          14177         53   среднее             1   \n",
       "\n",
       "      family_status  family_status_id gender income_type  debt  total_income  \\\n",
       "0   женат / замужем                 0      F   сотрудник     0        253875   \n",
       "1   женат / замужем                 0      F   сотрудник     0        112080   \n",
       "2   женат / замужем                 0      M   сотрудник     0        145885   \n",
       "3   женат / замужем                 0      M   сотрудник     0        267628   \n",
       "4  гражданский брак                 1      F   пенсионер     0        158616   \n",
       "\n",
       "                      purpose                        lemmas purpose_category  \\\n",
       "0               покупка жилья               покупка жилье\\n     недвижимость   \n",
       "1     приобретение автомобиля     приобретение автомобиль\\n       автомобиль   \n",
       "2               покупка жилья               покупка жилье\\n     недвижимость   \n",
       "3  дополнительное образование  дополнительный образование\\n      образование   \n",
       "4             сыграть свадьбу             сыграть свадьба\\n          свадьба   \n",
       "\n",
       "        total_income_group children_category  \n",
       "0    (228882.0, 2265604.0]      один ребёнок  \n",
       "1  (92140.667, 119260.667]      один ребёнок  \n",
       "2     (142594.0, 172357.0]         нет детей  \n",
       "3    (228882.0, 2265604.0]        трое детей  \n",
       "4     (142594.0, 172357.0]         нет детей  "
      ]
     },
     "execution_count": 64,
     "metadata": {},
     "output_type": "execute_result"
    }
   ],
   "source": [
    "#получим первые пять строк таблицы df с добавленными столбцами с категориями\n",
    "print('Первые пять строк таблицы df с добавленными столбцами:')\n",
    "df.head()"
   ]
  },
  {
   "cell_type": "markdown",
   "metadata": {},
   "source": [
    "### Вывод"
   ]
  },
  {
   "cell_type": "markdown",
   "metadata": {},
   "source": [
    "Провели категоризацию данных о целях кредитов, доходах, детях. После категоризации таблицу с добавленными столбцами выводим на экран.\n",
    "Теперь можно группировать по созданным категориям."
   ]
  },
  {
   "cell_type": "markdown",
   "metadata": {},
   "source": [
    "### Шаг 3. Ответьте на вопросы"
   ]
  },
  {
   "cell_type": "markdown",
   "metadata": {},
   "source": [
    "- Есть ли зависимость между наличием детей и возвратом кредита в срок?"
   ]
  },
  {
   "cell_type": "code",
   "execution_count": 65,
   "metadata": {},
   "outputs": [
    {
     "name": "stdout",
     "output_type": "stream",
     "text": [
      "Cтатистика по категориям наличия детей:\n",
      "нет детей        14090\n",
      "один ребёнок      4855\n",
      "двое детей        2128\n",
      "трое детей         330\n",
      "четверо детей       41\n",
      "пятеро детей         9\n",
      "Name: children_category, dtype: int64\n"
     ]
    }
   ],
   "source": [
    "#выведем статистику по категориям наличия детей\n",
    "print('Cтатистика по категориям наличия детей:')\n",
    "print(df['children_category'].value_counts())"
   ]
  },
  {
   "cell_type": "code",
   "execution_count": 66,
   "metadata": {},
   "outputs": [
    {
     "name": "stdout",
     "output_type": "stream",
     "text": [
      "Сводная таблица:\n"
     ]
    },
    {
     "data": {
      "text/html": [
       "<div>\n",
       "<style scoped>\n",
       "    .dataframe tbody tr th:only-of-type {\n",
       "        vertical-align: middle;\n",
       "    }\n",
       "\n",
       "    .dataframe tbody tr th {\n",
       "        vertical-align: top;\n",
       "    }\n",
       "\n",
       "    .dataframe thead th {\n",
       "        text-align: right;\n",
       "    }\n",
       "</style>\n",
       "<table border=\"1\" class=\"dataframe\">\n",
       "  <thead>\n",
       "    <tr style=\"text-align: right;\">\n",
       "      <th>debt</th>\n",
       "      <th>0</th>\n",
       "      <th>1</th>\n",
       "    </tr>\n",
       "    <tr>\n",
       "      <th>children_category</th>\n",
       "      <th></th>\n",
       "      <th></th>\n",
       "    </tr>\n",
       "  </thead>\n",
       "  <tbody>\n",
       "    <tr>\n",
       "      <td>двое детей</td>\n",
       "      <td>1926.0</td>\n",
       "      <td>202.0</td>\n",
       "    </tr>\n",
       "    <tr>\n",
       "      <td>нет детей</td>\n",
       "      <td>13027.0</td>\n",
       "      <td>1063.0</td>\n",
       "    </tr>\n",
       "    <tr>\n",
       "      <td>один ребёнок</td>\n",
       "      <td>4410.0</td>\n",
       "      <td>445.0</td>\n",
       "    </tr>\n",
       "    <tr>\n",
       "      <td>пятеро детей</td>\n",
       "      <td>9.0</td>\n",
       "      <td>NaN</td>\n",
       "    </tr>\n",
       "    <tr>\n",
       "      <td>трое детей</td>\n",
       "      <td>303.0</td>\n",
       "      <td>27.0</td>\n",
       "    </tr>\n",
       "    <tr>\n",
       "      <td>четверо детей</td>\n",
       "      <td>37.0</td>\n",
       "      <td>4.0</td>\n",
       "    </tr>\n",
       "  </tbody>\n",
       "</table>\n",
       "</div>"
      ],
      "text/plain": [
       "debt                     0       1\n",
       "children_category                 \n",
       "двое детей          1926.0   202.0\n",
       "нет детей          13027.0  1063.0\n",
       "один ребёнок        4410.0   445.0\n",
       "пятеро детей           9.0     NaN\n",
       "трое детей           303.0    27.0\n",
       "четверо детей         37.0     4.0"
      ]
     },
     "execution_count": 66,
     "metadata": {},
     "output_type": "execute_result"
    }
   ],
   "source": [
    "#создадим сводную таблицу для обобщения данных\n",
    "print('Сводная таблица:')\n",
    "df_pivot_children = df.pivot_table(index = 'children_category', columns='debt', values='children', aggfunc='count')\n",
    "df_pivot_children"
   ]
  },
  {
   "cell_type": "code",
   "execution_count": 67,
   "metadata": {},
   "outputs": [],
   "source": [
    "#вычислим % просроченных и возвращённых кредитов для каждой категории\n",
    "df_pivot_children['% просрочки'] = df_pivot_children[1] / (df_pivot_children[0] + df_pivot_children[1])*100\n",
    "\n",
    "df_pivot_children['% возврата'] = df_pivot_children[0] / (df_pivot_children[0] + df_pivot_children[1])*100"
   ]
  },
  {
   "cell_type": "code",
   "execution_count": 68,
   "metadata": {},
   "outputs": [
    {
     "name": "stdout",
     "output_type": "stream",
     "text": [
      "Сводная таблица с добавленными столбцами:\n"
     ]
    },
    {
     "data": {
      "text/html": [
       "<div>\n",
       "<style scoped>\n",
       "    .dataframe tbody tr th:only-of-type {\n",
       "        vertical-align: middle;\n",
       "    }\n",
       "\n",
       "    .dataframe tbody tr th {\n",
       "        vertical-align: top;\n",
       "    }\n",
       "\n",
       "    .dataframe thead th {\n",
       "        text-align: right;\n",
       "    }\n",
       "</style>\n",
       "<table border=\"1\" class=\"dataframe\">\n",
       "  <thead>\n",
       "    <tr style=\"text-align: right;\">\n",
       "      <th>debt</th>\n",
       "      <th>0</th>\n",
       "      <th>1</th>\n",
       "      <th>% просрочки</th>\n",
       "      <th>% возврата</th>\n",
       "    </tr>\n",
       "    <tr>\n",
       "      <th>children_category</th>\n",
       "      <th></th>\n",
       "      <th></th>\n",
       "      <th></th>\n",
       "      <th></th>\n",
       "    </tr>\n",
       "  </thead>\n",
       "  <tbody>\n",
       "    <tr>\n",
       "      <td>двое детей</td>\n",
       "      <td>1926.0</td>\n",
       "      <td>202.0</td>\n",
       "      <td>9.492481</td>\n",
       "      <td>90.507519</td>\n",
       "    </tr>\n",
       "    <tr>\n",
       "      <td>нет детей</td>\n",
       "      <td>13027.0</td>\n",
       "      <td>1063.0</td>\n",
       "      <td>7.544358</td>\n",
       "      <td>92.455642</td>\n",
       "    </tr>\n",
       "    <tr>\n",
       "      <td>один ребёнок</td>\n",
       "      <td>4410.0</td>\n",
       "      <td>445.0</td>\n",
       "      <td>9.165808</td>\n",
       "      <td>90.834192</td>\n",
       "    </tr>\n",
       "    <tr>\n",
       "      <td>пятеро детей</td>\n",
       "      <td>9.0</td>\n",
       "      <td>NaN</td>\n",
       "      <td>NaN</td>\n",
       "      <td>NaN</td>\n",
       "    </tr>\n",
       "    <tr>\n",
       "      <td>трое детей</td>\n",
       "      <td>303.0</td>\n",
       "      <td>27.0</td>\n",
       "      <td>8.181818</td>\n",
       "      <td>91.818182</td>\n",
       "    </tr>\n",
       "    <tr>\n",
       "      <td>четверо детей</td>\n",
       "      <td>37.0</td>\n",
       "      <td>4.0</td>\n",
       "      <td>9.756098</td>\n",
       "      <td>90.243902</td>\n",
       "    </tr>\n",
       "  </tbody>\n",
       "</table>\n",
       "</div>"
      ],
      "text/plain": [
       "debt                     0       1  % просрочки  % возврата\n",
       "children_category                                          \n",
       "двое детей          1926.0   202.0     9.492481   90.507519\n",
       "нет детей          13027.0  1063.0     7.544358   92.455642\n",
       "один ребёнок        4410.0   445.0     9.165808   90.834192\n",
       "пятеро детей           9.0     NaN          NaN         NaN\n",
       "трое детей           303.0    27.0     8.181818   91.818182\n",
       "четверо детей         37.0     4.0     9.756098   90.243902"
      ]
     },
     "execution_count": 68,
     "metadata": {},
     "output_type": "execute_result"
    }
   ],
   "source": [
    "#рассмотрим таблицу с добавленными столбцами\n",
    "print('Сводная таблица с добавленными столбцами:')\n",
    "df_pivot_children"
   ]
  },
  {
   "cell_type": "markdown",
   "metadata": {},
   "source": [
    "### Вывод"
   ]
  },
  {
   "cell_type": "markdown",
   "metadata": {},
   "source": [
    "Для вычисления % просроченных и возвращённых кредитов сначала построим сводную таблицу с количеством элементов для каждой категории. \n",
    "Сводную таблицу создаём при помощи метода pivot_table ().\n",
    "Для вычисления % просроченных кредитов создаем новый столбец. Для этого поделим значения в столбце 1 (есть задолжность) на суммарное значение для категории.\n",
    "Для вычисления % возвращённых кредитов также создаем новый столбец, для чего поделим значения в столбце 0 (нет задолжности) на суммарное значение для категории.\n",
    "\n",
    "В результате видим, что для категории людей, у которых пятеро детей, данные по невозвращённым кредитам отсутствуют, т.е. формально они самые ответственные, но группа немногочисленная, поэтому не будем брать их в расчёт.\n",
    "\n",
    "Самый низкий процент просрочки кредита, и, соответственно, самый высокий процент возврата кредитов у людей без детей.\n",
    "Далее в рейтинге идут люди, у которых трое детей. Третье место по просрочке кредитов у людей с одним ребёнком. Четвертое место по просрочке кредитов у людей с двумя детьми. И завершают рейтинг люди с четырьмя детьми, у них самый высокий процент просрочки кредитов.\n",
    "\n",
    "В шагах ниже используем аналогичные для данного шага выкладки."
   ]
  },
  {
   "cell_type": "markdown",
   "metadata": {},
   "source": [
    "- Есть ли зависимость между семейным положением и возвратом кредита в срок?"
   ]
  },
  {
   "cell_type": "code",
   "execution_count": 69,
   "metadata": {},
   "outputs": [
    {
     "name": "stdout",
     "output_type": "stream",
     "text": [
      "Семейное положение:\n",
      "женат / замужем          12339\n",
      "гражданский брак          4150\n",
      "Не женат / не замужем     2810\n",
      "в разводе                 1195\n",
      "вдовец / вдова             959\n",
      "Name: family_status, dtype: int64\n"
     ]
    }
   ],
   "source": [
    "#выделим уникальные значения в столбце с семейным положением\n",
    "print('Семейное положение:')\n",
    "print(df['family_status'].value_counts())"
   ]
  },
  {
   "cell_type": "code",
   "execution_count": 70,
   "metadata": {},
   "outputs": [
    {
     "name": "stdout",
     "output_type": "stream",
     "text": [
      "Сводная таблица:\n"
     ]
    },
    {
     "data": {
      "text/html": [
       "<div>\n",
       "<style scoped>\n",
       "    .dataframe tbody tr th:only-of-type {\n",
       "        vertical-align: middle;\n",
       "    }\n",
       "\n",
       "    .dataframe tbody tr th {\n",
       "        vertical-align: top;\n",
       "    }\n",
       "\n",
       "    .dataframe thead th {\n",
       "        text-align: right;\n",
       "    }\n",
       "</style>\n",
       "<table border=\"1\" class=\"dataframe\">\n",
       "  <thead>\n",
       "    <tr style=\"text-align: right;\">\n",
       "      <th>debt</th>\n",
       "      <th>0</th>\n",
       "      <th>1</th>\n",
       "    </tr>\n",
       "    <tr>\n",
       "      <th>family_status</th>\n",
       "      <th></th>\n",
       "      <th></th>\n",
       "    </tr>\n",
       "  </thead>\n",
       "  <tbody>\n",
       "    <tr>\n",
       "      <td>Не женат / не замужем</td>\n",
       "      <td>2536</td>\n",
       "      <td>274</td>\n",
       "    </tr>\n",
       "    <tr>\n",
       "      <td>в разводе</td>\n",
       "      <td>1110</td>\n",
       "      <td>85</td>\n",
       "    </tr>\n",
       "    <tr>\n",
       "      <td>вдовец / вдова</td>\n",
       "      <td>896</td>\n",
       "      <td>63</td>\n",
       "    </tr>\n",
       "    <tr>\n",
       "      <td>гражданский брак</td>\n",
       "      <td>3762</td>\n",
       "      <td>388</td>\n",
       "    </tr>\n",
       "    <tr>\n",
       "      <td>женат / замужем</td>\n",
       "      <td>11408</td>\n",
       "      <td>931</td>\n",
       "    </tr>\n",
       "  </tbody>\n",
       "</table>\n",
       "</div>"
      ],
      "text/plain": [
       "debt                       0    1\n",
       "family_status                    \n",
       "Не женат / не замужем   2536  274\n",
       "в разводе               1110   85\n",
       "вдовец / вдова           896   63\n",
       "гражданский брак        3762  388\n",
       "женат / замужем        11408  931"
      ]
     },
     "execution_count": 70,
     "metadata": {},
     "output_type": "execute_result"
    }
   ],
   "source": [
    "#создадим сводную таблицу для обобщения данных\n",
    "print('Сводная таблица:')\n",
    "df_pivot_family_status = df.pivot_table(index = 'family_status', columns='debt', values='children', aggfunc='count')\n",
    "df_pivot_family_status "
   ]
  },
  {
   "cell_type": "code",
   "execution_count": 71,
   "metadata": {},
   "outputs": [],
   "source": [
    "#вычислим % просроченных и возвращённых кредитов для каждой категории\n",
    "df_pivot_family_status['% просрочки'] = df_pivot_family_status[1] / (df_pivot_family_status[0] + df_pivot_family_status[1])*100\n",
    "\n",
    "df_pivot_family_status['% возврата'] = df_pivot_family_status[0] / (df_pivot_family_status[0] + df_pivot_family_status[1])*100"
   ]
  },
  {
   "cell_type": "code",
   "execution_count": 72,
   "metadata": {},
   "outputs": [
    {
     "name": "stdout",
     "output_type": "stream",
     "text": [
      "Сводная таблица с добавленными столбцами:\n"
     ]
    },
    {
     "data": {
      "text/html": [
       "<div>\n",
       "<style scoped>\n",
       "    .dataframe tbody tr th:only-of-type {\n",
       "        vertical-align: middle;\n",
       "    }\n",
       "\n",
       "    .dataframe tbody tr th {\n",
       "        vertical-align: top;\n",
       "    }\n",
       "\n",
       "    .dataframe thead th {\n",
       "        text-align: right;\n",
       "    }\n",
       "</style>\n",
       "<table border=\"1\" class=\"dataframe\">\n",
       "  <thead>\n",
       "    <tr style=\"text-align: right;\">\n",
       "      <th>debt</th>\n",
       "      <th>0</th>\n",
       "      <th>1</th>\n",
       "      <th>% просрочки</th>\n",
       "      <th>% возврата</th>\n",
       "    </tr>\n",
       "    <tr>\n",
       "      <th>family_status</th>\n",
       "      <th></th>\n",
       "      <th></th>\n",
       "      <th></th>\n",
       "      <th></th>\n",
       "    </tr>\n",
       "  </thead>\n",
       "  <tbody>\n",
       "    <tr>\n",
       "      <td>Не женат / не замужем</td>\n",
       "      <td>2536</td>\n",
       "      <td>274</td>\n",
       "      <td>9.750890</td>\n",
       "      <td>90.249110</td>\n",
       "    </tr>\n",
       "    <tr>\n",
       "      <td>в разводе</td>\n",
       "      <td>1110</td>\n",
       "      <td>85</td>\n",
       "      <td>7.112971</td>\n",
       "      <td>92.887029</td>\n",
       "    </tr>\n",
       "    <tr>\n",
       "      <td>вдовец / вдова</td>\n",
       "      <td>896</td>\n",
       "      <td>63</td>\n",
       "      <td>6.569343</td>\n",
       "      <td>93.430657</td>\n",
       "    </tr>\n",
       "    <tr>\n",
       "      <td>гражданский брак</td>\n",
       "      <td>3762</td>\n",
       "      <td>388</td>\n",
       "      <td>9.349398</td>\n",
       "      <td>90.650602</td>\n",
       "    </tr>\n",
       "    <tr>\n",
       "      <td>женат / замужем</td>\n",
       "      <td>11408</td>\n",
       "      <td>931</td>\n",
       "      <td>7.545182</td>\n",
       "      <td>92.454818</td>\n",
       "    </tr>\n",
       "  </tbody>\n",
       "</table>\n",
       "</div>"
      ],
      "text/plain": [
       "debt                       0    1  % просрочки  % возврата\n",
       "family_status                                             \n",
       "Не женат / не замужем   2536  274     9.750890   90.249110\n",
       "в разводе               1110   85     7.112971   92.887029\n",
       "вдовец / вдова           896   63     6.569343   93.430657\n",
       "гражданский брак        3762  388     9.349398   90.650602\n",
       "женат / замужем        11408  931     7.545182   92.454818"
      ]
     },
     "execution_count": 72,
     "metadata": {},
     "output_type": "execute_result"
    }
   ],
   "source": [
    "#рассмотрим таблицу с добавленными столбцами\n",
    "print('Сводная таблица с добавленными столбцами:')\n",
    "df_pivot_family_status"
   ]
  },
  {
   "cell_type": "markdown",
   "metadata": {},
   "source": [
    "### Вывод"
   ]
  },
  {
   "cell_type": "markdown",
   "metadata": {},
   "source": [
    "После проведения вычислений видим, что самый низкий процент просрочки кредита, и, соответственно, самый высокий процент возврата кредитов у вдовствующих граждан.\n",
    "Далее в рейтинге идут разведённые заёмщики. Третье место по просрочке кредитов у женатых людей. Четвертое место по просрочке кредитов у тех, кто живёт гражданским браком. И замыкают рейтинг неженатые граждане, у них самый высокий процент просрочки кредитов и, соответственно, самый низкий процент возврата."
   ]
  },
  {
   "cell_type": "markdown",
   "metadata": {},
   "source": [
    "- Есть ли зависимость между уровнем дохода и возвратом кредита в срок?"
   ]
  },
  {
   "cell_type": "code",
   "execution_count": 73,
   "metadata": {},
   "outputs": [
    {
     "name": "stdout",
     "output_type": "stream",
     "text": [
      "Cтатистика по категориям уровней дохода:\n",
      "(119260.667, 142594.0]     3691\n",
      "(142594.0, 172357.0]       3594\n",
      "(228882.0, 2265604.0]      3576\n",
      "(20666.999, 92140.667]     3576\n",
      "(92140.667, 119260.667]    3575\n",
      "(172357.0, 228882.0]       3441\n",
      "Name: total_income_group, dtype: int64\n"
     ]
    }
   ],
   "source": [
    "#выведем статистику по категориям уровней дохода\n",
    "print('Cтатистика по категориям уровней дохода:')\n",
    "print(df['total_income_group'].value_counts())"
   ]
  },
  {
   "cell_type": "code",
   "execution_count": 74,
   "metadata": {},
   "outputs": [
    {
     "name": "stdout",
     "output_type": "stream",
     "text": [
      "Сводная таблица:\n"
     ]
    },
    {
     "data": {
      "text/html": [
       "<div>\n",
       "<style scoped>\n",
       "    .dataframe tbody tr th:only-of-type {\n",
       "        vertical-align: middle;\n",
       "    }\n",
       "\n",
       "    .dataframe tbody tr th {\n",
       "        vertical-align: top;\n",
       "    }\n",
       "\n",
       "    .dataframe thead th {\n",
       "        text-align: right;\n",
       "    }\n",
       "</style>\n",
       "<table border=\"1\" class=\"dataframe\">\n",
       "  <thead>\n",
       "    <tr style=\"text-align: right;\">\n",
       "      <th>debt</th>\n",
       "      <th>0</th>\n",
       "      <th>1</th>\n",
       "    </tr>\n",
       "    <tr>\n",
       "      <th>total_income_group</th>\n",
       "      <th></th>\n",
       "      <th></th>\n",
       "    </tr>\n",
       "  </thead>\n",
       "  <tbody>\n",
       "    <tr>\n",
       "      <td>(20666.999, 92140.667]</td>\n",
       "      <td>3291</td>\n",
       "      <td>285</td>\n",
       "    </tr>\n",
       "    <tr>\n",
       "      <td>(92140.667, 119260.667]</td>\n",
       "      <td>3279</td>\n",
       "      <td>296</td>\n",
       "    </tr>\n",
       "    <tr>\n",
       "      <td>(119260.667, 142594.0]</td>\n",
       "      <td>3362</td>\n",
       "      <td>329</td>\n",
       "    </tr>\n",
       "    <tr>\n",
       "      <td>(142594.0, 172357.0]</td>\n",
       "      <td>3291</td>\n",
       "      <td>303</td>\n",
       "    </tr>\n",
       "    <tr>\n",
       "      <td>(172357.0, 228882.0]</td>\n",
       "      <td>3163</td>\n",
       "      <td>278</td>\n",
       "    </tr>\n",
       "    <tr>\n",
       "      <td>(228882.0, 2265604.0]</td>\n",
       "      <td>3326</td>\n",
       "      <td>250</td>\n",
       "    </tr>\n",
       "  </tbody>\n",
       "</table>\n",
       "</div>"
      ],
      "text/plain": [
       "debt                        0    1\n",
       "total_income_group                \n",
       "(20666.999, 92140.667]   3291  285\n",
       "(92140.667, 119260.667]  3279  296\n",
       "(119260.667, 142594.0]   3362  329\n",
       "(142594.0, 172357.0]     3291  303\n",
       "(172357.0, 228882.0]     3163  278\n",
       "(228882.0, 2265604.0]    3326  250"
      ]
     },
     "execution_count": 74,
     "metadata": {},
     "output_type": "execute_result"
    }
   ],
   "source": [
    "#создадим сводную таблицу для обобщения данных\n",
    "print('Сводная таблица:')\n",
    "df_pivot_total_income = df.pivot_table(index = 'total_income_group', columns='debt', values='children', aggfunc='count')\n",
    "df_pivot_total_income"
   ]
  },
  {
   "cell_type": "code",
   "execution_count": 75,
   "metadata": {},
   "outputs": [],
   "source": [
    "#вычислим % просроченных и возвращённых кредитов для каждой категории\n",
    "df_pivot_total_income['% просрочки'] = df_pivot_total_income[1] / (df_pivot_total_income[0] + df_pivot_total_income[1])*100\n",
    "\n",
    "df_pivot_total_income['% возврата'] = df_pivot_total_income[0] / (df_pivot_total_income[0] + df_pivot_total_income[1])*100"
   ]
  },
  {
   "cell_type": "code",
   "execution_count": 76,
   "metadata": {},
   "outputs": [
    {
     "name": "stdout",
     "output_type": "stream",
     "text": [
      "Сводная таблица с добавленными столбцами:\n"
     ]
    },
    {
     "data": {
      "text/html": [
       "<div>\n",
       "<style scoped>\n",
       "    .dataframe tbody tr th:only-of-type {\n",
       "        vertical-align: middle;\n",
       "    }\n",
       "\n",
       "    .dataframe tbody tr th {\n",
       "        vertical-align: top;\n",
       "    }\n",
       "\n",
       "    .dataframe thead th {\n",
       "        text-align: right;\n",
       "    }\n",
       "</style>\n",
       "<table border=\"1\" class=\"dataframe\">\n",
       "  <thead>\n",
       "    <tr style=\"text-align: right;\">\n",
       "      <th>debt</th>\n",
       "      <th>0</th>\n",
       "      <th>1</th>\n",
       "      <th>% просрочки</th>\n",
       "      <th>% возврата</th>\n",
       "    </tr>\n",
       "    <tr>\n",
       "      <th>total_income_group</th>\n",
       "      <th></th>\n",
       "      <th></th>\n",
       "      <th></th>\n",
       "      <th></th>\n",
       "    </tr>\n",
       "  </thead>\n",
       "  <tbody>\n",
       "    <tr>\n",
       "      <td>(20666.999, 92140.667]</td>\n",
       "      <td>3291</td>\n",
       "      <td>285</td>\n",
       "      <td>7.969799</td>\n",
       "      <td>92.030201</td>\n",
       "    </tr>\n",
       "    <tr>\n",
       "      <td>(92140.667, 119260.667]</td>\n",
       "      <td>3279</td>\n",
       "      <td>296</td>\n",
       "      <td>8.279720</td>\n",
       "      <td>91.720280</td>\n",
       "    </tr>\n",
       "    <tr>\n",
       "      <td>(119260.667, 142594.0]</td>\n",
       "      <td>3362</td>\n",
       "      <td>329</td>\n",
       "      <td>8.913574</td>\n",
       "      <td>91.086426</td>\n",
       "    </tr>\n",
       "    <tr>\n",
       "      <td>(142594.0, 172357.0]</td>\n",
       "      <td>3291</td>\n",
       "      <td>303</td>\n",
       "      <td>8.430718</td>\n",
       "      <td>91.569282</td>\n",
       "    </tr>\n",
       "    <tr>\n",
       "      <td>(172357.0, 228882.0]</td>\n",
       "      <td>3163</td>\n",
       "      <td>278</td>\n",
       "      <td>8.079047</td>\n",
       "      <td>91.920953</td>\n",
       "    </tr>\n",
       "    <tr>\n",
       "      <td>(228882.0, 2265604.0]</td>\n",
       "      <td>3326</td>\n",
       "      <td>250</td>\n",
       "      <td>6.991051</td>\n",
       "      <td>93.008949</td>\n",
       "    </tr>\n",
       "  </tbody>\n",
       "</table>\n",
       "</div>"
      ],
      "text/plain": [
       "debt                        0    1  % просрочки  % возврата\n",
       "total_income_group                                         \n",
       "(20666.999, 92140.667]   3291  285     7.969799   92.030201\n",
       "(92140.667, 119260.667]  3279  296     8.279720   91.720280\n",
       "(119260.667, 142594.0]   3362  329     8.913574   91.086426\n",
       "(142594.0, 172357.0]     3291  303     8.430718   91.569282\n",
       "(172357.0, 228882.0]     3163  278     8.079047   91.920953\n",
       "(228882.0, 2265604.0]    3326  250     6.991051   93.008949"
      ]
     },
     "execution_count": 76,
     "metadata": {},
     "output_type": "execute_result"
    }
   ],
   "source": [
    "#рассмотрим таблицу с добавленными столбцами\n",
    "print('Сводная таблица с добавленными столбцами:')\n",
    "df_pivot_total_income"
   ]
  },
  {
   "cell_type": "markdown",
   "metadata": {},
   "source": [
    "### Вывод"
   ]
  },
  {
   "cell_type": "markdown",
   "metadata": {},
   "source": [
    "После проведения вычислений видим, что самый низкий процент просрочки кредита, и, соответственно, самый высокий процент возврата кредитов у заёмщиков с заработком от 228 8820 до 2 265 604.0.\n",
    "Далее в рейтинге просрочки идут люди с заработком от 20 666.999 до 92 140.667.\n",
    "Третье место по просрочке кредитов у заёмщиков с заработком от 172 357.0 до 228 882.0.\n",
    "Четвертое место по просрочке кредитов у людей с заработком от 92 140.667 до 119 260.667.\n",
    "Пятое место у заёмщиков с заработком от 142 594.0 до 172 357.0.\n",
    "И замыкают рейтинг граждане с заработком от 119 260.667 до 142 594.0, у них самый высокий процент просрочки кредитов и, соответственно, самый низкий процент возврата."
   ]
  },
  {
   "cell_type": "markdown",
   "metadata": {},
   "source": [
    "- Как разные цели кредита влияют на его возврат в срок?"
   ]
  },
  {
   "cell_type": "code",
   "execution_count": 77,
   "metadata": {},
   "outputs": [
    {
     "name": "stdout",
     "output_type": "stream",
     "text": [
      "Cтатистика по категориям целей кредитов:\n",
      "недвижимость    10811\n",
      "автомобиль       4306\n",
      "образование      4013\n",
      "свадьба          2323\n",
      "Name: purpose_category, dtype: int64\n"
     ]
    }
   ],
   "source": [
    "#выведем статистику по категориям целей кредитов\n",
    "print('Cтатистика по категориям целей кредитов:')\n",
    "print(df['purpose_category'].value_counts()) "
   ]
  },
  {
   "cell_type": "code",
   "execution_count": 78,
   "metadata": {},
   "outputs": [
    {
     "name": "stdout",
     "output_type": "stream",
     "text": [
      "Сводная таблица:\n"
     ]
    },
    {
     "data": {
      "text/html": [
       "<div>\n",
       "<style scoped>\n",
       "    .dataframe tbody tr th:only-of-type {\n",
       "        vertical-align: middle;\n",
       "    }\n",
       "\n",
       "    .dataframe tbody tr th {\n",
       "        vertical-align: top;\n",
       "    }\n",
       "\n",
       "    .dataframe thead th {\n",
       "        text-align: right;\n",
       "    }\n",
       "</style>\n",
       "<table border=\"1\" class=\"dataframe\">\n",
       "  <thead>\n",
       "    <tr style=\"text-align: right;\">\n",
       "      <th>debt</th>\n",
       "      <th>0</th>\n",
       "      <th>1</th>\n",
       "    </tr>\n",
       "    <tr>\n",
       "      <th>purpose_category</th>\n",
       "      <th></th>\n",
       "      <th></th>\n",
       "    </tr>\n",
       "  </thead>\n",
       "  <tbody>\n",
       "    <tr>\n",
       "      <td>автомобиль</td>\n",
       "      <td>3903</td>\n",
       "      <td>403</td>\n",
       "    </tr>\n",
       "    <tr>\n",
       "      <td>недвижимость</td>\n",
       "      <td>10029</td>\n",
       "      <td>782</td>\n",
       "    </tr>\n",
       "    <tr>\n",
       "      <td>образование</td>\n",
       "      <td>3643</td>\n",
       "      <td>370</td>\n",
       "    </tr>\n",
       "    <tr>\n",
       "      <td>свадьба</td>\n",
       "      <td>2137</td>\n",
       "      <td>186</td>\n",
       "    </tr>\n",
       "  </tbody>\n",
       "</table>\n",
       "</div>"
      ],
      "text/plain": [
       "debt                  0    1\n",
       "purpose_category            \n",
       "автомобиль         3903  403\n",
       "недвижимость      10029  782\n",
       "образование        3643  370\n",
       "свадьба            2137  186"
      ]
     },
     "execution_count": 78,
     "metadata": {},
     "output_type": "execute_result"
    }
   ],
   "source": [
    "#создадим сводную таблицу для обобщения данных\n",
    "print('Сводная таблица:')\n",
    "df_pivot_purpose_category = df.pivot_table(index = 'purpose_category', columns='debt', values='children', aggfunc='count')\n",
    "df_pivot_purpose_category"
   ]
  },
  {
   "cell_type": "code",
   "execution_count": 79,
   "metadata": {},
   "outputs": [],
   "source": [
    "#вычислим % просроченных и возвращённых кредитов для каждой категории\n",
    "df_pivot_purpose_category['% просрочки'] = df_pivot_purpose_category[1] / (df_pivot_purpose_category[0] + df_pivot_purpose_category[1])*100\n",
    "df_pivot_purpose_category['% возврата'] = df_pivot_purpose_category[0] / (df_pivot_purpose_category[0] + df_pivot_purpose_category[1])*100"
   ]
  },
  {
   "cell_type": "code",
   "execution_count": 80,
   "metadata": {},
   "outputs": [
    {
     "name": "stdout",
     "output_type": "stream",
     "text": [
      "Сводная таблица с добавленными столбцами:\n"
     ]
    },
    {
     "data": {
      "text/html": [
       "<div>\n",
       "<style scoped>\n",
       "    .dataframe tbody tr th:only-of-type {\n",
       "        vertical-align: middle;\n",
       "    }\n",
       "\n",
       "    .dataframe tbody tr th {\n",
       "        vertical-align: top;\n",
       "    }\n",
       "\n",
       "    .dataframe thead th {\n",
       "        text-align: right;\n",
       "    }\n",
       "</style>\n",
       "<table border=\"1\" class=\"dataframe\">\n",
       "  <thead>\n",
       "    <tr style=\"text-align: right;\">\n",
       "      <th>debt</th>\n",
       "      <th>0</th>\n",
       "      <th>1</th>\n",
       "      <th>% просрочки</th>\n",
       "      <th>% возврата</th>\n",
       "    </tr>\n",
       "    <tr>\n",
       "      <th>purpose_category</th>\n",
       "      <th></th>\n",
       "      <th></th>\n",
       "      <th></th>\n",
       "      <th></th>\n",
       "    </tr>\n",
       "  </thead>\n",
       "  <tbody>\n",
       "    <tr>\n",
       "      <td>автомобиль</td>\n",
       "      <td>3903</td>\n",
       "      <td>403</td>\n",
       "      <td>9.359034</td>\n",
       "      <td>90.640966</td>\n",
       "    </tr>\n",
       "    <tr>\n",
       "      <td>недвижимость</td>\n",
       "      <td>10029</td>\n",
       "      <td>782</td>\n",
       "      <td>7.233373</td>\n",
       "      <td>92.766627</td>\n",
       "    </tr>\n",
       "    <tr>\n",
       "      <td>образование</td>\n",
       "      <td>3643</td>\n",
       "      <td>370</td>\n",
       "      <td>9.220035</td>\n",
       "      <td>90.779965</td>\n",
       "    </tr>\n",
       "    <tr>\n",
       "      <td>свадьба</td>\n",
       "      <td>2137</td>\n",
       "      <td>186</td>\n",
       "      <td>8.006888</td>\n",
       "      <td>91.993112</td>\n",
       "    </tr>\n",
       "  </tbody>\n",
       "</table>\n",
       "</div>"
      ],
      "text/plain": [
       "debt                  0    1  % просрочки  % возврата\n",
       "purpose_category                                     \n",
       "автомобиль         3903  403     9.359034   90.640966\n",
       "недвижимость      10029  782     7.233373   92.766627\n",
       "образование        3643  370     9.220035   90.779965\n",
       "свадьба            2137  186     8.006888   91.993112"
      ]
     },
     "execution_count": 80,
     "metadata": {},
     "output_type": "execute_result"
    }
   ],
   "source": [
    "#рассмотрим таблицу с добавленными столбцами\n",
    "print('Сводная таблица с добавленными столбцами:')\n",
    "df_pivot_purpose_category"
   ]
  },
  {
   "cell_type": "markdown",
   "metadata": {},
   "source": [
    "### Вывод"
   ]
  },
  {
   "cell_type": "markdown",
   "metadata": {},
   "source": [
    "После проведения вычислений видим, что самый низкий процент просрочки кредита, и, соответственно, самый высокий процент возврата кредитов у заёмщиков, которые берут кредит на операции с недвижимостью. Это ожидаемый результат, т.к. если, например,  человек решается взять квартиру в ипотеку и внести немалый первоначальный взнос, то, скорее всего, он будет выплачивать кредит, т.к. в противном случае банк отберёт квартиру, а внесенный первоначальный взнос и внесенные платежи возвращены не будут.\n",
    "Далее в рейтинге просрочки идут люди, которые берут кредит на свадьбу.\n",
    "Третье место по просрочке кредитов у заёмщиков, которые берут кредит на образование.\n",
    "И замыкают рейтинг граждане, которые берут кредит на автомобиль, у них самый высокий процент просрочки кредитов и, соответственно, самый низкий процент возврата. Также ожидаемый результат, т.к. первоначальный взнос по сравнению с квартирой значительно меньше, а в случае неуплаты банк отбирает машину в счёт кредита. На такой случай у граждан есть общественный траспорт. \n",
    "Вариант остаться без квартиры всё-таки более пугающий для заёмщика, чем остаться без машины."
   ]
  },
  {
   "cell_type": "markdown",
   "metadata": {},
   "source": [
    "### Шаг 4. Общий вывод"
   ]
  },
  {
   "cell_type": "markdown",
   "metadata": {},
   "source": [
    "В данном проекте перед нами стояла цель исследовать надёжность заёмщиков для кредитного отдела банка.\n",
    "Необходимо было разобраться, влияют ли такие показатели, как количество детей, семейное положение, уровень дохода клиента, цели кредита на факт погашения кредита в срок.\n",
    "В качестве входных данных была предоставлена выгрузка со статистикой о платёжеспособности клиентов в формате .csv.\n",
    "\n",
    "Мы изучили данные, просмотрели значения по каждому столбцу в наборе данных, обработали пропущенные и подозрительные значения:\n",
    " - В столбце с информацией о детях 'children' самая многочисленная группа - 'нет детей' (14 090 человек). В столбце были выявлены подозрительные значения -1 и 20. Данные артефакты считали опечаткой при внесении данных. Скорректировали значения 20 на 2, -1 на 1.\n",
    " - В столбце с общим трудовым стажем 'days_employed' были выявлены пропущенные, отрицательные, а также чрезвычайно завышенные значения трудового стажа.\n",
    "  - Отрицательные значения считали опечаткой и перевели данные значения в положительные.\n",
    "  - По завышенным значениям трудового стажа (максимальное значение - более 1000 лет) считали, что данные были внесены не в днях, а  ошибочно в часах. Все значения в столбце сравнили со средним значением трудового стажа в 35 лет (из интернета), и те, что превышали, поделили на 24 часа, чтобы получить значение в днях. \n",
    "  - Максимальный трудовой стаж в наборе данных после корректировки составляет  45 лет.\n",
    "  - Минимальный трудовой стаж в наборе данных после корректировки составляет  24 дня.\n",
    "  - Для замены пропущенных значений сгруппировали значения по типу занятости, посмотрели медианное значение трудового стажа для каждой группы и заменили пропущенные значения медианным значением для соответствующей группы. \n",
    " - В столбце с информацией о возрасте клиента 'dob_years' были выявлены младенцы - клиенты с возрастом '0' лет. Данные значения были заменены медианным для данного столбца значением в 42 года. \n",
    "  - Минимальный возраст заёмщиков после корректировки: 19 лет.\n",
    "  - Максимальный возраст заёмщиков: 75 лет.\n",
    " - В столбце 'education' максимальное значение для среднего уровня образования (более 13 тыс.). Данные в столбце представлены в разном регистре. Регистр скорректировали при обработке дубликатов.\n",
    " - В столбцe 'gender' встречается пол XNA, расшифровку которого найти не удалось. Данное значение не удаляли, т.к. на поставленные вопросы это не влияет.\n",
    "  - Среди заёмщиков больше представителей женского пола  - 14236 человек. \n",
    " - В столбце с ежемесячным доходом 'total_income' были выявлены пропущенные значения. Для замены пропущенных значений сгруппировали значения по типу занятости (аналогично, как со столбцом 'days_employed'), посмотрели медианное значение трудового стажа для каждой группы и заменили пропущенные значения медианным значением для соответствующей группы. \n",
    "  - Максимальное значение дохода заёмщика в наборе данных: 2 265 604\n",
    "  - Минимальное значение дохода заёмщика в наборе данных: 20 667\n",
    " - В остальных столбцах данные отображались корректно и не требовали внесения правок.\n",
    " - В столбце 'family_status' наибольшее значение у категории 'женат/замужем' 12339 человек, наименьшее у категории 'вдовец/вдова' - 959 человек.\n",
    " - Среди заёмщиков больше всего сотрудников (10014 человек) и меньше всего студентов (1), предпринимателей(1), женщин в декрете (1) и безработных (2).\n",
    " - Чаще всего кредит берут на недвижимость (10811 человек), реже всего на свадьбу (2323 человек)\n",
    " - Подсчитали средний процент просрочки  -  8%.\n",
    "\n",
    "После обработки пропущенных и подозрительных значений  убедились, что суммарное количество пропусков для каждого столбца равно нулю.\n",
    "\n",
    "Далее заменили вещественный тип данных в столбцах 'days_employed', 'total_income' на целочисленный, удалили дубликаты в наборе данных, в том числе с учётом регистра.\n",
    "\n",
    "Провели лемматизацию целей кредита в столбце 'purpose' при помощи библиотеки pymystem3. Лемматизированнные слова выделили в отдельный столбец и добавили к общему набору данных. \n",
    "\n",
    "Провели категоризацию данных о целях кредитов, доходах, детях:\n",
    " - Выделили несколько категорий целей - свадьба, недвижимость, автомобиль, образование.\n",
    " - Выделили категории наличия детей - нет детей, один ребёнок, двое детей, трое детей, четверо детей, пятеро детей\n",
    " - Поделили значения дохода на равные группы при помощи метода qcut(): от 119260.667 до  142594.0, от 142594.0 до 172357.0,        от 228882.0 до 2265604.0, от 20666.999 до 92140.667, от 92140.667 до 119260.667, от 172357.0 до 228882.0.\n",
    "Столбцы с категориями добавили к набору данных. И приступили к ответам на поставленные вопросы.\n",
    "\n",
    "Для ответа на вопрос 'Есть ли зависимость между наличием детей и возвратом кредита в срок?' построили сводную таблицу с количеством элементов для каждой категории. Для вычисления % просроченных кредитов создали новый столбец. Для этого поделили значения в столбце с задолжностью на суммарное значение для категории. Для вычисления % возвращённых кредитов также создали новый столбец, для чего поделили значения в столбце без задолжности на суммарное значение для категории.\n",
    " - В результате увидели, что зависимость между наличием детей и возвратом кредита в срок есть. Самый низкий процент просрочки кредита, и, соответственно, самый высокий процент возврата кредитов у людей без детей. Далее в рейтинге идут люди, у которых трое детей. Третье место по просрочке кредитов у людей с одним ребёнком. Четвертое место по просрочке кредитов у людей с двумя детьми. И завершают рейтинг люди с четырьмя детьми, у них самый высокий процент просрочки кредитов. Для категории людей, у которых пятеро детей, данные по невозвращённым кредитам отсутствуют, т.е. формально они самые ответственные, но группа оказалась немногочисленная (9 человек), поэтому не стали брать их в расчёт.\n",
    "\n",
    "Для ответа на остальные вопросы 'Есть ли зависимость между семейным положением и возвратом кредита в срок?', 'Есть ли зависимость между уровнем дохода и возвратом кредита в срок?', 'Как разные цели кредита влияют на его возврат в срок?' провели аналогичные вычисления.\n",
    "- 'Есть ли зависимость между семейным положением и возвратом кредита в срок?' - После проведения вычислений видим, что зависимость между семейным положением и возвратом кредита в срок есть. Самый низкий процент просрочки кредита, и, соответственно, самый высокий процент возврата кредитов у вдовствующих граждан. Далее в рейтинге идут разведённые заёмщики. Третье место по просрочке кредитов у женатых людей. Четвертое место по просрочке кредитов у тех, кто живёт гражданским браком. И замыкают рейтинг неженатые граждане, у них самый высокий процент просрочки кредитов и, соответственно, самый низкий процент возврата.\n",
    "- 'Есть ли зависимость между уровнем дохода и возвратом кредита в срок?' - Зависимость между уровнем дохода и возвратом кредита в срок также есть. Самый низкий процент просрочки кредита, и, соответственно, самый высокий процент возврата кредитов у заёмщиков с заработком от 228 8820 до 2 265 604.0. Далее в рейтинге просрочки идут люди с заработком от 20 666.999 до 92 140.667. Третье место по просрочке кредитов у заёмщиков с заработком от 172 357.0 до 228 882.0. Четвертое место по просрочке кредитов у людей с заработком от 92 140.667 до 119 260.667. Пятое место у заёмщиков с заработком от 142 594.0 до 172 357.0. И замыкают рейтинг граждане с заработком от 119 260.667 до 142 594.0, у них самый высокий процент просрочки кредитов и, соответственно, самый низкий процент возврата.\n",
    "- 'Как разные цели кредита влияют на его возврат в срок?' - Разные цели кредита влияют на его возврат в срок. Самый низкий процент просрочки кредита, и, соответственно, самый высокий процент возврата кредитов у заёмщиков, которые берут кредит на операции с недвижимостью. Далее в рейтинге просрочки идут люди, которые берут кредит на свадьбу. Третье место по просрочке кредитов у заёмщиков, которые берут кредит на образование. И замыкают рейтинг граждане, которые берут кредит на автомобиль, у них самый высокий процент просрочки кредитов и, соответственно, самый низкий процент возврата.\n",
    "\n",
    "Обобщая всё вышесказанное, можно сказать, что самыми надёжными являются вдовствующие заёмщики без детей с заработком с заработком от 228 8820 до 2 265 604.0, которые берут кредит на недвижимость.\n",
    "\n",
    "Самыми ненадёжными являются неженатые заёмщики с четырьмя детьми с заработком  от 119 260.667 до 142 594.0, которые берут кредит на автомобиль."
   ]
  }
 ],
 "metadata": {
  "ExecuteTimeLog": [
   {
    "duration": 1150,
    "start_time": "2021-11-17T08:18:12.554Z"
   },
   {
    "duration": 22,
    "start_time": "2021-11-17T08:18:13.708Z"
   },
   {
    "duration": 57,
    "start_time": "2021-11-17T08:18:13.734Z"
   },
   {
    "duration": 17,
    "start_time": "2021-11-17T08:18:13.794Z"
   },
   {
    "duration": 11,
    "start_time": "2021-11-17T08:18:13.814Z"
   },
   {
    "duration": 12,
    "start_time": "2021-11-17T08:18:13.828Z"
   },
   {
    "duration": 51,
    "start_time": "2021-11-17T08:18:13.843Z"
   },
   {
    "duration": 9,
    "start_time": "2021-11-17T08:18:13.900Z"
   },
   {
    "duration": 14,
    "start_time": "2021-11-17T08:18:13.913Z"
   },
   {
    "duration": 5,
    "start_time": "2021-11-17T08:18:13.930Z"
   },
   {
    "duration": 53,
    "start_time": "2021-11-17T08:18:13.938Z"
   },
   {
    "duration": 26,
    "start_time": "2021-11-17T08:18:13.995Z"
   },
   {
    "duration": 7,
    "start_time": "2021-11-17T08:18:14.024Z"
   },
   {
    "duration": 9,
    "start_time": "2021-11-17T08:18:14.034Z"
   },
   {
    "duration": 55,
    "start_time": "2021-11-17T08:18:14.046Z"
   },
   {
    "duration": 15,
    "start_time": "2021-11-17T08:18:14.104Z"
   },
   {
    "duration": 6,
    "start_time": "2021-11-17T08:18:14.121Z"
   },
   {
    "duration": 52,
    "start_time": "2021-11-17T08:18:14.129Z"
   },
   {
    "duration": 14,
    "start_time": "2021-11-17T08:18:14.184Z"
   },
   {
    "duration": 639,
    "start_time": "2021-11-17T08:18:14.200Z"
   },
   {
    "duration": 5,
    "start_time": "2021-11-17T08:18:14.841Z"
   },
   {
    "duration": 18,
    "start_time": "2021-11-17T08:18:14.848Z"
   },
   {
    "duration": 6,
    "start_time": "2021-11-17T08:18:14.885Z"
   },
   {
    "duration": 6,
    "start_time": "2021-11-17T08:18:14.895Z"
   },
   {
    "duration": 8,
    "start_time": "2021-11-17T08:18:14.903Z"
   },
   {
    "duration": 8,
    "start_time": "2021-11-17T08:18:14.913Z"
   },
   {
    "duration": 9,
    "start_time": "2021-11-17T08:18:14.924Z"
   },
   {
    "duration": 50,
    "start_time": "2021-11-17T08:18:14.935Z"
   },
   {
    "duration": 10,
    "start_time": "2021-11-17T08:18:14.988Z"
   },
   {
    "duration": 15,
    "start_time": "2021-11-17T08:18:15.001Z"
   },
   {
    "duration": 12,
    "start_time": "2021-11-17T08:18:15.019Z"
   },
   {
    "duration": 18,
    "start_time": "2021-11-17T08:18:15.033Z"
   },
   {
    "duration": 13,
    "start_time": "2021-11-17T08:18:15.083Z"
   },
   {
    "duration": 17,
    "start_time": "2021-11-17T08:18:15.099Z"
   },
   {
    "duration": 16,
    "start_time": "2021-11-17T08:18:15.119Z"
   },
   {
    "duration": 6,
    "start_time": "2021-11-17T08:18:15.139Z"
   },
   {
    "duration": 13,
    "start_time": "2021-11-17T08:18:15.181Z"
   },
   {
    "duration": 17,
    "start_time": "2021-11-17T08:18:15.197Z"
   },
   {
    "duration": 643,
    "start_time": "2021-11-17T08:18:15.217Z"
   },
   {
    "duration": 5,
    "start_time": "2021-11-17T08:18:15.862Z"
   },
   {
    "duration": 5,
    "start_time": "2021-11-17T08:18:15.882Z"
   },
   {
    "duration": 11,
    "start_time": "2021-11-17T08:18:15.890Z"
   },
   {
    "duration": 18,
    "start_time": "2021-11-17T08:18:15.903Z"
   },
   {
    "duration": 13,
    "start_time": "2021-11-17T08:18:15.924Z"
   },
   {
    "duration": 43,
    "start_time": "2021-11-17T08:18:15.939Z"
   },
   {
    "duration": 17,
    "start_time": "2021-11-17T08:18:15.984Z"
   },
   {
    "duration": 23,
    "start_time": "2021-11-17T08:18:16.004Z"
   },
   {
    "duration": 64,
    "start_time": "2021-11-17T08:18:16.029Z"
   },
   {
    "duration": 15,
    "start_time": "2021-11-17T08:18:16.096Z"
   },
   {
    "duration": 33,
    "start_time": "2021-11-17T08:18:16.114Z"
   },
   {
    "duration": 51,
    "start_time": "2021-11-17T08:18:16.150Z"
   },
   {
    "duration": 26,
    "start_time": "2021-11-17T08:18:16.203Z"
   },
   {
    "duration": 11,
    "start_time": "2021-11-17T08:18:16.232Z"
   },
   {
    "duration": 5,
    "start_time": "2021-11-17T08:18:16.246Z"
   },
   {
    "duration": 6190,
    "start_time": "2021-11-17T08:18:16.254Z"
   },
   {
    "duration": 36,
    "start_time": "2021-11-17T08:18:22.446Z"
   },
   {
    "duration": 12,
    "start_time": "2021-11-17T08:18:22.484Z"
   },
   {
    "duration": 9,
    "start_time": "2021-11-17T08:18:22.499Z"
   },
   {
    "duration": 3600,
    "start_time": "2021-11-17T08:18:22.510Z"
   },
   {
    "duration": 21,
    "start_time": "2021-11-17T08:18:26.113Z"
   },
   {
    "duration": 12,
    "start_time": "2021-11-17T08:18:26.136Z"
   },
   {
    "duration": 32,
    "start_time": "2021-11-17T08:18:26.151Z"
   },
   {
    "duration": 16,
    "start_time": "2021-11-17T08:18:26.186Z"
   },
   {
    "duration": 27,
    "start_time": "2021-11-17T08:18:26.205Z"
   },
   {
    "duration": 9,
    "start_time": "2021-11-17T08:18:26.234Z"
   },
   {
    "duration": 37,
    "start_time": "2021-11-17T08:18:26.283Z"
   },
   {
    "duration": 17,
    "start_time": "2021-11-17T08:18:26.324Z"
   },
   {
    "duration": 45,
    "start_time": "2021-11-17T08:18:26.352Z"
   },
   {
    "duration": 9,
    "start_time": "2021-11-17T08:18:26.400Z"
   },
   {
    "duration": 30,
    "start_time": "2021-11-17T08:18:26.411Z"
   },
   {
    "duration": 44,
    "start_time": "2021-11-17T08:18:26.443Z"
   },
   {
    "duration": 12,
    "start_time": "2021-11-17T08:18:26.491Z"
   },
   {
    "duration": 9,
    "start_time": "2021-11-17T08:18:26.506Z"
   },
   {
    "duration": 72,
    "start_time": "2021-11-17T08:18:26.518Z"
   },
   {
    "duration": 8,
    "start_time": "2021-11-17T08:18:26.592Z"
   },
   {
    "duration": 23,
    "start_time": "2021-11-17T08:18:26.603Z"
   },
   {
    "duration": 9,
    "start_time": "2021-11-17T08:18:26.629Z"
   },
   {
    "duration": 61,
    "start_time": "2021-11-17T08:18:26.641Z"
   },
   {
    "duration": 8,
    "start_time": "2021-11-17T08:18:26.704Z"
   },
   {
    "duration": 24,
    "start_time": "2021-11-17T08:18:26.714Z"
   },
   {
    "duration": 893,
    "start_time": "2021-11-17T08:42:16.083Z"
   },
   {
    "duration": 19,
    "start_time": "2021-11-17T08:42:16.979Z"
   },
   {
    "duration": 31,
    "start_time": "2021-11-17T08:42:17.002Z"
   },
   {
    "duration": 12,
    "start_time": "2021-11-17T08:42:17.036Z"
   },
   {
    "duration": 13,
    "start_time": "2021-11-17T08:42:17.083Z"
   },
   {
    "duration": 7,
    "start_time": "2021-11-17T08:42:17.098Z"
   },
   {
    "duration": 12,
    "start_time": "2021-11-17T08:42:17.108Z"
   },
   {
    "duration": 6,
    "start_time": "2021-11-17T08:42:17.124Z"
   },
   {
    "duration": 52,
    "start_time": "2021-11-17T08:42:17.133Z"
   },
   {
    "duration": 4,
    "start_time": "2021-11-17T08:42:17.187Z"
   },
   {
    "duration": 18,
    "start_time": "2021-11-17T08:42:17.193Z"
   },
   {
    "duration": 18,
    "start_time": "2021-11-17T08:42:17.214Z"
   },
   {
    "duration": 5,
    "start_time": "2021-11-17T08:42:17.234Z"
   },
   {
    "duration": 43,
    "start_time": "2021-11-17T08:42:17.241Z"
   },
   {
    "duration": 18,
    "start_time": "2021-11-17T08:42:17.286Z"
   },
   {
    "duration": 10,
    "start_time": "2021-11-17T08:42:17.307Z"
   },
   {
    "duration": 6,
    "start_time": "2021-11-17T08:42:17.319Z"
   },
   {
    "duration": 70,
    "start_time": "2021-11-17T08:42:17.327Z"
   },
   {
    "duration": 16,
    "start_time": "2021-11-17T08:42:17.399Z"
   },
   {
    "duration": 658,
    "start_time": "2021-11-17T08:42:17.417Z"
   },
   {
    "duration": 7,
    "start_time": "2021-11-17T08:42:18.077Z"
   },
   {
    "duration": 15,
    "start_time": "2021-11-17T08:42:18.086Z"
   },
   {
    "duration": 5,
    "start_time": "2021-11-17T08:42:18.107Z"
   },
   {
    "duration": 5,
    "start_time": "2021-11-17T08:42:18.117Z"
   },
   {
    "duration": 59,
    "start_time": "2021-11-17T08:42:18.124Z"
   },
   {
    "duration": 8,
    "start_time": "2021-11-17T08:42:18.186Z"
   },
   {
    "duration": 9,
    "start_time": "2021-11-17T08:42:18.196Z"
   },
   {
    "duration": 5,
    "start_time": "2021-11-17T08:42:18.207Z"
   },
   {
    "duration": 9,
    "start_time": "2021-11-17T08:42:18.214Z"
   },
   {
    "duration": 56,
    "start_time": "2021-11-17T08:42:18.225Z"
   },
   {
    "duration": 9,
    "start_time": "2021-11-17T08:42:18.284Z"
   },
   {
    "duration": 10,
    "start_time": "2021-11-17T08:42:18.296Z"
   },
   {
    "duration": 12,
    "start_time": "2021-11-17T08:42:18.309Z"
   },
   {
    "duration": 10,
    "start_time": "2021-11-17T08:42:18.323Z"
   },
   {
    "duration": 8,
    "start_time": "2021-11-17T08:42:18.383Z"
   },
   {
    "duration": 7,
    "start_time": "2021-11-17T08:42:18.393Z"
   },
   {
    "duration": 12,
    "start_time": "2021-11-17T08:42:18.403Z"
   },
   {
    "duration": 14,
    "start_time": "2021-11-17T08:42:18.417Z"
   },
   {
    "duration": 638,
    "start_time": "2021-11-17T08:42:18.433Z"
   },
   {
    "duration": 9,
    "start_time": "2021-11-17T08:42:19.073Z"
   },
   {
    "duration": 8,
    "start_time": "2021-11-17T08:42:19.085Z"
   },
   {
    "duration": 5,
    "start_time": "2021-11-17T08:42:19.096Z"
   },
   {
    "duration": 10,
    "start_time": "2021-11-17T08:42:19.103Z"
   },
   {
    "duration": 11,
    "start_time": "2021-11-17T08:42:19.116Z"
   },
   {
    "duration": 53,
    "start_time": "2021-11-17T08:42:19.130Z"
   },
   {
    "duration": 24,
    "start_time": "2021-11-17T08:42:19.187Z"
   },
   {
    "duration": 30,
    "start_time": "2021-11-17T08:42:19.215Z"
   },
   {
    "duration": 60,
    "start_time": "2021-11-17T08:42:19.248Z"
   },
   {
    "duration": 15,
    "start_time": "2021-11-17T08:42:19.310Z"
   },
   {
    "duration": 61,
    "start_time": "2021-11-17T08:42:19.327Z"
   },
   {
    "duration": 35,
    "start_time": "2021-11-17T08:42:19.391Z"
   },
   {
    "duration": 60,
    "start_time": "2021-11-17T08:42:19.429Z"
   },
   {
    "duration": 11,
    "start_time": "2021-11-17T08:42:19.491Z"
   },
   {
    "duration": 4,
    "start_time": "2021-11-17T08:42:19.504Z"
   },
   {
    "duration": 5976,
    "start_time": "2021-11-17T08:42:19.510Z"
   },
   {
    "duration": 20,
    "start_time": "2021-11-17T08:42:25.489Z"
   },
   {
    "duration": 15,
    "start_time": "2021-11-17T08:42:25.512Z"
   },
   {
    "duration": 7,
    "start_time": "2021-11-17T08:42:25.530Z"
   },
   {
    "duration": 3850,
    "start_time": "2021-11-17T08:42:25.540Z"
   },
   {
    "duration": 20,
    "start_time": "2021-11-17T08:42:29.393Z"
   },
   {
    "duration": 13,
    "start_time": "2021-11-17T08:42:29.415Z"
   },
   {
    "duration": 4,
    "start_time": "2021-11-17T08:42:29.430Z"
   },
   {
    "duration": 49,
    "start_time": "2021-11-17T08:42:29.437Z"
   },
   {
    "duration": 25,
    "start_time": "2021-11-17T08:42:29.489Z"
   },
   {
    "duration": 14,
    "start_time": "2021-11-17T08:42:29.516Z"
   },
   {
    "duration": 70,
    "start_time": "2021-11-17T08:42:29.533Z"
   },
   {
    "duration": 14,
    "start_time": "2021-11-17T08:42:29.605Z"
   },
   {
    "duration": 14,
    "start_time": "2021-11-17T08:42:29.626Z"
   },
   {
    "duration": 40,
    "start_time": "2021-11-17T08:42:29.642Z"
   },
   {
    "duration": 34,
    "start_time": "2021-11-17T08:42:29.685Z"
   },
   {
    "duration": 8,
    "start_time": "2021-11-17T08:42:29.721Z"
   },
   {
    "duration": 17,
    "start_time": "2021-11-17T08:42:29.732Z"
   },
   {
    "duration": 12,
    "start_time": "2021-11-17T08:42:29.783Z"
   },
   {
    "duration": 49,
    "start_time": "2021-11-17T08:42:29.798Z"
   },
   {
    "duration": 39,
    "start_time": "2021-11-17T08:42:29.850Z"
   },
   {
    "duration": 25,
    "start_time": "2021-11-17T08:42:29.892Z"
   },
   {
    "duration": 12,
    "start_time": "2021-11-17T08:42:29.920Z"
   },
   {
    "duration": 59,
    "start_time": "2021-11-17T08:42:29.935Z"
   },
   {
    "duration": 8,
    "start_time": "2021-11-17T08:42:29.997Z"
   },
   {
    "duration": 36,
    "start_time": "2021-11-17T08:42:30.008Z"
   }
  ],
  "kernelspec": {
   "display_name": "Python 3",
   "language": "python",
   "name": "python3"
  },
  "language_info": {
   "codemirror_mode": {
    "name": "ipython",
    "version": 3
   },
   "file_extension": ".py",
   "mimetype": "text/x-python",
   "name": "python",
   "nbconvert_exporter": "python",
   "pygments_lexer": "ipython3",
   "version": "3.7.8"
  },
  "toc": {
   "base_numbering": 1,
   "nav_menu": {},
   "number_sections": true,
   "sideBar": true,
   "skip_h1_title": true,
   "title_cell": "Table of Contents",
   "title_sidebar": "Contents",
   "toc_cell": false,
   "toc_position": {},
   "toc_section_display": true,
   "toc_window_display": false
  }
 },
 "nbformat": 4,
 "nbformat_minor": 2
}
