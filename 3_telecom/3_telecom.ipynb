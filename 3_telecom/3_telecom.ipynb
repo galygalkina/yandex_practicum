{
 "cells": [
  {
   "cell_type": "markdown",
   "metadata": {},
   "source": [
    "# Проект «Определение перспективного тарифа для телеком компании»"
   ]
  },
  {
   "cell_type": "markdown",
   "metadata": {},
   "source": [
    "В рамках данного проекта необходимо проанализировать поведение клиентов федерального оператора сотовой связи «Мегалайн»  и понять, какой тариф приносит оператору больше денег.\n",
    "\n",
    "В распоряжении имеются данные 500 пользователей «Мегалайна»: кто они, откуда, каким тарифом пользуются, сколько звонков и сообщений каждый отправил за 2018 год. \n",
    "\n",
    "Клиентам предлагается два тарифных плана - «Смарт» и «Ультра»:\n",
    "- Тариф «Смарт»\n",
    "  - Ежемесячная плата: 550 рублей\n",
    "  - Включено 500 минут разговора, 50 сообщений и 15 Гб интернет-трафика\n",
    "  - Стоимость услуг сверх тарифного пакета:\n",
    "   - минута разговора: 3 рубля\n",
    "   - сообщение: 3 рубля\n",
    "   - 1 Гб интернет-трафика: 200 рублей\n",
    "- Тариф «Ультра»\n",
    "  - Ежемесячная плата: 1950 рублей\n",
    "  - Включено 3000 минут разговора, 1000 сообщений и 30 Гб интернет-трафика\n",
    "  - Стоимость услуг сверх тарифного пакета:\n",
    "   - минута разговора: 1 рубль\n",
    "   - сообщение: 1 рубль\n",
    "   - 1 Гб интернет-трафика: 150 рублей\n",
    "\n",
    "При проведении исследования необходимо учитывать, что «Мегалайн» всегда округляет вверх значения минут и мегабайтов. Если пользователь проговорил всего 1 секунду, в тарифе засчитывается целая минута.\n",
    "\n",
    "Исследование будем проводить в несколько шагов:\n",
    "- [Откроем файл с данными и изучим общую информацию](#Шаг1) \n",
    "- [Подготовим данные к исследованию](#Шаг2) \n",
    "  - [Найдём и исправим ошибки в данных и приведём данные к нужным типам](#Шаг2.1)\n",
    "  - [Посчитаем для каждого пользователя показатели](#Шаг2.2)\n",
    "    - количество сделанных звонков и израсходованных минут разговора по месяцам\n",
    "    - количество отправленных сообщений по месяцам\n",
    "    - объём израсходованного интернет-трафика по месяцам\n",
    "    - помесячную выручку с каждого пользователя\n",
    "\n",
    "- [Проанализируем данные](#Шаг3)\n",
    "   - Посчитаем, сколько минут разговора, сколько сообщений и какой объём интернет-трафика требуется пользователям каждого тарифа в месяц, посчитаем среднее количество, дисперсию и стандартное отклонение. Построим гистограммы. Опишем распределения.\n",
    "\n",
    "- [Проверим гипотезы](#Шаг4)\n",
    "  - Cредняя выручка пользователей тарифов «Ультра» и «Смарт» различается;\n",
    "  - Cредняя выручка пользователей из Москвы отличается от выручки пользователей из других регионов;\n",
    "\n",
    "- [Напишем общий вывод](#Шаг5)"
   ]
  },
  {
   "cell_type": "markdown",
   "metadata": {
    "toc": true
   },
   "source": [
    "<h1>Содержание<span class=\"tocSkip\"></span></h1>\n",
    "<div class=\"toc\"><ul class=\"toc-item\"><li><span><a href=\"#Откроем-файл-с-данными-и-изучим-общую-информацию-\" data-toc-modified-id=\"Откроем-файл-с-данными-и-изучим-общую-информацию--1\"><span class=\"toc-item-num\">1&nbsp;&nbsp;</span>Откроем файл с данными и изучим общую информацию <a id=\"Шаг1\"></a></a></span></li><li><span><a href=\"#Вывод\" data-toc-modified-id=\"Вывод-2\"><span class=\"toc-item-num\">2&nbsp;&nbsp;</span>Вывод</a></span></li><li><span><a href=\"#Подготовим-данные-к-исследованию-\" data-toc-modified-id=\"Подготовим-данные-к-исследованию--3\"><span class=\"toc-item-num\">3&nbsp;&nbsp;</span>Подготовим данные к исследованию <a id=\"Шаг2\"></a></a></span><ul class=\"toc-item\"><li><span><a href=\"#Найдём-и-исправим-ошибки-в-данных-и-приведём-данные-к-нужным-типам--\" data-toc-modified-id=\"Найдём-и-исправим-ошибки-в-данных-и-приведём-данные-к-нужным-типам---3.1\"><span class=\"toc-item-num\">3.1&nbsp;&nbsp;</span>Найдём и исправим ошибки в данных и приведём данные к нужным типам  <a id=\"Шаг2.1\"></a></a></span><ul class=\"toc-item\"><li><span><a href=\"#Таблица-users---информация-о-пользователях\" data-toc-modified-id=\"Таблица-users---информация-о-пользователях-3.1.1\"><span class=\"toc-item-num\">3.1.1&nbsp;&nbsp;</span>Таблица users - информация о пользователях</a></span></li><li><span><a href=\"#Вывод\" data-toc-modified-id=\"Вывод-3.1.2\"><span class=\"toc-item-num\">3.1.2&nbsp;&nbsp;</span>Вывод</a></span></li><li><span><a href=\"#Таблица-calls---информация-о-звонках\" data-toc-modified-id=\"Таблица-calls---информация-о-звонках-3.1.3\"><span class=\"toc-item-num\">3.1.3&nbsp;&nbsp;</span>Таблица calls - информация о звонках</a></span></li><li><span><a href=\"#Вывод\" data-toc-modified-id=\"Вывод-3.1.4\"><span class=\"toc-item-num\">3.1.4&nbsp;&nbsp;</span>Вывод</a></span></li><li><span><a href=\"#Таблица-messages---информация-о-сообщениях\" data-toc-modified-id=\"Таблица-messages---информация-о-сообщениях-3.1.5\"><span class=\"toc-item-num\">3.1.5&nbsp;&nbsp;</span>Таблица messages - информация о сообщениях</a></span></li><li><span><a href=\"#Вывод\" data-toc-modified-id=\"Вывод-3.1.6\"><span class=\"toc-item-num\">3.1.6&nbsp;&nbsp;</span>Вывод</a></span></li><li><span><a href=\"#Таблица-internet---информация-об-интернет-сессиях\" data-toc-modified-id=\"Таблица-internet---информация-об-интернет-сессиях-3.1.7\"><span class=\"toc-item-num\">3.1.7&nbsp;&nbsp;</span>Таблица internet - информация об интернет-сессиях</a></span></li><li><span><a href=\"#Вывод\" data-toc-modified-id=\"Вывод-3.1.8\"><span class=\"toc-item-num\">3.1.8&nbsp;&nbsp;</span>Вывод</a></span></li><li><span><a href=\"#Таблица-tariffs---информация-о-тарифах\" data-toc-modified-id=\"Таблица-tariffs---информация-о-тарифах-3.1.9\"><span class=\"toc-item-num\">3.1.9&nbsp;&nbsp;</span>Таблица tariffs - информация о тарифах</a></span></li><li><span><a href=\"#Вывод\" data-toc-modified-id=\"Вывод-3.1.10\"><span class=\"toc-item-num\">3.1.10&nbsp;&nbsp;</span>Вывод</a></span></li></ul></li><li><span><a href=\"#Посчитаем-для-каждого-пользователя-показатели-\" data-toc-modified-id=\"Посчитаем-для-каждого-пользователя-показатели--3.2\"><span class=\"toc-item-num\">3.2&nbsp;&nbsp;</span>Посчитаем для каждого пользователя показатели <a id=\"Шаг2.3\"></a></a></span><ul class=\"toc-item\"><li><span><a href=\"#Количество-сделанных-звонков-и-израсходованных-минут-разговора-по-месяцам-\" data-toc-modified-id=\"Количество-сделанных-звонков-и-израсходованных-минут-разговора-по-месяцам--3.2.1\"><span class=\"toc-item-num\">3.2.1&nbsp;&nbsp;</span>Количество сделанных звонков и израсходованных минут разговора по месяцам <a id=\"Шаг2.3.1\"></a></a></span></li><li><span><a href=\"#Количество-отправленных-сообщений-по-месяцам\" data-toc-modified-id=\"Количество-отправленных-сообщений-по-месяцам-3.2.2\"><span class=\"toc-item-num\">3.2.2&nbsp;&nbsp;</span>Количество отправленных сообщений по месяцам</a></span></li><li><span><a href=\"#Объём-израсходованного-интернет-трафика-по-месяцам\" data-toc-modified-id=\"Объём-израсходованного-интернет-трафика-по-месяцам-3.2.3\"><span class=\"toc-item-num\">3.2.3&nbsp;&nbsp;</span>Объём израсходованного интернет-трафика по месяцам</a></span></li><li><span><a href=\"#Вывод\" data-toc-modified-id=\"Вывод-3.2.4\"><span class=\"toc-item-num\">3.2.4&nbsp;&nbsp;</span>Вывод</a></span></li><li><span><a href=\"#Помесячная-выручка-с-каждого-пользователя\" data-toc-modified-id=\"Помесячная-выручка-с-каждого-пользователя-3.2.5\"><span class=\"toc-item-num\">3.2.5&nbsp;&nbsp;</span>Помесячная выручка с каждого пользователя</a></span></li><li><span><a href=\"#Вывод\" data-toc-modified-id=\"Вывод-3.2.6\"><span class=\"toc-item-num\">3.2.6&nbsp;&nbsp;</span>Вывод</a></span></li></ul></li></ul></li><li><span><a href=\"#Проанализируем-данные-\" data-toc-modified-id=\"Проанализируем-данные--4\"><span class=\"toc-item-num\">4&nbsp;&nbsp;</span>Проанализируем данные <a id=\"Шаг3\"></a></a></span><ul class=\"toc-item\"><li><span><a href=\"#Сколько-минут-разговора-требуется-пользователям-каждого-тарифа-в-месяц\" data-toc-modified-id=\"Сколько-минут-разговора-требуется-пользователям-каждого-тарифа-в-месяц-4.1\"><span class=\"toc-item-num\">4.1&nbsp;&nbsp;</span>Сколько минут разговора требуется пользователям каждого тарифа в месяц</a></span></li><li><span><a href=\"#Вывод\" data-toc-modified-id=\"Вывод-4.2\"><span class=\"toc-item-num\">4.2&nbsp;&nbsp;</span>Вывод</a></span></li><li><span><a href=\"#Сколько-сообщений-требуется-пользователям-каждого-тарифа-в-месяц\" data-toc-modified-id=\"Сколько-сообщений-требуется-пользователям-каждого-тарифа-в-месяц-4.3\"><span class=\"toc-item-num\">4.3&nbsp;&nbsp;</span>Сколько сообщений требуется пользователям каждого тарифа в месяц</a></span></li><li><span><a href=\"#Вывод\" data-toc-modified-id=\"Вывод-4.4\"><span class=\"toc-item-num\">4.4&nbsp;&nbsp;</span>Вывод</a></span></li><li><span><a href=\"#Какой-объём-интернет-трафика-требуется-пользователям-каждого-тарифа-в-месяц\" data-toc-modified-id=\"Какой-объём-интернет-трафика-требуется-пользователям-каждого-тарифа-в-месяц-4.5\"><span class=\"toc-item-num\">4.5&nbsp;&nbsp;</span>Какой объём интернет-трафика требуется пользователям каждого тарифа в месяц</a></span></li><li><span><a href=\"#Вывод\" data-toc-modified-id=\"Вывод-4.6\"><span class=\"toc-item-num\">4.6&nbsp;&nbsp;</span>Вывод</a></span></li><li><span><a href=\"#Распределение-выручки-по-тарифам\" data-toc-modified-id=\"Распределение-выручки-по-тарифам-4.7\"><span class=\"toc-item-num\">4.7&nbsp;&nbsp;</span>Распределение выручки по тарифам</a></span></li><li><span><a href=\"#Вывод\" data-toc-modified-id=\"Вывод-4.8\"><span class=\"toc-item-num\">4.8&nbsp;&nbsp;</span>Вывод</a></span></li></ul></li><li><span><a href=\"#Проверим-гипотезы-\" data-toc-modified-id=\"Проверим-гипотезы--5\"><span class=\"toc-item-num\">5&nbsp;&nbsp;</span>Проверим гипотезы <a id=\"Шаг4\"></a></a></span><ul class=\"toc-item\"><li><span><a href=\"#Проверка-гипотезы----Cредняя-выручка-пользователей-тарифов-«Ультра»-и-«Смарт»-различается\" data-toc-modified-id=\"Проверка-гипотезы----Cредняя-выручка-пользователей-тарифов-«Ультра»-и-«Смарт»-различается-5.1\"><span class=\"toc-item-num\">5.1&nbsp;&nbsp;</span>Проверка гипотезы  - Cредняя выручка пользователей тарифов «Ультра» и «Смарт» различается</a></span></li><li><span><a href=\"#Вывод\" data-toc-modified-id=\"Вывод-5.2\"><span class=\"toc-item-num\">5.2&nbsp;&nbsp;</span>Вывод</a></span></li><li><span><a href=\"#Проверка-гипотезы----Cредняя-выручка-пользователей-из-Москвы-отличается-от-выручки-пользователей-из-других-регионов\" data-toc-modified-id=\"Проверка-гипотезы----Cредняя-выручка-пользователей-из-Москвы-отличается-от-выручки-пользователей-из-других-регионов-5.3\"><span class=\"toc-item-num\">5.3&nbsp;&nbsp;</span>Проверка гипотезы  - Cредняя выручка пользователей из Москвы отличается от выручки пользователей из других регионов</a></span></li><li><span><a href=\"#Вывод\" data-toc-modified-id=\"Вывод-5.4\"><span class=\"toc-item-num\">5.4&nbsp;&nbsp;</span>Вывод</a></span></li></ul></li><li><span><a href=\"#Общий-вывод-\" data-toc-modified-id=\"Общий-вывод--6\"><span class=\"toc-item-num\">6&nbsp;&nbsp;</span>Общий вывод <a id=\"Шаг5\"></a></a></span></li></ul></div>"
   ]
  },
  {
   "cell_type": "markdown",
   "metadata": {},
   "source": [
    "## Откроем файл с данными и изучим общую информацию <a id='Шаг1'></a>"
   ]
  },
  {
   "cell_type": "code",
   "execution_count": 1,
   "metadata": {},
   "outputs": [],
   "source": [
    "#импортируем библиотеку pandas\n",
    "import pandas as pd\n",
    "\n",
    "#импортируем библиотеку numpy\n",
    "import numpy as np\n",
    "\n",
    "#импортируем библиотеку stats для работы со статистикой\n",
    "from scipy import stats as st\n",
    "\n",
    "#для создания графиков и гистограмм импортируем библиотеку matplotlib\n",
    "import matplotlib.pyplot as plt\n",
    "\n",
    "#импортируем библиотеку warnings, чтобы скрыть возникающие предупреждения\n",
    "import warnings\n",
    "warnings.filterwarnings('ignore')"
   ]
  },
  {
   "cell_type": "code",
   "execution_count": 3,
   "metadata": {},
   "outputs": [
    {
     "name": "stdout",
     "output_type": "stream",
     "text": [
      "Первые пять строк таблицы df_users :\n",
      "\n"
     ]
    },
    {
     "data": {
      "text/html": [
       "<div>\n",
       "<style scoped>\n",
       "    .dataframe tbody tr th:only-of-type {\n",
       "        vertical-align: middle;\n",
       "    }\n",
       "\n",
       "    .dataframe tbody tr th {\n",
       "        vertical-align: top;\n",
       "    }\n",
       "\n",
       "    .dataframe thead th {\n",
       "        text-align: right;\n",
       "    }\n",
       "</style>\n",
       "<table border=\"1\" class=\"dataframe\">\n",
       "  <thead>\n",
       "    <tr style=\"text-align: right;\">\n",
       "      <th></th>\n",
       "      <th>user_id</th>\n",
       "      <th>age</th>\n",
       "      <th>churn_date</th>\n",
       "      <th>city</th>\n",
       "      <th>first_name</th>\n",
       "      <th>last_name</th>\n",
       "      <th>reg_date</th>\n",
       "      <th>tariff</th>\n",
       "    </tr>\n",
       "  </thead>\n",
       "  <tbody>\n",
       "    <tr>\n",
       "      <td>0</td>\n",
       "      <td>1000</td>\n",
       "      <td>52</td>\n",
       "      <td>NaN</td>\n",
       "      <td>Краснодар</td>\n",
       "      <td>Рафаил</td>\n",
       "      <td>Верещагин</td>\n",
       "      <td>2018-05-25</td>\n",
       "      <td>ultra</td>\n",
       "    </tr>\n",
       "    <tr>\n",
       "      <td>1</td>\n",
       "      <td>1001</td>\n",
       "      <td>41</td>\n",
       "      <td>NaN</td>\n",
       "      <td>Москва</td>\n",
       "      <td>Иван</td>\n",
       "      <td>Ежов</td>\n",
       "      <td>2018-11-01</td>\n",
       "      <td>smart</td>\n",
       "    </tr>\n",
       "    <tr>\n",
       "      <td>2</td>\n",
       "      <td>1002</td>\n",
       "      <td>59</td>\n",
       "      <td>NaN</td>\n",
       "      <td>Стерлитамак</td>\n",
       "      <td>Евгений</td>\n",
       "      <td>Абрамович</td>\n",
       "      <td>2018-06-17</td>\n",
       "      <td>smart</td>\n",
       "    </tr>\n",
       "    <tr>\n",
       "      <td>3</td>\n",
       "      <td>1003</td>\n",
       "      <td>23</td>\n",
       "      <td>NaN</td>\n",
       "      <td>Москва</td>\n",
       "      <td>Белла</td>\n",
       "      <td>Белякова</td>\n",
       "      <td>2018-08-17</td>\n",
       "      <td>ultra</td>\n",
       "    </tr>\n",
       "    <tr>\n",
       "      <td>4</td>\n",
       "      <td>1004</td>\n",
       "      <td>68</td>\n",
       "      <td>NaN</td>\n",
       "      <td>Новокузнецк</td>\n",
       "      <td>Татьяна</td>\n",
       "      <td>Авдеенко</td>\n",
       "      <td>2018-05-14</td>\n",
       "      <td>ultra</td>\n",
       "    </tr>\n",
       "  </tbody>\n",
       "</table>\n",
       "</div>"
      ],
      "text/plain": [
       "   user_id  age churn_date         city first_name  last_name    reg_date  \\\n",
       "0     1000   52        NaN    Краснодар     Рафаил  Верещагин  2018-05-25   \n",
       "1     1001   41        NaN       Москва       Иван       Ежов  2018-11-01   \n",
       "2     1002   59        NaN  Стерлитамак    Евгений  Абрамович  2018-06-17   \n",
       "3     1003   23        NaN       Москва      Белла   Белякова  2018-08-17   \n",
       "4     1004   68        NaN  Новокузнецк    Татьяна   Авдеенко  2018-05-14   \n",
       "\n",
       "  tariff  \n",
       "0  ultra  \n",
       "1  smart  \n",
       "2  smart  \n",
       "3  ultra  \n",
       "4  ultra  "
      ]
     },
     "metadata": {},
     "output_type": "display_data"
    },
    {
     "name": "stdout",
     "output_type": "stream",
     "text": [
      "\n",
      "Общая информация о таблице df_users :\n",
      "\n",
      "<class 'pandas.core.frame.DataFrame'>\n",
      "RangeIndex: 500 entries, 0 to 499\n",
      "Data columns (total 8 columns):\n",
      "user_id       500 non-null int64\n",
      "age           500 non-null int64\n",
      "churn_date    38 non-null object\n",
      "city          500 non-null object\n",
      "first_name    500 non-null object\n",
      "last_name     500 non-null object\n",
      "reg_date      500 non-null object\n",
      "tariff        500 non-null object\n",
      "dtypes: int64(2), object(6)\n",
      "memory usage: 31.4+ KB\n",
      "\n",
      "Первые пять строк таблицы df_calls :\n",
      "\n"
     ]
    },
    {
     "data": {
      "text/html": [
       "<div>\n",
       "<style scoped>\n",
       "    .dataframe tbody tr th:only-of-type {\n",
       "        vertical-align: middle;\n",
       "    }\n",
       "\n",
       "    .dataframe tbody tr th {\n",
       "        vertical-align: top;\n",
       "    }\n",
       "\n",
       "    .dataframe thead th {\n",
       "        text-align: right;\n",
       "    }\n",
       "</style>\n",
       "<table border=\"1\" class=\"dataframe\">\n",
       "  <thead>\n",
       "    <tr style=\"text-align: right;\">\n",
       "      <th></th>\n",
       "      <th>id</th>\n",
       "      <th>call_date</th>\n",
       "      <th>duration</th>\n",
       "      <th>user_id</th>\n",
       "    </tr>\n",
       "  </thead>\n",
       "  <tbody>\n",
       "    <tr>\n",
       "      <td>0</td>\n",
       "      <td>1000_0</td>\n",
       "      <td>2018-07-25</td>\n",
       "      <td>0.00</td>\n",
       "      <td>1000</td>\n",
       "    </tr>\n",
       "    <tr>\n",
       "      <td>1</td>\n",
       "      <td>1000_1</td>\n",
       "      <td>2018-08-17</td>\n",
       "      <td>0.00</td>\n",
       "      <td>1000</td>\n",
       "    </tr>\n",
       "    <tr>\n",
       "      <td>2</td>\n",
       "      <td>1000_2</td>\n",
       "      <td>2018-06-11</td>\n",
       "      <td>2.85</td>\n",
       "      <td>1000</td>\n",
       "    </tr>\n",
       "    <tr>\n",
       "      <td>3</td>\n",
       "      <td>1000_3</td>\n",
       "      <td>2018-09-21</td>\n",
       "      <td>13.80</td>\n",
       "      <td>1000</td>\n",
       "    </tr>\n",
       "    <tr>\n",
       "      <td>4</td>\n",
       "      <td>1000_4</td>\n",
       "      <td>2018-12-15</td>\n",
       "      <td>5.18</td>\n",
       "      <td>1000</td>\n",
       "    </tr>\n",
       "  </tbody>\n",
       "</table>\n",
       "</div>"
      ],
      "text/plain": [
       "       id   call_date  duration  user_id\n",
       "0  1000_0  2018-07-25      0.00     1000\n",
       "1  1000_1  2018-08-17      0.00     1000\n",
       "2  1000_2  2018-06-11      2.85     1000\n",
       "3  1000_3  2018-09-21     13.80     1000\n",
       "4  1000_4  2018-12-15      5.18     1000"
      ]
     },
     "metadata": {},
     "output_type": "display_data"
    },
    {
     "name": "stdout",
     "output_type": "stream",
     "text": [
      "\n",
      "Общая информация о таблице df_calls :\n",
      "\n",
      "<class 'pandas.core.frame.DataFrame'>\n",
      "RangeIndex: 202607 entries, 0 to 202606\n",
      "Data columns (total 4 columns):\n",
      "id           202607 non-null object\n",
      "call_date    202607 non-null object\n",
      "duration     202607 non-null float64\n",
      "user_id      202607 non-null int64\n",
      "dtypes: float64(1), int64(1), object(2)\n",
      "memory usage: 6.2+ MB\n",
      "\n",
      "Первые пять строк таблицы df_messages :\n",
      "\n"
     ]
    },
    {
     "data": {
      "text/html": [
       "<div>\n",
       "<style scoped>\n",
       "    .dataframe tbody tr th:only-of-type {\n",
       "        vertical-align: middle;\n",
       "    }\n",
       "\n",
       "    .dataframe tbody tr th {\n",
       "        vertical-align: top;\n",
       "    }\n",
       "\n",
       "    .dataframe thead th {\n",
       "        text-align: right;\n",
       "    }\n",
       "</style>\n",
       "<table border=\"1\" class=\"dataframe\">\n",
       "  <thead>\n",
       "    <tr style=\"text-align: right;\">\n",
       "      <th></th>\n",
       "      <th>id</th>\n",
       "      <th>message_date</th>\n",
       "      <th>user_id</th>\n",
       "    </tr>\n",
       "  </thead>\n",
       "  <tbody>\n",
       "    <tr>\n",
       "      <td>0</td>\n",
       "      <td>1000_0</td>\n",
       "      <td>2018-06-27</td>\n",
       "      <td>1000</td>\n",
       "    </tr>\n",
       "    <tr>\n",
       "      <td>1</td>\n",
       "      <td>1000_1</td>\n",
       "      <td>2018-10-08</td>\n",
       "      <td>1000</td>\n",
       "    </tr>\n",
       "    <tr>\n",
       "      <td>2</td>\n",
       "      <td>1000_2</td>\n",
       "      <td>2018-08-04</td>\n",
       "      <td>1000</td>\n",
       "    </tr>\n",
       "    <tr>\n",
       "      <td>3</td>\n",
       "      <td>1000_3</td>\n",
       "      <td>2018-06-16</td>\n",
       "      <td>1000</td>\n",
       "    </tr>\n",
       "    <tr>\n",
       "      <td>4</td>\n",
       "      <td>1000_4</td>\n",
       "      <td>2018-12-05</td>\n",
       "      <td>1000</td>\n",
       "    </tr>\n",
       "  </tbody>\n",
       "</table>\n",
       "</div>"
      ],
      "text/plain": [
       "       id message_date  user_id\n",
       "0  1000_0   2018-06-27     1000\n",
       "1  1000_1   2018-10-08     1000\n",
       "2  1000_2   2018-08-04     1000\n",
       "3  1000_3   2018-06-16     1000\n",
       "4  1000_4   2018-12-05     1000"
      ]
     },
     "metadata": {},
     "output_type": "display_data"
    },
    {
     "name": "stdout",
     "output_type": "stream",
     "text": [
      "\n",
      "Общая информация о таблице df_messages :\n",
      "\n",
      "<class 'pandas.core.frame.DataFrame'>\n",
      "RangeIndex: 123036 entries, 0 to 123035\n",
      "Data columns (total 3 columns):\n",
      "id              123036 non-null object\n",
      "message_date    123036 non-null object\n",
      "user_id         123036 non-null int64\n",
      "dtypes: int64(1), object(2)\n",
      "memory usage: 2.8+ MB\n",
      "\n",
      "Первые пять строк таблицы df_internet :\n",
      "\n"
     ]
    },
    {
     "data": {
      "text/html": [
       "<div>\n",
       "<style scoped>\n",
       "    .dataframe tbody tr th:only-of-type {\n",
       "        vertical-align: middle;\n",
       "    }\n",
       "\n",
       "    .dataframe tbody tr th {\n",
       "        vertical-align: top;\n",
       "    }\n",
       "\n",
       "    .dataframe thead th {\n",
       "        text-align: right;\n",
       "    }\n",
       "</style>\n",
       "<table border=\"1\" class=\"dataframe\">\n",
       "  <thead>\n",
       "    <tr style=\"text-align: right;\">\n",
       "      <th></th>\n",
       "      <th>Unnamed: 0</th>\n",
       "      <th>id</th>\n",
       "      <th>mb_used</th>\n",
       "      <th>session_date</th>\n",
       "      <th>user_id</th>\n",
       "    </tr>\n",
       "  </thead>\n",
       "  <tbody>\n",
       "    <tr>\n",
       "      <td>0</td>\n",
       "      <td>0</td>\n",
       "      <td>1000_0</td>\n",
       "      <td>112.95</td>\n",
       "      <td>2018-11-25</td>\n",
       "      <td>1000</td>\n",
       "    </tr>\n",
       "    <tr>\n",
       "      <td>1</td>\n",
       "      <td>1</td>\n",
       "      <td>1000_1</td>\n",
       "      <td>1052.81</td>\n",
       "      <td>2018-09-07</td>\n",
       "      <td>1000</td>\n",
       "    </tr>\n",
       "    <tr>\n",
       "      <td>2</td>\n",
       "      <td>2</td>\n",
       "      <td>1000_2</td>\n",
       "      <td>1197.26</td>\n",
       "      <td>2018-06-25</td>\n",
       "      <td>1000</td>\n",
       "    </tr>\n",
       "    <tr>\n",
       "      <td>3</td>\n",
       "      <td>3</td>\n",
       "      <td>1000_3</td>\n",
       "      <td>550.27</td>\n",
       "      <td>2018-08-22</td>\n",
       "      <td>1000</td>\n",
       "    </tr>\n",
       "    <tr>\n",
       "      <td>4</td>\n",
       "      <td>4</td>\n",
       "      <td>1000_4</td>\n",
       "      <td>302.56</td>\n",
       "      <td>2018-09-24</td>\n",
       "      <td>1000</td>\n",
       "    </tr>\n",
       "  </tbody>\n",
       "</table>\n",
       "</div>"
      ],
      "text/plain": [
       "   Unnamed: 0      id  mb_used session_date  user_id\n",
       "0           0  1000_0   112.95   2018-11-25     1000\n",
       "1           1  1000_1  1052.81   2018-09-07     1000\n",
       "2           2  1000_2  1197.26   2018-06-25     1000\n",
       "3           3  1000_3   550.27   2018-08-22     1000\n",
       "4           4  1000_4   302.56   2018-09-24     1000"
      ]
     },
     "metadata": {},
     "output_type": "display_data"
    },
    {
     "name": "stdout",
     "output_type": "stream",
     "text": [
      "\n",
      "Общая информация о таблице df_internet :\n",
      "\n",
      "<class 'pandas.core.frame.DataFrame'>\n",
      "RangeIndex: 149396 entries, 0 to 149395\n",
      "Data columns (total 5 columns):\n",
      "Unnamed: 0      149396 non-null int64\n",
      "id              149396 non-null object\n",
      "mb_used         149396 non-null float64\n",
      "session_date    149396 non-null object\n",
      "user_id         149396 non-null int64\n",
      "dtypes: float64(1), int64(2), object(2)\n",
      "memory usage: 5.7+ MB\n",
      "\n",
      "Первые пять строк таблицы df_tariffs :\n",
      "\n"
     ]
    },
    {
     "data": {
      "text/html": [
       "<div>\n",
       "<style scoped>\n",
       "    .dataframe tbody tr th:only-of-type {\n",
       "        vertical-align: middle;\n",
       "    }\n",
       "\n",
       "    .dataframe tbody tr th {\n",
       "        vertical-align: top;\n",
       "    }\n",
       "\n",
       "    .dataframe thead th {\n",
       "        text-align: right;\n",
       "    }\n",
       "</style>\n",
       "<table border=\"1\" class=\"dataframe\">\n",
       "  <thead>\n",
       "    <tr style=\"text-align: right;\">\n",
       "      <th></th>\n",
       "      <th>messages_included</th>\n",
       "      <th>mb_per_month_included</th>\n",
       "      <th>minutes_included</th>\n",
       "      <th>rub_monthly_fee</th>\n",
       "      <th>rub_per_gb</th>\n",
       "      <th>rub_per_message</th>\n",
       "      <th>rub_per_minute</th>\n",
       "      <th>tariff_name</th>\n",
       "    </tr>\n",
       "  </thead>\n",
       "  <tbody>\n",
       "    <tr>\n",
       "      <td>0</td>\n",
       "      <td>50</td>\n",
       "      <td>15360</td>\n",
       "      <td>500</td>\n",
       "      <td>550</td>\n",
       "      <td>200</td>\n",
       "      <td>3</td>\n",
       "      <td>3</td>\n",
       "      <td>smart</td>\n",
       "    </tr>\n",
       "    <tr>\n",
       "      <td>1</td>\n",
       "      <td>1000</td>\n",
       "      <td>30720</td>\n",
       "      <td>3000</td>\n",
       "      <td>1950</td>\n",
       "      <td>150</td>\n",
       "      <td>1</td>\n",
       "      <td>1</td>\n",
       "      <td>ultra</td>\n",
       "    </tr>\n",
       "  </tbody>\n",
       "</table>\n",
       "</div>"
      ],
      "text/plain": [
       "   messages_included  mb_per_month_included  minutes_included  \\\n",
       "0                 50                  15360               500   \n",
       "1               1000                  30720              3000   \n",
       "\n",
       "   rub_monthly_fee  rub_per_gb  rub_per_message  rub_per_minute tariff_name  \n",
       "0              550         200                3               3       smart  \n",
       "1             1950         150                1               1       ultra  "
      ]
     },
     "metadata": {},
     "output_type": "display_data"
    },
    {
     "name": "stdout",
     "output_type": "stream",
     "text": [
      "\n",
      "Общая информация о таблице df_tariffs :\n",
      "\n",
      "<class 'pandas.core.frame.DataFrame'>\n",
      "RangeIndex: 2 entries, 0 to 1\n",
      "Data columns (total 8 columns):\n",
      "messages_included        2 non-null int64\n",
      "mb_per_month_included    2 non-null int64\n",
      "minutes_included         2 non-null int64\n",
      "rub_monthly_fee          2 non-null int64\n",
      "rub_per_gb               2 non-null int64\n",
      "rub_per_message          2 non-null int64\n",
      "rub_per_minute           2 non-null int64\n",
      "tariff_name              2 non-null object\n",
      "dtypes: int64(7), object(1)\n",
      "memory usage: 256.0+ bytes\n",
      "\n"
     ]
    }
   ],
   "source": [
    "#получим общую информацию о таблицах\n",
    "for item, name in [(df_users, 'df_users'), (df_calls, 'df_calls'), (df_messages, 'df_messages'), (df_internet, 'df_internet'), (df_tariffs, 'df_tariffs')]:\n",
    "    print('Первые пять строк таблицы', name, ':')\n",
    "    print()\n",
    "    display(item.head())\n",
    "    \n",
    "    print()\n",
    "    \n",
    "    print('Общая информация о таблице', name, ':')\n",
    "    print()\n",
    "    item.info()\n",
    "    print()\n",
    "   "
   ]
  },
  {
   "cell_type": "code",
   "execution_count": 4,
   "metadata": {},
   "outputs": [],
   "source": [
    "#исключим столбец 'Unnamed: 0'\n",
    "df_internet.drop('Unnamed: 0', axis = 1, inplace = True)"
   ]
  },
  {
   "cell_type": "markdown",
   "metadata": {},
   "source": [
    "## Вывод"
   ]
  },
  {
   "cell_type": "markdown",
   "metadata": {},
   "source": [
    "На данном шаге откроем таблицы с исходными данными и изучим общую информацию по каждой таблице.\n",
    "\n",
    "- Таблица users - информация о пользователях\n",
    " - Столбцы таблицы users:\n",
    "   - user_id — уникальный идентификатор пользователя\n",
    "   - first_name — имя пользователя\n",
    "   - last_name — фамилия пользователя\n",
    "   - age — возраст пользователя (годы)\n",
    "   - reg_date — дата подключения тарифа (день, месяц, год)\n",
    "   - churn_date — дата прекращения пользования тарифом\n",
    "   - city — город проживания пользователя\n",
    "   - tariff — название тарифного плана\n",
    "\n",
    "\n",
    "- Таблица calls - информация о звонках\n",
    " - Столбцы таблицы calls:\n",
    "   - id — уникальный номер звонка\n",
    "   - call_date — дата звонка\n",
    "   - duration — длительность звонка в минутах\n",
    "   - user_id — идентификатор пользователя, сделавшего звонок\n",
    "\n",
    "\n",
    "- Таблица messages - информация о сообщениях\n",
    " - Столбцы таблицы messages:\n",
    "   - id — уникальный номер сообщения\n",
    "   - message_date — дата сообщения\n",
    "   - user_id — идентификатор пользователя, отправившего сообщение\n",
    "\n",
    "\n",
    "- Таблица internet - информация об интернет-сессиях\n",
    " - Столбцы таблицы internet:\n",
    "   - id — уникальный номер сессии\n",
    "   - mb_used — объём потраченного за сессию интернет-трафика (в мегабайтах)\n",
    "   - session_date — дата интернет-сессии\n",
    "   - user_id — идентификатор пользователя\n",
    "   - столбец 'Unnamed: 0' исключим из набора, т.к. он дублирует индексы.\n",
    " \n",
    " \n",
    "- Таблица tariffs - информация о тарифах\n",
    " - Столбцы таблицы tariffs:\n",
    "   - tariff_name — название тарифа\n",
    "   - rub_monthly_fee — ежемесячная абонентская плата в рублях\n",
    "   - minutes_included — количество минут разговора в месяц, включённых в абонентскую плату\n",
    "   - messages_included — количество сообщений в месяц, включённых в абонентскую плату\n",
    "   - mb_per_month_included — объём интернет-трафика, включённого в абонентскую плату (в мегабайтах)\n",
    "   - rub_per_minute — стоимость минуты разговора сверх тарифного пакета (например, если в тарифе 100 минут разговора в месяц, то со 101 минуты будет взиматься плата)\n",
    "   - rub_per_message — стоимость отправки сообщения сверх тарифного пакета\n",
    "   - rub_per_gb — стоимость дополнительного гигабайта интернет-трафика сверх тарифного пакета (1 гигабайт = 1024 мегабайта)\n",
    "   \n",
    "В соответсвии с полученной общей информацией в таблицах  'df_calls', 'df_messages', 'df_internet', 'df_tariffs' пропущенные значения отсутствуют. В таблице 'df_users' в столбце 'churn_date' значений меньше, чем в остальных столбцах, значит, есть пропущенные значения. По условию, если значение пропущено, то тариф ещё действовал на момент выгрузки данных. Значит, у 38 пользователей из 500 тариф уже не действовал.\n",
    "\n",
    "На следующем шаге рассмотрим наборы данных более подробно."
   ]
  },
  {
   "cell_type": "markdown",
   "metadata": {},
   "source": [
    "## Подготовим данные к исследованию <a id='Шаг2'></a>"
   ]
  },
  {
   "cell_type": "markdown",
   "metadata": {},
   "source": [
    "### Найдём и исправим ошибки в данных и приведём данные к нужным типам  <a id='Шаг2.1'></a>"
   ]
  },
  {
   "cell_type": "markdown",
   "metadata": {},
   "source": [
    "#### Таблица users - информация о пользователях"
   ]
  },
  {
   "cell_type": "code",
   "execution_count": 5,
   "metadata": {},
   "outputs": [
    {
     "name": "stdout",
     "output_type": "stream",
     "text": [
      "Количество дубликатов в таблице с информацией о пользователях:\n",
      "0\n"
     ]
    }
   ],
   "source": [
    "#посчитаем количество дубликатов в таблице с информацией о пользователях\n",
    "print('Количество дубликатов в таблице с информацией о пользователях:')\n",
    "print(df_users.duplicated().sum()) "
   ]
  },
  {
   "cell_type": "code",
   "execution_count": 6,
   "metadata": {},
   "outputs": [],
   "source": [
    "#скорректируем формат отображения дат\n",
    "df_users['reg_date'] = pd.to_datetime(df_users['reg_date'], format='%Y-%m-%d')\n",
    "df_users['churn_date'] = pd.to_datetime(df_users['churn_date'], format='%Y-%m-%d')"
   ]
  },
  {
   "cell_type": "code",
   "execution_count": 7,
   "metadata": {},
   "outputs": [],
   "source": [
    "#добавим к набору данных столбец с месяцем\n",
    "df_users['reg_date_month'] = df_users['reg_date'].dt.month\n",
    "df_users['churn_date_month'] = df_users['churn_date'].dt.month"
   ]
  },
  {
   "cell_type": "code",
   "execution_count": 8,
   "metadata": {},
   "outputs": [],
   "source": [
    "#добавим к набору данных столбец с продолжительностью использования тарифа в днях\n",
    "df_users['duration_users_day'] = df_users['churn_date'] - df_users['reg_date']"
   ]
  },
  {
   "cell_type": "code",
   "execution_count": 9,
   "metadata": {},
   "outputs": [
    {
     "name": "stdout",
     "output_type": "stream",
     "text": [
      "Первые пять строк таблицы df_users после добавления столбцов:\n"
     ]
    },
    {
     "data": {
      "text/html": [
       "<div>\n",
       "<style scoped>\n",
       "    .dataframe tbody tr th:only-of-type {\n",
       "        vertical-align: middle;\n",
       "    }\n",
       "\n",
       "    .dataframe tbody tr th {\n",
       "        vertical-align: top;\n",
       "    }\n",
       "\n",
       "    .dataframe thead th {\n",
       "        text-align: right;\n",
       "    }\n",
       "</style>\n",
       "<table border=\"1\" class=\"dataframe\">\n",
       "  <thead>\n",
       "    <tr style=\"text-align: right;\">\n",
       "      <th></th>\n",
       "      <th>user_id</th>\n",
       "      <th>age</th>\n",
       "      <th>churn_date</th>\n",
       "      <th>city</th>\n",
       "      <th>first_name</th>\n",
       "      <th>last_name</th>\n",
       "      <th>reg_date</th>\n",
       "      <th>tariff</th>\n",
       "      <th>reg_date_month</th>\n",
       "      <th>churn_date_month</th>\n",
       "      <th>duration_users_day</th>\n",
       "    </tr>\n",
       "  </thead>\n",
       "  <tbody>\n",
       "    <tr>\n",
       "      <td>0</td>\n",
       "      <td>1000</td>\n",
       "      <td>52</td>\n",
       "      <td>NaT</td>\n",
       "      <td>Краснодар</td>\n",
       "      <td>Рафаил</td>\n",
       "      <td>Верещагин</td>\n",
       "      <td>2018-05-25</td>\n",
       "      <td>ultra</td>\n",
       "      <td>5</td>\n",
       "      <td>NaN</td>\n",
       "      <td>NaT</td>\n",
       "    </tr>\n",
       "    <tr>\n",
       "      <td>1</td>\n",
       "      <td>1001</td>\n",
       "      <td>41</td>\n",
       "      <td>NaT</td>\n",
       "      <td>Москва</td>\n",
       "      <td>Иван</td>\n",
       "      <td>Ежов</td>\n",
       "      <td>2018-11-01</td>\n",
       "      <td>smart</td>\n",
       "      <td>11</td>\n",
       "      <td>NaN</td>\n",
       "      <td>NaT</td>\n",
       "    </tr>\n",
       "    <tr>\n",
       "      <td>2</td>\n",
       "      <td>1002</td>\n",
       "      <td>59</td>\n",
       "      <td>NaT</td>\n",
       "      <td>Стерлитамак</td>\n",
       "      <td>Евгений</td>\n",
       "      <td>Абрамович</td>\n",
       "      <td>2018-06-17</td>\n",
       "      <td>smart</td>\n",
       "      <td>6</td>\n",
       "      <td>NaN</td>\n",
       "      <td>NaT</td>\n",
       "    </tr>\n",
       "    <tr>\n",
       "      <td>3</td>\n",
       "      <td>1003</td>\n",
       "      <td>23</td>\n",
       "      <td>NaT</td>\n",
       "      <td>Москва</td>\n",
       "      <td>Белла</td>\n",
       "      <td>Белякова</td>\n",
       "      <td>2018-08-17</td>\n",
       "      <td>ultra</td>\n",
       "      <td>8</td>\n",
       "      <td>NaN</td>\n",
       "      <td>NaT</td>\n",
       "    </tr>\n",
       "    <tr>\n",
       "      <td>4</td>\n",
       "      <td>1004</td>\n",
       "      <td>68</td>\n",
       "      <td>NaT</td>\n",
       "      <td>Новокузнецк</td>\n",
       "      <td>Татьяна</td>\n",
       "      <td>Авдеенко</td>\n",
       "      <td>2018-05-14</td>\n",
       "      <td>ultra</td>\n",
       "      <td>5</td>\n",
       "      <td>NaN</td>\n",
       "      <td>NaT</td>\n",
       "    </tr>\n",
       "  </tbody>\n",
       "</table>\n",
       "</div>"
      ],
      "text/plain": [
       "   user_id  age churn_date         city first_name  last_name   reg_date  \\\n",
       "0     1000   52        NaT    Краснодар     Рафаил  Верещагин 2018-05-25   \n",
       "1     1001   41        NaT       Москва       Иван       Ежов 2018-11-01   \n",
       "2     1002   59        NaT  Стерлитамак    Евгений  Абрамович 2018-06-17   \n",
       "3     1003   23        NaT       Москва      Белла   Белякова 2018-08-17   \n",
       "4     1004   68        NaT  Новокузнецк    Татьяна   Авдеенко 2018-05-14   \n",
       "\n",
       "  tariff  reg_date_month  churn_date_month duration_users_day  \n",
       "0  ultra               5               NaN                NaT  \n",
       "1  smart              11               NaN                NaT  \n",
       "2  smart               6               NaN                NaT  \n",
       "3  ultra               8               NaN                NaT  \n",
       "4  ultra               5               NaN                NaT  "
      ]
     },
     "execution_count": 9,
     "metadata": {},
     "output_type": "execute_result"
    }
   ],
   "source": [
    "#получим первые пять строк таблицы df_users после добавления столбцов\n",
    "print('Первые пять строк таблицы df_users после добавления столбцов:')\n",
    "df_users.head()"
   ]
  },
  {
   "cell_type": "markdown",
   "metadata": {},
   "source": [
    "#### Вывод"
   ]
  },
  {
   "cell_type": "markdown",
   "metadata": {},
   "source": [
    "Для таблицы с информацией о пользователях 'df_users' количество дубликатов равно нулю. Количество значений в столбце 'churn_date' — дата прекращения пользования тарифом - меньше, чем количество значений в остальных столбцах. Будем считать, что если значение пропущено, то тариф ещё действовал на момент выгрузки данных, т.е. пользователь на момент выгрузки ещё не прекратил пользоваться тарифом.\n",
    "Cкорректируем формат отображения дат для столбцов 'reg_date' и 'churn_date'. Добавим к набору данных столбцы с номером месяца и столбец с продолжительностью использования тарифа в днях."
   ]
  },
  {
   "cell_type": "markdown",
   "metadata": {},
   "source": [
    "#### Таблица calls - информация о звонках"
   ]
  },
  {
   "cell_type": "code",
   "execution_count": 10,
   "metadata": {},
   "outputs": [
    {
     "name": "stdout",
     "output_type": "stream",
     "text": [
      "Количество дубликатов в таблице с информацией о звонках:\n",
      "0\n"
     ]
    }
   ],
   "source": [
    "#посчитаем количество дубликатов в таблице с информацией о звонках\n",
    "print('Количество дубликатов в таблице с информацией о звонках:')\n",
    "print(df_calls.duplicated().sum()) "
   ]
  },
  {
   "cell_type": "code",
   "execution_count": 11,
   "metadata": {
    "scrolled": true
   },
   "outputs": [
    {
     "data": {
      "image/png": "[encoded data removed]",
      "text/plain": [
       "<Figure size 864x360 with 1 Axes>"
      ]
     },
     "metadata": {
      "needs_background": "light"
     },
     "output_type": "display_data"
    }
   ],
   "source": [
    "#построим гистограмму длительности звонков в минутах\n",
    "df_calls.hist('duration', figsize=(12,5), bins = 'auto')\n",
    "plt.suptitle('Гистограмма длительности звонков')\n",
    "plt.xlabel('Минуты')\n",
    "plt.ylabel('Частота')\n",
    "plt.show()"
   ]
  },
  {
   "cell_type": "code",
   "execution_count": 12,
   "metadata": {},
   "outputs": [
    {
     "name": "stdout",
     "output_type": "stream",
     "text": [
      "Количество звонков с нулевой длительностью: 39613\n"
     ]
    }
   ],
   "source": [
    "#посчитаем количество звонков с нулевой длительностью\n",
    "print('Количество звонков с нулевой длительностью:', df_calls['duration'].value_counts().sort_index()[0])"
   ]
  },
  {
   "cell_type": "code",
   "execution_count": 13,
   "metadata": {},
   "outputs": [
    {
     "name": "stdout",
     "output_type": "stream",
     "text": [
      "Доля звонков с нулевой длительностью: 19.6%\n"
     ]
    }
   ],
   "source": [
    "#посчитаем долю звонков с нулевой длительностью\n",
    "print('Доля звонков с нулевой длительностью: {:.1%}'.format(df_calls['duration'].value_counts().sort_index()[0] / len(df_calls)))"
   ]
  },
  {
   "cell_type": "code",
   "execution_count": 14,
   "metadata": {},
   "outputs": [],
   "source": [
    "#скореектируем звонки с нулевой длительностью\n",
    "df_calls.loc[(df_calls.duration == 0), 'duration'] = 1"
   ]
  },
  {
   "cell_type": "code",
   "execution_count": 15,
   "metadata": {},
   "outputs": [
    {
     "data": {
      "image/png": "[encoded data removed]",
      "text/plain": [
       "<Figure size 864x360 with 1 Axes>"
      ]
     },
     "metadata": {
      "needs_background": "light"
     },
     "output_type": "display_data"
    }
   ],
   "source": [
    "#построим гистограмму длительности звонков в минутах\n",
    "df_calls.hist('duration', figsize=(12,5), bins = 'auto')\n",
    "plt.suptitle('Гистограмма длительности звонков')\n",
    "plt.xlabel('Минуты')\n",
    "plt.ylabel('Частота')\n",
    "plt.show()"
   ]
  },
  {
   "cell_type": "code",
   "execution_count": 16,
   "metadata": {},
   "outputs": [],
   "source": [
    "#округлим значения длительности звонков\n",
    "df_calls['duration'] = np.ceil(df_calls['duration'])"
   ]
  },
  {
   "cell_type": "code",
   "execution_count": 17,
   "metadata": {},
   "outputs": [
    {
     "name": "stdout",
     "output_type": "stream",
     "text": [
      "int64\n"
     ]
    }
   ],
   "source": [
    "#заменим вещественный тип данных на целочисленный для значений длительности звонков\n",
    "df_calls['duration'] = df_calls['duration'].astype('int')\n",
    "\n",
    "#проверим тип данных\n",
    "print(df_calls['duration'].dtype)"
   ]
  },
  {
   "cell_type": "code",
   "execution_count": 18,
   "metadata": {},
   "outputs": [],
   "source": [
    "#скорректируем формат отображения дат\n",
    "df_calls['call_date'] = pd.to_datetime(df_calls['call_date'], format='%Y-%m-%d')"
   ]
  },
  {
   "cell_type": "code",
   "execution_count": 19,
   "metadata": {},
   "outputs": [],
   "source": [
    "#добавим к набору данных столбец с месяцем\n",
    "df_calls['month'] = df_calls['call_date'].dt.month"
   ]
  },
  {
   "cell_type": "code",
   "execution_count": 20,
   "metadata": {},
   "outputs": [
    {
     "name": "stdout",
     "output_type": "stream",
     "text": [
      "Первые пять строк таблицы df_calls после добавления столбца:\n"
     ]
    },
    {
     "data": {
      "text/html": [
       "<div>\n",
       "<style scoped>\n",
       "    .dataframe tbody tr th:only-of-type {\n",
       "        vertical-align: middle;\n",
       "    }\n",
       "\n",
       "    .dataframe tbody tr th {\n",
       "        vertical-align: top;\n",
       "    }\n",
       "\n",
       "    .dataframe thead th {\n",
       "        text-align: right;\n",
       "    }\n",
       "</style>\n",
       "<table border=\"1\" class=\"dataframe\">\n",
       "  <thead>\n",
       "    <tr style=\"text-align: right;\">\n",
       "      <th></th>\n",
       "      <th>id</th>\n",
       "      <th>call_date</th>\n",
       "      <th>duration</th>\n",
       "      <th>user_id</th>\n",
       "      <th>month</th>\n",
       "    </tr>\n",
       "  </thead>\n",
       "  <tbody>\n",
       "    <tr>\n",
       "      <td>0</td>\n",
       "      <td>1000_0</td>\n",
       "      <td>2018-07-25</td>\n",
       "      <td>1</td>\n",
       "      <td>1000</td>\n",
       "      <td>7</td>\n",
       "    </tr>\n",
       "    <tr>\n",
       "      <td>1</td>\n",
       "      <td>1000_1</td>\n",
       "      <td>2018-08-17</td>\n",
       "      <td>1</td>\n",
       "      <td>1000</td>\n",
       "      <td>8</td>\n",
       "    </tr>\n",
       "    <tr>\n",
       "      <td>2</td>\n",
       "      <td>1000_2</td>\n",
       "      <td>2018-06-11</td>\n",
       "      <td>3</td>\n",
       "      <td>1000</td>\n",
       "      <td>6</td>\n",
       "    </tr>\n",
       "    <tr>\n",
       "      <td>3</td>\n",
       "      <td>1000_3</td>\n",
       "      <td>2018-09-21</td>\n",
       "      <td>14</td>\n",
       "      <td>1000</td>\n",
       "      <td>9</td>\n",
       "    </tr>\n",
       "    <tr>\n",
       "      <td>4</td>\n",
       "      <td>1000_4</td>\n",
       "      <td>2018-12-15</td>\n",
       "      <td>6</td>\n",
       "      <td>1000</td>\n",
       "      <td>12</td>\n",
       "    </tr>\n",
       "  </tbody>\n",
       "</table>\n",
       "</div>"
      ],
      "text/plain": [
       "       id  call_date  duration  user_id  month\n",
       "0  1000_0 2018-07-25         1     1000      7\n",
       "1  1000_1 2018-08-17         1     1000      8\n",
       "2  1000_2 2018-06-11         3     1000      6\n",
       "3  1000_3 2018-09-21        14     1000      9\n",
       "4  1000_4 2018-12-15         6     1000     12"
      ]
     },
     "execution_count": 20,
     "metadata": {},
     "output_type": "execute_result"
    }
   ],
   "source": [
    "#получим первые пять строк таблицы df_calls после добавления столбца\n",
    "print('Первые пять строк таблицы df_calls после добавления столбца:')\n",
    "df_calls.head()"
   ]
  },
  {
   "cell_type": "markdown",
   "metadata": {},
   "source": [
    "#### Вывод"
   ]
  },
  {
   "cell_type": "markdown",
   "metadata": {},
   "source": [
    "Для таблицы с информацией о звонках количество дубликатов равно нулю, пропущенные значения отсутствуют.\n",
    "Для длительности звонков в минутах построим гистограмму методом hist(). Гистограмма отображается с длинным хвостом на высоких значениях и пиковым значением на малых.\n",
    "Длительность многих звонков — 0.0 минут. Количество таких звонков с нулевой длительностью равна 39613, что составляет почти 20% от общего числа звонков. Это большой процент, исключать такие значения не будем, а заменим такие значения на единицу. \n",
    "Далее округлим значения длительности звонков вверх,т.к. в соответствии с условием «Мегалайн» всегда округляет вверх значения минут, и заменим вещественный тип данных на целочисленный для значений длительности звонков."
   ]
  },
  {
   "cell_type": "markdown",
   "metadata": {},
   "source": [
    "#### Таблица messages - информация о сообщениях"
   ]
  },
  {
   "cell_type": "code",
   "execution_count": 21,
   "metadata": {},
   "outputs": [
    {
     "name": "stdout",
     "output_type": "stream",
     "text": [
      "Количество дубликатов в таблице с информацией о сообщениях:\n",
      "0\n"
     ]
    }
   ],
   "source": [
    "#посчитаем количество дубликатов в таблице с информацией о сообщениях\n",
    "print('Количество дубликатов в таблице с информацией о сообщениях:')\n",
    "print(df_messages.duplicated().sum()) "
   ]
  },
  {
   "cell_type": "code",
   "execution_count": 22,
   "metadata": {},
   "outputs": [],
   "source": [
    "#скорректируем формат отображения дат\n",
    "df_messages['message_date'] = pd.to_datetime(df_messages['message_date'], format='%Y-%m-%d')"
   ]
  },
  {
   "cell_type": "code",
   "execution_count": 23,
   "metadata": {},
   "outputs": [],
   "source": [
    "#добавим к набору данных столбец с месяцем\n",
    "df_messages['month'] = df_messages['message_date'].dt.month"
   ]
  },
  {
   "cell_type": "code",
   "execution_count": 24,
   "metadata": {},
   "outputs": [
    {
     "name": "stdout",
     "output_type": "stream",
     "text": [
      "Первые пять строк таблицы df_messages после добавления столбца:\n"
     ]
    },
    {
     "data": {
      "text/html": [
       "<div>\n",
       "<style scoped>\n",
       "    .dataframe tbody tr th:only-of-type {\n",
       "        vertical-align: middle;\n",
       "    }\n",
       "\n",
       "    .dataframe tbody tr th {\n",
       "        vertical-align: top;\n",
       "    }\n",
       "\n",
       "    .dataframe thead th {\n",
       "        text-align: right;\n",
       "    }\n",
       "</style>\n",
       "<table border=\"1\" class=\"dataframe\">\n",
       "  <thead>\n",
       "    <tr style=\"text-align: right;\">\n",
       "      <th></th>\n",
       "      <th>id</th>\n",
       "      <th>message_date</th>\n",
       "      <th>user_id</th>\n",
       "      <th>month</th>\n",
       "    </tr>\n",
       "  </thead>\n",
       "  <tbody>\n",
       "    <tr>\n",
       "      <td>0</td>\n",
       "      <td>1000_0</td>\n",
       "      <td>2018-06-27</td>\n",
       "      <td>1000</td>\n",
       "      <td>6</td>\n",
       "    </tr>\n",
       "    <tr>\n",
       "      <td>1</td>\n",
       "      <td>1000_1</td>\n",
       "      <td>2018-10-08</td>\n",
       "      <td>1000</td>\n",
       "      <td>10</td>\n",
       "    </tr>\n",
       "    <tr>\n",
       "      <td>2</td>\n",
       "      <td>1000_2</td>\n",
       "      <td>2018-08-04</td>\n",
       "      <td>1000</td>\n",
       "      <td>8</td>\n",
       "    </tr>\n",
       "    <tr>\n",
       "      <td>3</td>\n",
       "      <td>1000_3</td>\n",
       "      <td>2018-06-16</td>\n",
       "      <td>1000</td>\n",
       "      <td>6</td>\n",
       "    </tr>\n",
       "    <tr>\n",
       "      <td>4</td>\n",
       "      <td>1000_4</td>\n",
       "      <td>2018-12-05</td>\n",
       "      <td>1000</td>\n",
       "      <td>12</td>\n",
       "    </tr>\n",
       "  </tbody>\n",
       "</table>\n",
       "</div>"
      ],
      "text/plain": [
       "       id message_date  user_id  month\n",
       "0  1000_0   2018-06-27     1000      6\n",
       "1  1000_1   2018-10-08     1000     10\n",
       "2  1000_2   2018-08-04     1000      8\n",
       "3  1000_3   2018-06-16     1000      6\n",
       "4  1000_4   2018-12-05     1000     12"
      ]
     },
     "execution_count": 24,
     "metadata": {},
     "output_type": "execute_result"
    }
   ],
   "source": [
    "#получим первые пять строк таблицы df_messages после добавления столбца\n",
    "print('Первые пять строк таблицы df_messages после добавления столбца:')\n",
    "df_messages.head()"
   ]
  },
  {
   "cell_type": "markdown",
   "metadata": {},
   "source": [
    "#### Вывод"
   ]
  },
  {
   "cell_type": "markdown",
   "metadata": {},
   "source": [
    "Количество дубликатов в таблице с информацией о сообщениях равно нулю, пропущенные значения отсутствуют. Скорректируем формат отображения дат и добавим к набору данных новый столбец с месяцем."
   ]
  },
  {
   "cell_type": "markdown",
   "metadata": {},
   "source": [
    "#### Таблица internet - информация об интернет-сессиях"
   ]
  },
  {
   "cell_type": "code",
   "execution_count": 25,
   "metadata": {},
   "outputs": [
    {
     "name": "stdout",
     "output_type": "stream",
     "text": [
      "Количество дубликатов в таблице с информацией об интернет-сессиях:\n",
      "0\n"
     ]
    }
   ],
   "source": [
    "#посчитаем количество дубликатов в таблице с информацией об интернет-сессиях\n",
    "print('Количество дубликатов в таблице с информацией об интернет-сессиях:')\n",
    "print(df_internet.duplicated().sum()) "
   ]
  },
  {
   "cell_type": "code",
   "execution_count": 26,
   "metadata": {},
   "outputs": [
    {
     "data": {
      "image/png": "[encoded data removed]",
      "text/plain": [
       "<Figure size 864x360 with 1 Axes>"
      ]
     },
     "metadata": {
      "needs_background": "light"
     },
     "output_type": "display_data"
    }
   ],
   "source": [
    "#построим гистограмму длительности интернет-сессий\n",
    "df_internet.hist('mb_used', figsize=(12,5), bins = 'auto')\n",
    "plt.suptitle('Гистограмма распределения объёма интернет-сессий')\n",
    "plt.xlabel('Объём потраченного за сессию интернет-трафика (в мегабайтах)')\n",
    "plt.ylabel('Частота')\n",
    "plt.show()"
   ]
  },
  {
   "cell_type": "code",
   "execution_count": 27,
   "metadata": {},
   "outputs": [
    {
     "name": "stdout",
     "output_type": "stream",
     "text": [
      "Количество нулевых интернет-сессий: 19598\n"
     ]
    }
   ],
   "source": [
    "#посчитаем количество нулевых интернет-сессий\n",
    "print('Количество нулевых интернет-сессий:', df_internet['mb_used'].value_counts().sort_index()[0])"
   ]
  },
  {
   "cell_type": "code",
   "execution_count": 28,
   "metadata": {},
   "outputs": [
    {
     "name": "stdout",
     "output_type": "stream",
     "text": [
      "Доля нулевых интернет-сессий: 13.1%\n"
     ]
    }
   ],
   "source": [
    "#посчитаем долю нулевых интернет-сессий\n",
    "print('Доля нулевых интернет-сессий: {:.1%}'.format(df_internet['mb_used'].value_counts().sort_index()[0] / len(df_internet)))"
   ]
  },
  {
   "cell_type": "code",
   "execution_count": 29,
   "metadata": {},
   "outputs": [],
   "source": [
    "#скореектируем звонки с нулевой длительностью\n",
    "df_internet.loc[(df_internet.mb_used == 0), 'mb_used'] = 1"
   ]
  },
  {
   "cell_type": "code",
   "execution_count": 30,
   "metadata": {},
   "outputs": [
    {
     "data": {
      "image/png": "[encoded data removed]",
      "text/plain": [
       "<Figure size 864x360 with 1 Axes>"
      ]
     },
     "metadata": {
      "needs_background": "light"
     },
     "output_type": "display_data"
    }
   ],
   "source": [
    "#построим гистограмму длительности интернет-сессий\n",
    "df_internet.hist('mb_used', figsize=(12,5), bins = 'auto')\n",
    "plt.suptitle('Гистограмма распределения объёма интернет-сессий')\n",
    "plt.xlabel('Объём потраченного за сессию интернет-трафика (в мегабайтах)')\n",
    "plt.ylabel('Частота')\n",
    "plt.show()"
   ]
  },
  {
   "cell_type": "code",
   "execution_count": 31,
   "metadata": {},
   "outputs": [],
   "source": [
    "#округлим значения объёма потраченного за сессию интернет-трафика\n",
    "df_internet['mb_used'] = np.ceil(df_internet['mb_used'])"
   ]
  },
  {
   "cell_type": "code",
   "execution_count": 32,
   "metadata": {},
   "outputs": [
    {
     "name": "stdout",
     "output_type": "stream",
     "text": [
      "int64\n"
     ]
    }
   ],
   "source": [
    "#заменим вещественный тип данных на целочисленный для значений объёма потраченного за сессию интернет-трафика\n",
    "df_internet['mb_used'] = df_internet['mb_used'].astype('int')\n",
    "\n",
    "#проверим тип данных\n",
    "print(df_internet['mb_used'].dtype)"
   ]
  },
  {
   "cell_type": "code",
   "execution_count": 33,
   "metadata": {},
   "outputs": [],
   "source": [
    "#скорректируем формат отображения дат\n",
    "df_internet['session_date'] = pd.to_datetime(df_internet['session_date'], format='%Y-%m-%d')"
   ]
  },
  {
   "cell_type": "code",
   "execution_count": 34,
   "metadata": {},
   "outputs": [],
   "source": [
    "#добавим к набору данных столбец с месяцем\n",
    "df_internet['month'] = df_internet['session_date'].dt.month"
   ]
  },
  {
   "cell_type": "code",
   "execution_count": 35,
   "metadata": {},
   "outputs": [
    {
     "name": "stdout",
     "output_type": "stream",
     "text": [
      "Первые пять строк таблицы df_internet после добавления столбца:\n"
     ]
    },
    {
     "data": {
      "text/html": [
       "<div>\n",
       "<style scoped>\n",
       "    .dataframe tbody tr th:only-of-type {\n",
       "        vertical-align: middle;\n",
       "    }\n",
       "\n",
       "    .dataframe tbody tr th {\n",
       "        vertical-align: top;\n",
       "    }\n",
       "\n",
       "    .dataframe thead th {\n",
       "        text-align: right;\n",
       "    }\n",
       "</style>\n",
       "<table border=\"1\" class=\"dataframe\">\n",
       "  <thead>\n",
       "    <tr style=\"text-align: right;\">\n",
       "      <th></th>\n",
       "      <th>id</th>\n",
       "      <th>mb_used</th>\n",
       "      <th>session_date</th>\n",
       "      <th>user_id</th>\n",
       "      <th>month</th>\n",
       "    </tr>\n",
       "  </thead>\n",
       "  <tbody>\n",
       "    <tr>\n",
       "      <td>0</td>\n",
       "      <td>1000_0</td>\n",
       "      <td>113</td>\n",
       "      <td>2018-11-25</td>\n",
       "      <td>1000</td>\n",
       "      <td>11</td>\n",
       "    </tr>\n",
       "    <tr>\n",
       "      <td>1</td>\n",
       "      <td>1000_1</td>\n",
       "      <td>1053</td>\n",
       "      <td>2018-09-07</td>\n",
       "      <td>1000</td>\n",
       "      <td>9</td>\n",
       "    </tr>\n",
       "    <tr>\n",
       "      <td>2</td>\n",
       "      <td>1000_2</td>\n",
       "      <td>1198</td>\n",
       "      <td>2018-06-25</td>\n",
       "      <td>1000</td>\n",
       "      <td>6</td>\n",
       "    </tr>\n",
       "    <tr>\n",
       "      <td>3</td>\n",
       "      <td>1000_3</td>\n",
       "      <td>551</td>\n",
       "      <td>2018-08-22</td>\n",
       "      <td>1000</td>\n",
       "      <td>8</td>\n",
       "    </tr>\n",
       "    <tr>\n",
       "      <td>4</td>\n",
       "      <td>1000_4</td>\n",
       "      <td>303</td>\n",
       "      <td>2018-09-24</td>\n",
       "      <td>1000</td>\n",
       "      <td>9</td>\n",
       "    </tr>\n",
       "  </tbody>\n",
       "</table>\n",
       "</div>"
      ],
      "text/plain": [
       "       id  mb_used session_date  user_id  month\n",
       "0  1000_0      113   2018-11-25     1000     11\n",
       "1  1000_1     1053   2018-09-07     1000      9\n",
       "2  1000_2     1198   2018-06-25     1000      6\n",
       "3  1000_3      551   2018-08-22     1000      8\n",
       "4  1000_4      303   2018-09-24     1000      9"
      ]
     },
     "execution_count": 35,
     "metadata": {},
     "output_type": "execute_result"
    }
   ],
   "source": [
    "#получим первые пять строк таблицы df_internet после добавления столбца\n",
    "print('Первые пять строк таблицы df_internet после добавления столбца:')\n",
    "df_internet.head()"
   ]
  },
  {
   "cell_type": "markdown",
   "metadata": {},
   "source": [
    "#### Вывод"
   ]
  },
  {
   "cell_type": "markdown",
   "metadata": {},
   "source": [
    "Количество дубликатов в таблице с информацией об интернет-сессиях равно нулю, пропущенные значения отсутствуют.\n",
    "Для длительности интернет-сессий построим гистограмму методом hist(). Гистограмма отображается с длинным хвостом на высоких значениях и пиковым значением на малых. Объём некоторых интернет-сессий — 0 Мб. Количество таких интернет-сессий с нулевым объёмом равно 19598, что составляет 13,1 % от общего объёма интернет-сессий. Это большой процент, будем считать, что такие ситуации могли возникнуть, когда пользователь зашёл в интернет, но потом интернет-соединение оборвалось, например, когда пользователь поднимался/спускался на лифте. Исключать такие значения не будем, также как и с длительностью звонков. Заменим такие нулевые значения на 1 Мб.\n",
    "Округлим значения объёма потраченного за сессию интернет-трафика, т.к. в соответствии с условием «Мегалайн» всегда округляет вверх значения мегабайтов. Далее заменим вещественный тип данных на целочисленный.\n",
    "Скорректируем формат отображения дат и добавим к набору данных новый столбец с месяцем."
   ]
  },
  {
   "cell_type": "markdown",
   "metadata": {},
   "source": [
    "####  Таблица tariffs - информация о тарифах"
   ]
  },
  {
   "cell_type": "code",
   "execution_count": 36,
   "metadata": {},
   "outputs": [
    {
     "name": "stdout",
     "output_type": "stream",
     "text": [
      "Количество дубликатов в таблице с информацией о тарифах:\n",
      "0\n"
     ]
    }
   ],
   "source": [
    "#посчитаем количество дубликатов в таблице с информацией о тарифах\n",
    "print('Количество дубликатов в таблице с информацией о тарифах:')\n",
    "print(df_tariffs.duplicated().sum()) "
   ]
  },
  {
   "cell_type": "code",
   "execution_count": 37,
   "metadata": {},
   "outputs": [
    {
     "data": {
      "text/html": [
       "<div>\n",
       "<style scoped>\n",
       "    .dataframe tbody tr th:only-of-type {\n",
       "        vertical-align: middle;\n",
       "    }\n",
       "\n",
       "    .dataframe tbody tr th {\n",
       "        vertical-align: top;\n",
       "    }\n",
       "\n",
       "    .dataframe thead th {\n",
       "        text-align: right;\n",
       "    }\n",
       "</style>\n",
       "<table border=\"1\" class=\"dataframe\">\n",
       "  <thead>\n",
       "    <tr style=\"text-align: right;\">\n",
       "      <th></th>\n",
       "      <th>messages_included</th>\n",
       "      <th>mb_per_month_included</th>\n",
       "      <th>minutes_included</th>\n",
       "      <th>rub_monthly_fee</th>\n",
       "      <th>rub_per_gb</th>\n",
       "      <th>rub_per_message</th>\n",
       "      <th>rub_per_minute</th>\n",
       "      <th>tariff_name</th>\n",
       "      <th>gb_per_month_included</th>\n",
       "    </tr>\n",
       "  </thead>\n",
       "  <tbody>\n",
       "    <tr>\n",
       "      <td>0</td>\n",
       "      <td>50</td>\n",
       "      <td>15360</td>\n",
       "      <td>500</td>\n",
       "      <td>550</td>\n",
       "      <td>200</td>\n",
       "      <td>3</td>\n",
       "      <td>3</td>\n",
       "      <td>smart</td>\n",
       "      <td>15.0</td>\n",
       "    </tr>\n",
       "    <tr>\n",
       "      <td>1</td>\n",
       "      <td>1000</td>\n",
       "      <td>30720</td>\n",
       "      <td>3000</td>\n",
       "      <td>1950</td>\n",
       "      <td>150</td>\n",
       "      <td>1</td>\n",
       "      <td>1</td>\n",
       "      <td>ultra</td>\n",
       "      <td>30.0</td>\n",
       "    </tr>\n",
       "  </tbody>\n",
       "</table>\n",
       "</div>"
      ],
      "text/plain": [
       "   messages_included  mb_per_month_included  minutes_included  \\\n",
       "0                 50                  15360               500   \n",
       "1               1000                  30720              3000   \n",
       "\n",
       "   rub_monthly_fee  rub_per_gb  rub_per_message  rub_per_minute tariff_name  \\\n",
       "0              550         200                3               3       smart   \n",
       "1             1950         150                1               1       ultra   \n",
       "\n",
       "   gb_per_month_included  \n",
       "0                   15.0  \n",
       "1                   30.0  "
      ]
     },
     "execution_count": 37,
     "metadata": {},
     "output_type": "execute_result"
    }
   ],
   "source": [
    "#переведём Мб в Гб для набора данных с тарифами\n",
    "df_tariffs['gb_per_month_included'] = df_tariffs['mb_per_month_included']/1024\n",
    "df_tariffs"
   ]
  },
  {
   "cell_type": "markdown",
   "metadata": {},
   "source": [
    "#### Вывод"
   ]
  },
  {
   "cell_type": "markdown",
   "metadata": {},
   "source": [
    "Количество дубликатов в таблице с информацией о тарифах равно нулю, пропущенные значения отсутствуют. \n",
    "Добавим новый столбец, где для удобства переведём Мб в Гб."
   ]
  },
  {
   "cell_type": "markdown",
   "metadata": {},
   "source": [
    "### Посчитаем для каждого пользователя показатели <a id='Шаг2.3'></a>"
   ]
  },
  {
   "cell_type": "markdown",
   "metadata": {},
   "source": [
    "#### Количество сделанных звонков и израсходованных минут разговора по месяцам <a id='Шаг2.3.1'></a>"
   ]
  },
  {
   "cell_type": "code",
   "execution_count": 38,
   "metadata": {},
   "outputs": [
    {
     "data": {
      "text/html": [
       "<div>\n",
       "<style scoped>\n",
       "    .dataframe tbody tr th:only-of-type {\n",
       "        vertical-align: middle;\n",
       "    }\n",
       "\n",
       "    .dataframe tbody tr th {\n",
       "        vertical-align: top;\n",
       "    }\n",
       "\n",
       "    .dataframe thead th {\n",
       "        text-align: right;\n",
       "    }\n",
       "</style>\n",
       "<table border=\"1\" class=\"dataframe\">\n",
       "  <thead>\n",
       "    <tr style=\"text-align: right;\">\n",
       "      <th></th>\n",
       "      <th>user_id</th>\n",
       "      <th>month</th>\n",
       "      <th>calls_count</th>\n",
       "      <th>calls_sum</th>\n",
       "    </tr>\n",
       "  </thead>\n",
       "  <tbody>\n",
       "    <tr>\n",
       "      <td>0</td>\n",
       "      <td>1000</td>\n",
       "      <td>5</td>\n",
       "      <td>22</td>\n",
       "      <td>164</td>\n",
       "    </tr>\n",
       "    <tr>\n",
       "      <td>1</td>\n",
       "      <td>1000</td>\n",
       "      <td>6</td>\n",
       "      <td>43</td>\n",
       "      <td>187</td>\n",
       "    </tr>\n",
       "    <tr>\n",
       "      <td>2</td>\n",
       "      <td>1000</td>\n",
       "      <td>7</td>\n",
       "      <td>47</td>\n",
       "      <td>346</td>\n",
       "    </tr>\n",
       "    <tr>\n",
       "      <td>3</td>\n",
       "      <td>1000</td>\n",
       "      <td>8</td>\n",
       "      <td>52</td>\n",
       "      <td>418</td>\n",
       "    </tr>\n",
       "    <tr>\n",
       "      <td>4</td>\n",
       "      <td>1000</td>\n",
       "      <td>9</td>\n",
       "      <td>58</td>\n",
       "      <td>478</td>\n",
       "    </tr>\n",
       "  </tbody>\n",
       "</table>\n",
       "</div>"
      ],
      "text/plain": [
       "   user_id  month  calls_count  calls_sum\n",
       "0     1000      5           22        164\n",
       "1     1000      6           43        187\n",
       "2     1000      7           47        346\n",
       "3     1000      8           52        418\n",
       "4     1000      9           58        478"
      ]
     },
     "execution_count": 38,
     "metadata": {},
     "output_type": "execute_result"
    }
   ],
   "source": [
    "#сформируем сводную таблицу \n",
    "calls = df_calls.pivot_table(index = ['user_id', 'month'], values = 'duration',\n",
    "                             aggfunc = ['count', 'sum']).reset_index()\n",
    "#скорректируем наименование столбцов \n",
    "calls.columns = ['user_id', 'month', 'calls_count', 'calls_sum']\n",
    "calls.head()"
   ]
  },
  {
   "cell_type": "code",
   "execution_count": 39,
   "metadata": {},
   "outputs": [
    {
     "data": {
      "text/plain": [
       "244"
      ]
     },
     "execution_count": 39,
     "metadata": {},
     "output_type": "execute_result"
    }
   ],
   "source": [
    "#подсчитаем максимальное количество сделанных звонков\n",
    "calls['calls_count'].max()"
   ]
  },
  {
   "cell_type": "code",
   "execution_count": 40,
   "metadata": {},
   "outputs": [
    {
     "data": {
      "text/plain": [
       "1"
      ]
     },
     "execution_count": 40,
     "metadata": {},
     "output_type": "execute_result"
    }
   ],
   "source": [
    "#подсчитаем минимальное количество сделанных звонков\n",
    "calls['calls_count'].min()"
   ]
  },
  {
   "cell_type": "code",
   "execution_count": 41,
   "metadata": {},
   "outputs": [
    {
     "data": {
      "text/plain": [
       "1727"
      ]
     },
     "execution_count": 41,
     "metadata": {},
     "output_type": "execute_result"
    }
   ],
   "source": [
    "#подсчитаем максимальное количество израсходованных минут\n",
    "calls['calls_sum'].max()"
   ]
  },
  {
   "cell_type": "code",
   "execution_count": 42,
   "metadata": {},
   "outputs": [
    {
     "data": {
      "text/plain": [
       "1"
      ]
     },
     "execution_count": 42,
     "metadata": {},
     "output_type": "execute_result"
    }
   ],
   "source": [
    "#подсчитаем минимальное количество израсходованных минут\n",
    "calls['calls_sum'].min()"
   ]
  },
  {
   "cell_type": "markdown",
   "metadata": {},
   "source": [
    "#### Количество отправленных сообщений по месяцам"
   ]
  },
  {
   "cell_type": "code",
   "execution_count": 43,
   "metadata": {},
   "outputs": [
    {
     "data": {
      "text/html": [
       "<div>\n",
       "<style scoped>\n",
       "    .dataframe tbody tr th:only-of-type {\n",
       "        vertical-align: middle;\n",
       "    }\n",
       "\n",
       "    .dataframe tbody tr th {\n",
       "        vertical-align: top;\n",
       "    }\n",
       "\n",
       "    .dataframe thead th {\n",
       "        text-align: right;\n",
       "    }\n",
       "</style>\n",
       "<table border=\"1\" class=\"dataframe\">\n",
       "  <thead>\n",
       "    <tr style=\"text-align: right;\">\n",
       "      <th></th>\n",
       "      <th>user_id</th>\n",
       "      <th>month</th>\n",
       "      <th>messages_count</th>\n",
       "    </tr>\n",
       "  </thead>\n",
       "  <tbody>\n",
       "    <tr>\n",
       "      <td>0</td>\n",
       "      <td>1000</td>\n",
       "      <td>5</td>\n",
       "      <td>22</td>\n",
       "    </tr>\n",
       "    <tr>\n",
       "      <td>1</td>\n",
       "      <td>1000</td>\n",
       "      <td>6</td>\n",
       "      <td>60</td>\n",
       "    </tr>\n",
       "    <tr>\n",
       "      <td>2</td>\n",
       "      <td>1000</td>\n",
       "      <td>7</td>\n",
       "      <td>75</td>\n",
       "    </tr>\n",
       "    <tr>\n",
       "      <td>3</td>\n",
       "      <td>1000</td>\n",
       "      <td>8</td>\n",
       "      <td>81</td>\n",
       "    </tr>\n",
       "    <tr>\n",
       "      <td>4</td>\n",
       "      <td>1000</td>\n",
       "      <td>9</td>\n",
       "      <td>57</td>\n",
       "    </tr>\n",
       "  </tbody>\n",
       "</table>\n",
       "</div>"
      ],
      "text/plain": [
       "   user_id  month  messages_count\n",
       "0     1000      5              22\n",
       "1     1000      6              60\n",
       "2     1000      7              75\n",
       "3     1000      8              81\n",
       "4     1000      9              57"
      ]
     },
     "execution_count": 43,
     "metadata": {},
     "output_type": "execute_result"
    }
   ],
   "source": [
    "#сформируем сводную таблицу \n",
    "messages = df_messages.pivot_table(index = ['user_id', 'month'], values = 'id',\n",
    "                             aggfunc = 'count').reset_index()\n",
    "\n",
    "#скорректируем наименование столбцов\n",
    "messages.columns = ['user_id', 'month', 'messages_count']\n",
    "messages.head()"
   ]
  },
  {
   "cell_type": "code",
   "execution_count": 44,
   "metadata": {},
   "outputs": [
    {
     "data": {
      "text/plain": [
       "224"
      ]
     },
     "execution_count": 44,
     "metadata": {},
     "output_type": "execute_result"
    }
   ],
   "source": [
    "#подсчитаем максимальное количество отправленных сообщений\n",
    "messages['messages_count'].max()"
   ]
  },
  {
   "cell_type": "code",
   "execution_count": 45,
   "metadata": {},
   "outputs": [
    {
     "data": {
      "text/plain": [
       "1"
      ]
     },
     "execution_count": 45,
     "metadata": {},
     "output_type": "execute_result"
    }
   ],
   "source": [
    "#подсчитаем минимальное количество отправленных сообщений\n",
    "messages['messages_count'].min()"
   ]
  },
  {
   "cell_type": "markdown",
   "metadata": {},
   "source": [
    "#### Объём израсходованного интернет-трафика по месяцам"
   ]
  },
  {
   "cell_type": "code",
   "execution_count": 46,
   "metadata": {},
   "outputs": [],
   "source": [
    "#сформируем сводную таблицу \n",
    "internet = df_internet.pivot_table(index = ['user_id', 'month'], values = 'mb_used',\n",
    "                             aggfunc = 'sum').reset_index()\n",
    "\n",
    "#скорректируем наименование столбцов \n",
    "internet.columns = ['user_id', 'month', 'internet_sum']"
   ]
  },
  {
   "cell_type": "code",
   "execution_count": 47,
   "metadata": {},
   "outputs": [
    {
     "data": {
      "text/html": [
       "<div>\n",
       "<style scoped>\n",
       "    .dataframe tbody tr th:only-of-type {\n",
       "        vertical-align: middle;\n",
       "    }\n",
       "\n",
       "    .dataframe tbody tr th {\n",
       "        vertical-align: top;\n",
       "    }\n",
       "\n",
       "    .dataframe thead th {\n",
       "        text-align: right;\n",
       "    }\n",
       "</style>\n",
       "<table border=\"1\" class=\"dataframe\">\n",
       "  <thead>\n",
       "    <tr style=\"text-align: right;\">\n",
       "      <th></th>\n",
       "      <th>user_id</th>\n",
       "      <th>month</th>\n",
       "      <th>internet_sum</th>\n",
       "      <th>internet_sum_gb</th>\n",
       "    </tr>\n",
       "  </thead>\n",
       "  <tbody>\n",
       "    <tr>\n",
       "      <td>0</td>\n",
       "      <td>1000</td>\n",
       "      <td>5</td>\n",
       "      <td>2257</td>\n",
       "      <td>3.0</td>\n",
       "    </tr>\n",
       "    <tr>\n",
       "      <td>1</td>\n",
       "      <td>1000</td>\n",
       "      <td>6</td>\n",
       "      <td>23262</td>\n",
       "      <td>23.0</td>\n",
       "    </tr>\n",
       "    <tr>\n",
       "      <td>2</td>\n",
       "      <td>1000</td>\n",
       "      <td>7</td>\n",
       "      <td>14017</td>\n",
       "      <td>14.0</td>\n",
       "    </tr>\n",
       "    <tr>\n",
       "      <td>3</td>\n",
       "      <td>1000</td>\n",
       "      <td>8</td>\n",
       "      <td>14072</td>\n",
       "      <td>14.0</td>\n",
       "    </tr>\n",
       "    <tr>\n",
       "      <td>4</td>\n",
       "      <td>1000</td>\n",
       "      <td>9</td>\n",
       "      <td>14583</td>\n",
       "      <td>15.0</td>\n",
       "    </tr>\n",
       "  </tbody>\n",
       "</table>\n",
       "</div>"
      ],
      "text/plain": [
       "   user_id  month  internet_sum  internet_sum_gb\n",
       "0     1000      5          2257              3.0\n",
       "1     1000      6         23262             23.0\n",
       "2     1000      7         14017             14.0\n",
       "3     1000      8         14072             14.0\n",
       "4     1000      9         14583             15.0"
      ]
     },
     "execution_count": 47,
     "metadata": {},
     "output_type": "execute_result"
    }
   ],
   "source": [
    "#переведём мегабайты в гигабайты и округлим в большую сторону\n",
    "internet['internet_sum_gb'] = np.ceil((internet['internet_sum'])/1024)\n",
    "internet.head()"
   ]
  },
  {
   "cell_type": "code",
   "execution_count": 48,
   "metadata": {},
   "outputs": [
    {
     "data": {
      "text/plain": [
       "49.0"
      ]
     },
     "execution_count": 48,
     "metadata": {},
     "output_type": "execute_result"
    }
   ],
   "source": [
    "#подсчитаем максимальный объём израсходанного интернет-трафика\n",
    "internet['internet_sum_gb'].max()"
   ]
  },
  {
   "cell_type": "code",
   "execution_count": 49,
   "metadata": {},
   "outputs": [
    {
     "data": {
      "text/plain": [
       "1.0"
      ]
     },
     "execution_count": 49,
     "metadata": {},
     "output_type": "execute_result"
    }
   ],
   "source": [
    "#подсчитаем минимальный объём израсходанного интернет-трафика\n",
    "internet['internet_sum_gb'].min()"
   ]
  },
  {
   "cell_type": "markdown",
   "metadata": {},
   "source": [
    "#### Вывод"
   ]
  },
  {
   "cell_type": "markdown",
   "metadata": {},
   "source": [
    "На данном шаге посчитаем показатели для каждого пользователя количество сделанных звонков и израсходованных минут разговора по месяцам, количество отправленных сообщений по месяцам, объем израсходованного интернет-трафика по месяцам  при помощи сводных таблиц.\n",
    "\n",
    "\n",
    "Также подсчитаем максимальное и минимальное значение для каждого из показателей.\n",
    " - Максимальное количество сделанных звонков - 244\n",
    " - Минимальное количество сделанных звонков - 1\n",
    " - Максимальное количество израсходованных минут - 1727\n",
    " - Минимальное количество израсходованных минут - 1\n",
    " - Максимальное количество отправленных сообщений - 224\n",
    " - Минимальное количество отправленных сообщений - 1\n",
    " - Максимальный объём израсходанного интернет-трафика - 49.0\n",
    " - Минимальный объём израсходанного интернет-трафика - 1.0"
   ]
  },
  {
   "cell_type": "markdown",
   "metadata": {},
   "source": [
    "#### Помесячная выручка с каждого пользователя"
   ]
  },
  {
   "cell_type": "code",
   "execution_count": 50,
   "metadata": {},
   "outputs": [
    {
     "name": "stdout",
     "output_type": "stream",
     "text": [
      "Количество уникальных user_id для таблицы df_users: 500\n"
     ]
    }
   ],
   "source": [
    "#подсчитаем количество уникальных user_id для таблицы df_users\n",
    "print('Количество уникальных user_id для таблицы df_users:', len(df_users['user_id'].value_counts()))"
   ]
  },
  {
   "cell_type": "code",
   "execution_count": 51,
   "metadata": {},
   "outputs": [
    {
     "name": "stdout",
     "output_type": "stream",
     "text": [
      "Количество уникальных user_id для таблицы df_calls: 492\n"
     ]
    }
   ],
   "source": [
    "#подсчитаем количество уникальных user_id для таблицы df_calls\n",
    "print('Количество уникальных user_id для таблицы df_calls:',len(df_calls['user_id'].value_counts()))"
   ]
  },
  {
   "cell_type": "code",
   "execution_count": 52,
   "metadata": {},
   "outputs": [
    {
     "name": "stdout",
     "output_type": "stream",
     "text": [
      "Количество уникальных user_id для таблицы df_messages: 426\n"
     ]
    }
   ],
   "source": [
    "#подсчитаем количество уникальных user_id для таблицы df_messages\n",
    "print('Количество уникальных user_id для таблицы df_messages:', len(df_messages['user_id'].value_counts()))"
   ]
  },
  {
   "cell_type": "code",
   "execution_count": 53,
   "metadata": {},
   "outputs": [
    {
     "name": "stdout",
     "output_type": "stream",
     "text": [
      "Количество уникальных user_id для таблицы df_internet: 497\n"
     ]
    }
   ],
   "source": [
    "#подсчитаем количество уникальных user_id для таблицы df_internet\n",
    "print('Количество уникальных user_id для таблицы df_internet:', len(df_internet['user_id'].value_counts()))"
   ]
  },
  {
   "cell_type": "code",
   "execution_count": 54,
   "metadata": {},
   "outputs": [
    {
     "data": {
      "text/html": [
       "<div>\n",
       "<style scoped>\n",
       "    .dataframe tbody tr th:only-of-type {\n",
       "        vertical-align: middle;\n",
       "    }\n",
       "\n",
       "    .dataframe tbody tr th {\n",
       "        vertical-align: top;\n",
       "    }\n",
       "\n",
       "    .dataframe thead th {\n",
       "        text-align: right;\n",
       "    }\n",
       "</style>\n",
       "<table border=\"1\" class=\"dataframe\">\n",
       "  <thead>\n",
       "    <tr style=\"text-align: right;\">\n",
       "      <th></th>\n",
       "      <th>user_id</th>\n",
       "      <th>month</th>\n",
       "      <th>calls_count</th>\n",
       "      <th>calls_sum</th>\n",
       "      <th>messages_count</th>\n",
       "    </tr>\n",
       "  </thead>\n",
       "  <tbody>\n",
       "    <tr>\n",
       "      <td>0</td>\n",
       "      <td>1000</td>\n",
       "      <td>5</td>\n",
       "      <td>22.0</td>\n",
       "      <td>164.0</td>\n",
       "      <td>22.0</td>\n",
       "    </tr>\n",
       "    <tr>\n",
       "      <td>1</td>\n",
       "      <td>1000</td>\n",
       "      <td>6</td>\n",
       "      <td>43.0</td>\n",
       "      <td>187.0</td>\n",
       "      <td>60.0</td>\n",
       "    </tr>\n",
       "    <tr>\n",
       "      <td>2</td>\n",
       "      <td>1000</td>\n",
       "      <td>7</td>\n",
       "      <td>47.0</td>\n",
       "      <td>346.0</td>\n",
       "      <td>75.0</td>\n",
       "    </tr>\n",
       "    <tr>\n",
       "      <td>3</td>\n",
       "      <td>1000</td>\n",
       "      <td>8</td>\n",
       "      <td>52.0</td>\n",
       "      <td>418.0</td>\n",
       "      <td>81.0</td>\n",
       "    </tr>\n",
       "    <tr>\n",
       "      <td>4</td>\n",
       "      <td>1000</td>\n",
       "      <td>9</td>\n",
       "      <td>58.0</td>\n",
       "      <td>478.0</td>\n",
       "      <td>57.0</td>\n",
       "    </tr>\n",
       "  </tbody>\n",
       "</table>\n",
       "</div>"
      ],
      "text/plain": [
       "   user_id  month  calls_count  calls_sum  messages_count\n",
       "0     1000      5         22.0      164.0            22.0\n",
       "1     1000      6         43.0      187.0            60.0\n",
       "2     1000      7         47.0      346.0            75.0\n",
       "3     1000      8         52.0      418.0            81.0\n",
       "4     1000      9         58.0      478.0            57.0"
      ]
     },
     "execution_count": 54,
     "metadata": {},
     "output_type": "execute_result"
    }
   ],
   "source": [
    "#объединим таблицы с информацией о звонках и сообщениях\n",
    "df_calls_messages = calls.merge(messages, on = ['user_id', 'month'], how = 'outer')\n",
    "df_calls_messages.head()"
   ]
  },
  {
   "cell_type": "code",
   "execution_count": 55,
   "metadata": {},
   "outputs": [
    {
     "name": "stdout",
     "output_type": "stream",
     "text": [
      "Количество уникальных user_id для таблицы df_calls_messages: 498\n"
     ]
    }
   ],
   "source": [
    "#подсчитаем количество уникальных user_id после объединения\n",
    "print('Количество уникальных user_id для таблицы df_calls_messages:', len(df_calls_messages['user_id'].value_counts()))"
   ]
  },
  {
   "cell_type": "code",
   "execution_count": 56,
   "metadata": {},
   "outputs": [
    {
     "data": {
      "text/html": [
       "<div>\n",
       "<style scoped>\n",
       "    .dataframe tbody tr th:only-of-type {\n",
       "        vertical-align: middle;\n",
       "    }\n",
       "\n",
       "    .dataframe tbody tr th {\n",
       "        vertical-align: top;\n",
       "    }\n",
       "\n",
       "    .dataframe thead th {\n",
       "        text-align: right;\n",
       "    }\n",
       "</style>\n",
       "<table border=\"1\" class=\"dataframe\">\n",
       "  <thead>\n",
       "    <tr style=\"text-align: right;\">\n",
       "      <th></th>\n",
       "      <th>user_id</th>\n",
       "      <th>month</th>\n",
       "      <th>calls_count</th>\n",
       "      <th>calls_sum</th>\n",
       "      <th>messages_count</th>\n",
       "      <th>internet_sum</th>\n",
       "      <th>internet_sum_gb</th>\n",
       "    </tr>\n",
       "  </thead>\n",
       "  <tbody>\n",
       "    <tr>\n",
       "      <td>0</td>\n",
       "      <td>1000</td>\n",
       "      <td>5</td>\n",
       "      <td>22.0</td>\n",
       "      <td>164.0</td>\n",
       "      <td>22.0</td>\n",
       "      <td>2257.0</td>\n",
       "      <td>3.0</td>\n",
       "    </tr>\n",
       "    <tr>\n",
       "      <td>1</td>\n",
       "      <td>1000</td>\n",
       "      <td>6</td>\n",
       "      <td>43.0</td>\n",
       "      <td>187.0</td>\n",
       "      <td>60.0</td>\n",
       "      <td>23262.0</td>\n",
       "      <td>23.0</td>\n",
       "    </tr>\n",
       "    <tr>\n",
       "      <td>2</td>\n",
       "      <td>1000</td>\n",
       "      <td>7</td>\n",
       "      <td>47.0</td>\n",
       "      <td>346.0</td>\n",
       "      <td>75.0</td>\n",
       "      <td>14017.0</td>\n",
       "      <td>14.0</td>\n",
       "    </tr>\n",
       "    <tr>\n",
       "      <td>3</td>\n",
       "      <td>1000</td>\n",
       "      <td>8</td>\n",
       "      <td>52.0</td>\n",
       "      <td>418.0</td>\n",
       "      <td>81.0</td>\n",
       "      <td>14072.0</td>\n",
       "      <td>14.0</td>\n",
       "    </tr>\n",
       "    <tr>\n",
       "      <td>4</td>\n",
       "      <td>1000</td>\n",
       "      <td>9</td>\n",
       "      <td>58.0</td>\n",
       "      <td>478.0</td>\n",
       "      <td>57.0</td>\n",
       "      <td>14583.0</td>\n",
       "      <td>15.0</td>\n",
       "    </tr>\n",
       "  </tbody>\n",
       "</table>\n",
       "</div>"
      ],
      "text/plain": [
       "   user_id  month  calls_count  calls_sum  messages_count  internet_sum  \\\n",
       "0     1000      5         22.0      164.0            22.0        2257.0   \n",
       "1     1000      6         43.0      187.0            60.0       23262.0   \n",
       "2     1000      7         47.0      346.0            75.0       14017.0   \n",
       "3     1000      8         52.0      418.0            81.0       14072.0   \n",
       "4     1000      9         58.0      478.0            57.0       14583.0   \n",
       "\n",
       "   internet_sum_gb  \n",
       "0              3.0  \n",
       "1             23.0  \n",
       "2             14.0  \n",
       "3             14.0  \n",
       "4             15.0  "
      ]
     },
     "execution_count": 56,
     "metadata": {},
     "output_type": "execute_result"
    }
   ],
   "source": [
    "#добавим таблицу с информацией об интернете\n",
    "df = df_calls_messages.merge(internet, on = ['user_id', 'month'], how = 'outer')\n",
    "df.head()"
   ]
  },
  {
   "cell_type": "code",
   "execution_count": 57,
   "metadata": {},
   "outputs": [
    {
     "name": "stdout",
     "output_type": "stream",
     "text": [
      "Количество уникальных user_id для таблицы df: 498\n"
     ]
    }
   ],
   "source": [
    "#подсчитаем количество уникальных user_id после объединения\n",
    "print('Количество уникальных user_id для таблицы df:', len(df['user_id'].value_counts()))"
   ]
  },
  {
   "cell_type": "code",
   "execution_count": 58,
   "metadata": {},
   "outputs": [
    {
     "data": {
      "text/plain": [
       "{1128, 1371}"
      ]
     },
     "execution_count": 58,
     "metadata": {},
     "output_type": "execute_result"
    }
   ],
   "source": [
    "#обозначим, какие user_id не попали в набор данных\n",
    "set(df_users['user_id'].unique()) - set(df['user_id'].unique())"
   ]
  },
  {
   "cell_type": "code",
   "execution_count": 59,
   "metadata": {},
   "outputs": [
    {
     "data": {
      "text/html": [
       "<div>\n",
       "<style scoped>\n",
       "    .dataframe tbody tr th:only-of-type {\n",
       "        vertical-align: middle;\n",
       "    }\n",
       "\n",
       "    .dataframe tbody tr th {\n",
       "        vertical-align: top;\n",
       "    }\n",
       "\n",
       "    .dataframe thead th {\n",
       "        text-align: right;\n",
       "    }\n",
       "</style>\n",
       "<table border=\"1\" class=\"dataframe\">\n",
       "  <thead>\n",
       "    <tr style=\"text-align: right;\">\n",
       "      <th></th>\n",
       "      <th>user_id</th>\n",
       "      <th>age</th>\n",
       "      <th>churn_date</th>\n",
       "      <th>city</th>\n",
       "      <th>first_name</th>\n",
       "      <th>last_name</th>\n",
       "      <th>reg_date</th>\n",
       "      <th>tariff</th>\n",
       "      <th>reg_date_month</th>\n",
       "      <th>churn_date_month</th>\n",
       "      <th>duration_users_day</th>\n",
       "    </tr>\n",
       "  </thead>\n",
       "  <tbody>\n",
       "    <tr>\n",
       "      <td>128</td>\n",
       "      <td>1128</td>\n",
       "      <td>51</td>\n",
       "      <td>2018-12-23</td>\n",
       "      <td>Волжский</td>\n",
       "      <td>Ксения</td>\n",
       "      <td>Агаева</td>\n",
       "      <td>2018-12-15</td>\n",
       "      <td>ultra</td>\n",
       "      <td>12</td>\n",
       "      <td>12.0</td>\n",
       "      <td>8 days</td>\n",
       "    </tr>\n",
       "  </tbody>\n",
       "</table>\n",
       "</div>"
      ],
      "text/plain": [
       "     user_id  age churn_date      city first_name last_name   reg_date tariff  \\\n",
       "128     1128   51 2018-12-23  Волжский     Ксения    Агаева 2018-12-15  ultra   \n",
       "\n",
       "     reg_date_month  churn_date_month duration_users_day  \n",
       "128              12              12.0             8 days  "
      ]
     },
     "execution_count": 59,
     "metadata": {},
     "output_type": "execute_result"
    }
   ],
   "source": [
    "#рассмотрим подробнее информацию о пользователях, не попавших в набор данных после объединения\n",
    "df_users[df_users['user_id'] == 1128]"
   ]
  },
  {
   "cell_type": "code",
   "execution_count": 60,
   "metadata": {},
   "outputs": [
    {
     "data": {
      "text/html": [
       "<div>\n",
       "<style scoped>\n",
       "    .dataframe tbody tr th:only-of-type {\n",
       "        vertical-align: middle;\n",
       "    }\n",
       "\n",
       "    .dataframe tbody tr th {\n",
       "        vertical-align: top;\n",
       "    }\n",
       "\n",
       "    .dataframe thead th {\n",
       "        text-align: right;\n",
       "    }\n",
       "</style>\n",
       "<table border=\"1\" class=\"dataframe\">\n",
       "  <thead>\n",
       "    <tr style=\"text-align: right;\">\n",
       "      <th></th>\n",
       "      <th>user_id</th>\n",
       "      <th>age</th>\n",
       "      <th>churn_date</th>\n",
       "      <th>city</th>\n",
       "      <th>first_name</th>\n",
       "      <th>last_name</th>\n",
       "      <th>reg_date</th>\n",
       "      <th>tariff</th>\n",
       "      <th>reg_date_month</th>\n",
       "      <th>churn_date_month</th>\n",
       "      <th>duration_users_day</th>\n",
       "    </tr>\n",
       "  </thead>\n",
       "  <tbody>\n",
       "    <tr>\n",
       "      <td>371</td>\n",
       "      <td>1371</td>\n",
       "      <td>50</td>\n",
       "      <td>2018-12-30</td>\n",
       "      <td>Омск</td>\n",
       "      <td>Ириней</td>\n",
       "      <td>Трофимов</td>\n",
       "      <td>2018-12-25</td>\n",
       "      <td>smart</td>\n",
       "      <td>12</td>\n",
       "      <td>12.0</td>\n",
       "      <td>5 days</td>\n",
       "    </tr>\n",
       "  </tbody>\n",
       "</table>\n",
       "</div>"
      ],
      "text/plain": [
       "     user_id  age churn_date  city first_name last_name   reg_date tariff  \\\n",
       "371     1371   50 2018-12-30  Омск     Ириней  Трофимов 2018-12-25  smart   \n",
       "\n",
       "     reg_date_month  churn_date_month duration_users_day  \n",
       "371              12              12.0             5 days  "
      ]
     },
     "execution_count": 60,
     "metadata": {},
     "output_type": "execute_result"
    }
   ],
   "source": [
    "#рассмотрим подробнее информацию о пользователях, не попавших в набор данных после объединения\n",
    "df_users[df_users['user_id'] == 1371]"
   ]
  },
  {
   "cell_type": "code",
   "execution_count": 61,
   "metadata": {},
   "outputs": [
    {
     "data": {
      "text/html": [
       "<div>\n",
       "<style scoped>\n",
       "    .dataframe tbody tr th:only-of-type {\n",
       "        vertical-align: middle;\n",
       "    }\n",
       "\n",
       "    .dataframe tbody tr th {\n",
       "        vertical-align: top;\n",
       "    }\n",
       "\n",
       "    .dataframe thead th {\n",
       "        text-align: right;\n",
       "    }\n",
       "</style>\n",
       "<table border=\"1\" class=\"dataframe\">\n",
       "  <thead>\n",
       "    <tr style=\"text-align: right;\">\n",
       "      <th></th>\n",
       "      <th>user_id</th>\n",
       "      <th>age</th>\n",
       "      <th>churn_date</th>\n",
       "      <th>city</th>\n",
       "      <th>first_name</th>\n",
       "      <th>last_name</th>\n",
       "      <th>reg_date</th>\n",
       "      <th>tariff</th>\n",
       "      <th>reg_date_month</th>\n",
       "      <th>churn_date_month</th>\n",
       "      <th>duration_users_day</th>\n",
       "    </tr>\n",
       "  </thead>\n",
       "  <tbody>\n",
       "    <tr>\n",
       "      <td>62</td>\n",
       "      <td>1062</td>\n",
       "      <td>24</td>\n",
       "      <td>2018-12-09</td>\n",
       "      <td>Москва</td>\n",
       "      <td>Александр</td>\n",
       "      <td>Коршунов</td>\n",
       "      <td>2018-11-16</td>\n",
       "      <td>smart</td>\n",
       "      <td>11</td>\n",
       "      <td>12.0</td>\n",
       "      <td>23 days</td>\n",
       "    </tr>\n",
       "    <tr>\n",
       "      <td>128</td>\n",
       "      <td>1128</td>\n",
       "      <td>51</td>\n",
       "      <td>2018-12-23</td>\n",
       "      <td>Волжский</td>\n",
       "      <td>Ксения</td>\n",
       "      <td>Агаева</td>\n",
       "      <td>2018-12-15</td>\n",
       "      <td>ultra</td>\n",
       "      <td>12</td>\n",
       "      <td>12.0</td>\n",
       "      <td>8 days</td>\n",
       "    </tr>\n",
       "    <tr>\n",
       "      <td>371</td>\n",
       "      <td>1371</td>\n",
       "      <td>50</td>\n",
       "      <td>2018-12-30</td>\n",
       "      <td>Омск</td>\n",
       "      <td>Ириней</td>\n",
       "      <td>Трофимов</td>\n",
       "      <td>2018-12-25</td>\n",
       "      <td>smart</td>\n",
       "      <td>12</td>\n",
       "      <td>12.0</td>\n",
       "      <td>5 days</td>\n",
       "    </tr>\n",
       "  </tbody>\n",
       "</table>\n",
       "</div>"
      ],
      "text/plain": [
       "     user_id  age churn_date      city first_name last_name   reg_date tariff  \\\n",
       "62      1062   24 2018-12-09    Москва  Александр  Коршунов 2018-11-16  smart   \n",
       "128     1128   51 2018-12-23  Волжский     Ксения    Агаева 2018-12-15  ultra   \n",
       "371     1371   50 2018-12-30      Омск     Ириней  Трофимов 2018-12-25  smart   \n",
       "\n",
       "     reg_date_month  churn_date_month duration_users_day  \n",
       "62               11              12.0            23 days  \n",
       "128              12              12.0             8 days  \n",
       "371              12              12.0             5 days  "
      ]
     },
     "execution_count": 61,
     "metadata": {},
     "output_type": "execute_result"
    }
   ],
   "source": [
    "#вычислим пользователей, которые пользовались тарифом менее месяца\n",
    "df_users[df_users['duration_users_day'] < '30 days']"
   ]
  },
  {
   "cell_type": "code",
   "execution_count": 62,
   "metadata": {},
   "outputs": [
    {
     "data": {
      "text/html": [
       "<div>\n",
       "<style scoped>\n",
       "    .dataframe tbody tr th:only-of-type {\n",
       "        vertical-align: middle;\n",
       "    }\n",
       "\n",
       "    .dataframe tbody tr th {\n",
       "        vertical-align: top;\n",
       "    }\n",
       "\n",
       "    .dataframe thead th {\n",
       "        text-align: right;\n",
       "    }\n",
       "</style>\n",
       "<table border=\"1\" class=\"dataframe\">\n",
       "  <thead>\n",
       "    <tr style=\"text-align: right;\">\n",
       "      <th></th>\n",
       "      <th>user_id</th>\n",
       "      <th>month</th>\n",
       "      <th>calls_count</th>\n",
       "      <th>calls_sum</th>\n",
       "      <th>messages_count</th>\n",
       "      <th>internet_sum</th>\n",
       "      <th>internet_sum_gb</th>\n",
       "      <th>tariff</th>\n",
       "    </tr>\n",
       "  </thead>\n",
       "  <tbody>\n",
       "    <tr>\n",
       "      <td>0</td>\n",
       "      <td>1000</td>\n",
       "      <td>5</td>\n",
       "      <td>22.0</td>\n",
       "      <td>164.0</td>\n",
       "      <td>22.0</td>\n",
       "      <td>2257.0</td>\n",
       "      <td>3.0</td>\n",
       "      <td>ultra</td>\n",
       "    </tr>\n",
       "    <tr>\n",
       "      <td>1</td>\n",
       "      <td>1000</td>\n",
       "      <td>6</td>\n",
       "      <td>43.0</td>\n",
       "      <td>187.0</td>\n",
       "      <td>60.0</td>\n",
       "      <td>23262.0</td>\n",
       "      <td>23.0</td>\n",
       "      <td>ultra</td>\n",
       "    </tr>\n",
       "    <tr>\n",
       "      <td>2</td>\n",
       "      <td>1000</td>\n",
       "      <td>7</td>\n",
       "      <td>47.0</td>\n",
       "      <td>346.0</td>\n",
       "      <td>75.0</td>\n",
       "      <td>14017.0</td>\n",
       "      <td>14.0</td>\n",
       "      <td>ultra</td>\n",
       "    </tr>\n",
       "    <tr>\n",
       "      <td>3</td>\n",
       "      <td>1000</td>\n",
       "      <td>8</td>\n",
       "      <td>52.0</td>\n",
       "      <td>418.0</td>\n",
       "      <td>81.0</td>\n",
       "      <td>14072.0</td>\n",
       "      <td>14.0</td>\n",
       "      <td>ultra</td>\n",
       "    </tr>\n",
       "    <tr>\n",
       "      <td>4</td>\n",
       "      <td>1000</td>\n",
       "      <td>9</td>\n",
       "      <td>58.0</td>\n",
       "      <td>478.0</td>\n",
       "      <td>57.0</td>\n",
       "      <td>14583.0</td>\n",
       "      <td>15.0</td>\n",
       "      <td>ultra</td>\n",
       "    </tr>\n",
       "  </tbody>\n",
       "</table>\n",
       "</div>"
      ],
      "text/plain": [
       "   user_id  month  calls_count  calls_sum  messages_count  internet_sum  \\\n",
       "0     1000      5         22.0      164.0            22.0        2257.0   \n",
       "1     1000      6         43.0      187.0            60.0       23262.0   \n",
       "2     1000      7         47.0      346.0            75.0       14017.0   \n",
       "3     1000      8         52.0      418.0            81.0       14072.0   \n",
       "4     1000      9         58.0      478.0            57.0       14583.0   \n",
       "\n",
       "   internet_sum_gb tariff  \n",
       "0              3.0  ultra  \n",
       "1             23.0  ultra  \n",
       "2             14.0  ultra  \n",
       "3             14.0  ultra  \n",
       "4             15.0  ultra  "
      ]
     },
     "execution_count": 62,
     "metadata": {},
     "output_type": "execute_result"
    }
   ],
   "source": [
    "#добавим таблицу с информацией о тарифе\n",
    "df = df.merge(df_users[['user_id', 'tariff']], on = 'user_id', how = 'left')\n",
    "df.head()"
   ]
  },
  {
   "cell_type": "code",
   "execution_count": 63,
   "metadata": {},
   "outputs": [],
   "source": [
    "#напишем функцию для вычисления помесячной выручки\n",
    "def revenue_month(row):\n",
    "    revenue = 0\n",
    "    \n",
    "    calls_sum = row['calls_sum']\n",
    "    messages_count = row['messages_count']\n",
    "    internet_sum_gb = row['internet_sum_gb']\n",
    "    tariff = row['tariff']\n",
    "    \n",
    "    #подсчитаем разницу между потраченным пользователем объёмом услуг и включенным в пакет\n",
    "    variance_calls = calls_sum - int(df_tariffs[df_tariffs['tariff_name'] == tariff]['minutes_included'])\n",
    "    variance_messages = messages_count - int(df_tariffs[df_tariffs['tariff_name'] == tariff]['messages_included'])\n",
    "    variance_internet = internet_sum_gb - int(df_tariffs[df_tariffs['tariff_name'] == tariff]['gb_per_month_included'])\n",
    "    \n",
    "    #рассчитаем дополнительную плату, если пользователь вышел за пределы пакета услуг\n",
    "    if variance_calls > 0:\n",
    "        revenue += variance_calls * int(df_tariffs[df_tariffs['tariff_name'] == tariff]['rub_per_minute'])\n",
    "    \n",
    "    if variance_messages > 0:\n",
    "        revenue += variance_messages * int(df_tariffs[df_tariffs['tariff_name'] == tariff]['rub_per_message'])\n",
    "        \n",
    "    if variance_internet > 0:\n",
    "        revenue += variance_internet * int(df_tariffs[df_tariffs['tariff_name'] == tariff]['rub_per_gb'])\n",
    "     \n",
    "    #прибавим абонентскую плату, соответствующую тарифному плану\n",
    "    revenue += int(df_tariffs[df_tariffs['tariff_name'] == tariff]['rub_monthly_fee'])    \n",
    "    \n",
    "    return revenue"
   ]
  },
  {
   "cell_type": "code",
   "execution_count": 64,
   "metadata": {},
   "outputs": [],
   "source": [
    "#вычислим помесячную выручку\n",
    "df['revenue_month'] = df.apply(revenue_month, axis = 1)"
   ]
  },
  {
   "cell_type": "code",
   "execution_count": 65,
   "metadata": {},
   "outputs": [
    {
     "name": "stdout",
     "output_type": "stream",
     "text": [
      "int64\n"
     ]
    }
   ],
   "source": [
    "#заменим вещественный тип данных на целочисленный для значений выручки\n",
    "df['revenue_month'] = df['revenue_month'].astype('int')\n",
    "\n",
    "#проверим тип данных\n",
    "print(df['revenue_month'].dtype)"
   ]
  },
  {
   "cell_type": "code",
   "execution_count": 66,
   "metadata": {},
   "outputs": [
    {
     "data": {
      "text/html": [
       "<div>\n",
       "<style scoped>\n",
       "    .dataframe tbody tr th:only-of-type {\n",
       "        vertical-align: middle;\n",
       "    }\n",
       "\n",
       "    .dataframe tbody tr th {\n",
       "        vertical-align: top;\n",
       "    }\n",
       "\n",
       "    .dataframe thead th {\n",
       "        text-align: right;\n",
       "    }\n",
       "</style>\n",
       "<table border=\"1\" class=\"dataframe\">\n",
       "  <thead>\n",
       "    <tr style=\"text-align: right;\">\n",
       "      <th></th>\n",
       "      <th>user_id</th>\n",
       "      <th>month</th>\n",
       "      <th>calls_count</th>\n",
       "      <th>calls_sum</th>\n",
       "      <th>messages_count</th>\n",
       "      <th>internet_sum</th>\n",
       "      <th>internet_sum_gb</th>\n",
       "      <th>tariff</th>\n",
       "      <th>revenue_month</th>\n",
       "    </tr>\n",
       "  </thead>\n",
       "  <tbody>\n",
       "    <tr>\n",
       "      <td>0</td>\n",
       "      <td>1000</td>\n",
       "      <td>5</td>\n",
       "      <td>22.0</td>\n",
       "      <td>164.0</td>\n",
       "      <td>22.0</td>\n",
       "      <td>2257.0</td>\n",
       "      <td>3.0</td>\n",
       "      <td>ultra</td>\n",
       "      <td>1950</td>\n",
       "    </tr>\n",
       "    <tr>\n",
       "      <td>1</td>\n",
       "      <td>1000</td>\n",
       "      <td>6</td>\n",
       "      <td>43.0</td>\n",
       "      <td>187.0</td>\n",
       "      <td>60.0</td>\n",
       "      <td>23262.0</td>\n",
       "      <td>23.0</td>\n",
       "      <td>ultra</td>\n",
       "      <td>1950</td>\n",
       "    </tr>\n",
       "    <tr>\n",
       "      <td>2</td>\n",
       "      <td>1000</td>\n",
       "      <td>7</td>\n",
       "      <td>47.0</td>\n",
       "      <td>346.0</td>\n",
       "      <td>75.0</td>\n",
       "      <td>14017.0</td>\n",
       "      <td>14.0</td>\n",
       "      <td>ultra</td>\n",
       "      <td>1950</td>\n",
       "    </tr>\n",
       "    <tr>\n",
       "      <td>3</td>\n",
       "      <td>1000</td>\n",
       "      <td>8</td>\n",
       "      <td>52.0</td>\n",
       "      <td>418.0</td>\n",
       "      <td>81.0</td>\n",
       "      <td>14072.0</td>\n",
       "      <td>14.0</td>\n",
       "      <td>ultra</td>\n",
       "      <td>1950</td>\n",
       "    </tr>\n",
       "    <tr>\n",
       "      <td>4</td>\n",
       "      <td>1000</td>\n",
       "      <td>9</td>\n",
       "      <td>58.0</td>\n",
       "      <td>478.0</td>\n",
       "      <td>57.0</td>\n",
       "      <td>14583.0</td>\n",
       "      <td>15.0</td>\n",
       "      <td>ultra</td>\n",
       "      <td>1950</td>\n",
       "    </tr>\n",
       "  </tbody>\n",
       "</table>\n",
       "</div>"
      ],
      "text/plain": [
       "   user_id  month  calls_count  calls_sum  messages_count  internet_sum  \\\n",
       "0     1000      5         22.0      164.0            22.0        2257.0   \n",
       "1     1000      6         43.0      187.0            60.0       23262.0   \n",
       "2     1000      7         47.0      346.0            75.0       14017.0   \n",
       "3     1000      8         52.0      418.0            81.0       14072.0   \n",
       "4     1000      9         58.0      478.0            57.0       14583.0   \n",
       "\n",
       "   internet_sum_gb tariff  revenue_month  \n",
       "0              3.0  ultra           1950  \n",
       "1             23.0  ultra           1950  \n",
       "2             14.0  ultra           1950  \n",
       "3             14.0  ultra           1950  \n",
       "4             15.0  ultra           1950  "
      ]
     },
     "execution_count": 66,
     "metadata": {},
     "output_type": "execute_result"
    }
   ],
   "source": [
    "df.head()"
   ]
  },
  {
   "cell_type": "code",
   "execution_count": 67,
   "metadata": {},
   "outputs": [
    {
     "name": "stdout",
     "output_type": "stream",
     "text": [
      "<class 'pandas.core.frame.DataFrame'>\n",
      "Int64Index: 3214 entries, 0 to 3213\n",
      "Data columns (total 9 columns):\n",
      "user_id            3214 non-null int64\n",
      "month              3214 non-null int64\n",
      "calls_count        3174 non-null float64\n",
      "calls_sum          3174 non-null float64\n",
      "messages_count     2717 non-null float64\n",
      "internet_sum       3203 non-null float64\n",
      "internet_sum_gb    3203 non-null float64\n",
      "tariff             3214 non-null object\n",
      "revenue_month      3214 non-null int64\n",
      "dtypes: float64(5), int64(3), object(1)\n",
      "memory usage: 251.1+ KB\n"
     ]
    }
   ],
   "source": [
    "df.info()"
   ]
  },
  {
   "cell_type": "code",
   "execution_count": 68,
   "metadata": {},
   "outputs": [
    {
     "data": {
      "text/plain": [
       "6824"
      ]
     },
     "execution_count": 68,
     "metadata": {},
     "output_type": "execute_result"
    }
   ],
   "source": [
    "#подсчитаем максимальное значение выручки\n",
    "df['revenue_month'].max()"
   ]
  },
  {
   "cell_type": "code",
   "execution_count": 69,
   "metadata": {},
   "outputs": [
    {
     "data": {
      "text/plain": [
       "550"
      ]
     },
     "execution_count": 69,
     "metadata": {},
     "output_type": "execute_result"
    }
   ],
   "source": [
    "#подсчитаем минимальное значение выручки\n",
    "df['revenue_month'].min()"
   ]
  },
  {
   "cell_type": "markdown",
   "metadata": {},
   "source": [
    "#### Вывод"
   ]
  },
  {
   "cell_type": "markdown",
   "metadata": {},
   "source": [
    "Для вычисления выручки будем объединять таблицы в одну, но для начала подсчитаем количество уникальных user_id для каждой таблицы. Всего уникальных пользователей 500. Информация по звонкам представлена для 492 пользователей, по сообщениям - для 426 пользователей, по интернету - для 497 пользователей.\n",
    "\n",
    "\n",
    "Далее в три шага проведём объединение таблиц в одну при помощи merge(): сначала объединим талицы с информацией о звонках и сообщениях, далее к объединённой добавим данные по интернету, и следом данные по тарифам. В итоге получаем набор данных df.\n",
    "После объединения проверим количество уникальных пользователей, оно составляет 498, значит, два пользователя не попали в новый набор. У данных пользователей дата подключения тарифа 'reg_date' и дата прекращения пользования тарифом 'churn_date' отличаются на восемь и пять дней соответственно, т.е.пользователи подключились к тарифу, и практически сразу прекратили им пользоваться. \n",
    "Далее вычислим пользователей, которые пользовались тарифом непродолжительное время, менее месяца, аналогично найденным двум пользователям. Таких пользователей оказалось трое, т.е. суммарно всего пять человек из 500 пользовались услугами оператора меньше месяца.\n",
    "\n",
    "Для вычисления помесячной выручки напишем функцию, в которой подсчитаем разницу между потраченным пользователем объёмом услуг и включенным в пакет, рассчитаем дополнительную плату, если пользователь вышел за пределы пакета услуг и прибавим абонентскую плату, соответствующую тарифному плану.\n",
    "В итоге максимальное значение выручки 6824, минимальное - 550.\n",
    "\n",
    "В дальнейшем для анализа используем таблицу df."
   ]
  },
  {
   "cell_type": "markdown",
   "metadata": {},
   "source": [
    "## Проанализируем данные <a id='Шаг3'></a>"
   ]
  },
  {
   "cell_type": "markdown",
   "metadata": {},
   "source": [
    "### Сколько минут разговора требуется пользователям каждого тарифа в месяц"
   ]
  },
  {
   "cell_type": "code",
   "execution_count": 70,
   "metadata": {},
   "outputs": [
    {
     "data": {
      "text/html": [
       "<div>\n",
       "<style scoped>\n",
       "    .dataframe tbody tr th:only-of-type {\n",
       "        vertical-align: middle;\n",
       "    }\n",
       "\n",
       "    .dataframe tbody tr th {\n",
       "        vertical-align: top;\n",
       "    }\n",
       "\n",
       "    .dataframe thead th {\n",
       "        text-align: right;\n",
       "    }\n",
       "</style>\n",
       "<table border=\"1\" class=\"dataframe\">\n",
       "  <thead>\n",
       "    <tr style=\"text-align: right;\">\n",
       "      <th></th>\n",
       "      <th></th>\n",
       "      <th>calls_sum</th>\n",
       "      <th>internet_sum_gb</th>\n",
       "      <th>messages_count</th>\n",
       "    </tr>\n",
       "    <tr>\n",
       "      <th>user_id</th>\n",
       "      <th>month</th>\n",
       "      <th></th>\n",
       "      <th></th>\n",
       "      <th></th>\n",
       "    </tr>\n",
       "  </thead>\n",
       "  <tbody>\n",
       "    <tr>\n",
       "      <td rowspan=\"2\" valign=\"top\">1001</td>\n",
       "      <td>11</td>\n",
       "      <td>444.0</td>\n",
       "      <td>19.0</td>\n",
       "      <td>0.0</td>\n",
       "    </tr>\n",
       "    <tr>\n",
       "      <td>12</td>\n",
       "      <td>430.0</td>\n",
       "      <td>14.0</td>\n",
       "      <td>0.0</td>\n",
       "    </tr>\n",
       "    <tr>\n",
       "      <td rowspan=\"3\" valign=\"top\">1002</td>\n",
       "      <td>6</td>\n",
       "      <td>118.0</td>\n",
       "      <td>11.0</td>\n",
       "      <td>4.0</td>\n",
       "    </tr>\n",
       "    <tr>\n",
       "      <td>7</td>\n",
       "      <td>219.0</td>\n",
       "      <td>18.0</td>\n",
       "      <td>11.0</td>\n",
       "    </tr>\n",
       "    <tr>\n",
       "      <td>8</td>\n",
       "      <td>294.0</td>\n",
       "      <td>20.0</td>\n",
       "      <td>13.0</td>\n",
       "    </tr>\n",
       "    <tr>\n",
       "      <td>...</td>\n",
       "      <td>...</td>\n",
       "      <td>...</td>\n",
       "      <td>...</td>\n",
       "      <td>...</td>\n",
       "    </tr>\n",
       "    <tr>\n",
       "      <td>1498</td>\n",
       "      <td>10</td>\n",
       "      <td>258.0</td>\n",
       "      <td>21.0</td>\n",
       "      <td>42.0</td>\n",
       "    </tr>\n",
       "    <tr>\n",
       "      <td rowspan=\"4\" valign=\"top\">1499</td>\n",
       "      <td>9</td>\n",
       "      <td>71.0</td>\n",
       "      <td>2.0</td>\n",
       "      <td>11.0</td>\n",
       "    </tr>\n",
       "    <tr>\n",
       "      <td>10</td>\n",
       "      <td>473.0</td>\n",
       "      <td>18.0</td>\n",
       "      <td>48.0</td>\n",
       "    </tr>\n",
       "    <tr>\n",
       "      <td>11</td>\n",
       "      <td>624.0</td>\n",
       "      <td>18.0</td>\n",
       "      <td>59.0</td>\n",
       "    </tr>\n",
       "    <tr>\n",
       "      <td>12</td>\n",
       "      <td>505.0</td>\n",
       "      <td>13.0</td>\n",
       "      <td>66.0</td>\n",
       "    </tr>\n",
       "  </tbody>\n",
       "</table>\n",
       "<p>2229 rows × 3 columns</p>\n",
       "</div>"
      ],
      "text/plain": [
       "               calls_sum  internet_sum_gb  messages_count\n",
       "user_id month                                            \n",
       "1001    11         444.0             19.0             0.0\n",
       "        12         430.0             14.0             0.0\n",
       "1002    6          118.0             11.0             4.0\n",
       "        7          219.0             18.0            11.0\n",
       "        8          294.0             20.0            13.0\n",
       "...                  ...              ...             ...\n",
       "1498    10         258.0             21.0            42.0\n",
       "1499    9           71.0              2.0            11.0\n",
       "        10         473.0             18.0            48.0\n",
       "        11         624.0             18.0            59.0\n",
       "        12         505.0             13.0            66.0\n",
       "\n",
       "[2229 rows x 3 columns]"
      ]
     },
     "execution_count": 70,
     "metadata": {},
     "output_type": "execute_result"
    }
   ],
   "source": [
    "#сформируем сводную таблицу по id пользователя и месяцу для тарифа Smart\n",
    "smart = df[df['tariff'] == 'smart'].pivot_table(index = ['user_id', 'month'], \n",
    "                                        values = ['calls_sum', 'messages_count', 'internet_sum_gb'], aggfunc = 'sum') \n",
    "smart"
   ]
  },
  {
   "cell_type": "code",
   "execution_count": 71,
   "metadata": {},
   "outputs": [
    {
     "data": {
      "text/html": [
       "<div>\n",
       "<style scoped>\n",
       "    .dataframe tbody tr th:only-of-type {\n",
       "        vertical-align: middle;\n",
       "    }\n",
       "\n",
       "    .dataframe tbody tr th {\n",
       "        vertical-align: top;\n",
       "    }\n",
       "\n",
       "    .dataframe thead th {\n",
       "        text-align: right;\n",
       "    }\n",
       "</style>\n",
       "<table border=\"1\" class=\"dataframe\">\n",
       "  <thead>\n",
       "    <tr style=\"text-align: right;\">\n",
       "      <th></th>\n",
       "      <th></th>\n",
       "      <th>calls_sum</th>\n",
       "      <th>internet_sum_gb</th>\n",
       "      <th>messages_count</th>\n",
       "    </tr>\n",
       "    <tr>\n",
       "      <th>user_id</th>\n",
       "      <th>month</th>\n",
       "      <th></th>\n",
       "      <th></th>\n",
       "      <th></th>\n",
       "    </tr>\n",
       "  </thead>\n",
       "  <tbody>\n",
       "    <tr>\n",
       "      <td rowspan=\"5\" valign=\"top\">1000</td>\n",
       "      <td>5</td>\n",
       "      <td>164.0</td>\n",
       "      <td>3.0</td>\n",
       "      <td>22.0</td>\n",
       "    </tr>\n",
       "    <tr>\n",
       "      <td>6</td>\n",
       "      <td>187.0</td>\n",
       "      <td>23.0</td>\n",
       "      <td>60.0</td>\n",
       "    </tr>\n",
       "    <tr>\n",
       "      <td>7</td>\n",
       "      <td>346.0</td>\n",
       "      <td>14.0</td>\n",
       "      <td>75.0</td>\n",
       "    </tr>\n",
       "    <tr>\n",
       "      <td>8</td>\n",
       "      <td>418.0</td>\n",
       "      <td>14.0</td>\n",
       "      <td>81.0</td>\n",
       "    </tr>\n",
       "    <tr>\n",
       "      <td>9</td>\n",
       "      <td>478.0</td>\n",
       "      <td>15.0</td>\n",
       "      <td>57.0</td>\n",
       "    </tr>\n",
       "    <tr>\n",
       "      <td>...</td>\n",
       "      <td>...</td>\n",
       "      <td>...</td>\n",
       "      <td>...</td>\n",
       "      <td>...</td>\n",
       "    </tr>\n",
       "    <tr>\n",
       "      <td rowspan=\"5\" valign=\"top\">1495</td>\n",
       "      <td>8</td>\n",
       "      <td>96.0</td>\n",
       "      <td>3.0</td>\n",
       "      <td>13.0</td>\n",
       "    </tr>\n",
       "    <tr>\n",
       "      <td>9</td>\n",
       "      <td>830.0</td>\n",
       "      <td>33.0</td>\n",
       "      <td>82.0</td>\n",
       "    </tr>\n",
       "    <tr>\n",
       "      <td>10</td>\n",
       "      <td>1056.0</td>\n",
       "      <td>29.0</td>\n",
       "      <td>82.0</td>\n",
       "    </tr>\n",
       "    <tr>\n",
       "      <td>11</td>\n",
       "      <td>971.0</td>\n",
       "      <td>39.0</td>\n",
       "      <td>79.0</td>\n",
       "    </tr>\n",
       "    <tr>\n",
       "      <td>12</td>\n",
       "      <td>1066.0</td>\n",
       "      <td>23.0</td>\n",
       "      <td>84.0</td>\n",
       "    </tr>\n",
       "  </tbody>\n",
       "</table>\n",
       "<p>985 rows × 3 columns</p>\n",
       "</div>"
      ],
      "text/plain": [
       "               calls_sum  internet_sum_gb  messages_count\n",
       "user_id month                                            \n",
       "1000    5          164.0              3.0            22.0\n",
       "        6          187.0             23.0            60.0\n",
       "        7          346.0             14.0            75.0\n",
       "        8          418.0             14.0            81.0\n",
       "        9          478.0             15.0            57.0\n",
       "...                  ...              ...             ...\n",
       "1495    8           96.0              3.0            13.0\n",
       "        9          830.0             33.0            82.0\n",
       "        10        1056.0             29.0            82.0\n",
       "        11         971.0             39.0            79.0\n",
       "        12        1066.0             23.0            84.0\n",
       "\n",
       "[985 rows x 3 columns]"
      ]
     },
     "execution_count": 71,
     "metadata": {},
     "output_type": "execute_result"
    }
   ],
   "source": [
    "#сформируем сводную таблицу по id пользователя и месяцу для тарифа Ultra\n",
    "ultra = df[df['tariff'] == 'ultra'].pivot_table(index = ['user_id', 'month'], \n",
    "                                        values = ['calls_sum', 'messages_count', 'internet_sum_gb'], aggfunc = 'sum')\n",
    "ultra"
   ]
  },
  {
   "cell_type": "code",
   "execution_count": 72,
   "metadata": {},
   "outputs": [
    {
     "name": "stdout",
     "output_type": "stream",
     "text": [
      "Среднее значение длительности звонков для тарифа Smart:\n"
     ]
    },
    {
     "data": {
      "text/plain": [
       "429.45087483176314"
      ]
     },
     "execution_count": 72,
     "metadata": {},
     "output_type": "execute_result"
    }
   ],
   "source": [
    "print('Среднее значение длительности звонков для тарифа Smart:')\n",
    "smart['calls_sum'].mean()"
   ]
  },
  {
   "cell_type": "code",
   "execution_count": 73,
   "metadata": {},
   "outputs": [
    {
     "name": "stdout",
     "output_type": "stream",
     "text": [
      "Среднее значение длительности звонков для тарифа Ultra:\n"
     ]
    },
    {
     "data": {
      "text/plain": [
       "540.7796954314721"
      ]
     },
     "execution_count": 73,
     "metadata": {},
     "output_type": "execute_result"
    }
   ],
   "source": [
    "print('Среднее значение длительности звонков для тарифа Ultra:')\n",
    "ultra['calls_sum'].mean()"
   ]
  },
  {
   "cell_type": "code",
   "execution_count": 74,
   "metadata": {},
   "outputs": [
    {
     "name": "stdout",
     "output_type": "stream",
     "text": [
      "Медианное значение длительности звонков для тарифа Smart:\n"
     ]
    },
    {
     "data": {
      "text/plain": [
       "435.0"
      ]
     },
     "execution_count": 74,
     "metadata": {},
     "output_type": "execute_result"
    }
   ],
   "source": [
    "print('Медианное значение длительности звонков для тарифа Smart:')\n",
    "smart['calls_sum'].median()"
   ]
  },
  {
   "cell_type": "code",
   "execution_count": 75,
   "metadata": {},
   "outputs": [
    {
     "name": "stdout",
     "output_type": "stream",
     "text": [
      "Медианное значение длительности звонков для тарифа Ultra:\n"
     ]
    },
    {
     "data": {
      "text/plain": [
       "532.0"
      ]
     },
     "execution_count": 75,
     "metadata": {},
     "output_type": "execute_result"
    }
   ],
   "source": [
    "print('Медианное значение длительности звонков для тарифа Ultra:')\n",
    "ultra['calls_sum'].median()"
   ]
  },
  {
   "cell_type": "code",
   "execution_count": 76,
   "metadata": {},
   "outputs": [
    {
     "data": {
      "image/png": "[encoded data removed]",
      "text/plain": [
       "<Figure size 864x360 with 1 Axes>"
      ]
     },
     "metadata": {
      "needs_background": "light"
     },
     "output_type": "display_data"
    }
   ],
   "source": [
    "#построим гистограммы распределения длительности звонков по тарифам\n",
    "ax1 = smart['calls_sum'].plot(kind = 'hist', y = 'calls_sum', label = 'Длительность звонков для тарифа Smart', alpha = 0.5, bins = 20, figsize=(12,5), grid = True)\n",
    "ax2 = ultra['calls_sum'].plot(kind = 'hist', y = 'calls_sum', label = 'Длительность звонков для тарифа Ultra', alpha = 0.5, bins = 20, figsize=(12,5), grid = True)\n",
    "\n",
    "\n",
    "plt.suptitle('Гистограммы распределения длительности звонков для каждого тарифа')\n",
    "ax1.legend(loc = 'upper right')\n",
    "ax2.legend(loc = 'upper right')\n",
    "plt.xlabel('Минуты')\n",
    "plt.ylabel('Частота')\n",
    "plt.show()"
   ]
  },
  {
   "cell_type": "code",
   "execution_count": 77,
   "metadata": {},
   "outputs": [
    {
     "data": {
      "image/png": "[encoded data removed]",
      "text/plain": [
       "<Figure size 864x360 with 1 Axes>"
      ]
     },
     "metadata": {
      "needs_background": "light"
     },
     "output_type": "display_data"
    }
   ],
   "source": [
    "#построим диаграмму размаха длительности звонков для тарифа Smart\n",
    "smart['calls_sum'].plot.box(grid=True, figsize=(12,5))\n",
    "plt.suptitle('Диаграмма размаха длительности звонков для тарифа Smart')\n",
    "plt.xlabel('Минуты')\n",
    "plt.show()"
   ]
  },
  {
   "cell_type": "code",
   "execution_count": 78,
   "metadata": {},
   "outputs": [
    {
     "data": {
      "image/png": "[encoded data removed]",
      "text/plain": [
       "<Figure size 864x360 with 1 Axes>"
      ]
     },
     "metadata": {
      "needs_background": "light"
     },
     "output_type": "display_data"
    }
   ],
   "source": [
    "#построим диаграмму размаха длительности звонков для тарифа Ultra\n",
    "ultra['calls_sum'].plot.box(grid=True, figsize=(12,5))\n",
    "plt.suptitle('Диаграмма размаха длительности звонков для тарифа Ultra')\n",
    "plt.xlabel('Минуты')\n",
    "plt.show()"
   ]
  },
  {
   "cell_type": "code",
   "execution_count": 79,
   "metadata": {},
   "outputs": [
    {
     "data": {
      "image/png": "[encoded data removed]",
      "text/plain": [
       "<Figure size 864x360 with 1 Axes>"
      ]
     },
     "metadata": {
      "needs_background": "light"
     },
     "output_type": "display_data"
    }
   ],
   "source": [
    "#построим графики зависимости длительности звонков от месяца для каждого тарифа\n",
    "ax = smart.pivot_table(index ='month',\n",
    "                                             values = 'calls_sum').plot(y = 'calls_sum', label = 'Длительность звонков для тарифа Smart', figsize=(12,5), grid = True)\n",
    "ultra.pivot_table(index ='month',\n",
    "                                             values = 'calls_sum').plot(y = 'calls_sum', label = 'Длительность звонков для тарифа Ultra', ax = ax, figsize=(12,5), grid = True)\n",
    "\n",
    "plt.suptitle('Графики зависимости длительности звонков от месяца для каждого тарифа')\n",
    "plt.xlabel('Месяц')\n",
    "plt.ylabel('Длительность звонков')\n",
    "plt.ylim(bottom=0)\n",
    "plt.show()"
   ]
  },
  {
   "cell_type": "code",
   "execution_count": 80,
   "metadata": {},
   "outputs": [
    {
     "name": "stdout",
     "output_type": "stream",
     "text": [
      "Значение дисперсии длительности звонков для тарифа Smart:\n"
     ]
    },
    {
     "data": {
      "text/plain": [
       "37974.774627825"
      ]
     },
     "execution_count": 80,
     "metadata": {},
     "output_type": "execute_result"
    }
   ],
   "source": [
    "print('Значение дисперсии длительности звонков для тарифа Smart:')\n",
    "smart['calls_sum'].var()"
   ]
  },
  {
   "cell_type": "code",
   "execution_count": 81,
   "metadata": {},
   "outputs": [
    {
     "name": "stdout",
     "output_type": "stream",
     "text": [
      "Значение дисперсии длительности звонков для тарифа Ultra:\n"
     ]
    },
    {
     "data": {
      "text/plain": [
       "106105.72682307787"
      ]
     },
     "execution_count": 81,
     "metadata": {},
     "output_type": "execute_result"
    }
   ],
   "source": [
    "print('Значение дисперсии длительности звонков для тарифа Ultra:')\n",
    "ultra['calls_sum'].var()"
   ]
  },
  {
   "cell_type": "code",
   "execution_count": 82,
   "metadata": {},
   "outputs": [
    {
     "name": "stdout",
     "output_type": "stream",
     "text": [
      "Значение стандартного отклонения длительности звонков для тарифа Smart:\n"
     ]
    },
    {
     "data": {
      "text/plain": [
       "194.87117444051339"
      ]
     },
     "execution_count": 82,
     "metadata": {},
     "output_type": "execute_result"
    }
   ],
   "source": [
    "print('Значение стандартного отклонения длительности звонков для тарифа Smart:')\n",
    "smart['calls_sum'].std()"
   ]
  },
  {
   "cell_type": "code",
   "execution_count": 83,
   "metadata": {},
   "outputs": [
    {
     "name": "stdout",
     "output_type": "stream",
     "text": [
      "Значение стандартного отклонения длительности звонков для тарифа Ultra:\n"
     ]
    },
    {
     "data": {
      "text/plain": [
       "325.7387401324532"
      ]
     },
     "execution_count": 83,
     "metadata": {},
     "output_type": "execute_result"
    }
   ],
   "source": [
    "print('Значение стандартного отклонения длительности звонков для тарифа Ultra:')\n",
    "ultra['calls_sum'].std()"
   ]
  },
  {
   "cell_type": "markdown",
   "metadata": {},
   "source": [
    "### Вывод"
   ]
  },
  {
   "cell_type": "markdown",
   "metadata": {},
   "source": [
    "На данном шаге проанализируем, сколько минут разговора требуется пользователям каждого тарифа, посчитаем дисперсию и стандартное отклонение.\n",
    " - Среднее значение длительности звонков для тарифа Smart - 429 мин.\n",
    " - Среднее значение длительности звонков для тарифа Ultra - 540 мин.\n",
    " - Медианное значение длительности звонков для тарифа Smart - 435 мин.\n",
    " - Медианное значение длительности звонков для тарифа Ultra - 532 мин.\n",
    " - Значение дисперсии длительности звонков для тарифа Smart - 37974\n",
    " - Значение дисперсии длительности звонков для тарифа Ultra - 106105\n",
    " - Значение стандартного отклонения длительности звонков для тарифа Smart - 194\n",
    " - Значение стандартного отклонения длительности звонков для тарифа Ultra - 325\n",
    " \n",
    "Сравним среднее значение и медиану для каждого тарифа. Для тарифа Smart среднее значение немного меньше медианного, значит, набор данных немного скошен влево.  Для тарифа Ultra среднее значение больше медианного, значит, набор данных скошен вправо.\n",
    "\n",
    "Дисперсия значений для тарифа Ultra больше, чем для тарифа Smart.\n",
    "\n",
    "Построим гистограммы длительности телефонных разговоров. Гистограммы распределения длительности звонков ассиметричны, прослеживается скошенность вправа. \n",
    "\n",
    "Построим график изменения длительности в зависимости от месяца. Больше всего пользователи обоих тарифов разговаривают по телефону в декабре (что ожидаемо из-за закрытия года и праздников), меньше всего пользователи тарифа Smart разговаривают в январе, а пользователи тарифа Ultra в феврале. На графике также видим, что рост длительности звонков у пользователей тарифа Smart происходит более плавно, чем у пользователей тарифа Ultra.\n",
    "На диаграмме размаха длительности звонков также отображается скошенность вправо."
   ]
  },
  {
   "cell_type": "markdown",
   "metadata": {},
   "source": [
    "### Сколько сообщений требуется пользователям каждого тарифа в месяц"
   ]
  },
  {
   "cell_type": "code",
   "execution_count": 84,
   "metadata": {},
   "outputs": [
    {
     "name": "stdout",
     "output_type": "stream",
     "text": [
      "Среднее значение количества сообщений для тарифа Smart:\n"
     ]
    },
    {
     "data": {
      "text/plain": [
       "33.384028712427096"
      ]
     },
     "execution_count": 84,
     "metadata": {},
     "output_type": "execute_result"
    }
   ],
   "source": [
    "print('Среднее значение количества сообщений для тарифа Smart:')\n",
    "smart['messages_count'].mean()"
   ]
  },
  {
   "cell_type": "code",
   "execution_count": 85,
   "metadata": {},
   "outputs": [
    {
     "name": "stdout",
     "output_type": "stream",
     "text": [
      "Среднее значение количества сообщений для тарифа Ultra:\n"
     ]
    },
    {
     "data": {
      "text/plain": [
       "49.36345177664975"
      ]
     },
     "execution_count": 85,
     "metadata": {},
     "output_type": "execute_result"
    }
   ],
   "source": [
    "print('Среднее значение количества сообщений для тарифа Ultra:')\n",
    "ultra['messages_count'].mean()"
   ]
  },
  {
   "cell_type": "code",
   "execution_count": 86,
   "metadata": {},
   "outputs": [
    {
     "name": "stdout",
     "output_type": "stream",
     "text": [
      "Медианное значение количества сообщений для тарифа Smart:\n"
     ]
    },
    {
     "data": {
      "text/plain": [
       "28.0"
      ]
     },
     "execution_count": 86,
     "metadata": {},
     "output_type": "execute_result"
    }
   ],
   "source": [
    "print('Медианное значение количества сообщений для тарифа Smart:')\n",
    "smart['messages_count'].median()"
   ]
  },
  {
   "cell_type": "code",
   "execution_count": 87,
   "metadata": {},
   "outputs": [
    {
     "name": "stdout",
     "output_type": "stream",
     "text": [
      "Медианное значение количества сообщений для тарифа Ultra:\n"
     ]
    },
    {
     "data": {
      "text/plain": [
       "38.0"
      ]
     },
     "execution_count": 87,
     "metadata": {},
     "output_type": "execute_result"
    }
   ],
   "source": [
    "print('Медианное значение количества сообщений для тарифа Ultra:')\n",
    "ultra['messages_count'].median()"
   ]
  },
  {
   "cell_type": "code",
   "execution_count": 88,
   "metadata": {},
   "outputs": [
    {
     "data": {
      "image/png": "[encoded data removed]",
      "text/plain": [
       "<Figure size 864x360 with 1 Axes>"
      ]
     },
     "metadata": {
      "needs_background": "light"
     },
     "output_type": "display_data"
    }
   ],
   "source": [
    "#построим гистограммы распределения количества сообщений по тарифам\n",
    "ax1 = smart['messages_count'].plot(kind = 'hist', y = 'messages_count', label = 'Количество сообщений для тарифа Smart', alpha = 0.5, bins = 20, figsize=(12,5), grid = True)\n",
    "ax2 = ultra['messages_count'].plot(kind = 'hist', y = 'messages_count', label = 'Количество сообщений для тарифа Ultra', alpha = 0.5, bins = 20, figsize=(12,5), grid = True)\n",
    "\n",
    "\n",
    "plt.suptitle('Гистограммы распределения количества сообщений для каждого тарифа')\n",
    "ax1.legend(loc = 'upper right')\n",
    "ax2.legend(loc = 'upper right')\n",
    "plt.xlabel('Количество сообщений')\n",
    "plt.ylabel('Частота')\n",
    "plt.show()"
   ]
  },
  {
   "cell_type": "code",
   "execution_count": 89,
   "metadata": {},
   "outputs": [
    {
     "data": {
      "image/png": "[encoded data removed]",
      "text/plain": [
       "<Figure size 864x360 with 1 Axes>"
      ]
     },
     "metadata": {
      "needs_background": "light"
     },
     "output_type": "display_data"
    }
   ],
   "source": [
    "#построим диаграмму размаха количества сообщений для тарифа Smart\n",
    "smart['messages_count'].plot.box(grid=True, figsize=(12,5))\n",
    "plt.suptitle('Диаграмма размаха количества сообщений для тарифа Smart')\n",
    "plt.xlabel('Количество сообщений')\n",
    "plt.show()"
   ]
  },
  {
   "cell_type": "code",
   "execution_count": 90,
   "metadata": {},
   "outputs": [
    {
     "data": {
      "image/png": "[encoded data removed]",
      "text/plain": [
       "<Figure size 864x360 with 1 Axes>"
      ]
     },
     "metadata": {
      "needs_background": "light"
     },
     "output_type": "display_data"
    }
   ],
   "source": [
    "#построим диаграмму размаха количества сообщений для тарифа Ultra\n",
    "ultra['messages_count'].plot.box(grid=True, figsize=(12,5))\n",
    "plt.suptitle('Диаграмма размаха количества сообщений для тарифа Ultra')\n",
    "plt.xlabel('Количество сообщений')\n",
    "plt.show()"
   ]
  },
  {
   "cell_type": "code",
   "execution_count": 91,
   "metadata": {},
   "outputs": [
    {
     "data": {
      "image/png": "[encoded data removed]",
      "text/plain": [
       "<Figure size 864x360 with 1 Axes>"
      ]
     },
     "metadata": {
      "needs_background": "light"
     },
     "output_type": "display_data"
    }
   ],
   "source": [
    "#построим графики зависимости количества сообщений от месяца для каждого тарифа\n",
    "ax = smart.pivot_table(index ='month',\n",
    "                                             values = 'messages_count').plot(y = 'messages_count', label = 'Количество сообщений для тарифа Smart', figsize=(12,5), grid = True)\n",
    "ultra.pivot_table(index ='month',\n",
    "                                             values = 'messages_count').plot(y = 'messages_count', label = 'Количество сообщений для тарифа Ultra', ax = ax, figsize=(12,5), grid = True)\n",
    "\n",
    "plt.suptitle('Графики зависимости количества сообщений от месяца для каждого тарифа')\n",
    "plt.xlabel('Месяц')\n",
    "plt.ylabel('Количество сообщений')\n",
    "plt.ylim(bottom=0)\n",
    "plt.show()"
   ]
  },
  {
   "cell_type": "code",
   "execution_count": 92,
   "metadata": {},
   "outputs": [
    {
     "name": "stdout",
     "output_type": "stream",
     "text": [
      "Значение дисперсии количества сообщений для тарифа Smart:\n"
     ]
    },
    {
     "data": {
      "text/plain": [
       "796.8129584480083"
      ]
     },
     "execution_count": 92,
     "metadata": {},
     "output_type": "execute_result"
    }
   ],
   "source": [
    "print('Значение дисперсии количества сообщений для тарифа Smart:')\n",
    "smart['messages_count'].var()"
   ]
  },
  {
   "cell_type": "code",
   "execution_count": 93,
   "metadata": {},
   "outputs": [
    {
     "name": "stdout",
     "output_type": "stream",
     "text": [
      "Значение дисперсии количества сообщений для тарифа Ultra:\n"
     ]
    },
    {
     "data": {
      "text/plain": [
       "2285.266142544674"
      ]
     },
     "execution_count": 93,
     "metadata": {},
     "output_type": "execute_result"
    }
   ],
   "source": [
    "print('Значение дисперсии количества сообщений для тарифа Ultra:')\n",
    "ultra['messages_count'].var()"
   ]
  },
  {
   "cell_type": "code",
   "execution_count": 94,
   "metadata": {},
   "outputs": [
    {
     "name": "stdout",
     "output_type": "stream",
     "text": [
      "Значение стандартного отклонения количества сообщений для тарифа Smart:\n"
     ]
    },
    {
     "data": {
      "text/plain": [
       "28.22787555676141"
      ]
     },
     "execution_count": 94,
     "metadata": {},
     "output_type": "execute_result"
    }
   ],
   "source": [
    "print('Значение стандартного отклонения количества сообщений для тарифа Smart:')\n",
    "smart['messages_count'].std()"
   ]
  },
  {
   "cell_type": "code",
   "execution_count": 95,
   "metadata": {},
   "outputs": [
    {
     "name": "stdout",
     "output_type": "stream",
     "text": [
      "Значение стандартного отклонения количества сообщений для тарифа Ultra:\n"
     ]
    },
    {
     "data": {
      "text/plain": [
       "47.80445735017472"
      ]
     },
     "execution_count": 95,
     "metadata": {},
     "output_type": "execute_result"
    }
   ],
   "source": [
    "print('Значение стандартного отклонения количества сообщений для тарифа Ultra:')\n",
    "ultra['messages_count'].std()"
   ]
  },
  {
   "cell_type": "markdown",
   "metadata": {},
   "source": [
    "### Вывод"
   ]
  },
  {
   "cell_type": "markdown",
   "metadata": {},
   "source": [
    "На данном шаге проанализируем, сколько сообщений требуется пользователям каждого тарифа в месяц, посчитаем дисперсию и стандартное отклонение.\n",
    " - Среднее значение количества сообщений для тарифа Smart - 33\n",
    " - Среднее значение количества сообщений для тарифа Ultra - 49\n",
    " - Медианное значение количества сообщений для тарифа Smart - 28\n",
    " - Медианное значение количества сообщений для тарифа Ultra - 38\n",
    " - Значение дисперсии количества сообщений для тарифа Smart - 796\n",
    " - Значение дисперсии количества сообщений для тарифа Ultra - 2285\n",
    " - Значение стандартного отклонения количества сообщений для тарифа Smart - 28\n",
    " - Значение стандартного отклонения количества сообщений для тарифа Ultra - 47\n",
    "\n",
    "Сравним среднее значение и медиану для каждого тарифа. Для обоих тарифов среднее значение больше медианного, значит, набор данных скошен вправо.\n",
    "\n",
    "Дисперсия значений для тарифа Ultra больше, чем для тарифа Smart.\n",
    "\n",
    "Построим гистограммы распределения количества сообщений. Гистограммы распределения количества сообщений ассиметричны, прослеживается скошенность вправа. \n",
    "\n",
    "Построим график изменения количества сообщений в зависимости от месяца. Больше всего пользователи обоих тарифов отправляют сообщений в декабре (что также ожидаемо из-за закрытия года и праздников), меньше всего пользователи тарифа Smart отправляют сообщений в январе, а пользователи тарифа Ultra в феврале. На графике также видим, что рост количества сообщений у пользователей тарифа Smart происходит более плавно, чем у пользователей тарифа Ultra.\n",
    "На диаграмме размаха также отображается скошенность вправа."
   ]
  },
  {
   "cell_type": "markdown",
   "metadata": {},
   "source": [
    "### Какой объём интернет-трафика требуется пользователям каждого тарифа в месяц"
   ]
  },
  {
   "cell_type": "code",
   "execution_count": 96,
   "metadata": {},
   "outputs": [
    {
     "name": "stdout",
     "output_type": "stream",
     "text": [
      "Среднее значение объёма интернет-трафика для тарифа Smart:\n"
     ]
    },
    {
     "data": {
      "text/plain": [
       "16.365634813817856"
      ]
     },
     "execution_count": 96,
     "metadata": {},
     "output_type": "execute_result"
    }
   ],
   "source": [
    "print('Среднее значение объёма интернет-трафика для тарифа Smart:')\n",
    "smart['internet_sum_gb'].mean()"
   ]
  },
  {
   "cell_type": "code",
   "execution_count": 97,
   "metadata": {},
   "outputs": [
    {
     "name": "stdout",
     "output_type": "stream",
     "text": [
      "Среднее значение объёма интернет-трафика для тарифа Ultra:\n"
     ]
    },
    {
     "data": {
      "text/plain": [
       "19.528934010152284"
      ]
     },
     "execution_count": 97,
     "metadata": {},
     "output_type": "execute_result"
    }
   ],
   "source": [
    "print('Среднее значение объёма интернет-трафика для тарифа Ultra:')\n",
    "ultra['internet_sum_gb'].mean()"
   ]
  },
  {
   "cell_type": "code",
   "execution_count": 98,
   "metadata": {},
   "outputs": [
    {
     "name": "stdout",
     "output_type": "stream",
     "text": [
      "Медианное значение объёма интернет-трафика для тарифа Smart:\n"
     ]
    },
    {
     "data": {
      "text/plain": [
       "17.0"
      ]
     },
     "execution_count": 98,
     "metadata": {},
     "output_type": "execute_result"
    }
   ],
   "source": [
    "print('Медианное значение объёма интернет-трафика для тарифа Smart:')\n",
    "smart['internet_sum_gb'].median()"
   ]
  },
  {
   "cell_type": "code",
   "execution_count": 99,
   "metadata": {},
   "outputs": [
    {
     "name": "stdout",
     "output_type": "stream",
     "text": [
      "Медианное значение объёма интернет-трафика для тарифа Ultra:\n"
     ]
    },
    {
     "data": {
      "text/plain": [
       "19.0"
      ]
     },
     "execution_count": 99,
     "metadata": {},
     "output_type": "execute_result"
    }
   ],
   "source": [
    "print('Медианное значение объёма интернет-трафика для тарифа Ultra:')\n",
    "ultra['internet_sum_gb'].median()"
   ]
  },
  {
   "cell_type": "code",
   "execution_count": 100,
   "metadata": {},
   "outputs": [
    {
     "data": {
      "image/png": "[encoded data removed]",
      "text/plain": [
       "<Figure size 864x360 with 1 Axes>"
      ]
     },
     "metadata": {
      "needs_background": "light"
     },
     "output_type": "display_data"
    }
   ],
   "source": [
    "#построим гистограммы распределения объёма интернет-трафика по тарифам\n",
    "ax1 = smart['internet_sum_gb'].plot(kind = 'hist', y = 'internet_sum_gb', label = 'Объём интернет-трафика для тарифа Smart', alpha = 0.5, bins = 20, figsize=(12,5), grid = True)\n",
    "ax2 = ultra['internet_sum_gb'].plot(kind = 'hist', y = 'internet_sum_gb', label = 'Объём интернет-трафика для тарифа Ultra', alpha = 0.5, bins = 20, figsize=(12,5), grid = True)\n",
    "\n",
    "\n",
    "plt.suptitle('Гистограммы распределения объёма интернет-трафика для каждого тарифа')\n",
    "ax1.legend(loc = 'upper right')\n",
    "ax2.legend(loc = 'upper right')\n",
    "plt.xlabel('Объём интернет-трафика')\n",
    "plt.ylabel('Частота')\n",
    "plt.show()"
   ]
  },
  {
   "cell_type": "code",
   "execution_count": 101,
   "metadata": {},
   "outputs": [
    {
     "data": {
      "image/png": "[encoded data removed]",
      "text/plain": [
       "<Figure size 864x360 with 1 Axes>"
      ]
     },
     "metadata": {
      "needs_background": "light"
     },
     "output_type": "display_data"
    }
   ],
   "source": [
    "#построим диаграмму размаха объёма интернет-трафика для тарифа Smart\n",
    "smart['internet_sum_gb'].plot.box(grid=True, figsize=(12,5))\n",
    "plt.suptitle('Диаграмма размаха объёма интернет-трафика для тарифа Smart')\n",
    "plt.xlabel('Объём интернет-трафика ')\n",
    "plt.show()"
   ]
  },
  {
   "cell_type": "code",
   "execution_count": 102,
   "metadata": {},
   "outputs": [
    {
     "data": {
      "image/png": "[encoded data removed]",
      "text/plain": [
       "<Figure size 864x360 with 1 Axes>"
      ]
     },
     "metadata": {
      "needs_background": "light"
     },
     "output_type": "display_data"
    }
   ],
   "source": [
    "#построим диаграмму размаха объёма интернет-трафика для тарифа Ultra\n",
    "ultra['internet_sum_gb'].plot.box(grid=True, figsize=(12,5))\n",
    "plt.suptitle('Диаграмма размаха объёма интернет-трафика для тарифа Ultra')\n",
    "plt.xlabel('Объём интернет-трафика')\n",
    "plt.show()"
   ]
  },
  {
   "cell_type": "code",
   "execution_count": 103,
   "metadata": {},
   "outputs": [
    {
     "data": {
      "image/png": "[encoded data removed]",
      "text/plain": [
       "<Figure size 864x360 with 1 Axes>"
      ]
     },
     "metadata": {
      "needs_background": "light"
     },
     "output_type": "display_data"
    }
   ],
   "source": [
    "#построим графики зависимости количества сообщений от месяца для каждого тарифа\n",
    "ax = smart.pivot_table(index ='month',\n",
    "                                             values = 'internet_sum_gb').plot(y = 'internet_sum_gb', label = 'Объём интернет-трафика для тарифа Smart', figsize=(12,5), grid = True)\n",
    "ultra.pivot_table(index ='month',\n",
    "                                             values = 'internet_sum_gb').plot(y = 'internet_sum_gb', label = 'Объём интернет-трафика для тарифа Ultra', ax = ax, figsize=(12,5), grid = True)\n",
    "\n",
    "plt.suptitle('Графики зависимости объёма интернет-трафика от месяца для каждого тарифа')\n",
    "plt.xlabel('Месяц')\n",
    "plt.ylabel('Объём интернет-трафика ')\n",
    "plt.ylim(bottom=0)\n",
    "plt.show()"
   ]
  },
  {
   "cell_type": "code",
   "execution_count": 104,
   "metadata": {},
   "outputs": [
    {
     "name": "stdout",
     "output_type": "stream",
     "text": [
      "Значение дисперсии объёма интернет-трафика для тарифа Smart:\n"
     ]
    },
    {
     "data": {
      "text/plain": [
       "33.19255279476591"
      ]
     },
     "execution_count": 104,
     "metadata": {},
     "output_type": "execute_result"
    }
   ],
   "source": [
    "print('Значение дисперсии объёма интернет-трафика для тарифа Smart:')\n",
    "smart['internet_sum_gb'].var()"
   ]
  },
  {
   "cell_type": "code",
   "execution_count": 105,
   "metadata": {},
   "outputs": [
    {
     "name": "stdout",
     "output_type": "stream",
     "text": [
      "Значение дисперсии объёма интернет-трафика для тарифа Ultra:\n"
     ]
    },
    {
     "data": {
      "text/plain": [
       "97.27380628121001"
      ]
     },
     "execution_count": 105,
     "metadata": {},
     "output_type": "execute_result"
    }
   ],
   "source": [
    "print('Значение дисперсии объёма интернет-трафика для тарифа Ultra:')\n",
    "ultra['internet_sum_gb'].var()"
   ]
  },
  {
   "cell_type": "code",
   "execution_count": 106,
   "metadata": {},
   "outputs": [
    {
     "name": "stdout",
     "output_type": "stream",
     "text": [
      "Значение стандартного отклонения объёма интернет-трафика для тарифа Smart:\n"
     ]
    },
    {
     "data": {
      "text/plain": [
       "5.761297839442594"
      ]
     },
     "execution_count": 106,
     "metadata": {},
     "output_type": "execute_result"
    }
   ],
   "source": [
    "print('Значение стандартного отклонения объёма интернет-трафика для тарифа Smart:')\n",
    "smart['internet_sum_gb'].std()"
   ]
  },
  {
   "cell_type": "code",
   "execution_count": 107,
   "metadata": {},
   "outputs": [
    {
     "name": "stdout",
     "output_type": "stream",
     "text": [
      "Значение стандартного отклонения объёма интернет-трафика для тарифа Ultra:\n"
     ]
    },
    {
     "data": {
      "text/plain": [
       "9.862748414169856"
      ]
     },
     "execution_count": 107,
     "metadata": {},
     "output_type": "execute_result"
    }
   ],
   "source": [
    "print('Значение стандартного отклонения объёма интернет-трафика для тарифа Ultra:')\n",
    "ultra['internet_sum_gb'].std()"
   ]
  },
  {
   "cell_type": "markdown",
   "metadata": {},
   "source": [
    "### Вывод"
   ]
  },
  {
   "cell_type": "markdown",
   "metadata": {},
   "source": [
    "На данном шаге проанализируем, какой объём интернет-трафика требуется пользователям каждого тарифа в месяц, посчитаем дисперсию и стандартное отклонение.\n",
    " - Среднее значение количества сообщений для тарифа Smart - 16\n",
    " - Среднее значение количества сообщений для тарифа Ultra - 19.5\n",
    " - Медианное значение количества сообщений для тарифа Smart - 17\n",
    " - Медианное значение количества сообщений для тарифа Ultra - 19\n",
    " - Значение дисперсии количества сообщений для тарифа Smart - 33\n",
    " - Значение дисперсии количества сообщений для тарифа Ultra - 97\n",
    " - Значение стандартного отклонения количества сообщений для тарифа Smart - 5.7\n",
    " - Значение стандартного отклонения количества сообщений для тарифа Ultra - 9.8\n",
    "\n",
    "Сравним среднее значение и медиану для каждого тарифа. Для обоих тарифов среднее значение почти совпадает с медианным, то есть, если скошенность и есть, то незначительная.\n",
    "\n",
    "Дисперсия значений для тарифа Ultra больше, чем для тарифа Smart.\n",
    "\n",
    "Построим гистограммы распределения объёма интернет-трафика. Гистограммы распределения объёма интернет-трафика ассиметричны. \n",
    "\n",
    "Построим график изменения объёма интернет-трафика в зависимости от месяца. Больше всего пользователи обоих тарифов пользуются интернетом в декабре (также как и сообщениями, и звонками), меньше всего пользователи тарифа Smart пользуются интернетом в январе, а пользователи тарифа Ultra в феврале. На графике также видим, что рост объёма интернет-трафика у пользователей тарифа Smart происходит более плавно, чем у пользователей тарифа Ultra."
   ]
  },
  {
   "cell_type": "markdown",
   "metadata": {},
   "source": [
    "###  Распределение выручки по тарифам"
   ]
  },
  {
   "cell_type": "code",
   "execution_count": 108,
   "metadata": {},
   "outputs": [
    {
     "name": "stdout",
     "output_type": "stream",
     "text": [
      "Суммарная выручка для каждого тарифа:\n"
     ]
    },
    {
     "data": {
      "text/html": [
       "<div>\n",
       "<style scoped>\n",
       "    .dataframe tbody tr th:only-of-type {\n",
       "        vertical-align: middle;\n",
       "    }\n",
       "\n",
       "    .dataframe tbody tr th {\n",
       "        vertical-align: top;\n",
       "    }\n",
       "\n",
       "    .dataframe thead th {\n",
       "        text-align: right;\n",
       "    }\n",
       "</style>\n",
       "<table border=\"1\" class=\"dataframe\">\n",
       "  <thead>\n",
       "    <tr style=\"text-align: right;\">\n",
       "      <th>tariff</th>\n",
       "      <th>smart</th>\n",
       "      <th>ultra</th>\n",
       "    </tr>\n",
       "  </thead>\n",
       "  <tbody>\n",
       "    <tr>\n",
       "      <td>revenue_month</td>\n",
       "      <td>2925590</td>\n",
       "      <td>2040000</td>\n",
       "    </tr>\n",
       "  </tbody>\n",
       "</table>\n",
       "</div>"
      ],
      "text/plain": [
       "tariff           smart    ultra\n",
       "revenue_month  2925590  2040000"
      ]
     },
     "execution_count": 108,
     "metadata": {},
     "output_type": "execute_result"
    }
   ],
   "source": [
    "#сформируем сводную таблицу и подсчитаем суммарную выручку\n",
    "print('Суммарная выручка для каждого тарифа:')\n",
    "df.pivot_table(columns='tariff', values='revenue_month', aggfunc='sum')"
   ]
  },
  {
   "cell_type": "code",
   "execution_count": 109,
   "metadata": {},
   "outputs": [
    {
     "data": {
      "image/png": "[encoded data removed]",
      "text/plain": [
       "<Figure size 864x360 with 1 Axes>"
      ]
     },
     "metadata": {
      "needs_background": "light"
     },
     "output_type": "display_data"
    }
   ],
   "source": [
    "#построим гистограмму распределения выручки для тарифа Ultra\n",
    "df[df['tariff'] == 'ultra'].plot(kind = 'hist',\n",
    "                                                  y = 'revenue_month', label = 'Выручка для тарифа Ultra', alpha = 0.5, bins = 20, figsize=(12,5), grid = True)\n",
    "\n",
    "plt.suptitle('Гистограмма распределения выручки для тарифа Ultra')\n",
    "plt.xlabel('Выручка')\n",
    "plt.ylabel('Частота')\n",
    "plt.show()"
   ]
  },
  {
   "cell_type": "code",
   "execution_count": 110,
   "metadata": {},
   "outputs": [
    {
     "data": {
      "image/png": "[encoded data removed]",
      "text/plain": [
       "<Figure size 864x360 with 1 Axes>"
      ]
     },
     "metadata": {
      "needs_background": "light"
     },
     "output_type": "display_data"
    }
   ],
   "source": [
    "#построим гистограмму распределения выручки для тарифа Smart\n",
    "df[df['tariff'] == 'smart'].plot(kind = 'hist',\n",
    "                                                  y = 'revenue_month', label = 'Выручка для тарифа Smart', alpha = 0.5, bins = 20, figsize=(12,5), grid = True)\n",
    "\n",
    "plt.suptitle('Гистограмма распределения выручки для тарифа Smart')\n",
    "plt.xlabel('Выручка, руб.')\n",
    "plt.ylabel('Частота')\n",
    "plt.show()"
   ]
  },
  {
   "cell_type": "code",
   "execution_count": 111,
   "metadata": {},
   "outputs": [
    {
     "data": {
      "image/png": "[encoded data removed]",
      "text/plain": [
       "<Figure size 864x360 with 1 Axes>"
      ]
     },
     "metadata": {
      "needs_background": "light"
     },
     "output_type": "display_data"
    }
   ],
   "source": [
    "#отобразим два графика на одном для наглядности\n",
    "ax = df[df['tariff'] == 'ultra'].plot(kind = 'hist',\n",
    "                                                  y = 'revenue_month', label = 'Выручка для тарифа Ultra', alpha = 0.5, bins = 20, figsize=(12,5), grid = True)\n",
    "df[df['tariff'] == 'smart'].plot(kind = 'hist',\n",
    "                                                  y = 'revenue_month', label = 'Выручка для тарифа Smart', ax = ax, alpha = 0.5, bins = 20, figsize=(12,5), grid = True)\n",
    "\n",
    "plt.suptitle('Гистограмма распределения выручки по тарифам')\n",
    "plt.xlabel('Выручка')\n",
    "plt.ylabel('Частота')\n",
    "plt.show()"
   ]
  },
  {
   "cell_type": "markdown",
   "metadata": {},
   "source": [
    "### Вывод"
   ]
  },
  {
   "cell_type": "markdown",
   "metadata": {},
   "source": [
    "На данном шаге рассчитаем суммарную выручку для каждого тарифа. Для тарифа Smart выручка составляет 2 923 590, для тарифа Ultra 2 040 000.\n",
    "Построим гистограммы распределения выручки по тарифам. На гистограммах также отображается, что выручка от тарифа Smart больше, чем от тарифа Ultra."
   ]
  },
  {
   "cell_type": "markdown",
   "metadata": {},
   "source": [
    "## Проверим гипотезы <a id='Шаг4'></a>"
   ]
  },
  {
   "cell_type": "markdown",
   "metadata": {},
   "source": [
    "### Проверка гипотезы  - Cредняя выручка пользователей тарифов «Ультра» и «Смарт» различается"
   ]
  },
  {
   "cell_type": "markdown",
   "metadata": {},
   "source": [
    "Нулевая гипотеза H0 - Cредняя выручка пользователей тарифов Ultra и Smart равны, т.е равны средние значения\n",
    "\n",
    "\n",
    "Альтернативная гипотеза H1 - Cредняя выручка пользователей тарифов Ultra и Smart не равны, т.е не равны средние значения"
   ]
  },
  {
   "cell_type": "code",
   "execution_count": 112,
   "metadata": {},
   "outputs": [
    {
     "name": "stdout",
     "output_type": "stream",
     "text": [
      "Значение дисперсии для выборки p_ultra: 143491.24055961374\n",
      "Значение дисперсии для выборки p_smart: 690458.1619886545\n",
      "Разница дисперсий: 79.2%\n",
      "\n",
      "p-значение: 1.2496710269965528e-233\n",
      "Принимаем альтернативную гипотезу\n"
     ]
    }
   ],
   "source": [
    "#для проверки используем критерий p-value\n",
    "p_ultra = df[df['tariff'] == 'ultra']['revenue_month']\n",
    "p_smart = df[df['tariff'] == 'smart']['revenue_month']\n",
    "\n",
    "#cравним дисперсии двух выборок\n",
    "print('Значение дисперсии для выборки p_ultra:', p_ultra.var())\n",
    "print('Значение дисперсии для выборки p_smart:', p_smart.var())\n",
    "print('Разница дисперсий: {:.1%}'.format((p_smart.var()-p_ultra.var())/ p_smart.var()))\n",
    "\n",
    "print()\n",
    "\n",
    "#проверим гипотезу о равенстве среднего двух генеральных совокупностей \n",
    "results = st.ttest_ind(p_ultra, p_smart, equal_var = False)\n",
    "\n",
    "#критический уровень статистической значимости\n",
    "alpha = 0.05 \n",
    "\n",
    "print('p-значение:', results.pvalue)\n",
    "\n",
    "#сравним получившееся p-значение с заданным уровнем статистической значимости\n",
    "if results.pvalue < alpha:\n",
    "    print('Принимаем альтернативную гипотезу')\n",
    "else:\n",
    "    print('Не получилось отвергнуть нулевую гипотезу')"
   ]
  },
  {
   "cell_type": "markdown",
   "metadata": {},
   "source": [
    "### Вывод"
   ]
  },
  {
   "cell_type": "markdown",
   "metadata": {},
   "source": [
    "Сформулируем нулевую и альтернативную гипотезы.\n",
    " - Нулевая гипотеза H0 - Cредняя выручка пользователей тарифов «Ультра» и «Смарт» равны, т.е равны средние значения\n",
    " - Альтернативная гипотеза H1 - Cредняя выручка пользователей тарифов «Ультра» и «Смарт» не равны, т.е не равны средние значения\n",
    "\n",
    "До проведения проверки гипотезы cравним дисперсии двух выборок. Т.к. дисперсии различаются более чем на 5%, то считаем отличие значимым и выбираем параметр equal_var = False.\n",
    "Для проверки используем критерий p-value, в результате вычислений получаем p-значение значительно меньшее критического уровня статистической значимости и принимаем альтернативную гипотезу, т.е. принимаем, что средняя выручка пользователей тарифов Ultra и Smart не равны."
   ]
  },
  {
   "cell_type": "markdown",
   "metadata": {},
   "source": [
    "### Проверка гипотезы  - Cредняя выручка пользователей из Москвы отличается от выручки пользователей из других регионов"
   ]
  },
  {
   "cell_type": "code",
   "execution_count": 113,
   "metadata": {},
   "outputs": [
    {
     "data": {
      "text/html": [
       "<div>\n",
       "<style scoped>\n",
       "    .dataframe tbody tr th:only-of-type {\n",
       "        vertical-align: middle;\n",
       "    }\n",
       "\n",
       "    .dataframe tbody tr th {\n",
       "        vertical-align: top;\n",
       "    }\n",
       "\n",
       "    .dataframe thead th {\n",
       "        text-align: right;\n",
       "    }\n",
       "</style>\n",
       "<table border=\"1\" class=\"dataframe\">\n",
       "  <thead>\n",
       "    <tr style=\"text-align: right;\">\n",
       "      <th></th>\n",
       "      <th>user_id</th>\n",
       "      <th>month</th>\n",
       "      <th>calls_count</th>\n",
       "      <th>calls_sum</th>\n",
       "      <th>messages_count</th>\n",
       "      <th>internet_sum</th>\n",
       "      <th>internet_sum_gb</th>\n",
       "      <th>tariff</th>\n",
       "      <th>revenue_month</th>\n",
       "      <th>city</th>\n",
       "    </tr>\n",
       "  </thead>\n",
       "  <tbody>\n",
       "    <tr>\n",
       "      <td>0</td>\n",
       "      <td>1000</td>\n",
       "      <td>5</td>\n",
       "      <td>22.0</td>\n",
       "      <td>164.0</td>\n",
       "      <td>22.0</td>\n",
       "      <td>2257.0</td>\n",
       "      <td>3.0</td>\n",
       "      <td>ultra</td>\n",
       "      <td>1950</td>\n",
       "      <td>Краснодар</td>\n",
       "    </tr>\n",
       "    <tr>\n",
       "      <td>1</td>\n",
       "      <td>1000</td>\n",
       "      <td>6</td>\n",
       "      <td>43.0</td>\n",
       "      <td>187.0</td>\n",
       "      <td>60.0</td>\n",
       "      <td>23262.0</td>\n",
       "      <td>23.0</td>\n",
       "      <td>ultra</td>\n",
       "      <td>1950</td>\n",
       "      <td>Краснодар</td>\n",
       "    </tr>\n",
       "    <tr>\n",
       "      <td>2</td>\n",
       "      <td>1000</td>\n",
       "      <td>7</td>\n",
       "      <td>47.0</td>\n",
       "      <td>346.0</td>\n",
       "      <td>75.0</td>\n",
       "      <td>14017.0</td>\n",
       "      <td>14.0</td>\n",
       "      <td>ultra</td>\n",
       "      <td>1950</td>\n",
       "      <td>Краснодар</td>\n",
       "    </tr>\n",
       "    <tr>\n",
       "      <td>3</td>\n",
       "      <td>1000</td>\n",
       "      <td>8</td>\n",
       "      <td>52.0</td>\n",
       "      <td>418.0</td>\n",
       "      <td>81.0</td>\n",
       "      <td>14072.0</td>\n",
       "      <td>14.0</td>\n",
       "      <td>ultra</td>\n",
       "      <td>1950</td>\n",
       "      <td>Краснодар</td>\n",
       "    </tr>\n",
       "    <tr>\n",
       "      <td>4</td>\n",
       "      <td>1000</td>\n",
       "      <td>9</td>\n",
       "      <td>58.0</td>\n",
       "      <td>478.0</td>\n",
       "      <td>57.0</td>\n",
       "      <td>14583.0</td>\n",
       "      <td>15.0</td>\n",
       "      <td>ultra</td>\n",
       "      <td>1950</td>\n",
       "      <td>Краснодар</td>\n",
       "    </tr>\n",
       "  </tbody>\n",
       "</table>\n",
       "</div>"
      ],
      "text/plain": [
       "   user_id  month  calls_count  calls_sum  messages_count  internet_sum  \\\n",
       "0     1000      5         22.0      164.0            22.0        2257.0   \n",
       "1     1000      6         43.0      187.0            60.0       23262.0   \n",
       "2     1000      7         47.0      346.0            75.0       14017.0   \n",
       "3     1000      8         52.0      418.0            81.0       14072.0   \n",
       "4     1000      9         58.0      478.0            57.0       14583.0   \n",
       "\n",
       "   internet_sum_gb tariff  revenue_month       city  \n",
       "0              3.0  ultra           1950  Краснодар  \n",
       "1             23.0  ultra           1950  Краснодар  \n",
       "2             14.0  ultra           1950  Краснодар  \n",
       "3             14.0  ultra           1950  Краснодар  \n",
       "4             15.0  ultra           1950  Краснодар  "
      ]
     },
     "execution_count": 113,
     "metadata": {},
     "output_type": "execute_result"
    }
   ],
   "source": [
    "#добавим к набору данных df информацию о городе \n",
    "df = df.merge(df_users[['user_id', 'city']], on = 'user_id', how = 'left')\n",
    "df.head()"
   ]
  },
  {
   "cell_type": "markdown",
   "metadata": {},
   "source": [
    "Нулевая гипотеза H0 - Cредняя выручка пользователей из Москвы НЕ отличается от выручки пользователей из других регионов, т.е равны средние значения\n",
    "\n",
    "Альтернативная гипотеза  H1 - Cредняя выручка пользователей из Москвы отличается от выручки пользователей из других регионов, т.е не равны средние значения"
   ]
  },
  {
   "cell_type": "code",
   "execution_count": 114,
   "metadata": {},
   "outputs": [
    {
     "name": "stdout",
     "output_type": "stream",
     "text": [
      "Значение дисперсии для выборки p_moscow: 567332.0773309007\n",
      "Значение дисперсии для выборки p_another: 645069.7178656016\n",
      "Разница дисперсий: 12.1%\n",
      "\n",
      "p-значение: 0.6291588964939612\n",
      "Не получилось отвергнуть нулевую гипотезу\n"
     ]
    }
   ],
   "source": [
    "#для проверки используем критерий p-value\n",
    "p_moscow = df[df['city'] == 'Москва']['revenue_month']\n",
    "p_another = df[df['tariff'] != 'Москва']['revenue_month']\n",
    "\n",
    "#cравним дисперсии двух выборок\n",
    "print('Значение дисперсии для выборки p_moscow:', p_moscow.var())\n",
    "print('Значение дисперсии для выборки p_another:', p_another.var())\n",
    "print('Разница дисперсий: {:.1%}'.format((p_another.var()-p_moscow.var())/ p_another.var()))\n",
    "\n",
    "print()\n",
    "\n",
    "#проверим гипотезу о равенстве среднего двух генеральных совокупностей \n",
    "results = st.ttest_ind(p_moscow, p_another, equal_var = False)\n",
    "\n",
    "#критический уровень статистической значимости\n",
    "alpha = 0.05 \n",
    "\n",
    "print('p-значение:', results.pvalue)\n",
    "\n",
    "\n",
    "#сравним получившееся p-значение с заданным уровнем статистической значимости\n",
    "if results.pvalue < alpha:\n",
    "    print('Принимаем альтернативную гипотезу')\n",
    "else:\n",
    "    print('Не получилось отвергнуть нулевую гипотезу')"
   ]
  },
  {
   "cell_type": "markdown",
   "metadata": {},
   "source": [
    "### Вывод"
   ]
  },
  {
   "cell_type": "markdown",
   "metadata": {},
   "source": [
    "Сформулируем нулевую и альтернативную гипотезы. \n",
    "Нулевая гипотеза H0 - Cредняя выручка пользователей из Москвы НЕ отличается от выручки пользователей из других регионов, т.е равны средние значения\n",
    "\n",
    "Альтернативная гипотеза  H1 - Cредняя выручка пользователей из Москвы отличается от выручки пользователей из других регионов, т.е не равны средние значения.\n",
    "\n",
    "До проведения проверки гипотезы cравним дисперсии двух выборок. Т.к. дисперсии различаются более чем на 5%, то считаем отличие значимым и выбираем параметр equal_var = False.\n",
    "Для проверки используем критерий p-value, в результате вычислений получаем p-значение больше критического уровня статистической значимости и не отвергаем нулевую гипотезу, т.е. принимаем, что средняя выручка пользователей из Москвы НЕ отличается от выручки пользователей из других регионов."
   ]
  },
  {
   "cell_type": "markdown",
   "metadata": {},
   "source": [
    "## Общий вывод <a id='Шаг5'></a>"
   ]
  },
  {
   "cell_type": "markdown",
   "metadata": {},
   "source": [
    "В данном проекте перед нами стояла цель проанализировать поведение клиентов федерального оператора сотовой связи «Мегалайн» и понять, какой из двух тарифов приносит оператору больше денег.\n",
    "\n",
    "\n",
    "Мы изучили и подготовили данные к исследованию. В таблицах  'df_calls', 'df_messages', 'df_internet', 'df_tariffs' пропущенные значения отсутствовали. В таблице 'df_users' в столбце 'churn_date' значений было меньше, чем в остальных столбцах, но для таких случаев считали, что для пропущенных значений тариф ещё действовал на момент выгрузки данных, а у 38 пользователей из 500 тариф уже не действовал.\n",
    "\n",
    " - Для таблицы с информацией о пользователях 'df_users' скорректировали формат отображения дат для столбцов 'reg_date' и 'churn_date'. Добавили к набору данных столбцы с номером месяца и столбец с продолжительностью использования тарифа в днях.\n",
    " - Для таблицы с информацией о звонках 'df_calls' построили гистограмму. Гистограмма отображается с длинным хвостом на высоких значениях и пиковым значением на малых. Длительность многих звонков — 0.0 минут. Количество таких звонков с нулевой длительностью равна 39613, что составляет почти 20% от общего числа звонков.Это большой процент, такие значения не исключали, а заменили на единицу. Далее округлили значения длительности звонков вверх,т.к. в соответствии с условием «Мегалайн» всегда округляет вверх значения минут, и заменили вещественный тип данных на целочисленный для значений длительности звонков.\n",
    " - Для таблицы с информацией о сообщениях 'df_messages' скорректировали формат отображения дат и добавили к набору данных новый столбец с месяцем.\n",
    " - Для таблицы с информацией об интернет-сессиях построили гистограмму. Гистограмма отображается с длинным хвостом на высоких значениях и пиковым значением на малых. Объём некоторых интернет-сессий — 0 Мб. Количество таких интернет-сессий с нулевым объёмом равно 19598, что составляет 13,1 % от общего объёма интернет-сессий. Это большой процент, будем считать, что такие ситуации могли возникнуть, когда пользователь зашёл в интернет, но потом интернет-соединение оборвалось, например, когда пользователь поднимался/спускался на лифте. Такие значения не исключали, а заменили на единицу, также как и с длительностью звонков. Также округлили значения объёма потраченного за сессию интернет-трафика, т.к. в соответствии с условием «Мегалайн» всегда округляет вверх значения мегабайтов. Далее заменили вещественный тип данных на целочисленный, скорректировали формат отображения дат и добавили к набору данных новый столбец с месяцем.\n",
    " - Для таблицы с информацией о тарифах 'df_tariffs' добавили новый столбец, где для удобства перевели Мб в Гб.\n",
    "\n",
    "Далее для каждого пользователя посчитали количество сделанных звонков и израсходованных минут разговора по месяцам, количество отправленных сообщений по месяцам, объем израсходованного интернет-трафика по месяцам  при помощи сводных таблиц.\n",
    "Также подсчитали максимальное и минимальное значение для каждого из показателей.\n",
    " - Максимальное количество сделанных звонков - 244, минимальное количество сделанных звонков - 1\n",
    " - Максимальное количество израсходованных минут - 1727, минимальное количество израсходованных минут - 1\n",
    " - Максимальное количество отправленных сообщений - 224, минимальное количество отправленных сообщений - 1\n",
    " - Максимальный объём израсходанного интернет-трафика - 49.0, минимальный объём израсходанного интернет-трафика - 1.0\n",
    " \n",
    "\n",
    "Для вычисления выручки объедили таблицы в одну при помощи merge(): сначала объединили талицы с информацией о звонках и сообщениях, далее к объединённой добавили данные по интернету, и следом данные по тарифам. \n",
    "После объединения проверили количество уникальных пользователей, оно составляет 498 (из 500), значит, два пользователя не попали в новый набор. У данных пользователей дата подключения тарифа 'reg_date' и дата прекращения пользования тарифом 'churn_date' отличаются на восемь и пять дней соответственно, т.е.пользователи подключились к тарифу, и практически сразу прекратили им пользоваться. \n",
    "Далее вычислили пользователей, которые пользовались тарифом непродолжительное время, менее месяца, аналогично найденным двум пользователям. Таких пользователей оказалось трое, т.е. суммарно всего пять человек из 500 пользовались услугами оператора меньше месяца.\n",
    "\n",
    "Для вычисления помесячной выручки написали функцию, в которой подсчитали разницу между потраченным пользователем объёмом услуг и включенным в пакет, рассчитали дополнительную плату, если пользователь вышел за пределы пакета услуг и прибавили абонентскую плату, соответствующую тарифному плану.\n",
    "В итоге максимальное значение выручки 6824, минимальное - 550.\n",
    "\n",
    "\n",
    "После подсчитали, сколько минут разговора, сколько сообщений и какой объём интернет-трафика требуется пользователям каждого тарифа в месяц. Посчитали среднее количество, дисперсию и стандартное отклонение, построили гистограммы.\n",
    " - Проанализировали, сколько минут разговора требуется пользователям каждого тарифа, посчитали дисперсию и стандартное отклонение. Сравнили среднее значение и медиану для каждого тарифа. Для тарифа Smart среднее значение немного меньше медианного, значит, набор данных немного скошен влево.  Для тарифа Ultra среднее значение больше медианного, значит, набор данных скошен вправо. Дисперсия значений для тарифа Ultra больше, чем для тарифа Smart. Построили гистограммы длительности телефонных разговоров. Гистограммы распределения длительности звонков ассиметричны, прослеживается скошенность вправа. Построили график изменения длительности в зависимости от месяца. Больше всего пользователи обоих тарифов разговаривают по телефону в декабре (что ожидаемо из-за закрытия года и праздников), меньше всего пользователи тарифа Smart разговаривают в январе, а пользователи тарифа Ultra в феврале. На графике также отображается, что рост длительности звонков у пользователей тарифа Smart происходит более плавно, чем у пользователей тарифа Ultra. На диаграмме размаха длительности звонков также отображается скошенность вправо.\n",
    "  - Среднее значение длительности звонков для тарифа Smart - 429 мин.\n",
    "  - Среднее значение длительности звонков для тарифа Ultra - 540 мин.\n",
    "  - Медианное значение длительности звонков для тарифа Smart - 435 мин.\n",
    "  - Медианное значение длительности звонков для тарифа Ultra - 532 мин.\n",
    "  - Значение дисперсии длительности звонков для тарифа Smart - 37974\n",
    "  - Значение дисперсии длительности звонков для тарифа Ultra - 106105\n",
    "  - Значение стандартного отклонения длительности звонков для тарифа Smart - 194\n",
    "  - Значение стандартного отклонения длительности звонков для тарифа Ultra - 325\n",
    "\n",
    " - Подсчитали, сколько сообщений требуется пользователям каждого тарифа в месяц, посчитаем дисперсию и стандартное отклонение. Сравнили среднее значение и медиану для каждого тарифа. Для обоих тарифов среднее значение больше медианного, значит, набор данных скошен вправо. Дисперсия значений для тарифа Ultra больше, чем для тарифа Smart. Построили гистограммы распределения количества сообщений. Гистограммы распределения количества сообщений ассиметричны, прослеживается скошенность вправа. Построили график изменения количества сообщений в зависимости от месяца. Больше всего пользователи обоих тарифов отправляют сообщений в декабре (что также ожидаемо из-за закрытия года и праздников), меньше всего пользователи тарифа Smart отправляют сообщений в январе, а пользователи тарифа Ultra в феврале. На графике также отображается, что рост количества сообщений у пользователей тарифа Smart происходит более плавно, чем у пользователей тарифа Ultra. \n",
    "  - Среднее значение количества сообщений для тарифа Smart - 33\n",
    "  - Среднее значение количества сообщений для тарифа Ultra - 49\n",
    "  - Медианное значение количества сообщений для тарифа Smart - 28\n",
    "  - Медианное значение количества сообщений для тарифа Ultra - 38\n",
    "  - Значение дисперсии количества сообщений для тарифа Smart - 796\n",
    "  - Значение дисперсии количества сообщений для тарифа Ultra - 2285\n",
    "  - Значение стандартного отклонения количества сообщений для тарифа Smart - 28\n",
    "  - Значение стандартного отклонения количества сообщений для тарифа Ultra - 47\n",
    "\n",
    "\n",
    " - Проанализировали, какой объём интернет-трафика требуется пользователям каждого тарифа в месяц, посчитаем дисперсию и стандартное отклонение. Сравнили среднее значение и медиану для каждого тарифа. Для обоих тарифов среднее значение почти совпадает с медианным, то есть, если скошенность и есть, то незначительная. Дисперсия значений для тарифа Ultra больше, чем для тарифа Smart. Построили гистограммы распределения объёма интернет-трафика. Гистограммы распределения объёма интернет-трафика ассиметричны. Построили график изменения объёма интернет-трафика в зависимости от месяца. Больше всего пользователи обоих тарифов пользуются интернетом в декабре (также как и сообщениями, и звонками), меньше всего пользователи тарифа Smart пользуются интернетом в январе, а пользователи тарифа Ultra в феврале. На графике также отображается, что рост объёма интернет-трафика у пользователей тарифа Smart происходит более плавно, чем у пользователей тарифа Ultra.\n",
    "  - Среднее значение количества сообщений для тарифа Smart - 16\n",
    "  - Среднее значение количества сообщений для тарифа Ultra - 19.5\n",
    "  - Медианное значение количества сообщений для тарифа Smart - 17\n",
    "  - Медианное значение количества сообщений для тарифа Ultra - 19\n",
    "  - Значение дисперсии количества сообщений для тарифа Smart - 33\n",
    "  - Значение дисперсии количества сообщений для тарифа Ultra - 97\n",
    "  - Значение стандартного отклонения количества сообщений для тарифа Smart - 5.7\n",
    "  - Значение стандартного отклонения количества сообщений для тарифа Ultra - 9.8\n",
    " \n",
    "\n",
    "Далее рассчитали суммарную выручку для каждого тарифа. Для тарифа Smart выручка составляет 2 923 590, для тарифа Ultra 2 040 000. Построили гистограммы распределения выручки по тарифам. На гистограммах также отображается, что выручка от тарифа Smart больше, чем от тарифа Ultra.\n",
    "\n",
    "В завершении исследования сформулировали и проверили гипотезы.\n",
    " - Нулевая гипотеза H0 - Cредняя выручка пользователей тарифов «Ультра» и «Смарт» равны, т.е равны средние значения. Альтернативная гипотеза H1 - Cредняя выручка пользователей тарифов «Ультра» и «Смарт» не равны, т.е не равны средние значения.\n",
    "  - Для проверки использовали критерий p-value, в результате вычислений получили p-значение значительно меньшее критического уровня статистической значимости и приняли альтернативную гипотезу, т.е. что средняя выручка пользователей тарифов Ultra и Smart не равны.\n",
    " - Нулевая гипотеза H0 - Cредняя выручка пользователей из Москвы НЕ отличается от выручки пользователей из других регионов, т.е равны средние значения. Альтернативная гипотеза  H1 - Cредняя выручка пользователей из Москвы отличается от выручки пользователей из других регионов, т.е не равны средние значения.\n",
    "  - Для проверки использовали критерий p-value, в результате вычислений получили p-значение больше критического уровня статистической значимости и не отвергли нулевую гипотезу, т.е. допускаем, что средняя выручка пользователей из Москвы НЕ отличается от выручки пользователей из других регионов.\n",
    " \n",
    "В итоге можем сказать, что тариф Smart приносит оператору сотовой связи «Мегалайн» больше дохода, чем тариф Ultra. "
   ]
  }
 ],
 "metadata": {
  "ExecuteTimeLog": [
   {
    "duration": 312,
    "start_time": "2021-07-07T21:05:15.887Z"
   },
   {
    "duration": 1408,
    "start_time": "2021-07-07T21:05:23.554Z"
   },
   {
    "duration": 568,
    "start_time": "2021-07-07T21:05:24.965Z"
   },
   {
    "duration": 149,
    "start_time": "2021-07-07T21:05:25.536Z"
   },
   {
    "duration": 15,
    "start_time": "2021-07-07T21:05:25.689Z"
   },
   {
    "duration": 11,
    "start_time": "2021-07-07T21:05:25.707Z"
   },
   {
    "duration": 10,
    "start_time": "2021-07-07T21:05:25.755Z"
   },
   {
    "duration": 22,
    "start_time": "2021-07-07T21:05:25.767Z"
   },
   {
    "duration": 20,
    "start_time": "2021-07-07T21:05:25.793Z"
   },
   {
    "duration": 45,
    "start_time": "2021-07-07T21:05:25.816Z"
   },
   {
    "duration": 159,
    "start_time": "2021-07-07T21:05:25.863Z"
   },
   {
    "duration": 723,
    "start_time": "2021-07-07T21:05:26.025Z"
   },
   {
    "duration": 14,
    "start_time": "2021-07-07T21:05:26.755Z"
   },
   {
    "duration": 12,
    "start_time": "2021-07-07T21:05:26.772Z"
   },
   {
    "duration": 15,
    "start_time": "2021-07-07T21:05:26.787Z"
   },
   {
    "duration": 745,
    "start_time": "2021-07-07T21:05:26.805Z"
   },
   {
    "duration": 5,
    "start_time": "2021-07-07T21:05:27.555Z"
   },
   {
    "duration": 30,
    "start_time": "2021-07-07T21:05:27.562Z"
   },
   {
    "duration": 61,
    "start_time": "2021-07-07T21:05:27.595Z"
   },
   {
    "duration": 31,
    "start_time": "2021-07-07T21:05:27.659Z"
   },
   {
    "duration": 14,
    "start_time": "2021-07-07T21:05:27.693Z"
   },
   {
    "duration": 92,
    "start_time": "2021-07-07T21:05:27.709Z"
   },
   {
    "duration": 26,
    "start_time": "2021-07-07T21:05:27.804Z"
   },
   {
    "duration": 38,
    "start_time": "2021-07-07T21:05:27.836Z"
   },
   {
    "duration": 12,
    "start_time": "2021-07-07T21:05:27.878Z"
   },
   {
    "duration": 101,
    "start_time": "2021-07-07T21:05:27.893Z"
   },
   {
    "duration": 711,
    "start_time": "2021-07-07T21:05:27.996Z"
   },
   {
    "duration": 45,
    "start_time": "2021-07-07T21:05:28.710Z"
   },
   {
    "duration": 34,
    "start_time": "2021-07-07T21:05:28.758Z"
   },
   {
    "duration": 7,
    "start_time": "2021-07-07T21:05:28.794Z"
   },
   {
    "duration": 729,
    "start_time": "2021-07-07T21:05:28.803Z"
   },
   {
    "duration": 7,
    "start_time": "2021-07-07T21:05:29.535Z"
   },
   {
    "duration": 8,
    "start_time": "2021-07-07T21:05:29.556Z"
   },
   {
    "duration": 66,
    "start_time": "2021-07-07T21:05:29.567Z"
   },
   {
    "duration": 47,
    "start_time": "2021-07-07T21:05:29.636Z"
   },
   {
    "duration": 18,
    "start_time": "2021-07-07T21:05:29.686Z"
   },
   {
    "duration": 16,
    "start_time": "2021-07-07T21:05:29.708Z"
   },
   {
    "duration": 47,
    "start_time": "2021-07-07T21:05:29.727Z"
   },
   {
    "duration": 190,
    "start_time": "2021-07-07T21:05:29.777Z"
   },
   {
    "duration": 5,
    "start_time": "2021-07-07T21:05:29.970Z"
   },
   {
    "duration": 16,
    "start_time": "2021-07-07T21:05:29.978Z"
   },
   {
    "duration": 18,
    "start_time": "2021-07-07T21:05:29.996Z"
   },
   {
    "duration": 16,
    "start_time": "2021-07-07T21:05:30.017Z"
   },
   {
    "duration": 60,
    "start_time": "2021-07-07T21:05:30.035Z"
   },
   {
    "duration": 6,
    "start_time": "2021-07-07T21:05:30.097Z"
   },
   {
    "duration": 27,
    "start_time": "2021-07-07T21:05:30.106Z"
   },
   {
    "duration": 46,
    "start_time": "2021-07-07T21:05:30.136Z"
   },
   {
    "duration": 13,
    "start_time": "2021-07-07T21:05:30.184Z"
   },
   {
    "duration": 26,
    "start_time": "2021-07-07T21:05:30.200Z"
   },
   {
    "duration": 32,
    "start_time": "2021-07-07T21:05:30.228Z"
   },
   {
    "duration": 27,
    "start_time": "2021-07-07T21:05:30.262Z"
   },
   {
    "duration": 27,
    "start_time": "2021-07-07T21:05:30.291Z"
   },
   {
    "duration": 19,
    "start_time": "2021-07-07T21:05:30.320Z"
   },
   {
    "duration": 12,
    "start_time": "2021-07-07T21:05:30.342Z"
   },
   {
    "duration": 32,
    "start_time": "2021-07-07T21:05:30.356Z"
   },
   {
    "duration": 14,
    "start_time": "2021-07-07T21:05:30.391Z"
   },
   {
    "duration": 35,
    "start_time": "2021-07-07T21:05:30.408Z"
   },
   {
    "duration": 7,
    "start_time": "2021-07-07T21:05:30.454Z"
   },
   {
    "duration": 21,
    "start_time": "2021-07-07T21:05:30.463Z"
   },
   {
    "duration": 32,
    "start_time": "2021-07-07T21:05:30.487Z"
   },
   {
    "duration": 34,
    "start_time": "2021-07-07T21:05:30.522Z"
   },
   {
    "duration": 42,
    "start_time": "2021-07-07T21:05:30.559Z"
   },
   {
    "duration": 45,
    "start_time": "2021-07-07T21:05:30.603Z"
   },
   {
    "duration": 26,
    "start_time": "2021-07-07T21:05:30.651Z"
   },
   {
    "duration": 18074,
    "start_time": "2021-07-07T21:05:30.680Z"
   },
   {
    "duration": 6,
    "start_time": "2021-07-07T21:05:48.757Z"
   },
   {
    "duration": 22,
    "start_time": "2021-07-07T21:05:48.765Z"
   },
   {
    "duration": 10,
    "start_time": "2021-07-07T21:05:48.789Z"
   },
   {
    "duration": 5,
    "start_time": "2021-07-07T21:05:48.808Z"
   },
   {
    "duration": 42,
    "start_time": "2021-07-07T21:05:48.817Z"
   },
   {
    "duration": 44,
    "start_time": "2021-07-07T21:05:48.861Z"
   },
   {
    "duration": 59,
    "start_time": "2021-07-07T21:05:48.908Z"
   },
   {
    "duration": 7,
    "start_time": "2021-07-07T21:05:48.970Z"
   },
   {
    "duration": 17,
    "start_time": "2021-07-07T21:05:48.979Z"
   },
   {
    "duration": 8,
    "start_time": "2021-07-07T21:05:48.999Z"
   },
   {
    "duration": 50,
    "start_time": "2021-07-07T21:05:49.010Z"
   },
   {
    "duration": 535,
    "start_time": "2021-07-07T21:05:49.063Z"
   },
   {
    "duration": 324,
    "start_time": "2021-07-07T21:05:49.601Z"
   },
   {
    "duration": 320,
    "start_time": "2021-07-07T21:05:49.927Z"
   },
   {
    "duration": 428,
    "start_time": "2021-07-07T21:05:50.250Z"
   },
   {
    "duration": 7,
    "start_time": "2021-07-07T21:05:50.681Z"
   },
   {
    "duration": 27,
    "start_time": "2021-07-07T21:05:50.690Z"
   },
   {
    "duration": 17,
    "start_time": "2021-07-07T21:05:50.719Z"
   },
   {
    "duration": 22,
    "start_time": "2021-07-07T21:05:50.738Z"
   },
   {
    "duration": 31,
    "start_time": "2021-07-07T21:05:50.762Z"
   },
   {
    "duration": 22,
    "start_time": "2021-07-07T21:05:50.796Z"
   },
   {
    "duration": 21,
    "start_time": "2021-07-07T21:05:50.820Z"
   },
   {
    "duration": 21,
    "start_time": "2021-07-07T21:05:50.844Z"
   },
   {
    "duration": 515,
    "start_time": "2021-07-07T21:05:50.868Z"
   },
   {
    "duration": 325,
    "start_time": "2021-07-07T21:05:51.385Z"
   },
   {
    "duration": 317,
    "start_time": "2021-07-07T21:05:51.713Z"
   },
   {
    "duration": 431,
    "start_time": "2021-07-07T21:05:52.033Z"
   },
   {
    "duration": 9,
    "start_time": "2021-07-07T21:05:52.467Z"
   },
   {
    "duration": 17,
    "start_time": "2021-07-07T21:05:52.479Z"
   },
   {
    "duration": 23,
    "start_time": "2021-07-07T21:05:52.499Z"
   },
   {
    "duration": 35,
    "start_time": "2021-07-07T21:05:52.525Z"
   },
   {
    "duration": 21,
    "start_time": "2021-07-07T21:05:52.563Z"
   },
   {
    "duration": 25,
    "start_time": "2021-07-07T21:05:52.586Z"
   },
   {
    "duration": 23,
    "start_time": "2021-07-07T21:05:52.613Z"
   },
   {
    "duration": 20,
    "start_time": "2021-07-07T21:05:52.639Z"
   },
   {
    "duration": 533,
    "start_time": "2021-07-07T21:05:52.661Z"
   },
   {
    "duration": 323,
    "start_time": "2021-07-07T21:05:53.197Z"
   },
   {
    "duration": 388,
    "start_time": "2021-07-07T21:05:53.523Z"
   },
   {
    "duration": 475,
    "start_time": "2021-07-07T21:05:53.914Z"
   },
   {
    "duration": 10,
    "start_time": "2021-07-07T21:05:54.391Z"
   },
   {
    "duration": 17,
    "start_time": "2021-07-07T21:05:54.404Z"
   },
   {
    "duration": 34,
    "start_time": "2021-07-07T21:05:54.424Z"
   },
   {
    "duration": 18,
    "start_time": "2021-07-07T21:05:54.461Z"
   },
   {
    "duration": 29,
    "start_time": "2021-07-07T21:05:54.482Z"
   },
   {
    "duration": 682,
    "start_time": "2021-07-07T21:05:54.514Z"
   },
   {
    "duration": 446,
    "start_time": "2021-07-07T21:05:55.199Z"
   },
   {
    "duration": 521,
    "start_time": "2021-07-07T21:05:55.655Z"
   },
   {
    "duration": 17,
    "start_time": "2021-07-07T21:05:56.179Z"
   },
   {
    "duration": 37,
    "start_time": "2021-07-07T21:05:56.199Z"
   },
   {
    "duration": 40,
    "start_time": "2021-07-07T21:05:56.238Z"
   },
   {
    "duration": 20,
    "start_time": "2021-07-07T21:05:56.280Z"
   },
   {
    "duration": 1055,
    "start_time": "2021-11-17T17:00:02.577Z"
   },
   {
    "duration": 978,
    "start_time": "2021-11-17T17:00:03.634Z"
   },
   {
    "duration": 79,
    "start_time": "2021-11-17T17:00:04.614Z"
   },
   {
    "duration": 8,
    "start_time": "2021-11-17T17:00:04.695Z"
   },
   {
    "duration": 9,
    "start_time": "2021-11-17T17:00:04.705Z"
   },
   {
    "duration": 6,
    "start_time": "2021-11-17T17:00:04.716Z"
   },
   {
    "duration": 7,
    "start_time": "2021-11-17T17:00:04.723Z"
   },
   {
    "duration": 8,
    "start_time": "2021-11-17T17:00:04.732Z"
   },
   {
    "duration": 20,
    "start_time": "2021-11-17T17:00:04.741Z"
   },
   {
    "duration": 113,
    "start_time": "2021-11-17T17:00:04.763Z"
   },
   {
    "duration": 423,
    "start_time": "2021-11-17T17:00:04.877Z"
   },
   {
    "duration": 11,
    "start_time": "2021-11-17T17:00:05.302Z"
   },
   {
    "duration": 15,
    "start_time": "2021-11-17T17:00:05.315Z"
   },
   {
    "duration": 10,
    "start_time": "2021-11-17T17:00:05.331Z"
   },
   {
    "duration": 395,
    "start_time": "2021-11-17T17:00:05.342Z"
   },
   {
    "duration": 4,
    "start_time": "2021-11-17T17:00:05.739Z"
   },
   {
    "duration": 8,
    "start_time": "2021-11-17T17:00:05.745Z"
   },
   {
    "duration": 41,
    "start_time": "2021-11-17T17:00:05.755Z"
   },
   {
    "duration": 22,
    "start_time": "2021-11-17T17:00:05.797Z"
   },
   {
    "duration": 9,
    "start_time": "2021-11-17T17:00:05.820Z"
   },
   {
    "duration": 43,
    "start_time": "2021-11-17T17:00:05.831Z"
   },
   {
    "duration": 17,
    "start_time": "2021-11-17T17:00:05.887Z"
   },
   {
    "duration": 13,
    "start_time": "2021-11-17T17:00:05.908Z"
   },
   {
    "duration": 9,
    "start_time": "2021-11-17T17:00:05.923Z"
   },
   {
    "duration": 65,
    "start_time": "2021-11-17T17:00:05.933Z"
   },
   {
    "duration": 383,
    "start_time": "2021-11-17T17:00:06.000Z"
   },
   {
    "duration": 22,
    "start_time": "2021-11-17T17:00:06.388Z"
   },
   {
    "duration": 20,
    "start_time": "2021-11-17T17:00:06.412Z"
   },
   {
    "duration": 5,
    "start_time": "2021-11-17T17:00:06.433Z"
   },
   {
    "duration": 388,
    "start_time": "2021-11-17T17:00:06.440Z"
   },
   {
    "duration": 3,
    "start_time": "2021-11-17T17:00:06.830Z"
   },
   {
    "duration": 7,
    "start_time": "2021-11-17T17:00:06.835Z"
   },
   {
    "duration": 22,
    "start_time": "2021-11-17T17:00:06.843Z"
   },
   {
    "duration": 32,
    "start_time": "2021-11-17T17:00:06.866Z"
   },
   {
    "duration": 8,
    "start_time": "2021-11-17T17:00:06.900Z"
   },
   {
    "duration": 4,
    "start_time": "2021-11-17T17:00:06.910Z"
   },
   {
    "duration": 14,
    "start_time": "2021-11-17T17:00:06.916Z"
   },
   {
    "duration": 147,
    "start_time": "2021-11-17T17:00:06.932Z"
   },
   {
    "duration": 8,
    "start_time": "2021-11-17T17:00:07.080Z"
   },
   {
    "duration": 3,
    "start_time": "2021-11-17T17:00:07.090Z"
   },
   {
    "duration": 8,
    "start_time": "2021-11-17T17:00:07.095Z"
   },
   {
    "duration": 5,
    "start_time": "2021-11-17T17:00:07.104Z"
   },
   {
    "duration": 28,
    "start_time": "2021-11-17T17:00:07.110Z"
   },
   {
    "duration": 4,
    "start_time": "2021-11-17T17:00:07.140Z"
   },
   {
    "duration": 10,
    "start_time": "2021-11-17T17:00:07.145Z"
   },
   {
    "duration": 49,
    "start_time": "2021-11-17T17:00:07.157Z"
   },
   {
    "duration": 7,
    "start_time": "2021-11-17T17:00:07.207Z"
   },
   {
    "duration": 8,
    "start_time": "2021-11-17T17:00:07.216Z"
   },
   {
    "duration": 5,
    "start_time": "2021-11-17T17:00:07.225Z"
   },
   {
    "duration": 9,
    "start_time": "2021-11-17T17:00:07.231Z"
   },
   {
    "duration": 9,
    "start_time": "2021-11-17T17:00:07.241Z"
   },
   {
    "duration": 6,
    "start_time": "2021-11-17T17:00:07.251Z"
   },
   {
    "duration": 6,
    "start_time": "2021-11-17T17:00:07.258Z"
   },
   {
    "duration": 12,
    "start_time": "2021-11-17T17:00:07.288Z"
   },
   {
    "duration": 4,
    "start_time": "2021-11-17T17:00:07.301Z"
   },
   {
    "duration": 22,
    "start_time": "2021-11-17T17:00:07.307Z"
   },
   {
    "duration": 4,
    "start_time": "2021-11-17T17:00:07.330Z"
   },
   {
    "duration": 5,
    "start_time": "2021-11-17T17:00:07.336Z"
   },
   {
    "duration": 16,
    "start_time": "2021-11-17T17:00:07.342Z"
   },
   {
    "duration": 30,
    "start_time": "2021-11-17T17:00:07.359Z"
   },
   {
    "duration": 13,
    "start_time": "2021-11-17T17:00:07.390Z"
   },
   {
    "duration": 14,
    "start_time": "2021-11-17T17:00:07.404Z"
   },
   {
    "duration": 5,
    "start_time": "2021-11-17T17:00:07.419Z"
   },
   {
    "duration": 9004,
    "start_time": "2021-11-17T17:00:07.426Z"
   },
   {
    "duration": 4,
    "start_time": "2021-11-17T17:00:16.432Z"
   },
   {
    "duration": 16,
    "start_time": "2021-11-17T17:00:16.437Z"
   },
   {
    "duration": 18,
    "start_time": "2021-11-17T17:00:16.455Z"
   },
   {
    "duration": 21,
    "start_time": "2021-11-17T17:00:16.478Z"
   },
   {
    "duration": 7,
    "start_time": "2021-11-17T17:00:16.501Z"
   },
   {
    "duration": 27,
    "start_time": "2021-11-17T17:00:16.509Z"
   },
   {
    "duration": 19,
    "start_time": "2021-11-17T17:00:16.538Z"
   },
   {
    "duration": 4,
    "start_time": "2021-11-17T17:00:16.559Z"
   },
   {
    "duration": 20,
    "start_time": "2021-11-17T17:00:16.565Z"
   },
   {
    "duration": 7,
    "start_time": "2021-11-17T17:00:16.587Z"
   },
   {
    "duration": 11,
    "start_time": "2021-11-17T17:00:16.596Z"
   },
   {
    "duration": 287,
    "start_time": "2021-11-17T17:00:16.609Z"
   },
   {
    "duration": 168,
    "start_time": "2021-11-17T17:00:16.898Z"
   },
   {
    "duration": 172,
    "start_time": "2021-11-17T17:00:17.068Z"
   },
   {
    "duration": 234,
    "start_time": "2021-11-17T17:00:17.242Z"
   },
   {
    "duration": 4,
    "start_time": "2021-11-17T17:00:17.478Z"
   },
   {
    "duration": 20,
    "start_time": "2021-11-17T17:00:17.483Z"
   },
   {
    "duration": 19,
    "start_time": "2021-11-17T17:00:17.504Z"
   },
   {
    "duration": 23,
    "start_time": "2021-11-17T17:00:17.525Z"
   },
   {
    "duration": 24,
    "start_time": "2021-11-17T17:00:17.549Z"
   },
   {
    "duration": 20,
    "start_time": "2021-11-17T17:00:17.575Z"
   },
   {
    "duration": 15,
    "start_time": "2021-11-17T17:00:17.596Z"
   },
   {
    "duration": 16,
    "start_time": "2021-11-17T17:00:17.613Z"
   },
   {
    "duration": 284,
    "start_time": "2021-11-17T17:00:17.631Z"
   },
   {
    "duration": 174,
    "start_time": "2021-11-17T17:00:17.916Z"
   },
   {
    "duration": 176,
    "start_time": "2021-11-17T17:00:18.091Z"
   },
   {
    "duration": 245,
    "start_time": "2021-11-17T17:00:18.269Z"
   },
   {
    "duration": 5,
    "start_time": "2021-11-17T17:00:18.516Z"
   },
   {
    "duration": 20,
    "start_time": "2021-11-17T17:00:18.523Z"
   },
   {
    "duration": 15,
    "start_time": "2021-11-17T17:00:18.544Z"
   },
   {
    "duration": 15,
    "start_time": "2021-11-17T17:00:18.561Z"
   },
   {
    "duration": 25,
    "start_time": "2021-11-17T17:00:18.577Z"
   },
   {
    "duration": 22,
    "start_time": "2021-11-17T17:00:18.604Z"
   },
   {
    "duration": 20,
    "start_time": "2021-11-17T17:00:18.628Z"
   },
   {
    "duration": 14,
    "start_time": "2021-11-17T17:00:18.649Z"
   },
   {
    "duration": 317,
    "start_time": "2021-11-17T17:00:18.665Z"
   },
   {
    "duration": 181,
    "start_time": "2021-11-17T17:00:18.983Z"
   },
   {
    "duration": 243,
    "start_time": "2021-11-17T17:00:19.166Z"
   },
   {
    "duration": 258,
    "start_time": "2021-11-17T17:00:19.410Z"
   },
   {
    "duration": 5,
    "start_time": "2021-11-17T17:00:19.669Z"
   },
   {
    "duration": 15,
    "start_time": "2021-11-17T17:00:19.676Z"
   },
   {
    "duration": 6,
    "start_time": "2021-11-17T17:00:19.692Z"
   },
   {
    "duration": 15,
    "start_time": "2021-11-17T17:00:19.700Z"
   },
   {
    "duration": 15,
    "start_time": "2021-11-17T17:00:19.716Z"
   },
   {
    "duration": 259,
    "start_time": "2021-11-17T17:00:19.733Z"
   },
   {
    "duration": 245,
    "start_time": "2021-11-17T17:00:19.993Z"
   },
   {
    "duration": 304,
    "start_time": "2021-11-17T17:00:20.240Z"
   },
   {
    "duration": 10,
    "start_time": "2021-11-17T17:00:20.546Z"
   },
   {
    "duration": 31,
    "start_time": "2021-11-17T17:00:20.557Z"
   },
   {
    "duration": 12,
    "start_time": "2021-11-17T17:00:20.589Z"
   },
   {
    "duration": 970,
    "start_time": "2021-11-17T18:06:08.046Z"
   },
   {
    "duration": 365,
    "start_time": "2021-11-17T18:06:09.017Z"
   },
   {
    "duration": 77,
    "start_time": "2021-11-17T18:06:09.386Z"
   },
   {
    "duration": 26,
    "start_time": "2021-11-17T18:06:09.465Z"
   },
   {
    "duration": 6,
    "start_time": "2021-11-17T18:06:09.493Z"
   },
   {
    "duration": 5,
    "start_time": "2021-11-17T18:06:09.501Z"
   },
   {
    "duration": 5,
    "start_time": "2021-11-17T18:06:09.509Z"
   },
   {
    "duration": 5,
    "start_time": "2021-11-17T18:06:09.516Z"
   },
   {
    "duration": 17,
    "start_time": "2021-11-17T18:06:09.523Z"
   },
   {
    "duration": 116,
    "start_time": "2021-11-17T18:06:09.542Z"
   },
   {
    "duration": 387,
    "start_time": "2021-11-17T18:06:09.660Z"
   },
   {
    "duration": 10,
    "start_time": "2021-11-17T18:06:10.049Z"
   },
   {
    "duration": 8,
    "start_time": "2021-11-17T18:06:10.060Z"
   },
   {
    "duration": 20,
    "start_time": "2021-11-17T18:06:10.070Z"
   },
   {
    "duration": 384,
    "start_time": "2021-11-17T18:06:10.092Z"
   },
   {
    "duration": 10,
    "start_time": "2021-11-17T18:06:10.478Z"
   },
   {
    "duration": 6,
    "start_time": "2021-11-17T18:06:10.489Z"
   },
   {
    "duration": 29,
    "start_time": "2021-11-17T18:06:10.497Z"
   },
   {
    "duration": 22,
    "start_time": "2021-11-17T18:06:10.528Z"
   },
   {
    "duration": 10,
    "start_time": "2021-11-17T18:06:10.553Z"
   },
   {
    "duration": 38,
    "start_time": "2021-11-17T18:06:10.588Z"
   },
   {
    "duration": 17,
    "start_time": "2021-11-17T18:06:10.630Z"
   },
   {
    "duration": 13,
    "start_time": "2021-11-17T18:06:10.650Z"
   },
   {
    "duration": 29,
    "start_time": "2021-11-17T18:06:10.665Z"
   },
   {
    "duration": 46,
    "start_time": "2021-11-17T18:06:10.696Z"
   },
   {
    "duration": 373,
    "start_time": "2021-11-17T18:06:10.744Z"
   },
   {
    "duration": 23,
    "start_time": "2021-11-17T18:06:11.119Z"
   },
   {
    "duration": 22,
    "start_time": "2021-11-17T18:06:11.144Z"
   },
   {
    "duration": 7,
    "start_time": "2021-11-17T18:06:11.187Z"
   },
   {
    "duration": 367,
    "start_time": "2021-11-17T18:06:11.195Z"
   },
   {
    "duration": 5,
    "start_time": "2021-11-17T18:06:11.563Z"
   },
   {
    "duration": 19,
    "start_time": "2021-11-17T18:06:11.569Z"
   },
   {
    "duration": 20,
    "start_time": "2021-11-17T18:06:11.589Z"
   },
   {
    "duration": 16,
    "start_time": "2021-11-17T18:06:11.611Z"
   },
   {
    "duration": 9,
    "start_time": "2021-11-17T18:06:11.628Z"
   },
   {
    "duration": 5,
    "start_time": "2021-11-17T18:06:11.638Z"
   },
   {
    "duration": 44,
    "start_time": "2021-11-17T18:06:11.645Z"
   },
   {
    "duration": 128,
    "start_time": "2021-11-17T18:06:11.690Z"
   },
   {
    "duration": 4,
    "start_time": "2021-11-17T18:06:11.820Z"
   },
   {
    "duration": 5,
    "start_time": "2021-11-17T18:06:11.825Z"
   },
   {
    "duration": 7,
    "start_time": "2021-11-17T18:06:11.832Z"
   },
   {
    "duration": 6,
    "start_time": "2021-11-17T18:06:11.840Z"
   },
   {
    "duration": 45,
    "start_time": "2021-11-17T18:06:11.847Z"
   },
   {
    "duration": 3,
    "start_time": "2021-11-17T18:06:11.893Z"
   },
   {
    "duration": 6,
    "start_time": "2021-11-17T18:06:11.898Z"
   },
   {
    "duration": 23,
    "start_time": "2021-11-17T18:06:11.905Z"
   },
   {
    "duration": 7,
    "start_time": "2021-11-17T18:06:11.930Z"
   },
   {
    "duration": 9,
    "start_time": "2021-11-17T18:06:11.938Z"
   },
   {
    "duration": 6,
    "start_time": "2021-11-17T18:06:11.949Z"
   },
   {
    "duration": 6,
    "start_time": "2021-11-17T18:06:11.956Z"
   },
   {
    "duration": 5,
    "start_time": "2021-11-17T18:06:11.987Z"
   },
   {
    "duration": 5,
    "start_time": "2021-11-17T18:06:11.993Z"
   },
   {
    "duration": 6,
    "start_time": "2021-11-17T18:06:11.999Z"
   },
   {
    "duration": 12,
    "start_time": "2021-11-17T18:06:12.007Z"
   },
   {
    "duration": 4,
    "start_time": "2021-11-17T18:06:12.020Z"
   },
   {
    "duration": 14,
    "start_time": "2021-11-17T18:06:12.025Z"
   },
   {
    "duration": 4,
    "start_time": "2021-11-17T18:06:12.040Z"
   },
   {
    "duration": 44,
    "start_time": "2021-11-17T18:06:12.045Z"
   },
   {
    "duration": 16,
    "start_time": "2021-11-17T18:06:12.090Z"
   },
   {
    "duration": 10,
    "start_time": "2021-11-17T18:06:12.107Z"
   },
   {
    "duration": 11,
    "start_time": "2021-11-17T18:06:12.119Z"
   },
   {
    "duration": 19,
    "start_time": "2021-11-17T18:06:12.132Z"
   },
   {
    "duration": 4,
    "start_time": "2021-11-17T18:06:12.152Z"
   },
   {
    "duration": 8885,
    "start_time": "2021-11-17T18:06:12.158Z"
   },
   {
    "duration": 4,
    "start_time": "2021-11-17T18:06:21.044Z"
   },
   {
    "duration": 15,
    "start_time": "2021-11-17T18:06:21.050Z"
   },
   {
    "duration": 18,
    "start_time": "2021-11-17T18:06:21.070Z"
   },
   {
    "duration": 3,
    "start_time": "2021-11-17T18:06:21.090Z"
   },
   {
    "duration": 10,
    "start_time": "2021-11-17T18:06:21.094Z"
   },
   {
    "duration": 24,
    "start_time": "2021-11-17T18:06:21.105Z"
   },
   {
    "duration": 20,
    "start_time": "2021-11-17T18:06:21.130Z"
   },
   {
    "duration": 4,
    "start_time": "2021-11-17T18:06:21.152Z"
   },
   {
    "duration": 6,
    "start_time": "2021-11-17T18:06:21.157Z"
   },
   {
    "duration": 10,
    "start_time": "2021-11-17T18:06:21.188Z"
   },
   {
    "duration": 5,
    "start_time": "2021-11-17T18:06:21.200Z"
   },
   {
    "duration": 287,
    "start_time": "2021-11-17T18:06:21.207Z"
   },
   {
    "duration": 169,
    "start_time": "2021-11-17T18:06:21.495Z"
   },
   {
    "duration": 168,
    "start_time": "2021-11-17T18:06:21.665Z"
   },
   {
    "duration": 240,
    "start_time": "2021-11-17T18:06:21.835Z"
   },
   {
    "duration": 13,
    "start_time": "2021-11-17T18:06:22.076Z"
   },
   {
    "duration": 8,
    "start_time": "2021-11-17T18:06:22.090Z"
   },
   {
    "duration": 6,
    "start_time": "2021-11-17T18:06:22.099Z"
   },
   {
    "duration": 9,
    "start_time": "2021-11-17T18:06:22.106Z"
   },
   {
    "duration": 6,
    "start_time": "2021-11-17T18:06:22.116Z"
   },
   {
    "duration": 5,
    "start_time": "2021-11-17T18:06:22.124Z"
   },
   {
    "duration": 8,
    "start_time": "2021-11-17T18:06:22.131Z"
   },
   {
    "duration": 7,
    "start_time": "2021-11-17T18:06:22.140Z"
   },
   {
    "duration": 327,
    "start_time": "2021-11-17T18:06:22.149Z"
   },
   {
    "duration": 179,
    "start_time": "2021-11-17T18:06:22.477Z"
   },
   {
    "duration": 176,
    "start_time": "2021-11-17T18:06:22.657Z"
   },
   {
    "duration": 247,
    "start_time": "2021-11-17T18:06:22.835Z"
   },
   {
    "duration": 6,
    "start_time": "2021-11-17T18:06:23.084Z"
   },
   {
    "duration": 8,
    "start_time": "2021-11-17T18:06:23.091Z"
   },
   {
    "duration": 12,
    "start_time": "2021-11-17T18:06:23.101Z"
   },
   {
    "duration": 5,
    "start_time": "2021-11-17T18:06:23.115Z"
   },
   {
    "duration": 6,
    "start_time": "2021-11-17T18:06:23.121Z"
   },
   {
    "duration": 5,
    "start_time": "2021-11-17T18:06:23.129Z"
   },
   {
    "duration": 6,
    "start_time": "2021-11-17T18:06:23.135Z"
   },
   {
    "duration": 46,
    "start_time": "2021-11-17T18:06:23.143Z"
   },
   {
    "duration": 291,
    "start_time": "2021-11-17T18:06:23.191Z"
   },
   {
    "duration": 172,
    "start_time": "2021-11-17T18:06:23.487Z"
   },
   {
    "duration": 256,
    "start_time": "2021-11-17T18:06:23.661Z"
   },
   {
    "duration": 245,
    "start_time": "2021-11-17T18:06:23.918Z"
   },
   {
    "duration": 5,
    "start_time": "2021-11-17T18:06:24.164Z"
   },
   {
    "duration": 20,
    "start_time": "2021-11-17T18:06:24.170Z"
   },
   {
    "duration": 7,
    "start_time": "2021-11-17T18:06:24.191Z"
   },
   {
    "duration": 15,
    "start_time": "2021-11-17T18:06:24.199Z"
   },
   {
    "duration": 22,
    "start_time": "2021-11-17T18:06:24.215Z"
   },
   {
    "duration": 258,
    "start_time": "2021-11-17T18:06:24.239Z"
   },
   {
    "duration": 263,
    "start_time": "2021-11-17T18:06:24.499Z"
   },
   {
    "duration": 309,
    "start_time": "2021-11-17T18:06:24.764Z"
   },
   {
    "duration": 18,
    "start_time": "2021-11-17T18:06:25.075Z"
   },
   {
    "duration": 16,
    "start_time": "2021-11-17T18:06:25.094Z"
   },
   {
    "duration": 10,
    "start_time": "2021-11-17T18:06:25.112Z"
   },
   {
    "duration": 1061,
    "start_time": "2021-11-17T18:37:25.260Z"
   },
   {
    "duration": 380,
    "start_time": "2021-11-17T18:37:26.325Z"
   },
   {
    "duration": 85,
    "start_time": "2021-11-17T18:37:26.707Z"
   },
   {
    "duration": 9,
    "start_time": "2021-11-17T18:37:26.793Z"
   },
   {
    "duration": 12,
    "start_time": "2021-11-17T18:37:26.803Z"
   },
   {
    "duration": 7,
    "start_time": "2021-11-17T18:37:26.817Z"
   },
   {
    "duration": 8,
    "start_time": "2021-11-17T18:37:26.826Z"
   },
   {
    "duration": 7,
    "start_time": "2021-11-17T18:37:26.835Z"
   },
   {
    "duration": 18,
    "start_time": "2021-11-17T18:37:26.844Z"
   },
   {
    "duration": 92,
    "start_time": "2021-11-17T18:37:26.864Z"
   },
   {
    "duration": 394,
    "start_time": "2021-11-17T18:37:26.958Z"
   },
   {
    "duration": 9,
    "start_time": "2021-11-17T18:37:27.354Z"
   },
   {
    "duration": 23,
    "start_time": "2021-11-17T18:37:27.365Z"
   },
   {
    "duration": 6,
    "start_time": "2021-11-17T18:37:27.389Z"
   },
   {
    "duration": 381,
    "start_time": "2021-11-17T18:37:27.397Z"
   },
   {
    "duration": 9,
    "start_time": "2021-11-17T18:37:27.780Z"
   },
   {
    "duration": 10,
    "start_time": "2021-11-17T18:37:27.791Z"
   },
   {
    "duration": 30,
    "start_time": "2021-11-17T18:37:27.803Z"
   },
   {
    "duration": 21,
    "start_time": "2021-11-17T18:37:27.835Z"
   },
   {
    "duration": 8,
    "start_time": "2021-11-17T18:37:27.857Z"
   },
   {
    "duration": 57,
    "start_time": "2021-11-17T18:37:27.867Z"
   },
   {
    "duration": 16,
    "start_time": "2021-11-17T18:37:27.928Z"
   },
   {
    "duration": 14,
    "start_time": "2021-11-17T18:37:27.946Z"
   },
   {
    "duration": 8,
    "start_time": "2021-11-17T18:37:27.961Z"
   },
   {
    "duration": 41,
    "start_time": "2021-11-17T18:37:27.988Z"
   },
   {
    "duration": 390,
    "start_time": "2021-11-17T18:37:28.030Z"
   },
   {
    "duration": 23,
    "start_time": "2021-11-17T18:37:28.421Z"
   },
   {
    "duration": 21,
    "start_time": "2021-11-17T18:37:28.446Z"
   },
   {
    "duration": 22,
    "start_time": "2021-11-17T18:37:28.469Z"
   },
   {
    "duration": 381,
    "start_time": "2021-11-17T18:37:28.493Z"
   },
   {
    "duration": 3,
    "start_time": "2021-11-17T18:37:28.876Z"
   },
   {
    "duration": 10,
    "start_time": "2021-11-17T18:37:28.880Z"
   },
   {
    "duration": 28,
    "start_time": "2021-11-17T18:37:28.891Z"
   },
   {
    "duration": 15,
    "start_time": "2021-11-17T18:37:28.920Z"
   },
   {
    "duration": 8,
    "start_time": "2021-11-17T18:37:28.936Z"
   },
   {
    "duration": 5,
    "start_time": "2021-11-17T18:37:28.945Z"
   },
   {
    "duration": 16,
    "start_time": "2021-11-17T18:37:28.951Z"
   },
   {
    "duration": 135,
    "start_time": "2021-11-17T18:37:28.968Z"
   },
   {
    "duration": 4,
    "start_time": "2021-11-17T18:37:29.104Z"
   },
   {
    "duration": 9,
    "start_time": "2021-11-17T18:37:29.109Z"
   },
   {
    "duration": 9,
    "start_time": "2021-11-17T18:37:29.119Z"
   },
   {
    "duration": 5,
    "start_time": "2021-11-17T18:37:29.129Z"
   },
   {
    "duration": 29,
    "start_time": "2021-11-17T18:37:29.135Z"
   },
   {
    "duration": 3,
    "start_time": "2021-11-17T18:37:29.165Z"
   },
   {
    "duration": 20,
    "start_time": "2021-11-17T18:37:29.169Z"
   },
   {
    "duration": 25,
    "start_time": "2021-11-17T18:37:29.191Z"
   },
   {
    "duration": 7,
    "start_time": "2021-11-17T18:37:29.217Z"
   },
   {
    "duration": 13,
    "start_time": "2021-11-17T18:37:29.226Z"
   },
   {
    "duration": 11,
    "start_time": "2021-11-17T18:37:29.240Z"
   },
   {
    "duration": 9,
    "start_time": "2021-11-17T18:37:29.252Z"
   },
   {
    "duration": 10,
    "start_time": "2021-11-17T18:37:29.262Z"
   },
   {
    "duration": 14,
    "start_time": "2021-11-17T18:37:29.273Z"
   },
   {
    "duration": 4,
    "start_time": "2021-11-17T18:37:29.289Z"
   },
   {
    "duration": 16,
    "start_time": "2021-11-17T18:37:29.294Z"
   },
   {
    "duration": 4,
    "start_time": "2021-11-17T18:37:29.311Z"
   },
   {
    "duration": 20,
    "start_time": "2021-11-17T18:37:29.316Z"
   },
   {
    "duration": 4,
    "start_time": "2021-11-17T18:37:29.337Z"
   },
   {
    "duration": 9,
    "start_time": "2021-11-17T18:37:29.342Z"
   },
   {
    "duration": 14,
    "start_time": "2021-11-17T18:37:29.352Z"
   },
   {
    "duration": 29,
    "start_time": "2021-11-17T18:37:29.367Z"
   },
   {
    "duration": 11,
    "start_time": "2021-11-17T18:37:29.397Z"
   },
   {
    "duration": 18,
    "start_time": "2021-11-17T18:37:29.409Z"
   },
   {
    "duration": 5,
    "start_time": "2021-11-17T18:37:29.428Z"
   },
   {
    "duration": 8855,
    "start_time": "2021-11-17T18:37:29.435Z"
   },
   {
    "duration": 4,
    "start_time": "2021-11-17T18:37:38.291Z"
   },
   {
    "duration": 30,
    "start_time": "2021-11-17T18:37:38.297Z"
   },
   {
    "duration": 18,
    "start_time": "2021-11-17T18:37:38.332Z"
   },
   {
    "duration": 20,
    "start_time": "2021-11-17T18:37:38.353Z"
   },
   {
    "duration": 18,
    "start_time": "2021-11-17T18:37:38.375Z"
   },
   {
    "duration": 34,
    "start_time": "2021-11-17T18:37:38.394Z"
   },
   {
    "duration": 19,
    "start_time": "2021-11-17T18:37:38.430Z"
   },
   {
    "duration": 5,
    "start_time": "2021-11-17T18:37:38.450Z"
   },
   {
    "duration": 19,
    "start_time": "2021-11-17T18:37:38.456Z"
   },
   {
    "duration": 12,
    "start_time": "2021-11-17T18:37:38.477Z"
   },
   {
    "duration": 14,
    "start_time": "2021-11-17T18:37:38.491Z"
   },
   {
    "duration": 292,
    "start_time": "2021-11-17T18:37:38.506Z"
   },
   {
    "duration": 176,
    "start_time": "2021-11-17T18:37:38.800Z"
   },
   {
    "duration": 171,
    "start_time": "2021-11-17T18:37:38.978Z"
   },
   {
    "duration": 240,
    "start_time": "2021-11-17T18:37:39.150Z"
   },
   {
    "duration": 5,
    "start_time": "2021-11-17T18:37:39.391Z"
   },
   {
    "duration": 6,
    "start_time": "2021-11-17T18:37:39.398Z"
   },
   {
    "duration": 8,
    "start_time": "2021-11-17T18:37:39.405Z"
   },
   {
    "duration": 7,
    "start_time": "2021-11-17T18:37:39.414Z"
   },
   {
    "duration": 5,
    "start_time": "2021-11-17T18:37:39.423Z"
   },
   {
    "duration": 10,
    "start_time": "2021-11-17T18:37:39.430Z"
   },
   {
    "duration": 6,
    "start_time": "2021-11-17T18:37:39.442Z"
   },
   {
    "duration": 40,
    "start_time": "2021-11-17T18:37:39.450Z"
   },
   {
    "duration": 324,
    "start_time": "2021-11-17T18:37:39.492Z"
   },
   {
    "duration": 175,
    "start_time": "2021-11-17T18:37:39.817Z"
   },
   {
    "duration": 163,
    "start_time": "2021-11-17T18:37:39.994Z"
   },
   {
    "duration": 234,
    "start_time": "2021-11-17T18:37:40.159Z"
   },
   {
    "duration": 4,
    "start_time": "2021-11-17T18:37:40.395Z"
   },
   {
    "duration": 10,
    "start_time": "2021-11-17T18:37:40.400Z"
   },
   {
    "duration": 7,
    "start_time": "2021-11-17T18:37:40.412Z"
   },
   {
    "duration": 4,
    "start_time": "2021-11-17T18:37:40.421Z"
   },
   {
    "duration": 8,
    "start_time": "2021-11-17T18:37:40.427Z"
   },
   {
    "duration": 13,
    "start_time": "2021-11-17T18:37:40.436Z"
   },
   {
    "duration": 6,
    "start_time": "2021-11-17T18:37:40.451Z"
   },
   {
    "duration": 34,
    "start_time": "2021-11-17T18:37:40.458Z"
   },
   {
    "duration": 300,
    "start_time": "2021-11-17T18:37:40.493Z"
   },
   {
    "duration": 178,
    "start_time": "2021-11-17T18:37:40.795Z"
   },
   {
    "duration": 230,
    "start_time": "2021-11-17T18:37:40.975Z"
   },
   {
    "duration": 241,
    "start_time": "2021-11-17T18:37:41.207Z"
   },
   {
    "duration": 5,
    "start_time": "2021-11-17T18:37:41.450Z"
   },
   {
    "duration": 7,
    "start_time": "2021-11-17T18:37:41.457Z"
   },
   {
    "duration": 25,
    "start_time": "2021-11-17T18:37:41.465Z"
   },
   {
    "duration": 6,
    "start_time": "2021-11-17T18:37:41.492Z"
   },
   {
    "duration": 15,
    "start_time": "2021-11-17T18:37:41.499Z"
   },
   {
    "duration": 265,
    "start_time": "2021-11-17T18:37:41.516Z"
   },
   {
    "duration": 238,
    "start_time": "2021-11-17T18:37:41.783Z"
   },
   {
    "duration": 284,
    "start_time": "2021-11-17T18:37:42.022Z"
   },
   {
    "duration": 10,
    "start_time": "2021-11-17T18:37:42.308Z"
   },
   {
    "duration": 20,
    "start_time": "2021-11-17T18:37:42.319Z"
   },
   {
    "duration": 10,
    "start_time": "2021-11-17T18:37:42.341Z"
   }
  ],
  "kernelspec": {
   "display_name": "Python 3",
   "language": "python",
   "name": "python3"
  },
  "language_info": {
   "codemirror_mode": {
    "name": "ipython",
    "version": 3
   },
   "file_extension": ".py",
   "mimetype": "text/x-python",
   "name": "python",
   "nbconvert_exporter": "python",
   "pygments_lexer": "ipython3",
   "version": "3.7.8"
  },
  "toc": {
   "base_numbering": 1,
   "nav_menu": {
    "height": "472px",
    "width": "509px"
   },
   "number_sections": true,
   "sideBar": true,
   "skip_h1_title": true,
   "title_cell": "Содержание",
   "title_sidebar": "Contents",
   "toc_cell": true,
   "toc_position": {
    "height": "calc(100% - 180px)",
    "left": "10px",
    "top": "150px",
    "width": "234px"
   },
   "toc_section_display": true,
   "toc_window_display": true
  }
 },
 "nbformat": 4,
 "nbformat_minor": 2
}
